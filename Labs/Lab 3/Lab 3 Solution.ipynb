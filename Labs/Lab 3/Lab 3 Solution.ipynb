{
 "cells": [
  {
   "cell_type": "markdown",
   "metadata": {},
   "source": [
    "# Lab 3 - Computational Efficiency in numpy\n",
    "- **Author:** Emily Aiken ([emilyaiken@berkeley.edu](emilyaiken@berkeley.edu)) (based on Qutub Khan Vajihi and Dimitris Papadimitriou's Labs)\n",
    "- **Date:** February 9, 2022\n",
    "- **Course:** INFO 251: Applied Machine Learning"
   ]
  },
  {
   "cell_type": "markdown",
   "metadata": {},
   "source": [
    "### Learning Objectives:\n",
    "By the end of the lab, you will be able to:\n",
    "\n",
    "* Use key numpy functions for matrix creation and manipulation\n",
    "* Use vectorization for defining complex matrix operations\n",
    "* Understand the trade-offs between 'for' loops and vectorized computation"
   ]
  },
  {
   "cell_type": "markdown",
   "metadata": {},
   "source": [
    "### References:\n",
    "* https://www.pythonlikeyoumeanit.com/Module3_IntroducingNumpy/VectorizedOperations.html\n",
    "* https://numpy.org/doc/stable/user/basics.broadcasting.html"
   ]
  },
  {
   "cell_type": "markdown",
   "metadata": {},
   "source": [
    "## I. Introduction to numpy"
   ]
  },
  {
   "cell_type": "code",
   "execution_count": null,
   "metadata": {},
   "outputs": [],
   "source": [
    "import numpy as np\n",
    "import pandas as pd\n",
    "import time\n",
    "\n",
    "import matplotlib.pyplot as plt\n",
    "from mpl_toolkits.mplot3d import Axes3D\n",
    "from matplotlib import cm\n",
    "from matplotlib.ticker import LinearLocator, FormatStrFormatter\n",
    "%matplotlib inline"
   ]
  },
  {
   "cell_type": "markdown",
   "metadata": {},
   "source": [
    "#### Tuples vs. lists vs. arrays vs. matrices"
   ]
  },
  {
   "cell_type": "code",
   "execution_count": null,
   "metadata": {},
   "outputs": [],
   "source": [
    "# Tuple\n",
    "tup = (1, 2, 3)\n",
    "tup"
   ]
  },
  {
   "cell_type": "code",
   "execution_count": null,
   "metadata": {},
   "outputs": [],
   "source": [
    "# List\n",
    "lst = [1, 2, 3]\n",
    "lst"
   ]
  },
  {
   "cell_type": "code",
   "execution_count": null,
   "metadata": {},
   "outputs": [],
   "source": [
    "# Array\n",
    "arr = np.array(tup)\n",
    "arr"
   ]
  },
  {
   "cell_type": "code",
   "execution_count": null,
   "metadata": {},
   "outputs": [],
   "source": [
    "# 2D Matrix\n",
    "mat = np.array([[1, 2, 3], [4, 5, 6]])\n",
    "mat"
   ]
  },
  {
   "cell_type": "markdown",
   "metadata": {},
   "source": [
    "#### Dimensions"
   ]
  },
  {
   "cell_type": "code",
   "execution_count": null,
   "metadata": {},
   "outputs": [],
   "source": [
    "mat.shape"
   ]
  },
  {
   "cell_type": "code",
   "execution_count": null,
   "metadata": {},
   "outputs": [],
   "source": [
    "mat.ndim"
   ]
  },
  {
   "cell_type": "markdown",
   "metadata": {},
   "source": [
    "#### Useful numpy functions - matrix creation"
   ]
  },
  {
   "cell_type": "code",
   "execution_count": null,
   "metadata": {},
   "outputs": [],
   "source": [
    "# Arrange - https://numpy.org/doc/stable/reference/generated/numpy.arange.html\n",
    "np.arange(0, 10, 1)"
   ]
  },
  {
   "cell_type": "code",
   "execution_count": null,
   "metadata": {},
   "outputs": [],
   "source": [
    "# Linspace - https://numpy.org/doc/stable/reference/generated/numpy.linspace.html\n",
    "np.linspace(0, 10, 10, endpoint=False)"
   ]
  },
  {
   "cell_type": "code",
   "execution_count": null,
   "metadata": {},
   "outputs": [],
   "source": [
    "# Logspace - https://numpy.org/doc/stable/reference/generated/numpy.logspace.html\n",
    "np.logspace(0, 10, 10, endpoint=False, base=2)"
   ]
  },
  {
   "cell_type": "code",
   "execution_count": null,
   "metadata": {},
   "outputs": [],
   "source": [
    "# Zeros - https://numpy.org/doc/stable/reference/generated/numpy.zeros.html\n",
    "np.zeros(5)"
   ]
  },
  {
   "cell_type": "code",
   "execution_count": null,
   "metadata": {},
   "outputs": [],
   "source": [
    "# Ones - https://numpy.org/doc/stable/reference/generated/numpy.ones.html\n",
    "np.ones(5)"
   ]
  },
  {
   "cell_type": "code",
   "execution_count": null,
   "metadata": {},
   "outputs": [],
   "source": [
    "# Full - https://docs.scipy.org/doc/numpy-1.13.0/reference/generated/numpy.full.html\n",
    "np.full(5, 12)"
   ]
  },
  {
   "cell_type": "code",
   "execution_count": null,
   "metadata": {},
   "outputs": [],
   "source": [
    "# Meshgrid - https://numpy.org/doc/stable/reference/generated/numpy.meshgrid.html\n",
    "xvalues = np.array([0, 1, 2, 3, 4]);\n",
    "yvalues = np.array([0, 1, 2, 3, 4]);\n",
    "print(np.meshgrid(xvalues, yvalues))\n",
    "xx, yy = np.meshgrid(xvalues, yvalues)\n",
    "plt.plot(xx, yy, marker='.', color='k', linestyle='none');"
   ]
  },
  {
   "cell_type": "markdown",
   "metadata": {},
   "source": [
    "#### Useful numpy functions - matrix manipulation"
   ]
  },
  {
   "cell_type": "code",
   "execution_count": null,
   "metadata": {},
   "outputs": [],
   "source": [
    "# Vstack - https://numpy.org/doc/stable/reference/generated/numpy.vstack.html\n",
    "matrix1 = np.array([[1, 2, 3], [1, 2, 3]])\n",
    "matrix2 = np.array([[5, 6, 7], [5, 6, 7]])\n",
    "print(matrix1)\n",
    "print(matrix2)\n",
    "\n",
    "np.vstack([matrix1, matrix2]) # 2D arrays must have the same 2nd dimension (number of columns)"
   ]
  },
  {
   "cell_type": "code",
   "execution_count": null,
   "metadata": {},
   "outputs": [],
   "source": [
    "# Hstack - https://numpy.org/doc/stable/reference/generated/numpy.hstack.html\n",
    "matrix1 = np.array([[1, 2, 3], [1, 2, 3]])\n",
    "matrix2 = np.array([[5, 6, 7], [5, 6, 7]])\n",
    "print(matrix1)\n",
    "print(matrix2)\n",
    "\n",
    "np.hstack([matrix1, matrix2]) # 2D arrays must have the same 1st dimension (number of rows)"
   ]
  },
  {
   "cell_type": "code",
   "execution_count": null,
   "metadata": {},
   "outputs": [],
   "source": [
    "# Concatenate - https://numpy.org/doc/stable/reference/generated/numpy.concatenate.html\n",
    "matrix1 = np.array([[1, 1, 1]])\n",
    "matrix2 = np.array([[2, 2, 2], [2, 2, 2], [2, 2, 2]])\n",
    "matrix3 = np.array([[3, 3, 3], [3, 3, 3]])\n",
    "\n",
    "# Arrays must have the same dimensions except for the concatenation axis\n",
    "np.concatenate([matrix1, matrix2, matrix3], axis=0) "
   ]
  },
  {
   "cell_type": "code",
   "execution_count": null,
   "metadata": {},
   "outputs": [],
   "source": [
    "# Transpose - https://numpy.org/doc/stable/reference/generated/numpy.transpose.html\n",
    "mat = np.array([[1, 2, 3], [4, 5, 6]])\n",
    "print(mat)\n",
    "print('----')\n",
    "print(mat.T)"
   ]
  },
  {
   "cell_type": "markdown",
   "metadata": {},
   "source": [
    "## II. Matrix Operations and Broadcasting"
   ]
  },
  {
   "cell_type": "markdown",
   "metadata": {},
   "source": [
    "#### Matrix addition"
   ]
  },
  {
   "cell_type": "code",
   "execution_count": null,
   "metadata": {},
   "outputs": [],
   "source": [
    "# Addition and subtraction -- adding a constant\n",
    "arr = np.array([[1, 1, 1], [2, 2, 2]])\n",
    "print(arr)\n",
    "print('----')\n",
    "print(arr + 1)"
   ]
  },
  {
   "cell_type": "code",
   "execution_count": null,
   "metadata": {},
   "outputs": [],
   "source": [
    "# Addition and subtraction -- element-wise\n",
    "arr1 = np.array([[1, 1, 1], [1, 2, 3]])\n",
    "arr2 = np.array([[2, 2, 2], [3, 4, 5]])\n",
    "arr1 + arr2"
   ]
  },
  {
   "cell_type": "code",
   "execution_count": null,
   "metadata": {},
   "outputs": [],
   "source": [
    "# Addition and subtraction - broadcasting\n",
    "arr1 = np.array([[1, 1, 1], [1, 2, 3]])\n",
    "arr2 = np.array([1, 1, 2])\n",
    "arr1 + arr2"
   ]
  },
  {
   "cell_type": "markdown",
   "metadata": {},
   "source": [
    "<img src=\"Images/Br1.png\" width=700 height=700 />"
   ]
  },
  {
   "cell_type": "code",
   "execution_count": null,
   "metadata": {},
   "outputs": [],
   "source": [
    "# Key rule for broadcasting: the size of the \"trailing axes\" must be the same (or one must be 1)\n",
    "arr1 = np.array([0, 10, 20, 30]).reshape(4, 1)\n",
    "arr2 = np.array([0, 1, 2]).reshape(1, 3)\n",
    "arr1 + arr2"
   ]
  },
  {
   "cell_type": "markdown",
   "metadata": {},
   "source": [
    "#### Matrix multiplication"
   ]
  },
  {
   "cell_type": "code",
   "execution_count": null,
   "metadata": {},
   "outputs": [],
   "source": [
    "# Multiplication by a constant\n",
    "arr = np.array([[10, 20, 30], [50, 60, 70]])\n",
    "arr*2"
   ]
  },
  {
   "cell_type": "markdown",
   "metadata": {},
   "source": [
    "<img src=\"Images/Hadamard.png\" width=700 height=700/>"
   ]
  },
  {
   "cell_type": "code",
   "execution_count": null,
   "metadata": {},
   "outputs": [],
   "source": [
    "# Element-wise multiplication (Hadamard product)\n",
    "arr1 = np.array([[3, 5, 7], [4, 9, 8]])\n",
    "arr2 = np.array([[1, 6, 3], [0, 2, 9]])\n",
    "arr1*arr2"
   ]
  },
  {
   "cell_type": "markdown",
   "metadata": {},
   "source": [
    "<img src=\"Images/DotProduct.svg\" width=700 height=700/>"
   ]
  },
  {
   "cell_type": "code",
   "execution_count": null,
   "metadata": {},
   "outputs": [],
   "source": [
    "# Dot product\n",
    "arr1 = np.array([[3, 5, 7], [4, 9, 8]])\n",
    "arr2 = np.array([[1, 6, 3], [0, 2, 9]])\n",
    "#arr1 = [[1, 2, 3], [4, 5, 6]]\n",
    "#arr2 = [[7, 8], [9, 10], [11, 12]]\n",
    "\n",
    "np.dot(arr1, arr2) # Key for dot product: First dimension of matrix 1 same as second dimension of matrix 2"
   ]
  },
  {
   "cell_type": "markdown",
   "metadata": {},
   "source": [
    "## III. Vectorized Computation"
   ]
  },
  {
   "cell_type": "markdown",
   "metadata": {},
   "source": [
    "#### Example 1: Taking the sum of all integers between 1 and 10,000 using a for loop. "
   ]
  },
  {
   "cell_type": "code",
   "execution_count": null,
   "metadata": {},
   "outputs": [],
   "source": [
    "t_start = time.time()\n",
    "total = 0\n",
    "for i in np.arange(10000):\n",
    "     total = i + total\n",
    "\n",
    "t1 = time.time() - t_start\n",
    "print('The result is {} computed in {} seconds'.format(total, t1))"
   ]
  },
  {
   "cell_type": "markdown",
   "metadata": {},
   "source": [
    "Not too bad, right? Lets try the same operation using NumPy!"
   ]
  },
  {
   "cell_type": "code",
   "execution_count": null,
   "metadata": {},
   "outputs": [],
   "source": [
    "t_start = time.time()\n",
    "# TODO: Write the same function as above, but this time with numpy\n",
    "total = np.sum(np.arange(10000))\n",
    "t2 = time.time() - t_start\n",
    "print('The result is {} computed in {} seconds'.format(total, t2))"
   ]
  },
  {
   "cell_type": "code",
   "execution_count": null,
   "metadata": {},
   "outputs": [],
   "source": [
    "print(\"{:.1f} times faster\".format(t1 / t2))"
   ]
  },
  {
   "cell_type": "markdown",
   "metadata": {},
   "source": [
    "#### Example 2: Element-wise multiplication"
   ]
  },
  {
   "cell_type": "code",
   "execution_count": null,
   "metadata": {},
   "outputs": [],
   "source": [
    "x = np.arange(0, 1000000, 1)\n",
    "y = np.arange(0, 1000000, 1)"
   ]
  },
  {
   "cell_type": "code",
   "execution_count": null,
   "metadata": {},
   "outputs": [],
   "source": [
    "def sum_product(x, y):\n",
    "    \"\"\"Return the sum of x[i] * y[i] for all indices.\"\"\"\n",
    "    \n",
    "    # using for loop here\n",
    "    s = 0\n",
    "    for i in range(len(x)):\n",
    "        s += x[i] * y[i]\n",
    "    return s\n",
    "\n",
    "t_start = time.time()\n",
    "r = sum_product(x, y)\n",
    "t_end = time.time()\n",
    "t1 = t_end - t_start\n",
    "print('The result is {} computed in {} seconds'.format(r, t1))"
   ]
  },
  {
   "cell_type": "code",
   "execution_count": null,
   "metadata": {},
   "outputs": [],
   "source": [
    "t_start = time.time()\n",
    "# TODO: Write the same function as above, but this time with numpy\n",
    "r = np.sum(x * y)\n",
    "t_end = time.time()\n",
    "t2 = t_end - t_start\n",
    "print('The result is {} computed in {} seconds'.format(r, t2))"
   ]
  },
  {
   "cell_type": "code",
   "execution_count": null,
   "metadata": {},
   "outputs": [],
   "source": [
    "print(\"{:.1f} times faster\".format(t1 / t2))"
   ]
  },
  {
   "cell_type": "markdown",
   "metadata": {},
   "source": [
    "#### Example 3: Maximizing a complex function\n",
    "\n",
    "We want to maximize a function $f$ of two variables $(x,y)$:  $f(x, y) = \\frac{cos(x^2 + y^2)}{1 + x^2 + y^2}$\n",
    "\n",
    "To maximize it, we’re going to use a naive grid search:\n",
    "1. Evaluate $f$ for all $(x,y)$ in a grid on the square\n",
    "2. Return the maximum of observed values"
   ]
  },
  {
   "cell_type": "code",
   "execution_count": null,
   "metadata": {},
   "outputs": [],
   "source": [
    "# The function\n",
    "def f(x, y):\n",
    "    return np.cos(x**2 + y**2) / (1 + x**2 + y**2)"
   ]
  },
  {
   "cell_type": "code",
   "execution_count": null,
   "metadata": {},
   "outputs": [],
   "source": [
    "# Make a mesh grid for our grid search\n",
    "X = np.arange(-5, 5, 0.1)\n",
    "Y = np.arange(-5, 5, 0.1)\n",
    "X, Y = np.meshgrid(X, Y)\n",
    "\n",
    "# Get the values of z at each point in the mesh grid\n",
    "Z = f(X, Y)"
   ]
  },
  {
   "cell_type": "code",
   "execution_count": null,
   "metadata": {},
   "outputs": [],
   "source": [
    "# Create a figure\n",
    "fig = plt.figure(figsize=(10,7))\n",
    "ax = fig.gca(projection='3d')\n",
    "\n",
    "# Plot the surface.\n",
    "surf = ax.plot_surface(X, Y, Z, facecolors=cm.jet(Z),\n",
    "                       linewidth=0, antialiased=False, shade=False)\n",
    "\n",
    "# Customize the z axis.\n",
    "ax.set_zlim(-0.4, 1.01)\n",
    "ax.zaxis.set_major_locator(LinearLocator(10))\n",
    "ax.zaxis.set_major_formatter(FormatStrFormatter('%.02f'))\n",
    "plt.show()"
   ]
  },
  {
   "cell_type": "markdown",
   "metadata": {},
   "source": [
    "Maximizing the function using for loopss:"
   ]
  },
  {
   "cell_type": "code",
   "execution_count": null,
   "metadata": {},
   "outputs": [],
   "source": [
    "X = np.arange(-5, 5, 0.1)\n",
    "Y = np.arange(-5, 5, 0.1)\n",
    "m = -np.inf\n",
    "t_start = time.time()\n",
    "for x in X:\n",
    "    for y in Y:\n",
    "        z = f(x, y)\n",
    "        if z > m:\n",
    "            m = z\n",
    "print('The maximum value observed is:',m)\n",
    "t_end = time.time()\n",
    "t1 = t_end - t_start\n",
    "print(\"Time: {:.5f}s\".format(t1))"
   ]
  },
  {
   "cell_type": "markdown",
   "metadata": {},
   "source": [
    "Maximizing the function using numpy:"
   ]
  },
  {
   "cell_type": "code",
   "execution_count": null,
   "metadata": {},
   "outputs": [],
   "source": [
    "t_start = time.time()\n",
    "# TODO: Write the same function using numpy\n",
    "x, y = np.meshgrid(X, Y)\n",
    "Z = f(x, y)\n",
    "print('The maximum value observed is:',np.max(Z))\n",
    "t_end = time.time()\n",
    "t2 = t_end - t_start\n",
    "print(\"Time: {:.5f}s\".format(t2))"
   ]
  },
  {
   "cell_type": "code",
   "execution_count": null,
   "metadata": {},
   "outputs": [],
   "source": [
    "print(\"{:.0f} times faster\".format(t1 / t2))"
   ]
  },
  {
   "cell_type": "markdown",
   "metadata": {},
   "source": [
    "#### Experimental comparison between numpy and built-in python functions"
   ]
  },
  {
   "cell_type": "markdown",
   "metadata": {},
   "source": [
    "<img src=\"Images/Comparison.png\" width=700 height=700 />"
   ]
  },
  {
   "cell_type": "markdown",
   "metadata": {},
   "source": [
    "## Appendix: Additional numpy functions"
   ]
  },
  {
   "cell_type": "markdown",
   "metadata": {},
   "source": [
    "### Unary Functions\n",
    "A mathematical function that only accepts one operand (i.e. argument): f(x)"
   ]
  },
  {
   "cell_type": "markdown",
   "metadata": {},
   "source": [
    "<img src=\"Images/Unary.png\" width=500 height=500 />"
   ]
  },
  {
   "cell_type": "markdown",
   "metadata": {},
   "source": [
    "### Binary Functions\n",
    "A mathematical function that only accepts two operands: f(x,y).\n",
    "There are two cases that we must consider when working with binary functions, in the context of NumPy arrays:\n",
    "\n",
    "* When both operands of the function are arrays (of the same shape).\n",
    "* When one operand of the function is a scalar (i.e. a single number) and the other is an array."
   ]
  },
  {
   "cell_type": "markdown",
   "metadata": {},
   "source": [
    "<img src=\"Images/Binary.png\" width=700 height=700 />"
   ]
  },
  {
   "cell_type": "markdown",
   "metadata": {},
   "source": [
    "### Sequential Functions\n",
    "A sequential function expects a variable-length sequence of numbers as an input, and produces a single number as an output."
   ]
  },
  {
   "cell_type": "markdown",
   "metadata": {},
   "source": [
    "<img src=\"Images/Seq.png\" width=700 height=700 />"
   ]
  },
  {
   "cell_type": "code",
   "execution_count": null,
   "metadata": {},
   "outputs": [],
   "source": []
  }
 ],
 "metadata": {
  "kernelspec": {
   "display_name": "Python 3",
   "language": "python",
   "name": "python3"
  },
  "language_info": {
   "codemirror_mode": {
    "name": "ipython",
    "version": 3
   },
   "file_extension": ".py",
   "mimetype": "text/x-python",
   "name": "python",
   "nbconvert_exporter": "python",
   "pygments_lexer": "ipython3",
   "version": "3.8.3"
  }
 },
 "nbformat": 4,
 "nbformat_minor": 4
}
