{
 "cells": [
  {
   "cell_type": "markdown",
   "metadata": {},
   "source": [
    "# Lab 1 - Python, Pandas and Matplotlib\n",
    "- **Author:** Emily Aiken ([emilyaiken@berkeley.edu](mailto:emilyaiken@berkeley.edu)) (Adapted from labs by Qutub Khan Vajihi and Dimitris Papadimitriou)\n",
    "- **Date:** January 26, 2022\n",
    "- **Course:** INFO 251: Applied Machine Learning"
   ]
  },
  {
   "cell_type": "markdown",
   "metadata": {},
   "source": [
    "### Learning Objectives:\n",
    "\n",
    "* Know what is good style when writing Python code\n",
    "* Learn some useful Python features that you may not already know about\n",
    "* Work with DataFrames using the Pandas library\n",
    "* Produce basic graphs using the Matplotlib library, and learn some tips to produce readable and beautiful graphs"
   ]
  },
  {
   "cell_type": "markdown",
   "metadata": {},
   "source": [
    "### Feedback:\n",
    "\n",
    "After the lab, please provide feedback via this anonymous [google form](https://forms.gle/rHvftuoLpnEHXSNX9). It should take about 20 seconds!\n"
   ]
  },
  {
   "cell_type": "markdown",
   "metadata": {},
   "source": [
    "## 1. Python Code Style\n",
    "Below are some key points for Python coding style. Most importantly, remember that code is for people to read --- and in this class, for people to grade --- so use your best judgement to make your code readable. For more information, visit Guido van Rossum's python style guide: [PEP 8 -- Style Guide for Python Code](https://www.python.org/dev/peps/pep-0008/). \n",
    "\n",
    "*Agenda: Line length, variable names, strings, whitespace, blank lines, comments, imports*"
   ]
  },
  {
   "cell_type": "markdown",
   "metadata": {},
   "source": [
    "* **Line length**:\n",
    "    Maximum line length is 79 characters. As a rule of thumb, in Jupyter notebooks, just don't go over the length of the box on a laptop screen. If you have a very long line of code, you can break it using a backslash.\n",
    "    \n",
    "\n",
    "\n"
   ]
  },
  {
   "cell_type": "markdown",
   "metadata": {},
   "source": [
    "* **Variable names:** Make variable names (nouns) and function names (verbs) descriptive."
   ]
  },
  {
   "cell_type": "code",
   "execution_count": null,
   "metadata": {},
   "outputs": [],
   "source": [
    "# Correct\n",
    "hyperparameter_grid = {1, 2, 3}\n",
    "number_of_iterations = 20\n",
    "\n",
    "# Incorrect\n",
    "a = 12\n",
    "var = 10"
   ]
  },
  {
   "cell_type": "markdown",
   "metadata": {},
   "source": [
    "* **Strings:** Be consistent between ' and \"."
   ]
  },
  {
   "cell_type": "markdown",
   "metadata": {},
   "source": [
    "* **Whitespace:** \n",
    "Always surround these binary operators with a single space on either side: assignment (=), augmented assignment (+=, -= etc.), comparisons (==, <, >, !=, <>, <=, >=, in, not in, is, is not), Booleans (and, or, not). Avoid extraneous whitespaces immediately inside parentheses, brackets, or braces"
   ]
  },
  {
   "cell_type": "code",
   "execution_count": null,
   "metadata": {},
   "outputs": [],
   "source": [
    "# Correct:\n",
    "i = 0\n",
    "i = i + 1\n",
    "i += 1\n",
    "lst = [0, 1, 2]\n",
    "tple = (0, 1, 2)\n",
    "st = {0, 1, 2}\n",
    "print(lst[0])\n",
    "\n",
    "# Incorrect:\n",
    "i=0\n",
    "i+=1\n",
    "lst = [ 0, 1, 2 ]\n",
    "tple = ( 0, 1, 2 )\n",
    "st = { 0, 1, 2 }\n",
    "print( lst[ 0 ] )"
   ]
  },
  {
   "cell_type": "markdown",
   "metadata": {},
   "source": [
    "* **Blank lines:**\n",
    "Maintain two lines between all top-level things (functions, classes, imports, etc)"
   ]
  },
  {
   "cell_type": "code",
   "execution_count": null,
   "metadata": {},
   "outputs": [],
   "source": [
    "import numpy \n",
    "import pandas\n",
    "\n",
    "def foo(x):\n",
    "    if x >= 0:\n",
    "        return math.sqrt(x)\n",
    "    else:\n",
    "        return None\n",
    "\n",
    "def bar(x):\n",
    "    if x < 0:\n",
    "        return None\n",
    "    return math.sqrt(x)"
   ]
  },
  {
   "cell_type": "markdown",
   "metadata": {},
   "source": [
    "* **Comments:**\n",
    "    For readability, try to always explain the functionality of your lines by commenting. Comments can come before blocks of code, or inline for single lines of code."
   ]
  },
  {
   "cell_type": "code",
   "execution_count": null,
   "metadata": {},
   "outputs": [],
   "source": [
    "# Creating a dictionary and inverting it\n",
    "my_map = {'AML':0,'Lab':1}\n",
    "inv_map = {v: k for k, v in my_map.items()} #inverting the dict\n",
    "\n",
    "# Printing and returning the dictionary\n",
    "print(inv_map)\n",
    "inv_map"
   ]
  },
  {
   "cell_type": "markdown",
   "metadata": {},
   "source": [
    "* **Imports** - Imports from the same class/package should be on the same line. Imports from different classes/packages should be on different lines. "
   ]
  },
  {
   "cell_type": "code",
   "execution_count": null,
   "metadata": {},
   "outputs": [],
   "source": [
    "# Correct:\n",
    "import pandas\n",
    "import matplotlib\n",
    "\n",
    "# Wrong:\n",
    "import pandas, matplotlib\n",
    "\n",
    "# Correct:\n",
    "from sklearn.metrics import r2_score, roc_auc_score"
   ]
  },
  {
   "cell_type": "markdown",
   "metadata": {},
   "source": [
    "## 2. Some Useful Python Features\n",
    "*Agenda: Reading/writing files, file paths, enumerate, lambda functions, zip*"
   ]
  },
  {
   "cell_type": "markdown",
   "metadata": {},
   "source": [
    "* **Reading and writing files:** Use \"with\" to open the files, which will make sure the files are closed automatically"
   ]
  },
  {
   "cell_type": "code",
   "execution_count": null,
   "metadata": {},
   "outputs": [],
   "source": [
    "# Use \"with\" to open files...\n",
    "with open('test.txt', 'r') as f:\n",
    "    for line in f:\n",
    "        print(line)"
   ]
  },
  {
   "cell_type": "code",
   "execution_count": null,
   "metadata": {},
   "outputs": [],
   "source": [
    "# ...otherwise you explicitly need to 'open' and 'close' files.\n",
    "f = open('test.txt', 'r')\n",
    "for line in f:\n",
    "    print(line)\n",
    "\n",
    "f.close()"
   ]
  },
  {
   "cell_type": "markdown",
   "metadata": {},
   "source": [
    "* **File paths:** Concatenate path parts with **os.path.join** rather than with string concatenation"
   ]
  },
  {
   "cell_type": "code",
   "execution_count": null,
   "metadata": {},
   "outputs": [],
   "source": [
    "import os\n",
    "\n",
    "# Correct\n",
    "country_name = 'USA'\n",
    "month = 'January'\n",
    "path = os.path.join('a', 'b', country_name, month)\n",
    "print(path)\n",
    "\n",
    "# Less correct\n",
    "path = 'a/b/' + country_name + '/' + month\n",
    "print(path)"
   ]
  },
  {
   "cell_type": "markdown",
   "metadata": {},
   "source": [
    "* **Enumerate**: great for getting index and elements of an iterator at the same time. "
   ]
  },
  {
   "cell_type": "code",
   "execution_count": null,
   "metadata": {},
   "outputs": [],
   "source": [
    "# Use enumerate to get the index (which comes first) and the element (which comes second) at the same time...\n",
    "for i, x in enumerate([1, 2, 3]):\n",
    "    print('Index:', i)\n",
    "    print('Element:', x)"
   ]
  },
  {
   "cell_type": "code",
   "execution_count": null,
   "metadata": {},
   "outputs": [],
   "source": [
    "# ...otherwise you'll have to use a \"flag variable\", which isn't very elegant\n",
    "flag = 0\n",
    "for x in [1, 2, 3]:\n",
    "    print('Index:', flag)\n",
    "    print('Element:', x)\n",
    "    flag += 1"
   ]
  },
  {
   "cell_type": "markdown",
   "metadata": {},
   "source": [
    "* **Lambda functions**: A Lambda Function is a small, anonymous function — anonymous in the sense that it doesn’t actually have a name. Lambda functions are used a lot with pandas."
   ]
  },
  {
   "cell_type": "code",
   "execution_count": null,
   "metadata": {},
   "outputs": [],
   "source": [
    "# Lambda function with one variable\n",
    "x = lambda a : a*3 + 3\n",
    "print(x(3)) # prints '12'\n",
    "\n",
    "# A less elegant way to code up the function with one variable\n",
    "def my_function(a):\n",
    "    return a*3 + 3\n",
    "print(my_function(3))"
   ]
  },
  {
   "cell_type": "code",
   "execution_count": null,
   "metadata": {},
   "outputs": [],
   "source": [
    "# Lambda function with two variables\n",
    "x = lambda a, b : a * b\n",
    "print(x(5, 6)) # prints '30'"
   ]
  },
  {
   "cell_type": "markdown",
   "metadata": {},
   "source": [
    "* **Zipping**: The zip() function returns a zip object, which is an iterator of tuples where the first item in each passed iterator is paired together, and then the second item in each passed iterator are paired together etc. If the passed iterators have different lengths, the iterator with the least items decides the length of the new iterator. (https://www.w3schools.com/python/ref_func_zip.asp). It's a great way of pairing together two lists."
   ]
  },
  {
   "cell_type": "code",
   "execution_count": null,
   "metadata": {},
   "outputs": [],
   "source": [
    "# Exampling zipping with two lists of the same length\n",
    "products = ['table', 'chair', 'sofa']\n",
    "prices = [50, 20, 200]\n",
    "\n",
    "for product, price in zip(products, prices):\n",
    "    print('Product: {}, Price: {}'.format(product, price))"
   ]
  },
  {
   "cell_type": "code",
   "execution_count": null,
   "metadata": {},
   "outputs": [],
   "source": [
    "# Exampling zipping with two lists of different lengths -- the resulting zip object is the shorter length\n",
    "products = ['table', 'chair', 'sofa', 'bed']\n",
    "prices = [50, 20, 200]\n",
    "\n",
    "for product, price in zip(products, prices):\n",
    "    print('Product: {}, Price: {}'.format(product, price))"
   ]
  },
  {
   "cell_type": "markdown",
   "metadata": {},
   "source": [
    "## 3. Pandas\n",
    "*Agenda: Data loading, viewing, selection, grouping/aggregation, mutation, string operations*"
   ]
  },
  {
   "cell_type": "markdown",
   "metadata": {},
   "source": [
    "#### 3.1 Load the data"
   ]
  },
  {
   "cell_type": "code",
   "execution_count": null,
   "metadata": {},
   "outputs": [],
   "source": [
    "import pandas as pd\n",
    "\n",
    "# Loading a csv\n",
    "auto_df = pd.read_csv('Auto.csv')\n",
    "\n",
    "# Other loading tricks\n",
    "auto_df1 = pd.read_csv('Auto.csv', nrows=10) # Useful if dataset has two many observations to fit in memory\n",
    "auto_df2 = pd.read_csv('Auto.csv', usecols=['mpg', 'cylinders']) # Useful if you only need a few columns"
   ]
  },
  {
   "cell_type": "markdown",
   "metadata": {},
   "source": [
    "- mpg: miles per gallon\n",
    "- cylinders: Number of cylinders between 4 and 8\n",
    "- displacement: Engine displacement (cu. inches)\n",
    "- horsepower: Engine horsepower\n",
    "- weight: Vehicle weight (lbs.)\n",
    "- acceleration: Time to accelerate from 0 to 60 mph (sec.)\n",
    "- year: Model year (modulo 100)\n",
    "- origin: Origin of car (1. American, 2. European, 3. Japanese)\n",
    "- name: Vehicle name"
   ]
  },
  {
   "cell_type": "markdown",
   "metadata": {},
   "source": [
    "#### 3.2 Viewing the data"
   ]
  },
  {
   "cell_type": "code",
   "execution_count": null,
   "metadata": {},
   "outputs": [],
   "source": [
    "# Dimensions of the dataframe\n",
    "auto_df.shape"
   ]
  },
  {
   "cell_type": "code",
   "execution_count": null,
   "metadata": {},
   "outputs": [],
   "source": [
    "# Display first few rows\n",
    "display(auto_df.head())"
   ]
  },
  {
   "cell_type": "code",
   "execution_count": null,
   "metadata": {
    "scrolled": true
   },
   "outputs": [],
   "source": [
    "# Display last few rows\n",
    "auto_df.tail()"
   ]
  },
  {
   "cell_type": "code",
   "execution_count": null,
   "metadata": {},
   "outputs": [],
   "source": [
    "# Quick descriptive stats\n",
    "auto_df.describe(include='all')"
   ]
  },
  {
   "cell_type": "code",
   "execution_count": null,
   "metadata": {},
   "outputs": [],
   "source": [
    "# Dataset types\n",
    "auto_df.dtypes"
   ]
  },
  {
   "cell_type": "markdown",
   "metadata": {},
   "source": [
    "#### 3.3 Selection"
   ]
  },
  {
   "cell_type": "markdown",
   "metadata": {},
   "source": [
    "There are multiple ways to select data from a pandas dataframe. Here are a few options..."
   ]
  },
  {
   "cell_type": "code",
   "execution_count": null,
   "metadata": {},
   "outputs": [],
   "source": [
    "# Select columns using the double bracket notation\n",
    "auto_df[['mpg','cylinders']] "
   ]
  },
  {
   "cell_type": "code",
   "execution_count": null,
   "metadata": {},
   "outputs": [],
   "source": [
    "# Select multiple rows by indexing in as though the dataframe were a list -- note that this notation ignores \n",
    "# the dataframe's index\n",
    "auto_df[0:3]"
   ]
  },
  {
   "cell_type": "code",
   "execution_count": null,
   "metadata": {},
   "outputs": [],
   "source": [
    "# Select a row or rows using \"loc\", which corresponds to the value of the index\n",
    "auto_df.loc[0]\n",
    "#auto_df.loc[0:2]\n",
    "#auto_df.loc[0:2, ['year','name']]"
   ]
  },
  {
   "cell_type": "code",
   "execution_count": null,
   "metadata": {},
   "outputs": [],
   "source": [
    "# Select a row or rows using \"iloc\", which ignores the index \n",
    "auto_df_adjusted_index = auto_df.copy()\n",
    "auto_df_adjusted_index.index = auto_df_adjusted_index.index + 3\n",
    "auto_df.iloc[0]\n",
    "#auto_df.iloc[0:2]\n",
    "#auto_df.iloc[0:2, 3:5] # Note that iloc also using numbers to denote the columns selected\n"
   ]
  },
  {
   "cell_type": "code",
   "execution_count": null,
   "metadata": {
    "scrolled": true
   },
   "outputs": [],
   "source": [
    "# Filtering by column values\n",
    "auto_df[(auto_df['mpg'] < 18.0)&(auto_df['year']==70)]"
   ]
  },
  {
   "cell_type": "code",
   "execution_count": null,
   "metadata": {},
   "outputs": [],
   "source": [
    "# Selecting unique values from a single columns\n",
    "auto_df['cylinders'].unique()"
   ]
  },
  {
   "cell_type": "code",
   "execution_count": null,
   "metadata": {},
   "outputs": [],
   "source": [
    "# Selecting unique values from a set of columns\n",
    "auto_df[['cylinders', 'year']].drop_duplicates()"
   ]
  },
  {
   "cell_type": "markdown",
   "metadata": {},
   "source": [
    "#### 3.4 Aggregation and Grouping"
   ]
  },
  {
   "cell_type": "code",
   "execution_count": null,
   "metadata": {},
   "outputs": [],
   "source": [
    "# Basic aggregations to the entire dataframe: You can just apply the functions directly.\n",
    "auto_df.mean()\n",
    "#auto_df.std()\n",
    "#auto_df.min()\n",
    "#auto_df.max()\n",
    "#auto_df.median()\n",
    "#auto_df.mode()"
   ]
  },
  {
   "cell_type": "code",
   "execution_count": null,
   "metadata": {},
   "outputs": [],
   "source": [
    "# Grouping: Creates a \"pandas groupby\" object\n",
    "auto_df.groupby('origin')"
   ]
  },
  {
   "cell_type": "code",
   "execution_count": null,
   "metadata": {},
   "outputs": [],
   "source": [
    "# Grouped aggregations: Apply aggregations to the \"pandas groupby\" object\n",
    "auto_df.groupby('origin').mean()\n",
    "auto_df.groupby('origin').agg('mean') # Equivalent syntax"
   ]
  },
  {
   "cell_type": "code",
   "execution_count": null,
   "metadata": {},
   "outputs": [],
   "source": [
    "# Tip: Use as_index=False in groupby to keep the groups as a regular column\n",
    "auto_df.groupby('origin', as_index=False).mean()"
   ]
  },
  {
   "cell_type": "markdown",
   "metadata": {},
   "source": [
    "#### 3.5 Mutations"
   ]
  },
  {
   "cell_type": "code",
   "execution_count": null,
   "metadata": {},
   "outputs": [],
   "source": [
    "# Basic functions of one or more columns: Use the intuitive syntax\n",
    "auto_df['weight_increment'] = auto_df['weight'] + 1\n",
    "auto_df['acceleration_times_mpg'] = auto_df['acceleration']*auto_df['mpg']"
   ]
  },
  {
   "cell_type": "code",
   "execution_count": null,
   "metadata": {},
   "outputs": [],
   "source": [
    "# More compext functions: Use \"apply\"\n",
    "auto_df['mpg_string'] = auto_df['mpg'].apply(lambda x: str(x) + ' MPG') # Apply with a single column\n",
    "\n",
    "# Apply using multiple columns -- much slower, and don't forget the \"axis=1\"\n",
    "auto_df['name_year'] = auto_df.apply(lambda row: row['name'] + ': ' + str(row['year']), axis=1)\n",
    "\n",
    "auto_df.head()"
   ]
  },
  {
   "cell_type": "code",
   "execution_count": null,
   "metadata": {},
   "outputs": [],
   "source": [
    "# Map is occasionally an elegant alternative to apply\n",
    "cust_map = {8:0, 4:1} # A map is just a dictionary mapping an input value to an output value\n",
    "auto_df['cylinders_new'] = auto_df['cylinders'].map(cust_map)\n",
    "auto_df"
   ]
  },
  {
   "cell_type": "markdown",
   "metadata": {},
   "source": [
    "#### 3.6 String Operations"
   ]
  },
  {
   "cell_type": "code",
   "execution_count": null,
   "metadata": {
    "scrolled": true
   },
   "outputs": [],
   "source": [
    "# Make upper case\n",
    "auto_df['name'].str.upper()"
   ]
  },
  {
   "cell_type": "code",
   "execution_count": null,
   "metadata": {},
   "outputs": [],
   "source": [
    "# Make lower case\n",
    "auto_df['name'].str.upper()"
   ]
  },
  {
   "cell_type": "code",
   "execution_count": null,
   "metadata": {},
   "outputs": [],
   "source": [
    "# Split string into words\n",
    "auto_df['name'].str.split(' ')"
   ]
  },
  {
   "cell_type": "code",
   "execution_count": null,
   "metadata": {},
   "outputs": [],
   "source": [
    "# Join list of strings together\n",
    "auto_df['name'].str.split(' ').str.join('-')"
   ]
  },
  {
   "cell_type": "markdown",
   "metadata": {},
   "source": [
    "## 4. Matplotlib"
   ]
  },
  {
   "cell_type": "code",
   "execution_count": null,
   "metadata": {},
   "outputs": [],
   "source": [
    "# Enable inline plotting of matplotlib figures, and import matplotlib\n",
    "%matplotlib inline\n",
    "import matplotlib.pyplot as plt"
   ]
  },
  {
   "cell_type": "markdown",
   "metadata": {},
   "source": [
    "#### 4.1 Boxplots"
   ]
  },
  {
   "cell_type": "code",
   "execution_count": null,
   "metadata": {},
   "outputs": [],
   "source": [
    "plt.figure(figsize=(10, 7))\n",
    "plt.boxplot(auto_df['mpg'])\n",
    "plt.show()"
   ]
  },
  {
   "cell_type": "markdown",
   "metadata": {},
   "source": [
    "#### 4.2 Histograms"
   ]
  },
  {
   "cell_type": "code",
   "execution_count": null,
   "metadata": {},
   "outputs": [],
   "source": [
    "plt.figure()\n",
    "plt.hist(auto_df['cylinders'], color='Red')\n",
    "plt.show()"
   ]
  },
  {
   "cell_type": "markdown",
   "metadata": {},
   "source": [
    "#### 4.3 Scatter Plots"
   ]
  },
  {
   "cell_type": "code",
   "execution_count": null,
   "metadata": {},
   "outputs": [],
   "source": [
    "plt.figure()\n",
    "plt.scatter(auto_df['mpg'], auto_df['weight'], alpha=0.2) # Low alpha makes overlapping markers readable\n",
    "plt.show()"
   ]
  },
  {
   "cell_type": "markdown",
   "metadata": {},
   "source": [
    "#### 4.4 Bar Plots"
   ]
  },
  {
   "cell_type": "code",
   "execution_count": null,
   "metadata": {},
   "outputs": [],
   "source": [
    "plt.figure()\n",
    "plt.barh(auto_df['year'], auto_df['weight'])\n",
    "plt.show()"
   ]
  },
  {
   "cell_type": "markdown",
   "metadata": {},
   "source": [
    "#### 4.5 Making plots readable: Title, axes labeling, legends, subplots and more"
   ]
  },
  {
   "cell_type": "code",
   "execution_count": null,
   "metadata": {},
   "outputs": [],
   "source": [
    "# Title, axis labels, and legend\n",
    "plt.figure()\n",
    "plt.scatter(auto_df['mpg'], auto_df['weight'], alpha=0.2, label='Cars (N=%i)' % len(auto_df)) # Label for legend\n",
    "\n",
    "plt.title('Car weight as a function of gas mileage', fontsize='x-large')\n",
    "##plt.xlabel('Miles per gallon')\n",
    "#plt.ylabel('Weight (pounds)')\n",
    "#plt.legend(loc='best')\n",
    "\n",
    "# The right and top spines are ugly -- let's remove them\n",
    "#plt.gca().spines['top'].set_visible(False)\n",
    "#plt.gca().spines['right'].set_visible(False)\n",
    "\n",
    "plt.show()"
   ]
  },
  {
   "cell_type": "code",
   "execution_count": null,
   "metadata": {},
   "outputs": [],
   "source": [
    "# Subplots\n",
    "fig, ax = plt.subplots(2, 2, figsize=(10, 6))\n",
    "ax = ax.flatten() # Turns the axes object into a 1D array instead of a 2D array -- convenient for indexing\n",
    "\n",
    "ax[0].boxplot(auto_df['mpg'])\n",
    "ax[1].hist(auto_df['cylinders'], color='Red')\n",
    "ax[2].scatter(auto_df['mpg'], auto_df['weight'], alpha=0.2)\n",
    "ax[3].barh(auto_df['year'], auto_df['weight'])\n",
    "\n",
    "# Note that the syntax for the title is slightly different for subplots. Syntax is likewise a little different\n",
    "# for setting axis labels.\n",
    "ax[0].set_title('Distribution of gas mileage')\n",
    "ax[1].set_title('Distribution of number of cylinders')\n",
    "ax[2].set_title('Gas mileage vs. car weight')\n",
    "ax[3].set_title('Weight by year')\n",
    "\n",
    "# Again, turning off the top and right spines\n",
    "for a in range(len(ax)):\n",
    "    ax[a].spines['top'].set_visible(False)\n",
    "    ax[a].spines['right'].set_visible(False)\n",
    "\n",
    "plt.tight_layout() # Always use tight_layout to maximize space in the plot\n",
    "plt.show()"
   ]
  },
  {
   "cell_type": "markdown",
   "metadata": {},
   "source": [
    "#### 4.6 Making plots beautiful: Seaborn"
   ]
  },
  {
   "cell_type": "code",
   "execution_count": null,
   "metadata": {},
   "outputs": [],
   "source": [
    "import seaborn as sns\n",
    "sns.set(font_scale=1.5) # Convenient way to set the font scale for all parts of the plot at the same time\n",
    "\n",
    "fig, ax = plt.subplots(1, 2, figsize=(10, 4))\n",
    "\n",
    "ax[0].scatter(auto_df['mpg'], auto_df['weight'], alpha=0.2)\n",
    "ax[1].hist(auto_df['cylinders'], color='Red')\n",
    "\n",
    "plt.show()"
   ]
  },
  {
   "cell_type": "markdown",
   "metadata": {},
   "source": [
    "**Bonus**: Seaborn also has some beautiful built-in plots. If there is time, try experimenting with any of the following plots from seaborn using the auto_df data: [boxplot](https://seaborn.pydata.org/generated/seaborn.boxplot.html), [violinplot](https://seaborn.pydata.org/generated/seaborn.violinplot.html), or [kernel density estimate](https://seaborn.pydata.org/generated/seaborn.kdeplot.html). "
   ]
  },
  {
   "cell_type": "markdown",
   "metadata": {},
   "source": [
    "## 5. Bonus: Some Pandas Excercise Questions"
   ]
  },
  {
   "cell_type": "markdown",
   "metadata": {},
   "source": [
    "#### (Adapted from Introduction to Statistical Learning, James et al. (2013))\n"
   ]
  },
  {
   "cell_type": "markdown",
   "metadata": {},
   "source": [
    "Using the 'Auto.csv' dataset that we utilized earlier, try to answer the below questions - "
   ]
  },
  {
   "cell_type": "markdown",
   "metadata": {},
   "source": [
    "a) Are there missing values? Show atleast two ways to check for null values in a dataframe."
   ]
  },
  {
   "cell_type": "code",
   "execution_count": null,
   "metadata": {
    "scrolled": true
   },
   "outputs": [],
   "source": []
  },
  {
   "cell_type": "markdown",
   "metadata": {},
   "source": [
    "b) Which predictors are quantitative and which are qualitative?"
   ]
  },
  {
   "cell_type": "markdown",
   "metadata": {},
   "source": [
    "Write you answer below - "
   ]
  },
  {
   "cell_type": "markdown",
   "metadata": {},
   "source": [
    "c) What is the *range* of **mpg** and **cylinders**?"
   ]
  },
  {
   "cell_type": "code",
   "execution_count": null,
   "metadata": {},
   "outputs": [],
   "source": []
  },
  {
   "cell_type": "markdown",
   "metadata": {},
   "source": [
    "d) What is the mean and standard deviation of **weight** and **acceleration**?"
   ]
  },
  {
   "cell_type": "code",
   "execution_count": null,
   "metadata": {},
   "outputs": [],
   "source": []
  },
  {
   "cell_type": "markdown",
   "metadata": {},
   "source": [
    "e) Now remove the 10th through 85th observations, and for the remaining data report the min,max, mean, and standard deviation of **mpg**."
   ]
  },
  {
   "cell_type": "code",
   "execution_count": null,
   "metadata": {},
   "outputs": [],
   "source": []
  },
  {
   "cell_type": "markdown",
   "metadata": {},
   "source": [
    "f) What is max weight per year?"
   ]
  },
  {
   "cell_type": "code",
   "execution_count": null,
   "metadata": {},
   "outputs": [],
   "source": []
  }
 ],
 "metadata": {
  "anaconda-cloud": {},
  "kernelspec": {
   "display_name": "Python 3",
   "language": "python",
   "name": "python3"
  },
  "language_info": {
   "codemirror_mode": {
    "name": "ipython",
    "version": 3
   },
   "file_extension": ".py",
   "mimetype": "text/x-python",
   "name": "python",
   "nbconvert_exporter": "python",
   "pygments_lexer": "ipython3",
   "version": "3.8.3"
  }
 },
 "nbformat": 4,
 "nbformat_minor": 1
}
