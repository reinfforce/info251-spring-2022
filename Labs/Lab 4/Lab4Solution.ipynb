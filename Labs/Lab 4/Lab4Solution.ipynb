{
 "cells": [
  {
   "cell_type": "markdown",
   "metadata": {},
   "source": [
    "# Lab 4 - ML Experiments in Python\n",
    "- **Author:** Emily Aiken ([emilyaiken@berkeley.edu](mailto:emilyaiken@berkeley.edu)) (based on labs from Dimitris Papadimitriou and Guanghua Chi)\n",
    "- **Date:** February 16, 2022\n",
    "- **Course:** INFO 251: Applied machine learning"
   ]
  },
  {
   "cell_type": "markdown",
   "metadata": {},
   "source": [
    "## Learning objectives:\n",
    "At the end of this lab, you will be able to...\n",
    "- Implement random train-test splits and cross validation in numpy and pandas\n",
    "- Use built-in scikit-learn functionality for train-test splits and cross validation\n",
    "- Understand the difference between cross validation and the bootstrap\n",
    "- Understand the difference between normalization and standardization"
   ]
  },
  {
   "cell_type": "markdown",
   "metadata": {},
   "source": [
    "## Topics:\n",
    "1. Vectorized computation, revisited\n",
    "2. Train-test splits\n",
    "3. Cross validation\n",
    "4. Bootstrapping\n",
    "5. Normalization and standardization"
   ]
  },
  {
   "cell_type": "code",
   "execution_count": 1,
   "metadata": {},
   "outputs": [],
   "source": [
    "import numpy as np\n",
    "import pandas as pd\n",
    "import matplotlib.pyplot as plt\n",
    "from sklearn.model_selection import train_test_split, KFold, cross_validate\n",
    "from sklearn.linear_model import LinearRegression\n",
    "from sklearn.preprocessing import MinMaxScaler, StandardScaler"
   ]
  },
  {
   "cell_type": "markdown",
   "metadata": {},
   "source": [
    "## 1. Vectorized Computation, Revisited"
   ]
  },
  {
   "cell_type": "markdown",
   "metadata": {},
   "source": [
    "Challenge: For each point in a random set of 2D points, find the index of the closest other point in terms of Euclidean distance. *Use a maximum of one for loop.*"
   ]
  },
  {
   "cell_type": "code",
   "execution_count": 2,
   "metadata": {},
   "outputs": [
    {
     "data": {
      "image/png": "[encoded data removed]",
      "text/plain": [
       "<Figure size 432x288 with 1 Axes>"
      ]
     },
     "metadata": {
      "needs_background": "light"
     },
     "output_type": "display_data"
    }
   ],
   "source": [
    "np.random.seed(2)\n",
    "points = np.random.rand(100, 2)\n",
    "\n",
    "fig, ax = plt.subplots(1)\n",
    "ax.scatter(points[:, 0], points[:, 1])\n",
    "plt.show()"
   ]
  },
  {
   "cell_type": "code",
   "execution_count": 3,
   "metadata": {},
   "outputs": [],
   "source": [
    "# Solution: Bad example\n",
    "closest_points = []\n",
    "for i in range(len(points)):\n",
    "    x1, y1 = points[i,:]\n",
    "    dists = []\n",
    "    for j in range(len(points)):\n",
    "        if j == i: # do not compare with itself\n",
    "            dists.append(np.inf)\n",
    "        if j != i: \n",
    "            x2, y2 = points[j,:]\n",
    "            dists.append(np.sqrt((x1 - x2) ** 2 + (y1 - y2) ** 2))\n",
    "    closest_points.append(np.argmin(dists))"
   ]
  },
  {
   "cell_type": "code",
   "execution_count": 4,
   "metadata": {},
   "outputs": [],
   "source": [
    "# Solution: Good example\n",
    "closest_points = []\n",
    "for i in range(len(points)):\n",
    "    dists = np.sqrt(np.sum((points - points[i, :])**2, axis=1))\n",
    "    dists[i] = np.inf\n",
    "    closest_points.append(np.argmin(dists))"
   ]
  },
  {
   "cell_type": "markdown",
   "metadata": {},
   "source": [
    "## 2. Random Splits"
   ]
  },
  {
   "cell_type": "code",
   "execution_count": 5,
   "metadata": {},
   "outputs": [
    {
     "data": {
      "text/html": [
       "<div>\n",
       "<style scoped>\n",
       "    .dataframe tbody tr th:only-of-type {\n",
       "        vertical-align: middle;\n",
       "    }\n",
       "\n",
       "    .dataframe tbody tr th {\n",
       "        vertical-align: top;\n",
       "    }\n",
       "\n",
       "    .dataframe thead th {\n",
       "        text-align: right;\n",
       "    }\n",
       "</style>\n",
       "<table border=\"1\" class=\"dataframe\">\n",
       "  <thead>\n",
       "    <tr style=\"text-align: right;\">\n",
       "      <th></th>\n",
       "      <th>mpg</th>\n",
       "      <th>cylinders</th>\n",
       "      <th>displacement</th>\n",
       "      <th>horsepower</th>\n",
       "      <th>weight</th>\n",
       "      <th>acceleration</th>\n",
       "      <th>year</th>\n",
       "      <th>origin</th>\n",
       "      <th>name</th>\n",
       "    </tr>\n",
       "  </thead>\n",
       "  <tbody>\n",
       "    <tr>\n",
       "      <th>0</th>\n",
       "      <td>18.0</td>\n",
       "      <td>8</td>\n",
       "      <td>307.0</td>\n",
       "      <td>130</td>\n",
       "      <td>3504</td>\n",
       "      <td>12.0</td>\n",
       "      <td>70</td>\n",
       "      <td>1</td>\n",
       "      <td>chevrolet chevelle malibu</td>\n",
       "    </tr>\n",
       "    <tr>\n",
       "      <th>1</th>\n",
       "      <td>15.0</td>\n",
       "      <td>8</td>\n",
       "      <td>350.0</td>\n",
       "      <td>165</td>\n",
       "      <td>3693</td>\n",
       "      <td>11.5</td>\n",
       "      <td>70</td>\n",
       "      <td>1</td>\n",
       "      <td>buick skylark 320</td>\n",
       "    </tr>\n",
       "    <tr>\n",
       "      <th>2</th>\n",
       "      <td>18.0</td>\n",
       "      <td>8</td>\n",
       "      <td>318.0</td>\n",
       "      <td>150</td>\n",
       "      <td>3436</td>\n",
       "      <td>11.0</td>\n",
       "      <td>70</td>\n",
       "      <td>1</td>\n",
       "      <td>plymouth satellite</td>\n",
       "    </tr>\n",
       "    <tr>\n",
       "      <th>3</th>\n",
       "      <td>16.0</td>\n",
       "      <td>8</td>\n",
       "      <td>304.0</td>\n",
       "      <td>150</td>\n",
       "      <td>3433</td>\n",
       "      <td>12.0</td>\n",
       "      <td>70</td>\n",
       "      <td>1</td>\n",
       "      <td>amc rebel sst</td>\n",
       "    </tr>\n",
       "    <tr>\n",
       "      <th>4</th>\n",
       "      <td>17.0</td>\n",
       "      <td>8</td>\n",
       "      <td>302.0</td>\n",
       "      <td>140</td>\n",
       "      <td>3449</td>\n",
       "      <td>10.5</td>\n",
       "      <td>70</td>\n",
       "      <td>1</td>\n",
       "      <td>ford torino</td>\n",
       "    </tr>\n",
       "  </tbody>\n",
       "</table>\n",
       "</div>"
      ],
      "text/plain": [
       "    mpg  cylinders  displacement horsepower  weight  acceleration  year  \\\n",
       "0  18.0          8         307.0        130    3504          12.0    70   \n",
       "1  15.0          8         350.0        165    3693          11.5    70   \n",
       "2  18.0          8         318.0        150    3436          11.0    70   \n",
       "3  16.0          8         304.0        150    3433          12.0    70   \n",
       "4  17.0          8         302.0        140    3449          10.5    70   \n",
       "\n",
       "   origin                       name  \n",
       "0       1  chevrolet chevelle malibu  \n",
       "1       1          buick skylark 320  \n",
       "2       1         plymouth satellite  \n",
       "3       1              amc rebel sst  \n",
       "4       1                ford torino  "
      ]
     },
     "execution_count": 5,
     "metadata": {},
     "output_type": "execute_result"
    }
   ],
   "source": [
    "df = pd.read_csv('auto.csv')\n",
    "df.head()"
   ]
  },
  {
   "cell_type": "markdown",
   "metadata": {},
   "source": [
    "#### Option 1: Shuffling in numpy\n",
    "This is what you should be using for your problem sets! "
   ]
  },
  {
   "cell_type": "code",
   "execution_count": 6,
   "metadata": {},
   "outputs": [
    {
     "name": "stdout",
     "output_type": "stream",
     "text": [
      "Total examples: 397\n",
      "Number of training examples: 317\n",
      "Number of testing examples: 80\n"
     ]
    }
   ],
   "source": [
    "train_percent = .80\n",
    "train_number = int(train_percent*len(df))\n",
    "print('Total examples: %i' % len(df))\n",
    "print('Number of training examples: %i' % train_number)\n",
    "print('Number of testing examples: %i' % (len(df) - train_number))\n",
    "\n",
    "np.random.seed(1)\n",
    "\n",
    "ids = np.arange(0, len(df), 1)\n",
    "ids = np.random.permutation(ids)\n",
    "df_shuffled = df.iloc[ids]\n",
    "train = df_shuffled[:train_number]\n",
    "test = df_shuffled[train_number:]"
   ]
  },
  {
   "cell_type": "markdown",
   "metadata": {},
   "source": [
    "#### Option 2: Shuffling in pandas\n",
    "Arguably more idiomatic, but less flexible. Don't use on PS3 or PS4, but could be useful in future data science applications."
   ]
  },
  {
   "cell_type": "code",
   "execution_count": 7,
   "metadata": {},
   "outputs": [],
   "source": [
    "df_shuffled = df.sample(frac=1, random_state=12, replace=False)\n",
    "train = df_shuffled[:train_number]\n",
    "test = df_shuffled[train_number:]"
   ]
  },
  {
   "cell_type": "markdown",
   "metadata": {},
   "source": [
    "#### Option 3: Built-in functionality in scikit-learn\n",
    "Often most convenient -- but don't use built-in sklearn functionality in PS3 or PS4."
   ]
  },
  {
   "cell_type": "code",
   "execution_count": 8,
   "metadata": {},
   "outputs": [],
   "source": [
    "train, test = train_test_split(df, train_size=train_percent, shuffle=True, random_state=12)"
   ]
  },
  {
   "cell_type": "code",
   "execution_count": 9,
   "metadata": {},
   "outputs": [],
   "source": [
    "x = df[['mpg', 'cylinders', 'year']]\n",
    "y = df['weight']\n",
    "x_train, x_test, y_train, y_test = train_test_split(x, y, train_size=train_percent, shuffle=True, \n",
    "                                                    random_state=12)"
   ]
  },
  {
   "cell_type": "markdown",
   "metadata": {},
   "source": [
    "## 3. Cross Validation"
   ]
  },
  {
   "cell_type": "markdown",
   "metadata": {},
   "source": [
    "#### Option 1: Cross validation in numpy\n",
    "**Challenge**: Extract five random cross validation splits from our dataframe using numpy's shuffle()"
   ]
  },
  {
   "cell_type": "code",
   "execution_count": 10,
   "metadata": {},
   "outputs": [],
   "source": [
    "# Solution \n",
    "ids = np.arange(0, len(df), 1)\n",
    "np.random.shuffle(ids) # What's weird about this syntax?\n",
    "df_shuffled = df.iloc[ids]\n",
    "\n",
    "partitions = [int(x) for x in np.linspace(0, len(df), 6)]\n",
    "splits = [df_shuffled[partitions[i]:partitions[i+1]] for i in range(len(partitions)-1)]"
   ]
  },
  {
   "cell_type": "markdown",
   "metadata": {},
   "source": [
    "#### Option 2: Cross validation in pandas\n",
    "**Challenge**: Extract five random cross validation splits from our dataframe using pandas sample()"
   ]
  },
  {
   "cell_type": "code",
   "execution_count": 11,
   "metadata": {},
   "outputs": [],
   "source": [
    "# Solution\n",
    "df_shuffled = df.sample(frac=1, random_state=12)\n",
    "\n",
    "partitions = [int(x) for x in np.linspace(0, len(df), 5)]\n",
    "\n",
    "splits = [df_shuffled[:i] for i in partitions]"
   ]
  },
  {
   "cell_type": "markdown",
   "metadata": {},
   "source": [
    "#### Option 3: Built-in functionality in scikit-learn\n",
    "Once again, do not use sci-kit learn on PS3 or PS4"
   ]
  },
  {
   "cell_type": "code",
   "execution_count": 12,
   "metadata": {},
   "outputs": [
    {
     "name": "stdout",
     "output_type": "stream",
     "text": [
      "(317, 9) (80, 9)\n",
      "(317, 9) (80, 9)\n",
      "(318, 9) (79, 9)\n",
      "(318, 9) (79, 9)\n",
      "(318, 9) (79, 9)\n"
     ]
    },
    {
     "name": "stderr",
     "output_type": "stream",
     "text": [
      "/opt/anaconda3/lib/python3.8/site-packages/sklearn/model_selection/_split.py:293: FutureWarning: Setting a random_state has no effect since shuffle is False. This will raise an error in 0.24. You should leave random_state to its default (None), or set shuffle=True.\n",
      "  warnings.warn(\n"
     ]
    }
   ],
   "source": [
    "# KFold -- https://scikit-learn.org/stable/modules/generated/sklearn.model_selection.KFold.html\n",
    "kf = KFold(n_splits=5, random_state=12)\n",
    "for train_idx, test_idx in kf.split(df):\n",
    "    train, test = df.iloc[train_idx], df.iloc[test_idx]\n",
    "    print(train.shape, test.shape)"
   ]
  },
  {
   "cell_type": "code",
   "execution_count": 13,
   "metadata": {},
   "outputs": [
    {
     "data": {
      "text/plain": [
       "{'fit_time': array([0.2043469 , 0.01098609, 0.00430489, 0.00438118, 0.01293206]),\n",
       " 'score_time': array([0.00409317, 0.00400305, 0.00344515, 0.00409985, 0.00381398]),\n",
       " 'test_score': array([0.87676209, 0.86726229, 0.873267  , 0.76292741, 0.27034231])}"
      ]
     },
     "execution_count": 13,
     "metadata": {},
     "output_type": "execute_result"
    }
   ],
   "source": [
    "# Cross validate -- https://scikit-learn.org/stable/modules/generated/sklearn.model_selection.cross_validate.html\n",
    "x = df[['mpg', 'cylinders', 'year']]\n",
    "y = df['weight']\n",
    "model = LinearRegression()\n",
    "cross_validate(model, x, y, scoring='r2', cv=5)"
   ]
  },
  {
   "cell_type": "markdown",
   "metadata": {},
   "source": [
    "## 4. Bootstrapping\n",
    "We can think of train-test splits and cross validation as drawing samples without replacement: Once an observation is assigned to a split, it can't be redrawn into another split. \n",
    "\n",
    "*Bootstrapping* is the opposite: We draw samples with replacement. Bootstrapping is mostly used for estimating confidence intervals around point estimates --- more to come on bootstrapping in later lectures and labs!\n"
   ]
  },
  {
   "cell_type": "markdown",
   "metadata": {},
   "source": [
    "#### Option 1: Random draws with numpy"
   ]
  },
  {
   "cell_type": "code",
   "execution_count": 14,
   "metadata": {},
   "outputs": [
    {
     "name": "stdout",
     "output_type": "stream",
     "text": [
      "24.66\n",
      "23.552000000000003\n",
      "24.416000000000004\n",
      "25.456\n",
      "22.644000000000002\n",
      "23.184\n",
      "23.631999999999998\n",
      "24.596000000000004\n",
      "24.127999999999997\n",
      "24.294\n",
      "23.308000000000003\n",
      "24.15\n",
      "23.232000000000003\n",
      "24.596000000000004\n",
      "23.78\n",
      "21.908\n",
      "23.674\n",
      "23.076000000000004\n",
      "23.302\n",
      "24.592\n",
      "23.87\n",
      "22.25\n",
      "22.965999999999994\n",
      "21.626000000000005\n",
      "23.942000000000004\n",
      "22.913999999999998\n",
      "23.644000000000005\n",
      "23.513999999999996\n",
      "24.387999999999998\n",
      "22.51\n",
      "23.802\n",
      "24.564000000000007\n",
      "22.695999999999998\n",
      "25.418000000000003\n",
      "24.917999999999996\n",
      "22.202\n",
      "22.855999999999998\n",
      "24.036000000000005\n",
      "23.177999999999997\n",
      "24.018000000000008\n",
      "24.061999999999998\n",
      "21.18\n",
      "24.51\n",
      "24.054000000000002\n",
      "22.68\n",
      "23.651999999999997\n",
      "23.031999999999996\n",
      "23.424\n",
      "22.633999999999997\n",
      "22.682\n",
      "22.241999999999997\n",
      "22.836\n",
      "22.914\n",
      "22.170000000000005\n",
      "22.432\n",
      "22.055999999999997\n",
      "23.471999999999998\n",
      "22.713999999999995\n",
      "23.320000000000004\n",
      "25.581999999999994\n",
      "24.972\n",
      "24.908\n",
      "22.616\n",
      "24.408\n",
      "21.124000000000002\n",
      "26.92\n",
      "22.444000000000003\n",
      "22.035999999999998\n",
      "23.727999999999998\n",
      "21.491999999999994\n",
      "23.728\n",
      "25.805999999999994\n",
      "24.213999999999995\n",
      "23.576000000000004\n",
      "22.978\n",
      "22.028000000000002\n",
      "24.598000000000003\n",
      "23.910000000000004\n",
      "21.946000000000005\n",
      "21.498\n",
      "23.936000000000003\n",
      "22.586\n",
      "23.884000000000004\n",
      "23.938000000000002\n",
      "25.834\n",
      "24.945999999999998\n",
      "25.337999999999997\n",
      "22.22\n",
      "23.28\n",
      "23.647999999999996\n",
      "22.75\n",
      "24.08\n",
      "23.965999999999994\n",
      "23.156000000000002\n",
      "24.786000000000005\n",
      "21.926\n",
      "23.656\n",
      "23.932\n",
      "21.446000000000005\n",
      "23.738000000000003\n"
     ]
    }
   ],
   "source": [
    "np.random.seed(1)\n",
    "\n",
    "n_bootstraps = 100\n",
    "sample_size = 50\n",
    "for i in range(n_bootstraps):\n",
    "    sample_ids = np.random.choice(len(df), size=sample_size)\n",
    "    bootstrap_sample = df.iloc[sample_ids]\n",
    "    print(bootstrap_sample['mpg'].mean())"
   ]
  },
  {
   "cell_type": "markdown",
   "metadata": {},
   "source": [
    "#### Option 2: Random draws with pandas"
   ]
  },
  {
   "cell_type": "code",
   "execution_count": 15,
   "metadata": {},
   "outputs": [
    {
     "name": "stdout",
     "output_type": "stream",
     "text": [
      "24.261999999999997\n",
      "23.622\n",
      "22.732000000000003\n",
      "23.727999999999998\n",
      "22.9\n",
      "22.858\n",
      "23.662000000000003\n",
      "23.474000000000004\n",
      "25.37\n",
      "23.53\n",
      "23.938000000000002\n",
      "23.355999999999998\n",
      "25.28\n",
      "24.168000000000003\n",
      "24.077999999999996\n",
      "22.613999999999997\n",
      "22.118000000000002\n",
      "24.212000000000003\n",
      "23.040000000000006\n",
      "23.508000000000003\n",
      "23.52\n",
      "24.756000000000004\n",
      "21.421999999999997\n",
      "24.528000000000002\n",
      "24.526\n",
      "24.95\n",
      "22.236\n",
      "22.058000000000003\n",
      "23.378\n",
      "25.230000000000004\n",
      "22.935999999999993\n",
      "22.334\n",
      "24.056000000000004\n",
      "23.45\n",
      "25.603999999999996\n",
      "22.619999999999994\n",
      "24.230000000000004\n",
      "25.433999999999997\n",
      "22.086\n",
      "23.458000000000002\n",
      "22.380000000000006\n",
      "24.298000000000002\n",
      "24.034000000000002\n",
      "23.86\n",
      "25.376000000000005\n",
      "24.787999999999997\n",
      "23.418000000000003\n",
      "20.944000000000003\n",
      "22.522000000000002\n",
      "23.296\n",
      "25.179999999999996\n",
      "25.366000000000003\n",
      "23.921999999999997\n",
      "24.37\n",
      "23.485999999999994\n",
      "24.524\n",
      "24.080000000000005\n",
      "23.741999999999997\n",
      "24.060000000000006\n",
      "26.232\n",
      "24.59\n",
      "25.396000000000004\n",
      "24.464000000000006\n",
      "23.833999999999996\n",
      "23.718000000000004\n",
      "23.32\n",
      "22.192000000000004\n",
      "23.476000000000003\n",
      "24.776000000000003\n",
      "22.246\n",
      "23.5\n",
      "23.157999999999998\n",
      "23.712\n",
      "24.167999999999996\n",
      "23.960000000000004\n",
      "25.425999999999995\n",
      "23.524\n",
      "23.040000000000006\n",
      "23.048000000000002\n",
      "24.096\n",
      "23.362\n",
      "22.654000000000007\n",
      "23.536000000000005\n",
      "24.116\n",
      "23.798\n",
      "22.612000000000002\n",
      "23.696000000000005\n",
      "22.845999999999993\n",
      "23.342\n",
      "25.036000000000005\n",
      "23.272\n",
      "22.767999999999997\n",
      "23.12\n",
      "22.708000000000006\n",
      "25.647999999999993\n",
      "23.924000000000007\n",
      "23.382\n",
      "23.338\n",
      "22.234\n",
      "24.144000000000002\n"
     ]
    }
   ],
   "source": [
    "np.random.seed(2)\n",
    "\n",
    "n_bootstraps = 100\n",
    "sample_size = 50\n",
    "\n",
    "for i in range(n_bootstraps):\n",
    "    bootstrap_sample = df.sample(sample_size, replace=True)\n",
    "    print(bootstrap_sample['mpg'].mean())"
   ]
  },
  {
   "cell_type": "markdown",
   "metadata": {},
   "source": [
    "## 5. Normalization and Standardization"
   ]
  },
  {
   "cell_type": "code",
   "execution_count": 16,
   "metadata": {},
   "outputs": [],
   "source": [
    "df_numeric = df[['mpg', 'cylinders', 'weight']]\n",
    "train, test = train_test_split(df_numeric, test_size=0.8, random_state=1, shuffle=True)\n",
    "\n",
    "mpg_train = train['mpg'].values.flatten()\n",
    "mpg_test = test['mpg'].values.flatten()"
   ]
  },
  {
   "cell_type": "markdown",
   "metadata": {},
   "source": [
    "#### Standardization\n",
    "Standardization rescales the values in a vector to 0 mean and unit variance."
   ]
  },
  {
   "cell_type": "code",
   "execution_count": 17,
   "metadata": {},
   "outputs": [
    {
     "name": "stdout",
     "output_type": "stream",
     "text": [
      "4.946816514785507e-16 1.0000000000000002\n",
      "0.24076296260385305 1.1888702802210738\n"
     ]
    }
   ],
   "source": [
    "# Standardization by hand in numpy\n",
    "mean_mpg, std_mpg = np.mean(mpg_train), np.std(mpg_train)\n",
    "\n",
    "mpg_train_standardized = (mpg_train - mean_mpg)/std_mpg\n",
    "mpg_test_standardized = (mpg_test - mean_mpg)/std_mpg\n",
    "\n",
    "print(mpg_train_standardized.mean(), mpg_train_standardized.std())\n",
    "print(mpg_test_standardized.mean(), mpg_test_standardized.std())"
   ]
  },
  {
   "cell_type": "code",
   "execution_count": 18,
   "metadata": {},
   "outputs": [],
   "source": [
    "# Standardization with scikit-learn\n",
    "scaler = StandardScaler()\n",
    "train_standardized = scaler.fit_transform(train)\n",
    "test_standardized = scaler.transform(test)"
   ]
  },
  {
   "cell_type": "markdown",
   "metadata": {},
   "source": [
    "#### Normalization\n",
    "Normalization rescales the values in a vector to a range of [0, 1]."
   ]
  },
  {
   "cell_type": "code",
   "execution_count": 19,
   "metadata": {},
   "outputs": [
    {
     "name": "stdout",
     "output_type": "stream",
     "text": [
      "0.0 1.0\n",
      "-0.04 1.464\n"
     ]
    }
   ],
   "source": [
    "# Normalization by hand in numpy\n",
    "max_mpg, min_mpg = np.max(mpg_train), np.min(mpg_train)\n",
    "\n",
    "mpg_train_normalized = (mpg_train - min_mpg)/(max_mpg - min_mpg)\n",
    "mpg_test_normalized = (mpg_test - min_mpg)/(max_mpg - min_mpg)\n",
    "\n",
    "print(mpg_train_normalized.min(), mpg_train_normalized.max())\n",
    "print(mpg_test_normalized.min(), mpg_test_normalized.max())"
   ]
  },
  {
   "cell_type": "code",
   "execution_count": 20,
   "metadata": {},
   "outputs": [],
   "source": [
    "# Normalization in scikit-learn\n",
    "scaler = MinMaxScaler()\n",
    "train_normalized = scaler.fit_transform(train)\n",
    "test_normalized = scaler.transform(test)"
   ]
  }
 ],
 "metadata": {
  "kernelspec": {
   "display_name": "Python 3",
   "language": "python",
   "name": "python3"
  },
  "language_info": {
   "codemirror_mode": {
    "name": "ipython",
    "version": 3
   },
   "file_extension": ".py",
   "mimetype": "text/x-python",
   "name": "python",
   "nbconvert_exporter": "python",
   "pygments_lexer": "ipython3",
   "version": "3.8.3"
  }
 },
 "nbformat": 4,
 "nbformat_minor": 4
}
