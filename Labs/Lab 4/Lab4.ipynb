{
 "cells": [
  {
   "cell_type": "markdown",
   "metadata": {},
   "source": [
    "# Lab 4 - ML Experiments in Python\n",
    "- **Author:** Emily Aiken ([emilyaiken@berkeley.edu](mailto:emilyaiken@berkeley.edu)) (based on labs from Dimitris Papadimitriou and Guanghua Chi)\n",
    "- **Date:** February 16, 2022\n",
    "- **Course:** INFO 251: Applied machine learning"
   ]
  },
  {
   "cell_type": "markdown",
   "metadata": {},
   "source": [
    "## Learning objectives:\n",
    "At the end of this lab, you will be able to...\n",
    "- Implement random train-test splits and cross validation in numpy and pandas\n",
    "- Use built-in scikit-learn functionality for train-test splits and cross validation\n",
    "- Understand the difference between cross validation and the bootstrap\n",
    "- Understand the difference between normalization and standardization"
   ]
  },
  {
   "cell_type": "markdown",
   "metadata": {},
   "source": [
    "## Topics:\n",
    "1. Vectorized computation, revisited\n",
    "2. Train-test splits\n",
    "3. Cross validation\n",
    "4. Bootstrapping\n",
    "5. Normalization and standardization"
   ]
  },
  {
   "cell_type": "code",
   "execution_count": null,
   "metadata": {},
   "outputs": [],
   "source": [
    "import numpy as np\n",
    "import pandas as pd\n",
    "import matplotlib.pyplot as plt\n",
    "from sklearn.model_selection import train_test_split, KFold, cross_validate\n",
    "from sklearn.linear_model import LinearRegression\n",
    "from sklearn.preprocessing import MinMaxScaler, StandardScaler"
   ]
  },
  {
   "cell_type": "markdown",
   "metadata": {},
   "source": [
    "## 1. Vectorized Computation, Revisited"
   ]
  },
  {
   "cell_type": "markdown",
   "metadata": {},
   "source": [
    "Challenge: For each point in a random set of 2D points, find the index of the closest other point in terms of Euclidean distance. *Use a maximum of one for loop.*"
   ]
  },
  {
   "cell_type": "code",
   "execution_count": null,
   "metadata": {},
   "outputs": [],
   "source": [
    "np.random.seed(2)\n",
    "points = np.random.rand(100, 2)\n",
    "\n",
    "fig, ax = plt.subplots(1)\n",
    "ax.scatter(points[:, 0], points[:, 1])\n",
    "plt.show()"
   ]
  },
  {
   "cell_type": "code",
   "execution_count": null,
   "metadata": {},
   "outputs": [],
   "source": [
    "# Your code here"
   ]
  },
  {
   "cell_type": "markdown",
   "metadata": {},
   "source": [
    "## 2. Random Splits"
   ]
  },
  {
   "cell_type": "code",
   "execution_count": null,
   "metadata": {},
   "outputs": [],
   "source": [
    "df = pd.read_csv('auto.csv')\n",
    "df.head()"
   ]
  },
  {
   "cell_type": "markdown",
   "metadata": {},
   "source": [
    "#### Option 1: Shuffling in numpy\n",
    "This is what you should be using for your problem sets! "
   ]
  },
  {
   "cell_type": "code",
   "execution_count": null,
   "metadata": {},
   "outputs": [],
   "source": [
    "train_percent = .80\n",
    "train_number = int(train_percent*len(df))\n",
    "print('Total examples: %i' % len(df))\n",
    "print('Number of training examples: %i' % train_number)\n",
    "print('Number of testing examples: %i' % (len(df) - train_number))\n",
    "\n",
    "np.random.seed(1)\n",
    "\n",
    "ids = np.arange(0, len(df), 1)\n",
    "ids = np.random.permutation(ids)\n",
    "df_shuffled = df.iloc[ids]\n",
    "train = df_shuffled[:train_number]\n",
    "test = df_shuffled[train_number:]"
   ]
  },
  {
   "cell_type": "markdown",
   "metadata": {},
   "source": [
    "#### Option 2: Shuffling in pandas\n",
    "Arguably more idiomatic, but less flexible. Don't use on PS3 or PS4, but could be useful in future data science applications."
   ]
  },
  {
   "cell_type": "code",
   "execution_count": null,
   "metadata": {},
   "outputs": [],
   "source": [
    "df_shuffled = df.sample(frac=1, random_state=12, replace=False)\n",
    "train = df_shuffled[:train_number]\n",
    "test = df_shuffled[train_number:]"
   ]
  },
  {
   "cell_type": "markdown",
   "metadata": {},
   "source": [
    "#### Option 3: Built-in functionality in scikit-learn\n",
    "Often most convenient -- but don't use built-in sklearn functionality in PS3 or PS4."
   ]
  },
  {
   "cell_type": "code",
   "execution_count": null,
   "metadata": {},
   "outputs": [],
   "source": [
    "train, test = train_test_split(df, train_size=train_percent, shuffle=True, random_state=12)"
   ]
  },
  {
   "cell_type": "code",
   "execution_count": null,
   "metadata": {},
   "outputs": [],
   "source": [
    "x = df[['mpg', 'cylinders', 'year']]\n",
    "y = df['weight']\n",
    "x_train, x_test, y_train, y_test = train_test_split(x, y, train_size=train_percent, shuffle=True, \n",
    "                                                    random_state=12)"
   ]
  },
  {
   "cell_type": "markdown",
   "metadata": {},
   "source": [
    "## 3. Cross Validation"
   ]
  },
  {
   "cell_type": "markdown",
   "metadata": {},
   "source": [
    "#### Option 1: Cross validation in numpy\n",
    "**Challenge**: Extract five random cross validation splits from our dataframe using numpy's shuffle()"
   ]
  },
  {
   "cell_type": "code",
   "execution_count": null,
   "metadata": {},
   "outputs": [],
   "source": [
    "# Your code here"
   ]
  },
  {
   "cell_type": "markdown",
   "metadata": {},
   "source": [
    "#### Option 2: Cross validation in pandas\n",
    "**Challenge**: Extract five random cross validation splits from our dataframe using pandas sample()"
   ]
  },
  {
   "cell_type": "code",
   "execution_count": null,
   "metadata": {},
   "outputs": [],
   "source": [
    "# Your code here"
   ]
  },
  {
   "cell_type": "markdown",
   "metadata": {},
   "source": [
    "#### Option 3: Built-in functionality in scikit-learn\n",
    "Once again, do not use sci-kit learn on PS3 or PS4"
   ]
  },
  {
   "cell_type": "code",
   "execution_count": null,
   "metadata": {},
   "outputs": [],
   "source": [
    "# KFold -- https://scikit-learn.org/stable/modules/generated/sklearn.model_selection.KFold.html\n",
    "kf = KFold(n_splits=5, random_state=12)\n",
    "for train_idx, test_idx in kf.split(df):\n",
    "    train, test = df.iloc[train_idx], df.iloc[test_idx]\n",
    "    print(train.shape, test.shape)"
   ]
  },
  {
   "cell_type": "code",
   "execution_count": null,
   "metadata": {},
   "outputs": [],
   "source": [
    "# Cross validate -- https://scikit-learn.org/stable/modules/generated/sklearn.model_selection.cross_validate.html\n",
    "x = df[['mpg', 'cylinders', 'year']]\n",
    "y = df['weight']\n",
    "model = LinearRegression()\n",
    "cross_validate(model, x, y, scoring='r2', cv=5)"
   ]
  },
  {
   "cell_type": "markdown",
   "metadata": {},
   "source": [
    "## 4. Bootstrapping\n",
    "We can think of train-test splits and cross validation as drawing samples without replacement: Once an observation is assigned to a split, it can't be redrawn into another split. \n",
    "\n",
    "*Bootstrapping* is the opposite: We draw samples with replacement. Bootstrapping is mostly used for estimating confidence intervals around point estimates --- more to come on bootstrapping in later lectures and labs!\n"
   ]
  },
  {
   "cell_type": "markdown",
   "metadata": {},
   "source": [
    "#### Option 1: Random draws with numpy"
   ]
  },
  {
   "cell_type": "code",
   "execution_count": null,
   "metadata": {},
   "outputs": [],
   "source": [
    "np.random.seed(1)\n",
    "\n",
    "n_bootstraps = 100\n",
    "sample_size = 50\n",
    "for i in range(n_bootstraps):\n",
    "    sample_ids = np.random.choice(len(df), size=sample_size)\n",
    "    bootstrap_sample = df.iloc[sample_ids]\n",
    "    print(bootstrap_sample['mpg'].mean())"
   ]
  },
  {
   "cell_type": "markdown",
   "metadata": {},
   "source": [
    "#### Option 2: Random draws with pandas"
   ]
  },
  {
   "cell_type": "code",
   "execution_count": null,
   "metadata": {},
   "outputs": [],
   "source": [
    "np.random.seed(2)\n",
    "\n",
    "n_bootstraps = 100\n",
    "sample_size = 50\n",
    "\n",
    "for i in range(n_bootstraps):\n",
    "    bootstrap_sample = df.sample(sample_size, replace=True)\n",
    "    print(bootstrap_sample['mpg'].mean())"
   ]
  },
  {
   "cell_type": "markdown",
   "metadata": {},
   "source": [
    "## 5. Normalization and Standardization"
   ]
  },
  {
   "cell_type": "code",
   "execution_count": null,
   "metadata": {},
   "outputs": [],
   "source": [
    "df_numeric = df[['mpg', 'cylinders', 'weight']]\n",
    "train, test = train_test_split(df_numeric, test_size=0.8, random_state=1, shuffle=True)\n",
    "\n",
    "mpg_train = train['mpg'].values.flatten()\n",
    "mpg_test = test['mpg'].values.flatten()"
   ]
  },
  {
   "cell_type": "markdown",
   "metadata": {},
   "source": [
    "#### Standardization\n",
    "Standardization rescales the values in a vector to 0 mean and unit variance."
   ]
  },
  {
   "cell_type": "code",
   "execution_count": null,
   "metadata": {},
   "outputs": [],
   "source": [
    "# Standardization by hand in numpy\n",
    "mean_mpg, std_mpg = np.mean(mpg_train), np.std(mpg_train)\n",
    "\n",
    "mpg_train_standardized = (mpg_train - mean_mpg)/std_mpg\n",
    "mpg_test_standardized = (mpg_test - mean_mpg)/std_mpg\n",
    "\n",
    "print(mpg_train_standardized.mean(), mpg_train_standardized.std())\n",
    "print(mpg_test_standardized.mean(), mpg_test_standardized.std())"
   ]
  },
  {
   "cell_type": "code",
   "execution_count": null,
   "metadata": {},
   "outputs": [],
   "source": [
    "# Standardization with scikit-learn\n",
    "scaler = StandardScaler()\n",
    "train_standardized = scaler.fit_transform(train)\n",
    "test_standardized = scaler.transform(test)"
   ]
  },
  {
   "cell_type": "markdown",
   "metadata": {},
   "source": [
    "#### Normalization\n",
    "Normalization rescales the values in a vector to a range of [0, 1]."
   ]
  },
  {
   "cell_type": "code",
   "execution_count": null,
   "metadata": {},
   "outputs": [],
   "source": [
    "# Normalization by hand in numpy\n",
    "max_mpg, min_mpg = np.max(mpg_train), np.min(mpg_train)\n",
    "\n",
    "mpg_train_normalized = (mpg_train - min_mpg)/(max_mpg - min_mpg)\n",
    "mpg_test_normalized = (mpg_test - min_mpg)/(max_mpg - min_mpg)\n",
    "\n",
    "print(mpg_train_normalized.min(), mpg_train_normalized.max())\n",
    "print(mpg_test_normalized.min(), mpg_test_normalized.max())"
   ]
  },
  {
   "cell_type": "code",
   "execution_count": null,
   "metadata": {},
   "outputs": [],
   "source": [
    "# Normalization in scikit-learn\n",
    "scaler = MinMaxScaler()\n",
    "train_normalized = scaler.fit_transform(train)\n",
    "test_normalized = scaler.transform(test)"
   ]
  }
 ],
 "metadata": {
  "kernelspec": {
   "display_name": "Python 3",
   "language": "python",
   "name": "python3"
  },
  "language_info": {
   "codemirror_mode": {
    "name": "ipython",
    "version": 3
   },
   "file_extension": ".py",
   "mimetype": "text/x-python",
   "name": "python",
   "nbconvert_exporter": "python",
   "pygments_lexer": "ipython3",
   "version": "3.8.3"
  }
 },
 "nbformat": 4,
 "nbformat_minor": 4
}
