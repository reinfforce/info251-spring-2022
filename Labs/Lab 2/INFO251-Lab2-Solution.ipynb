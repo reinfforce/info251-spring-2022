{
 "cells": [
  {
   "cell_type": "markdown",
   "metadata": {},
   "source": [
    "# Lab 2 - Regression and Impact Evaluation\n",
    "- **Author:** Emily Aiken ([emilyaiken@berkeley.edu](mailto:emilyaiken@berkeley.edu)) (based on past labs by Qutub Khan Vajihi and Dimitris Papadimitriou)\n",
    "- **Date:** February 2, 2022\n",
    "- **Course:** INFO 251: Applied machine learning"
   ]
  },
  {
   "cell_type": "markdown",
   "metadata": {},
   "source": [
    "### Topics:\n",
    "1. Univariate regression\n",
    "2. Multivariate regression\n",
    "    - Dummy variables\n",
    "    - Interaction terms\n",
    "3. Differences-in-differences"
   ]
  },
  {
   "cell_type": "markdown",
   "metadata": {},
   "source": [
    "### References: \n",
    " * [Statsmodels](http://www.statsmodels.org/stable/example_formulas.html#loading-modules-and-functions) \n",
    " * [Interpreting regression coefficients](https://dss.princeton.edu/online_help/analysis/interpreting_regression.htm)\n",
    " * [Card and Krueger (1994)](https://davidcard.berkeley.edu/papers/njmin-aer.pdf)"
   ]
  },
  {
   "cell_type": "markdown",
   "metadata": {},
   "source": [
    "### Import libraries"
   ]
  },
  {
   "cell_type": "code",
   "execution_count": 4,
   "metadata": {},
   "outputs": [],
   "source": [
    "# Standard imports\n",
    "import pandas as pd\n",
    "import numpy as np\n",
    "import matplotlib.pyplot as plt  \n",
    "%matplotlib inline  \n",
    "\n",
    "# The packages you'll need for regression models\n",
    "import statsmodels.api as sm\n",
    "import statsmodels.formula.api as smf"
   ]
  },
  {
   "cell_type": "markdown",
   "metadata": {},
   "source": [
    "### 1. Load the data\n",
    "\n",
    "Card and Krueger (1994) collected survey data on employment in fast food restaurants in New Jersey and Pennsylvania in 1992. The data for today's lab uses a subset of the variables they collected.\n",
    "\n",
    "- *UNIQUE_ID*: Unique ID for the restaurant interviewed\n",
    "- *PERIOD*: 0 for pre-period (March 1994), 1 for post-period (December 1994)\n",
    "- *STATE*: 0 for Pennsylvania, 1 for New Jersey\n",
    "- *REGION*: Region code: 1 = Southern NJ, 2 = Central NJ, 3 = Northern NJ, 4 = Northeast Philly suburbs, 5 = Easton area, 6 = NJ Shore\n",
    "- *CHAIN*: Chain restaurant code: 1 = Burger King, 2 = KFC, 3 = Roy's, 4 = Wendy's\n",
    "- *EMP*: Number of employees (fulltime or parttime)\n",
    "- *CO_OWNED*: 1 if company-owned\n",
    "- *BONUS*: 1 if employees get a signing bonus\n",
    "- *HRSOPEN*: Hours open per day, up to 24\n",
    "- *NREGS*: Number of registers"
   ]
  },
  {
   "cell_type": "code",
   "execution_count": 5,
   "metadata": {},
   "outputs": [
    {
     "data": {
      "text/html": [
       "<div>\n",
       "<style scoped>\n",
       "    .dataframe tbody tr th:only-of-type {\n",
       "        vertical-align: middle;\n",
       "    }\n",
       "\n",
       "    .dataframe tbody tr th {\n",
       "        vertical-align: top;\n",
       "    }\n",
       "\n",
       "    .dataframe thead th {\n",
       "        text-align: right;\n",
       "    }\n",
       "</style>\n",
       "<table border=\"1\" class=\"dataframe\">\n",
       "  <thead>\n",
       "    <tr style=\"text-align: right;\">\n",
       "      <th></th>\n",
       "      <th>UNIQUE_ID</th>\n",
       "      <th>PERIOD</th>\n",
       "      <th>STATE</th>\n",
       "      <th>REGION</th>\n",
       "      <th>CHAIN</th>\n",
       "      <th>EMP</th>\n",
       "      <th>CO_OWNED</th>\n",
       "      <th>BONUS</th>\n",
       "      <th>HRSOPEN</th>\n",
       "      <th>NREGS</th>\n",
       "    </tr>\n",
       "  </thead>\n",
       "  <tbody>\n",
       "    <tr>\n",
       "      <th>0</th>\n",
       "      <td>46.0</td>\n",
       "      <td>0</td>\n",
       "      <td>0.0</td>\n",
       "      <td>4</td>\n",
       "      <td>1.0</td>\n",
       "      <td>45.0</td>\n",
       "      <td>0.0</td>\n",
       "      <td>1.0</td>\n",
       "      <td>16.5</td>\n",
       "      <td>3.0</td>\n",
       "    </tr>\n",
       "    <tr>\n",
       "      <th>1</th>\n",
       "      <td>49.0</td>\n",
       "      <td>0</td>\n",
       "      <td>0.0</td>\n",
       "      <td>4</td>\n",
       "      <td>2.0</td>\n",
       "      <td>13.0</td>\n",
       "      <td>0.0</td>\n",
       "      <td>0.0</td>\n",
       "      <td>13.0</td>\n",
       "      <td>4.0</td>\n",
       "    </tr>\n",
       "    <tr>\n",
       "      <th>2</th>\n",
       "      <td>506.0</td>\n",
       "      <td>0</td>\n",
       "      <td>0.0</td>\n",
       "      <td>4</td>\n",
       "      <td>2.0</td>\n",
       "      <td>10.0</td>\n",
       "      <td>1.0</td>\n",
       "      <td>0.0</td>\n",
       "      <td>10.0</td>\n",
       "      <td>3.0</td>\n",
       "    </tr>\n",
       "    <tr>\n",
       "      <th>3</th>\n",
       "      <td>56.0</td>\n",
       "      <td>0</td>\n",
       "      <td>0.0</td>\n",
       "      <td>4</td>\n",
       "      <td>4.0</td>\n",
       "      <td>40.0</td>\n",
       "      <td>1.0</td>\n",
       "      <td>1.0</td>\n",
       "      <td>12.0</td>\n",
       "      <td>2.0</td>\n",
       "    </tr>\n",
       "    <tr>\n",
       "      <th>4</th>\n",
       "      <td>61.0</td>\n",
       "      <td>0</td>\n",
       "      <td>0.0</td>\n",
       "      <td>4</td>\n",
       "      <td>4.0</td>\n",
       "      <td>32.0</td>\n",
       "      <td>1.0</td>\n",
       "      <td>1.0</td>\n",
       "      <td>12.0</td>\n",
       "      <td>2.0</td>\n",
       "    </tr>\n",
       "  </tbody>\n",
       "</table>\n",
       "</div>"
      ],
      "text/plain": [
       "   UNIQUE_ID  PERIOD  STATE  REGION  CHAIN   EMP  CO_OWNED  BONUS  HRSOPEN  \\\n",
       "0       46.0       0    0.0       4    1.0  45.0       0.0    1.0     16.5   \n",
       "1       49.0       0    0.0       4    2.0  13.0       0.0    0.0     13.0   \n",
       "2      506.0       0    0.0       4    2.0  10.0       1.0    0.0     10.0   \n",
       "3       56.0       0    0.0       4    4.0  40.0       1.0    1.0     12.0   \n",
       "4       61.0       0    0.0       4    4.0  32.0       1.0    1.0     12.0   \n",
       "\n",
       "   NREGS  \n",
       "0    3.0  \n",
       "1    4.0  \n",
       "2    3.0  \n",
       "3    2.0  \n",
       "4    2.0  "
      ]
     },
     "execution_count": 5,
     "metadata": {},
     "output_type": "execute_result"
    }
   ],
   "source": [
    "df = pd.read_csv('fastfood.csv')\n",
    "df.head()"
   ]
  },
  {
   "cell_type": "code",
   "execution_count": 3,
   "metadata": {},
   "outputs": [
    {
     "data": {
      "text/html": [
       "<div>\n",
       "<style scoped>\n",
       "    .dataframe tbody tr th:only-of-type {\n",
       "        vertical-align: middle;\n",
       "    }\n",
       "\n",
       "    .dataframe tbody tr th {\n",
       "        vertical-align: top;\n",
       "    }\n",
       "\n",
       "    .dataframe thead th {\n",
       "        text-align: right;\n",
       "    }\n",
       "</style>\n",
       "<table border=\"1\" class=\"dataframe\">\n",
       "  <thead>\n",
       "    <tr style=\"text-align: right;\">\n",
       "      <th></th>\n",
       "      <th>UNIQUE_ID</th>\n",
       "      <th>PERIOD</th>\n",
       "      <th>STATE</th>\n",
       "      <th>REGION</th>\n",
       "      <th>CHAIN</th>\n",
       "      <th>EMP</th>\n",
       "      <th>CO_OWNED</th>\n",
       "      <th>BONUS</th>\n",
       "      <th>HRSOPEN</th>\n",
       "      <th>NREGS</th>\n",
       "    </tr>\n",
       "  </thead>\n",
       "  <tbody>\n",
       "    <tr>\n",
       "      <th>785</th>\n",
       "      <td>423.0</td>\n",
       "      <td>1</td>\n",
       "      <td>1.0</td>\n",
       "      <td>3</td>\n",
       "      <td>2.0</td>\n",
       "      <td>22.5</td>\n",
       "      <td>1.0</td>\n",
       "      <td>1.0</td>\n",
       "      <td>12.0</td>\n",
       "      <td>3.0</td>\n",
       "    </tr>\n",
       "    <tr>\n",
       "      <th>786</th>\n",
       "      <td>424.0</td>\n",
       "      <td>1</td>\n",
       "      <td>1.0</td>\n",
       "      <td>3</td>\n",
       "      <td>2.0</td>\n",
       "      <td>15.0</td>\n",
       "      <td>1.0</td>\n",
       "      <td>0.0</td>\n",
       "      <td>11.0</td>\n",
       "      <td>5.0</td>\n",
       "    </tr>\n",
       "    <tr>\n",
       "      <th>787</th>\n",
       "      <td>426.0</td>\n",
       "      <td>1</td>\n",
       "      <td>1.0</td>\n",
       "      <td>3</td>\n",
       "      <td>3.0</td>\n",
       "      <td>30.0</td>\n",
       "      <td>1.0</td>\n",
       "      <td>0.0</td>\n",
       "      <td>19.0</td>\n",
       "      <td>5.0</td>\n",
       "    </tr>\n",
       "    <tr>\n",
       "      <th>788</th>\n",
       "      <td>427.0</td>\n",
       "      <td>1</td>\n",
       "      <td>1.0</td>\n",
       "      <td>3</td>\n",
       "      <td>4.0</td>\n",
       "      <td>35.0</td>\n",
       "      <td>0.0</td>\n",
       "      <td>0.0</td>\n",
       "      <td>12.5</td>\n",
       "      <td>2.0</td>\n",
       "    </tr>\n",
       "    <tr>\n",
       "      <th>789</th>\n",
       "      <td>428.0</td>\n",
       "      <td>1</td>\n",
       "      <td>1.0</td>\n",
       "      <td>3</td>\n",
       "      <td>4.0</td>\n",
       "      <td>34.0</td>\n",
       "      <td>0.0</td>\n",
       "      <td>0.0</td>\n",
       "      <td>12.5</td>\n",
       "      <td>2.0</td>\n",
       "    </tr>\n",
       "  </tbody>\n",
       "</table>\n",
       "</div>"
      ],
      "text/plain": [
       "     UNIQUE_ID  PERIOD  STATE  REGION  CHAIN   EMP  CO_OWNED  BONUS  HRSOPEN  \\\n",
       "785      423.0       1    1.0       3    2.0  22.5       1.0    1.0     12.0   \n",
       "786      424.0       1    1.0       3    2.0  15.0       1.0    0.0     11.0   \n",
       "787      426.0       1    1.0       3    3.0  30.0       1.0    0.0     19.0   \n",
       "788      427.0       1    1.0       3    4.0  35.0       0.0    0.0     12.5   \n",
       "789      428.0       1    1.0       3    4.0  34.0       0.0    0.0     12.5   \n",
       "\n",
       "     NREGS  \n",
       "785    3.0  \n",
       "786    5.0  \n",
       "787    5.0  \n",
       "788    2.0  \n",
       "789    2.0  "
      ]
     },
     "execution_count": 3,
     "metadata": {},
     "output_type": "execute_result"
    }
   ],
   "source": [
    "df.tail()"
   ]
  },
  {
   "cell_type": "code",
   "execution_count": 4,
   "metadata": {},
   "outputs": [],
   "source": [
    "pre = df[df['PERIOD'] == 0].copy()"
   ]
  },
  {
   "cell_type": "markdown",
   "metadata": {},
   "source": [
    "### 2. Univariate Regression\n",
    "\n",
    "Linear regression provides us a concise summary of one variable as a function of another variables(s) through two types of parameters - the slope and the intercept. To review linear regression, we'll start by exploring the relationship between employment and the number of hours a restaurant is open\n",
    "in the pre-period.\n",
    "\n",
    "#### 2.1 Exploratory analysis"
   ]
  },
  {
   "cell_type": "code",
   "execution_count": 5,
   "metadata": {},
   "outputs": [
    {
     "data": {
      "text/plain": [
       "0.5607581039654648"
      ]
     },
     "execution_count": 5,
     "metadata": {},
     "output_type": "execute_result"
    }
   ],
   "source": [
    "# Find the correlation between number of rooms and median housing price.\n",
    "np.corrcoef(pre['HRSOPEN'], pre['EMP'])[0][1]"
   ]
  },
  {
   "cell_type": "markdown",
   "metadata": {},
   "source": [
    "**Question:** There's a strong positive correlation between the two. Does that the number of employees is what's driving the hours a restaurant is open?"
   ]
  },
  {
   "cell_type": "code",
   "execution_count": 6,
   "metadata": {},
   "outputs": [
    {
     "data": {
      "image/png": "[encoded data removed]",
      "text/plain": [
       "<Figure size 576x360 with 1 Axes>"
      ]
     },
     "metadata": {
      "needs_background": "light"
     },
     "output_type": "display_data"
    }
   ],
   "source": [
    "fig = plt.figure(figsize=(8, 5))\n",
    "plt.scatter(pre['HRSOPEN'], pre['EMP'], alpha=.2)\n",
    "plt.xlabel('Daily Hours Open', fontsize='large')\n",
    "plt.ylabel('Number of Employees', fontsize='large')\n",
    "plt.title('Hours Open vs. Employees', fontsize='x-large')\n",
    "plt.xlim(6.9, 24.1)\n",
    "plt.show()"
   ]
  },
  {
   "cell_type": "markdown",
   "metadata": {},
   "source": [
    "#### 2.2 Estimating a regression with np.polyfit"
   ]
  },
  {
   "cell_type": "code",
   "execution_count": 7,
   "metadata": {},
   "outputs": [
    {
     "data": {
      "image/png": "[encoded data removed]",
      "text/plain": [
       "<Figure size 576x360 with 1 Axes>"
      ]
     },
     "metadata": {
      "needs_background": "light"
     },
     "output_type": "display_data"
    }
   ],
   "source": [
    "# Estimate the regression\n",
    "x, y = pre['HRSOPEN'].values, pre['EMP'].values # x is the input variable, y is the output variable\n",
    "slope, intercept = np.polyfit(x, y, 1) # 1 is the degree\n",
    "\n",
    "# Scatterplot with the regression line\n",
    "fig = plt.figure(figsize=(8, 5))\n",
    "plt.scatter(pre['HRSOPEN'], pre['EMP'], alpha=.2)\n",
    "plt.plot(x, slope*x + intercept, color='darkgrey')\n",
    "plt.xlabel('Daily Hours Open', fontsize='large')\n",
    "plt.ylabel('Number of Employees', fontsize='large')\n",
    "plt.title('Hours Open vs. Employees', fontsize='x-large')\n",
    "plt.xlim(6.9, 24.1)\n",
    "plt.show()"
   ]
  },
  {
   "cell_type": "markdown",
   "metadata": {},
   "source": [
    "#### 2.3 Interpretation of the slope and intercept"
   ]
  },
  {
   "cell_type": "code",
   "execution_count": 8,
   "metadata": {},
   "outputs": [
    {
     "name": "stdout",
     "output_type": "stream",
     "text": [
      "The slope of the line is 2.47\n"
     ]
    }
   ],
   "source": [
    "print('The slope of the line is %.2f' % slope)"
   ]
  },
  {
   "cell_type": "markdown",
   "metadata": {},
   "source": [
    "**Question**: How would you interpret this value?"
   ]
  },
  {
   "cell_type": "code",
   "execution_count": 9,
   "metadata": {},
   "outputs": [
    {
     "name": "stdout",
     "output_type": "stream",
     "text": [
      "The intercept of the line is -8.63\n"
     ]
    }
   ],
   "source": [
    "print('The intercept of the line is %.2f' % intercept)"
   ]
  },
  {
   "cell_type": "markdown",
   "metadata": {},
   "source": [
    "**Question**: How would you interpret this value?"
   ]
  },
  {
   "cell_type": "markdown",
   "metadata": {},
   "source": [
    "#### 2.4 Estimating a regression with statsmodels"
   ]
  },
  {
   "cell_type": "code",
   "execution_count": 10,
   "metadata": {},
   "outputs": [
    {
     "name": "stdout",
     "output_type": "stream",
     "text": [
      "                            OLS Regression Results                            \n",
      "==============================================================================\n",
      "Dep. Variable:                      y   R-squared:                       0.314\n",
      "Model:                            OLS   Adj. R-squared:                  0.313\n",
      "Method:                 Least Squares   F-statistic:                     182.1\n",
      "Date:                Tue, 01 Feb 2022   Prob (F-statistic):           2.02e-34\n",
      "Time:                        18:58:27   Log-Likelihood:                -1494.8\n",
      "No. Observations:                 399   AIC:                             2994.\n",
      "Df Residuals:                     397   BIC:                             3002.\n",
      "Df Model:                           1                                         \n",
      "Covariance Type:            nonrobust                                         \n",
      "==============================================================================\n",
      "                 coef    std err          t      P>|t|      [0.025      0.975]\n",
      "------------------------------------------------------------------------------\n",
      "const         -8.6277      2.689     -3.209      0.001     -13.913      -3.342\n",
      "x1             2.4657      0.183     13.494      0.000       2.106       2.825\n",
      "==============================================================================\n",
      "Omnibus:                      118.371   Durbin-Watson:                   1.800\n",
      "Prob(Omnibus):                  0.000   Jarque-Bera (JB):              360.673\n",
      "Skew:                           1.364   Prob(JB):                     4.79e-79\n",
      "Kurtosis:                       6.775   Cond. No.                         77.2\n",
      "==============================================================================\n",
      "\n",
      "Warnings:\n",
      "[1] Standard Errors assume that the covariance matrix of the errors is correctly specified.\n"
     ]
    }
   ],
   "source": [
    "# Syntax option 1\n",
    "x, y = pre['HRSOPEN'].values, pre['EMP'].values # x is the input variable, y is the output variable\n",
    "x = sm.add_constant(x) # Add a constant for the intercept term\n",
    "model1 = sm.OLS(y, x).fit() # Note the order of y folowed by x!\n",
    "print(model1.summary())"
   ]
  },
  {
   "cell_type": "code",
   "execution_count": 11,
   "metadata": {},
   "outputs": [
    {
     "name": "stdout",
     "output_type": "stream",
     "text": [
      "                            OLS Regression Results                            \n",
      "==============================================================================\n",
      "Dep. Variable:                    EMP   R-squared:                       0.314\n",
      "Model:                            OLS   Adj. R-squared:                  0.313\n",
      "Method:                 Least Squares   F-statistic:                     182.1\n",
      "Date:                Tue, 01 Feb 2022   Prob (F-statistic):           2.02e-34\n",
      "Time:                        18:58:32   Log-Likelihood:                -1494.8\n",
      "No. Observations:                 399   AIC:                             2994.\n",
      "Df Residuals:                     397   BIC:                             3002.\n",
      "Df Model:                           1                                         \n",
      "Covariance Type:            nonrobust                                         \n",
      "==============================================================================\n",
      "                 coef    std err          t      P>|t|      [0.025      0.975]\n",
      "------------------------------------------------------------------------------\n",
      "Intercept     -8.6277      2.689     -3.209      0.001     -13.913      -3.342\n",
      "HRSOPEN        2.4657      0.183     13.494      0.000       2.106       2.825\n",
      "==============================================================================\n",
      "Omnibus:                      118.371   Durbin-Watson:                   1.800\n",
      "Prob(Omnibus):                  0.000   Jarque-Bera (JB):              360.673\n",
      "Skew:                           1.364   Prob(JB):                     4.79e-79\n",
      "Kurtosis:                       6.775   Cond. No.                         77.2\n",
      "==============================================================================\n",
      "\n",
      "Warnings:\n",
      "[1] Standard Errors assume that the covariance matrix of the errors is correctly specified.\n"
     ]
    }
   ],
   "source": [
    "# Syntax option 2\n",
    "model2 = smf.ols(formula='EMP ~ HRSOPEN', data=pre).fit() # Automatically includes the intercept term\n",
    "print(model2.summary())"
   ]
  },
  {
   "cell_type": "markdown",
   "metadata": {},
   "source": [
    "### 2. Categorical Data\n",
    "\n",
    "Now, we'll experiment with categorical data by examining the relationship between EMPTOT (the number of employees) and CHAIN (the fast food chain category) in the pre-period."
   ]
  },
  {
   "cell_type": "code",
   "execution_count": 12,
   "metadata": {},
   "outputs": [
    {
     "data": {
      "text/plain": [
       "array([1., 2., 4., 3.])"
      ]
     },
     "execution_count": 12,
     "metadata": {},
     "output_type": "execute_result"
    }
   ],
   "source": [
    "# Check unique values of CHAIN\n",
    "pre['CHAIN'].unique()"
   ]
  },
  {
   "cell_type": "code",
   "execution_count": 13,
   "metadata": {},
   "outputs": [
    {
     "data": {
      "text/html": [
       "<div>\n",
       "<style scoped>\n",
       "    .dataframe tbody tr th:only-of-type {\n",
       "        vertical-align: middle;\n",
       "    }\n",
       "\n",
       "    .dataframe tbody tr th {\n",
       "        vertical-align: top;\n",
       "    }\n",
       "\n",
       "    .dataframe thead th {\n",
       "        text-align: right;\n",
       "    }\n",
       "</style>\n",
       "<table border=\"1\" class=\"dataframe\">\n",
       "  <thead>\n",
       "    <tr style=\"text-align: right;\">\n",
       "      <th></th>\n",
       "      <th>UNIQUE_ID</th>\n",
       "      <th>PERIOD</th>\n",
       "      <th>STATE</th>\n",
       "      <th>REGION</th>\n",
       "      <th>EMP</th>\n",
       "      <th>CO_OWNED</th>\n",
       "      <th>BONUS</th>\n",
       "      <th>HRSOPEN</th>\n",
       "      <th>NREGS</th>\n",
       "      <th>CHAIN_1.0</th>\n",
       "      <th>CHAIN_2.0</th>\n",
       "      <th>CHAIN_3.0</th>\n",
       "      <th>CHAIN_4.0</th>\n",
       "    </tr>\n",
       "  </thead>\n",
       "  <tbody>\n",
       "    <tr>\n",
       "      <th>0</th>\n",
       "      <td>46.0</td>\n",
       "      <td>0</td>\n",
       "      <td>0.0</td>\n",
       "      <td>4</td>\n",
       "      <td>45.0</td>\n",
       "      <td>0.0</td>\n",
       "      <td>1.0</td>\n",
       "      <td>16.5</td>\n",
       "      <td>3.0</td>\n",
       "      <td>1</td>\n",
       "      <td>0</td>\n",
       "      <td>0</td>\n",
       "      <td>0</td>\n",
       "    </tr>\n",
       "    <tr>\n",
       "      <th>1</th>\n",
       "      <td>49.0</td>\n",
       "      <td>0</td>\n",
       "      <td>0.0</td>\n",
       "      <td>4</td>\n",
       "      <td>13.0</td>\n",
       "      <td>0.0</td>\n",
       "      <td>0.0</td>\n",
       "      <td>13.0</td>\n",
       "      <td>4.0</td>\n",
       "      <td>0</td>\n",
       "      <td>1</td>\n",
       "      <td>0</td>\n",
       "      <td>0</td>\n",
       "    </tr>\n",
       "    <tr>\n",
       "      <th>2</th>\n",
       "      <td>506.0</td>\n",
       "      <td>0</td>\n",
       "      <td>0.0</td>\n",
       "      <td>4</td>\n",
       "      <td>10.0</td>\n",
       "      <td>1.0</td>\n",
       "      <td>0.0</td>\n",
       "      <td>10.0</td>\n",
       "      <td>3.0</td>\n",
       "      <td>0</td>\n",
       "      <td>1</td>\n",
       "      <td>0</td>\n",
       "      <td>0</td>\n",
       "    </tr>\n",
       "    <tr>\n",
       "      <th>3</th>\n",
       "      <td>56.0</td>\n",
       "      <td>0</td>\n",
       "      <td>0.0</td>\n",
       "      <td>4</td>\n",
       "      <td>40.0</td>\n",
       "      <td>1.0</td>\n",
       "      <td>1.0</td>\n",
       "      <td>12.0</td>\n",
       "      <td>2.0</td>\n",
       "      <td>0</td>\n",
       "      <td>0</td>\n",
       "      <td>0</td>\n",
       "      <td>1</td>\n",
       "    </tr>\n",
       "    <tr>\n",
       "      <th>4</th>\n",
       "      <td>61.0</td>\n",
       "      <td>0</td>\n",
       "      <td>0.0</td>\n",
       "      <td>4</td>\n",
       "      <td>32.0</td>\n",
       "      <td>1.0</td>\n",
       "      <td>1.0</td>\n",
       "      <td>12.0</td>\n",
       "      <td>2.0</td>\n",
       "      <td>0</td>\n",
       "      <td>0</td>\n",
       "      <td>0</td>\n",
       "      <td>1</td>\n",
       "    </tr>\n",
       "  </tbody>\n",
       "</table>\n",
       "</div>"
      ],
      "text/plain": [
       "   UNIQUE_ID  PERIOD  STATE  REGION   EMP  CO_OWNED  BONUS  HRSOPEN  NREGS  \\\n",
       "0       46.0       0    0.0       4  45.0       0.0    1.0     16.5    3.0   \n",
       "1       49.0       0    0.0       4  13.0       0.0    0.0     13.0    4.0   \n",
       "2      506.0       0    0.0       4  10.0       1.0    0.0     10.0    3.0   \n",
       "3       56.0       0    0.0       4  40.0       1.0    1.0     12.0    2.0   \n",
       "4       61.0       0    0.0       4  32.0       1.0    1.0     12.0    2.0   \n",
       "\n",
       "   CHAIN_1.0  CHAIN_2.0  CHAIN_3.0  CHAIN_4.0  \n",
       "0          1          0          0          0  \n",
       "1          0          1          0          0  \n",
       "2          0          1          0          0  \n",
       "3          0          0          0          1  \n",
       "4          0          0          0          1  "
      ]
     },
     "execution_count": 13,
     "metadata": {},
     "output_type": "execute_result"
    }
   ],
   "source": [
    "# Get dummy variables for CHAIN\n",
    "dummy_pre = pd.get_dummies(pre, columns=['CHAIN']).head() # Pandas' default is not to drop a column\n",
    "dummy_pre.head()"
   ]
  },
  {
   "cell_type": "code",
   "execution_count": 14,
   "metadata": {},
   "outputs": [
    {
     "data": {
      "text/html": [
       "<div>\n",
       "<style scoped>\n",
       "    .dataframe tbody tr th:only-of-type {\n",
       "        vertical-align: middle;\n",
       "    }\n",
       "\n",
       "    .dataframe tbody tr th {\n",
       "        vertical-align: top;\n",
       "    }\n",
       "\n",
       "    .dataframe thead th {\n",
       "        text-align: right;\n",
       "    }\n",
       "</style>\n",
       "<table border=\"1\" class=\"dataframe\">\n",
       "  <thead>\n",
       "    <tr style=\"text-align: right;\">\n",
       "      <th></th>\n",
       "      <th>UNIQUE_ID</th>\n",
       "      <th>PERIOD</th>\n",
       "      <th>STATE</th>\n",
       "      <th>REGION</th>\n",
       "      <th>EMP</th>\n",
       "      <th>CO_OWNED</th>\n",
       "      <th>BONUS</th>\n",
       "      <th>HRSOPEN</th>\n",
       "      <th>NREGS</th>\n",
       "      <th>CHAIN_2.0</th>\n",
       "      <th>CHAIN_3.0</th>\n",
       "      <th>CHAIN_4.0</th>\n",
       "    </tr>\n",
       "  </thead>\n",
       "  <tbody>\n",
       "    <tr>\n",
       "      <th>0</th>\n",
       "      <td>46.0</td>\n",
       "      <td>0</td>\n",
       "      <td>0.0</td>\n",
       "      <td>4</td>\n",
       "      <td>45.0</td>\n",
       "      <td>0.0</td>\n",
       "      <td>1.0</td>\n",
       "      <td>16.5</td>\n",
       "      <td>3.0</td>\n",
       "      <td>0</td>\n",
       "      <td>0</td>\n",
       "      <td>0</td>\n",
       "    </tr>\n",
       "    <tr>\n",
       "      <th>1</th>\n",
       "      <td>49.0</td>\n",
       "      <td>0</td>\n",
       "      <td>0.0</td>\n",
       "      <td>4</td>\n",
       "      <td>13.0</td>\n",
       "      <td>0.0</td>\n",
       "      <td>0.0</td>\n",
       "      <td>13.0</td>\n",
       "      <td>4.0</td>\n",
       "      <td>1</td>\n",
       "      <td>0</td>\n",
       "      <td>0</td>\n",
       "    </tr>\n",
       "    <tr>\n",
       "      <th>2</th>\n",
       "      <td>506.0</td>\n",
       "      <td>0</td>\n",
       "      <td>0.0</td>\n",
       "      <td>4</td>\n",
       "      <td>10.0</td>\n",
       "      <td>1.0</td>\n",
       "      <td>0.0</td>\n",
       "      <td>10.0</td>\n",
       "      <td>3.0</td>\n",
       "      <td>1</td>\n",
       "      <td>0</td>\n",
       "      <td>0</td>\n",
       "    </tr>\n",
       "    <tr>\n",
       "      <th>3</th>\n",
       "      <td>56.0</td>\n",
       "      <td>0</td>\n",
       "      <td>0.0</td>\n",
       "      <td>4</td>\n",
       "      <td>40.0</td>\n",
       "      <td>1.0</td>\n",
       "      <td>1.0</td>\n",
       "      <td>12.0</td>\n",
       "      <td>2.0</td>\n",
       "      <td>0</td>\n",
       "      <td>0</td>\n",
       "      <td>1</td>\n",
       "    </tr>\n",
       "    <tr>\n",
       "      <th>4</th>\n",
       "      <td>61.0</td>\n",
       "      <td>0</td>\n",
       "      <td>0.0</td>\n",
       "      <td>4</td>\n",
       "      <td>32.0</td>\n",
       "      <td>1.0</td>\n",
       "      <td>1.0</td>\n",
       "      <td>12.0</td>\n",
       "      <td>2.0</td>\n",
       "      <td>0</td>\n",
       "      <td>0</td>\n",
       "      <td>1</td>\n",
       "    </tr>\n",
       "  </tbody>\n",
       "</table>\n",
       "</div>"
      ],
      "text/plain": [
       "   UNIQUE_ID  PERIOD  STATE  REGION   EMP  CO_OWNED  BONUS  HRSOPEN  NREGS  \\\n",
       "0       46.0       0    0.0       4  45.0       0.0    1.0     16.5    3.0   \n",
       "1       49.0       0    0.0       4  13.0       0.0    0.0     13.0    4.0   \n",
       "2      506.0       0    0.0       4  10.0       1.0    0.0     10.0    3.0   \n",
       "3       56.0       0    0.0       4  40.0       1.0    1.0     12.0    2.0   \n",
       "4       61.0       0    0.0       4  32.0       1.0    1.0     12.0    2.0   \n",
       "\n",
       "   CHAIN_2.0  CHAIN_3.0  CHAIN_4.0  \n",
       "0          0          0          0  \n",
       "1          1          0          0  \n",
       "2          1          0          0  \n",
       "3          0          0          1  \n",
       "4          0          0          1  "
      ]
     },
     "execution_count": 14,
     "metadata": {},
     "output_type": "execute_result"
    }
   ],
   "source": [
    "# Get dummy variables for CHAIN and drop one column\n",
    "dummy_pre = pd.get_dummies(pre, columns=['CHAIN'], drop_first=True).head() # Drop a column\n",
    "dummy_pre.head()"
   ]
  },
  {
   "cell_type": "code",
   "execution_count": 15,
   "metadata": {},
   "outputs": [
    {
     "name": "stdout",
     "output_type": "stream",
     "text": [
      "                            OLS Regression Results                            \n",
      "==============================================================================\n",
      "Dep. Variable:                    EMP   R-squared:                       0.231\n",
      "Model:                            OLS   Adj. R-squared:                  0.225\n",
      "Method:                 Least Squares   F-statistic:                     39.61\n",
      "Date:                Tue, 01 Feb 2022   Prob (F-statistic):           2.12e-22\n",
      "Time:                        18:58:35   Log-Likelihood:                -1517.6\n",
      "No. Observations:                 399   AIC:                             3043.\n",
      "Df Residuals:                     395   BIC:                             3059.\n",
      "Df Model:                           3                                         \n",
      "Covariance Type:            nonrobust                                         \n",
      "==============================================================================\n",
      "                 coef    std err          t      P>|t|      [0.025      0.975]\n",
      "------------------------------------------------------------------------------\n",
      "const         30.4759      0.847     35.989      0.000      28.811      32.141\n",
      "CHAIN_2.0    -15.5080      1.498    -10.354      0.000     -18.453     -12.563\n",
      "CHAIN_3.0     -0.8126      1.390     -0.585      0.559      -3.545       1.920\n",
      "CHAIN_4.0     -1.8356      1.675     -1.096      0.274      -5.129       1.457\n",
      "==============================================================================\n",
      "Omnibus:                      164.786   Durbin-Watson:                   1.855\n",
      "Prob(Omnibus):                  0.000   Jarque-Bera (JB):              930.890\n",
      "Skew:                           1.676   Prob(JB):                    7.24e-203\n",
      "Kurtosis:                       9.690   Cond. No.                         4.01\n",
      "==============================================================================\n",
      "\n",
      "Warnings:\n",
      "[1] Standard Errors assume that the covariance matrix of the errors is correctly specified.\n"
     ]
    }
   ],
   "source": [
    "# Regression with a dummy variable: Syntax option 1\n",
    "x = pd.get_dummies(pre[['CHAIN']], columns=['CHAIN'], drop_first=True)\n",
    "x = sm.add_constant(x)\n",
    "y = pre['EMP']\n",
    "print(sm.OLS(y, x).fit().summary())"
   ]
  },
  {
   "cell_type": "markdown",
   "metadata": {},
   "source": [
    "**QUESTION**: How should we interpret regression coefficients when one dummy variable is dropped?"
   ]
  },
  {
   "cell_type": "code",
   "execution_count": 16,
   "metadata": {},
   "outputs": [
    {
     "name": "stdout",
     "output_type": "stream",
     "text": [
      "                            OLS Regression Results                            \n",
      "==============================================================================\n",
      "Dep. Variable:                    EMP   R-squared:                       0.231\n",
      "Model:                            OLS   Adj. R-squared:                  0.225\n",
      "Method:                 Least Squares   F-statistic:                     39.61\n",
      "Date:                Tue, 01 Feb 2022   Prob (F-statistic):           2.12e-22\n",
      "Time:                        18:58:38   Log-Likelihood:                -1517.6\n",
      "No. Observations:                 399   AIC:                             3043.\n",
      "Df Residuals:                     395   BIC:                             3059.\n",
      "Df Model:                           3                                         \n",
      "Covariance Type:            nonrobust                                         \n",
      "===================================================================================\n",
      "                      coef    std err          t      P>|t|      [0.025      0.975]\n",
      "-----------------------------------------------------------------------------------\n",
      "Intercept          30.4759      0.847     35.989      0.000      28.811      32.141\n",
      "C(CHAIN)[T.2.0]   -15.5080      1.498    -10.354      0.000     -18.453     -12.563\n",
      "C(CHAIN)[T.3.0]    -0.8126      1.390     -0.585      0.559      -3.545       1.920\n",
      "C(CHAIN)[T.4.0]    -1.8356      1.675     -1.096      0.274      -5.129       1.457\n",
      "==============================================================================\n",
      "Omnibus:                      164.786   Durbin-Watson:                   1.855\n",
      "Prob(Omnibus):                  0.000   Jarque-Bera (JB):              930.890\n",
      "Skew:                           1.676   Prob(JB):                    7.24e-203\n",
      "Kurtosis:                       9.690   Cond. No.                         4.01\n",
      "==============================================================================\n",
      "\n",
      "Warnings:\n",
      "[1] Standard Errors assume that the covariance matrix of the errors is correctly specified.\n"
     ]
    }
   ],
   "source": [
    "# Regression with a dummy variable: Syntax option 2\n",
    "\n",
    "# Statsmodels formula API automatically drops one of the dummies\n",
    "print(smf.ols(formula='EMP ~ C(CHAIN)', data=pre).fit().summary()) "
   ]
  },
  {
   "cell_type": "code",
   "execution_count": 17,
   "metadata": {},
   "outputs": [
    {
     "name": "stdout",
     "output_type": "stream",
     "text": [
      "                            OLS Regression Results                            \n",
      "==============================================================================\n",
      "Dep. Variable:                    EMP   R-squared:                       0.231\n",
      "Model:                            OLS   Adj. R-squared:                  0.225\n",
      "Method:                 Least Squares   F-statistic:                     39.61\n",
      "Date:                Tue, 01 Feb 2022   Prob (F-statistic):           2.12e-22\n",
      "Time:                        18:58:40   Log-Likelihood:                -1517.6\n",
      "No. Observations:                 399   AIC:                             3043.\n",
      "Df Residuals:                     395   BIC:                             3059.\n",
      "Df Model:                           3                                         \n",
      "Covariance Type:            nonrobust                                         \n",
      "=================================================================================\n",
      "                    coef    std err          t      P>|t|      [0.025      0.975]\n",
      "---------------------------------------------------------------------------------\n",
      "C(CHAIN)[1.0]    30.4759      0.847     35.989      0.000      28.811      32.141\n",
      "C(CHAIN)[2.0]    14.9679      1.235     12.116      0.000      12.539      17.397\n",
      "C(CHAIN)[3.0]    29.6633      1.102     26.915      0.000      27.496      31.830\n",
      "C(CHAIN)[4.0]    28.6404      1.445     19.819      0.000      25.799      31.481\n",
      "==============================================================================\n",
      "Omnibus:                      164.786   Durbin-Watson:                   1.855\n",
      "Prob(Omnibus):                  0.000   Jarque-Bera (JB):              930.890\n",
      "Skew:                           1.676   Prob(JB):                    7.24e-203\n",
      "Kurtosis:                       9.690   Cond. No.                         1.71\n",
      "==============================================================================\n",
      "\n",
      "Warnings:\n",
      "[1] Standard Errors assume that the covariance matrix of the errors is correctly specified.\n"
     ]
    }
   ],
   "source": [
    "# Alternative: drop the constant\n",
    "print(smf.ols(formula='EMP ~ C(CHAIN) - 1', data=pre).fit().summary()) "
   ]
  },
  {
   "cell_type": "markdown",
   "metadata": {},
   "source": [
    "### 3. Multivariate Regression\n",
    "\n",
    "Now let's look at some other covariates: The number of registrations, whether or not employees get a bonus, and the region."
   ]
  },
  {
   "cell_type": "code",
   "execution_count": 18,
   "metadata": {},
   "outputs": [
    {
     "name": "stdout",
     "output_type": "stream",
     "text": [
      "                            OLS Regression Results                            \n",
      "==============================================================================\n",
      "Dep. Variable:                    EMP   R-squared:                       0.338\n",
      "Model:                            OLS   Adj. R-squared:                  0.332\n",
      "Method:                 Least Squares   F-statistic:                     67.08\n",
      "Date:                Tue, 01 Feb 2022   Prob (F-statistic):           4.46e-35\n",
      "Time:                        18:58:43   Log-Likelihood:                -1488.0\n",
      "No. Observations:                 399   AIC:                             2984.\n",
      "Df Residuals:                     395   BIC:                             3000.\n",
      "Df Model:                           3                                         \n",
      "Covariance Type:            nonrobust                                         \n",
      "==============================================================================\n",
      "                 coef    std err          t      P>|t|      [0.025      0.975]\n",
      "------------------------------------------------------------------------------\n",
      "const         -9.7277      2.829     -3.439      0.001     -15.289      -4.167\n",
      "HRSOPEN        2.5806      0.188     13.736      0.000       2.211       2.950\n",
      "NREGS         -0.4355      0.423     -1.030      0.304      -1.267       0.396\n",
      "BONUS          4.0760      1.186      3.437      0.001       1.744       6.408\n",
      "==============================================================================\n",
      "Omnibus:                      125.996   Durbin-Watson:                   1.811\n",
      "Prob(Omnibus):                  0.000   Jarque-Bera (JB):              437.753\n",
      "Skew:                           1.402   Prob(JB):                     8.77e-96\n",
      "Kurtosis:                       7.298   Cond. No.                         85.4\n",
      "==============================================================================\n",
      "\n",
      "Warnings:\n",
      "[1] Standard Errors assume that the covariance matrix of the errors is correctly specified.\n"
     ]
    }
   ],
   "source": [
    "# Syntax 1\n",
    "X = sm.add_constant(pre[['HRSOPEN', 'NREGS', 'BONUS']]) # X is capitalized since it's now a vector\n",
    "y = pre['EMP']\n",
    "model = sm.OLS(y, X).fit()\n",
    "print(model.summary())"
   ]
  },
  {
   "cell_type": "code",
   "execution_count": 19,
   "metadata": {},
   "outputs": [
    {
     "name": "stdout",
     "output_type": "stream",
     "text": [
      "                            OLS Regression Results                            \n",
      "==============================================================================\n",
      "Dep. Variable:                    EMP   R-squared:                       0.358\n",
      "Model:                            OLS   Adj. R-squared:                  0.348\n",
      "Method:                 Least Squares   F-statistic:                     36.42\n",
      "Date:                Tue, 01 Feb 2022   Prob (F-statistic):           4.93e-35\n",
      "Time:                        18:58:43   Log-Likelihood:                -1481.7\n",
      "No. Observations:                 399   AIC:                             2977.\n",
      "Df Residuals:                     392   BIC:                             3005.\n",
      "Df Model:                           6                                         \n",
      "Covariance Type:            nonrobust                                         \n",
      "==================================================================================\n",
      "                     coef    std err          t      P>|t|      [0.025      0.975]\n",
      "----------------------------------------------------------------------------------\n",
      "Intercept        -10.9948      2.816     -3.904      0.000     -16.532      -5.458\n",
      "C(REGION)[T.2]     5.1939      1.667      3.116      0.002       1.917       8.471\n",
      "C(REGION)[T.3]     4.0237      1.307      3.078      0.002       1.454       6.593\n",
      "C(REGION)[T.4]     9.1469      1.983      4.612      0.000       5.248      13.046\n",
      "C(REGION)[T.5]     3.6607      1.873      1.955      0.051      -0.021       7.342\n",
      "HRSOPEN            2.4804      0.187     13.254      0.000       2.112       2.848\n",
      "NREGS             -0.4270      0.422     -1.013      0.312      -1.256       0.402\n",
      "==============================================================================\n",
      "Omnibus:                      111.582   Durbin-Watson:                   1.925\n",
      "Prob(Omnibus):                  0.000   Jarque-Bera (JB):              346.203\n",
      "Skew:                           1.274   Prob(JB):                     6.65e-76\n",
      "Kurtosis:                       6.785   Cond. No.                         91.4\n",
      "==============================================================================\n",
      "\n",
      "Warnings:\n",
      "[1] Standard Errors assume that the covariance matrix of the errors is correctly specified.\n"
     ]
    }
   ],
   "source": [
    "# Syntax 2\n",
    "model = smf.ols(formula='EMP ~ HRSOPEN + NREGS + C(REGION)', data=pre).fit()\n",
    "print(model.summary())"
   ]
  },
  {
   "cell_type": "markdown",
   "metadata": {},
   "source": [
    "**QUESTION**: Interpret each of the regression coefficients."
   ]
  },
  {
   "cell_type": "markdown",
   "metadata": {},
   "source": [
    "#### 3.1 Interaction Terms"
   ]
  },
  {
   "cell_type": "markdown",
   "metadata": {},
   "source": [
    "Interaction terms are used to (1) expand the set of hypothesis and/or controls in a regression, and (2) model relationships in more complex econometric models (e.g. differences-in-differences, instrumental variables)."
   ]
  },
  {
   "cell_type": "code",
   "execution_count": 20,
   "metadata": {
    "scrolled": true
   },
   "outputs": [
    {
     "name": "stdout",
     "output_type": "stream",
     "text": [
      "                            OLS Regression Results                            \n",
      "==============================================================================\n",
      "Dep. Variable:                    EMP   R-squared:                       0.348\n",
      "Model:                            OLS   Adj. R-squared:                  0.343\n",
      "Method:                 Least Squares   F-statistic:                     70.30\n",
      "Date:                Tue, 01 Feb 2022   Prob (F-statistic):           1.89e-36\n",
      "Time:                        18:58:45   Log-Likelihood:                -1484.8\n",
      "No. Observations:                 399   AIC:                             2978.\n",
      "Df Residuals:                     395   BIC:                             2993.\n",
      "Df Model:                           3                                         \n",
      "Covariance Type:            nonrobust                                         \n",
      "=================================================================================\n",
      "                    coef    std err          t      P>|t|      [0.025      0.975]\n",
      "---------------------------------------------------------------------------------\n",
      "Intercept       -14.0466      2.968     -4.732      0.000     -19.882      -8.211\n",
      "HRSOPEN           2.7661      0.199     13.872      0.000       2.374       3.158\n",
      "BONUS            21.8383      6.553      3.333      0.001       8.956      34.721\n",
      "HRSOPEN:BONUS    -1.2521      0.458     -2.735      0.007      -2.152      -0.352\n",
      "==============================================================================\n",
      "Omnibus:                      116.721   Durbin-Watson:                   1.823\n",
      "Prob(Omnibus):                  0.000   Jarque-Bera (JB):              373.520\n",
      "Skew:                           1.324   Prob(JB):                     7.78e-82\n",
      "Kurtosis:                       6.932   Cond. No.                         203.\n",
      "==============================================================================\n",
      "\n",
      "Warnings:\n",
      "[1] Standard Errors assume that the covariance matrix of the errors is correctly specified.\n"
     ]
    }
   ],
   "source": [
    "model1 = smf.ols(formula='EMP ~ HRSOPEN * BONUS ', data=pre).fit()\n",
    "print(model1.summary())"
   ]
  },
  {
   "cell_type": "markdown",
   "metadata": {},
   "source": [
    "**QUESTION**: Interpret each coefficient."
   ]
  },
  {
   "cell_type": "markdown",
   "metadata": {},
   "source": [
    "### 4. Differences-in-differences"
   ]
  },
  {
   "cell_type": "code",
   "execution_count": 21,
   "metadata": {},
   "outputs": [
    {
     "data": {
      "image/png": "[encoded data removed]",
      "text/plain": [
       "<Figure size 576x360 with 1 Axes>"
      ]
     },
     "metadata": {
      "needs_background": "light"
     },
     "output_type": "display_data"
    }
   ],
   "source": [
    "# Visual assessment of the dif-in-dif\n",
    "control_pre = df[(df['PERIOD'] == 0) & (df['STATE'] == 0)]['EMP'].mean()\n",
    "treatment_pre = df[(df['PERIOD'] == 0) & (df['STATE'] == 1)]['EMP'].mean()\n",
    "control_post = df[(df['PERIOD'] == 1) & (df['STATE'] == 0)]['EMP'].mean()\n",
    "treatment_post = df[(df['PERIOD'] == 1) & (df['STATE'] == 1)]['EMP'].mean()\n",
    "\n",
    "fig = plt.figure(figsize=(8, 5))\n",
    "plt.scatter([0, 1], [control_pre, control_post], s=200)\n",
    "plt.plot([0, 1], [control_pre, control_post], label='Control (Pennsylvania)')\n",
    "plt.scatter([0, 1], [treatment_pre, treatment_post], s=200)\n",
    "plt.plot([0, 1], [treatment_pre, treatment_post], label='Treatment (New Jersey)')\n",
    "plt.legend(loc='best', fontsize='large')\n",
    "plt.xlabel('Time (Pre vs. Post)', fontsize='large')\n",
    "plt.ylabel('Average Employees', fontsize='large')\n",
    "plt.title('Employees Over Time', fontsize='x-large')\n",
    "plt.show()\n"
   ]
  },
  {
   "cell_type": "code",
   "execution_count": 22,
   "metadata": {},
   "outputs": [],
   "source": [
    "# TODO: Use a differences-in-differences specification to estimate the impact of the increase in the \n",
    "# minimum wage in New Jersey (state == 1) between the pre- and the post-period (period==1). \n",
    "\n",
    "# Remember the dif-in-dif formula: Y = B0 + B1*Time + B2*Intervention + B3*(Time*Intervention)"
   ]
  },
  {
   "cell_type": "code",
   "execution_count": 389,
   "metadata": {},
   "outputs": [
    {
     "name": "stdout",
     "output_type": "stream",
     "text": [
      "                            OLS Regression Results                            \n",
      "==============================================================================\n",
      "Dep. Variable:                    EMP   R-squared:                       0.006\n",
      "Model:                            OLS   Adj. R-squared:                  0.003\n",
      "Method:                 Least Squares   F-statistic:                     1.687\n",
      "Date:                Sun, 30 Jan 2022   Prob (F-statistic):              0.168\n",
      "Time:                        14:41:43   Log-Likelihood:                -3093.6\n",
      "No. Observations:                 790   AIC:                             6195.\n",
      "Df Residuals:                     786   BIC:                             6214.\n",
      "Df Model:                           3                                         \n",
      "Covariance Type:            nonrobust                                         \n",
      "================================================================================\n",
      "                   coef    std err          t      P>|t|      [0.025      0.975]\n",
      "--------------------------------------------------------------------------------\n",
      "const           29.6923      1.379     21.536      0.000      26.986      32.399\n",
      "STATE           -3.3683      1.537     -2.191      0.029      -6.386      -0.351\n",
      "PERIOD          -2.2186      1.963     -1.130      0.259      -6.071       1.634\n",
      "PERIOD*STATE     2.6073      2.187      1.192      0.234      -1.686       6.901\n",
      "==============================================================================\n",
      "Omnibus:                      153.854   Durbin-Watson:                   1.742\n",
      "Prob(Omnibus):                  0.000   Jarque-Bera (JB):              400.563\n",
      "Skew:                           1.000   Prob(JB):                     1.04e-87\n",
      "Kurtosis:                       5.858   Cond. No.                         11.3\n",
      "==============================================================================\n",
      "\n",
      "Warnings:\n",
      "[1] Standard Errors assume that the covariance matrix of the errors is correctly specified.\n"
     ]
    }
   ],
   "source": [
    "# Syntax 1\n",
    "df['PERIOD*STATE'] = df['PERIOD']*df['STATE']\n",
    "X = sm.add_constant(df[['STATE', 'PERIOD', 'PERIOD*STATE']])\n",
    "y = df['EMP']\n",
    "model = sm.OLS(y, X).fit()\n",
    "print(model.summary())"
   ]
  },
  {
   "cell_type": "code",
   "execution_count": 390,
   "metadata": {},
   "outputs": [
    {
     "name": "stdout",
     "output_type": "stream",
     "text": [
      "                            OLS Regression Results                            \n",
      "==============================================================================\n",
      "Dep. Variable:                    EMP   R-squared:                       0.006\n",
      "Model:                            OLS   Adj. R-squared:                  0.003\n",
      "Method:                 Least Squares   F-statistic:                     1.687\n",
      "Date:                Sun, 30 Jan 2022   Prob (F-statistic):              0.168\n",
      "Time:                        14:41:49   Log-Likelihood:                -3093.6\n",
      "No. Observations:                 790   AIC:                             6195.\n",
      "Df Residuals:                     786   BIC:                             6214.\n",
      "Df Model:                           3                                         \n",
      "Covariance Type:            nonrobust                                         \n",
      "================================================================================\n",
      "                   coef    std err          t      P>|t|      [0.025      0.975]\n",
      "--------------------------------------------------------------------------------\n",
      "Intercept       29.6923      1.379     21.536      0.000      26.986      32.399\n",
      "PERIOD          -2.2186      1.963     -1.130      0.259      -6.071       1.634\n",
      "STATE           -3.3683      1.537     -2.191      0.029      -6.386      -0.351\n",
      "PERIOD:STATE     2.6073      2.187      1.192      0.234      -1.686       6.901\n",
      "==============================================================================\n",
      "Omnibus:                      153.854   Durbin-Watson:                   1.742\n",
      "Prob(Omnibus):                  0.000   Jarque-Bera (JB):              400.563\n",
      "Skew:                           1.000   Prob(JB):                     1.04e-87\n",
      "Kurtosis:                       5.858   Cond. No.                         11.3\n",
      "==============================================================================\n",
      "\n",
      "Warnings:\n",
      "[1] Standard Errors assume that the covariance matrix of the errors is correctly specified.\n"
     ]
    }
   ],
   "source": [
    "# Syntax 1\n",
    "model = smf.ols(formula='EMP ~ PERIOD + STATE + PERIOD*STATE', data=df).fit()\n",
    "print(model.summary())"
   ]
  },
  {
   "cell_type": "markdown",
   "metadata": {},
   "source": [
    "**QUESTION**: Interpret the regression coefficients in terms of the impact of the minimum wage change on employment.\n",
    "\n",
    "**QUESTION**: Why might you want to add control variables to this regression?"
   ]
  },
  {
   "cell_type": "code",
   "execution_count": 391,
   "metadata": {},
   "outputs": [
    {
     "name": "stdout",
     "output_type": "stream",
     "text": [
      "                            OLS Regression Results                            \n",
      "==============================================================================\n",
      "Dep. Variable:                    EMP   R-squared:                       0.265\n",
      "Model:                            OLS   Adj. R-squared:                  0.255\n",
      "Method:                 Least Squares   F-statistic:                     25.51\n",
      "Date:                Sun, 30 Jan 2022   Prob (F-statistic):           2.14e-45\n",
      "Time:                        14:42:18   Log-Likelihood:                -2974.4\n",
      "No. Observations:                 790   AIC:                             5973.\n",
      "Df Residuals:                     778   BIC:                             6029.\n",
      "Df Model:                          11                                         \n",
      "Covariance Type:            nonrobust                                         \n",
      "===================================================================================\n",
      "                      coef    std err          t      P>|t|      [0.025      0.975]\n",
      "-----------------------------------------------------------------------------------\n",
      "Intercept          22.9261      0.752     30.505      0.000      21.451      24.401\n",
      "C(CHAIN)[T.2.0]   -14.1799      1.071    -13.243      0.000     -16.282     -12.078\n",
      "C(CHAIN)[T.3.0]    -0.7951      1.085     -0.733      0.464      -2.925       1.335\n",
      "C(CHAIN)[T.4.0]    -1.6063      1.203     -1.335      0.182      -3.968       0.755\n",
      "C(REGION)[T.2]      4.6123      1.262      3.654      0.000       2.134       7.090\n",
      "C(REGION)[T.3]      3.9594      0.984      4.025      0.000       2.028       5.890\n",
      "C(REGION)[T.4]     11.4021      1.109     10.282      0.000       9.225      13.579\n",
      "C(REGION)[T.5]      7.6923      1.073      7.170      0.000       5.586       9.798\n",
      "PERIOD             -2.1999      1.697     -1.297      0.195      -5.531       1.131\n",
      "STATE               3.8316      0.914      4.194      0.000       2.038       5.625\n",
      "PERIOD:STATE        2.6249      1.891      1.388      0.166      -1.087       6.337\n",
      "BONUS               1.6615      0.918      1.809      0.071      -0.141       3.464\n",
      "CO_OWNED           -1.2940      0.910     -1.423      0.155      -3.080       0.491\n",
      "==============================================================================\n",
      "Omnibus:                      223.697   Durbin-Watson:                   1.966\n",
      "Prob(Omnibus):                  0.000   Jarque-Bera (JB):             1102.948\n",
      "Skew:                           1.202   Prob(JB):                    3.15e-240\n",
      "Kurtosis:                       8.265   Cond. No.                     3.35e+16\n",
      "==============================================================================\n",
      "\n",
      "Warnings:\n",
      "[1] Standard Errors assume that the covariance matrix of the errors is correctly specified.\n",
      "[2] The smallest eigenvalue is 1.95e-30. This might indicate that there are\n",
      "strong multicollinearity problems or that the design matrix is singular.\n"
     ]
    }
   ],
   "source": [
    "model = smf.ols(formula='EMP ~ PERIOD + STATE + PERIOD*STATE + BONUS + CO_OWNED + C(CHAIN) + C(REGION)', \n",
    "                data=df).fit()\n",
    "print(model.summary())"
   ]
  },
  {
   "cell_type": "code",
   "execution_count": 25,
   "metadata": {},
   "outputs": [
    {
     "data": {
      "text/html": [
       "<div>\n",
       "<style scoped>\n",
       "    .dataframe tbody tr th:only-of-type {\n",
       "        vertical-align: middle;\n",
       "    }\n",
       "\n",
       "    .dataframe tbody tr th {\n",
       "        vertical-align: top;\n",
       "    }\n",
       "\n",
       "    .dataframe thead th {\n",
       "        text-align: right;\n",
       "    }\n",
       "</style>\n",
       "<table border=\"1\" class=\"dataframe\">\n",
       "  <thead>\n",
       "    <tr style=\"text-align: right;\">\n",
       "      <th></th>\n",
       "      <th>UNIQUE_ID</th>\n",
       "      <th>PERIOD</th>\n",
       "      <th>STATE</th>\n",
       "      <th>REGION</th>\n",
       "      <th>CHAIN</th>\n",
       "      <th>EMP</th>\n",
       "      <th>CO_OWNED</th>\n",
       "      <th>BONUS</th>\n",
       "      <th>HRSOPEN</th>\n",
       "      <th>NREGS</th>\n",
       "    </tr>\n",
       "  </thead>\n",
       "  <tbody>\n",
       "    <tr>\n",
       "      <th>std</th>\n",
       "      <td>148.729928</td>\n",
       "      <td>0.500291</td>\n",
       "      <td>0.396403</td>\n",
       "      <td>1.219702</td>\n",
       "      <td>1.102066</td>\n",
       "      <td>12.192632</td>\n",
       "      <td>0.475855</td>\n",
       "      <td>0.432185</td>\n",
       "      <td>2.822139</td>\n",
       "      <td>1.254383</td>\n",
       "    </tr>\n",
       "    <tr>\n",
       "      <th>min</th>\n",
       "      <td>1.000000</td>\n",
       "      <td>0.000000</td>\n",
       "      <td>0.000000</td>\n",
       "      <td>1.000000</td>\n",
       "      <td>1.000000</td>\n",
       "      <td>0.000000</td>\n",
       "      <td>0.000000</td>\n",
       "      <td>0.000000</td>\n",
       "      <td>7.000000</td>\n",
       "      <td>1.000000</td>\n",
       "    </tr>\n",
       "  </tbody>\n",
       "</table>\n",
       "</div>"
      ],
      "text/plain": [
       "      UNIQUE_ID    PERIOD     STATE    REGION     CHAIN        EMP  CO_OWNED  \\\n",
       "std  148.729928  0.500291  0.396403  1.219702  1.102066  12.192632  0.475855   \n",
       "min    1.000000  0.000000  0.000000  1.000000  1.000000   0.000000  0.000000   \n",
       "\n",
       "        BONUS   HRSOPEN     NREGS  \n",
       "std  0.432185  2.822139  1.254383  \n",
       "min  0.000000  7.000000  1.000000  "
      ]
     },
     "execution_count": 25,
     "metadata": {},
     "output_type": "execute_result"
    }
   ],
   "source": [
    "df.describe().iloc[[2, 3]]"
   ]
  },
  {
   "cell_type": "code",
   "execution_count": 27,
   "metadata": {},
   "outputs": [
    {
     "data": {
      "text/html": [
       "<div>\n",
       "<style scoped>\n",
       "    .dataframe tbody tr th:only-of-type {\n",
       "        vertical-align: middle;\n",
       "    }\n",
       "\n",
       "    .dataframe tbody tr th {\n",
       "        vertical-align: top;\n",
       "    }\n",
       "\n",
       "    .dataframe thead th {\n",
       "        text-align: right;\n",
       "    }\n",
       "</style>\n",
       "<table border=\"1\" class=\"dataframe\">\n",
       "  <thead>\n",
       "    <tr style=\"text-align: right;\">\n",
       "      <th></th>\n",
       "      <th>UNIQUE_ID</th>\n",
       "      <th>PERIOD</th>\n",
       "      <th>STATE</th>\n",
       "      <th>REGION</th>\n",
       "      <th>CHAIN</th>\n",
       "      <th>EMP</th>\n",
       "      <th>CO_OWNED</th>\n",
       "      <th>BONUS</th>\n",
       "      <th>HRSOPEN</th>\n",
       "      <th>NREGS</th>\n",
       "    </tr>\n",
       "  </thead>\n",
       "  <tbody>\n",
       "    <tr>\n",
       "      <th>std</th>\n",
       "      <td>148.729928</td>\n",
       "      <td>0.500291</td>\n",
       "      <td>0.396403</td>\n",
       "      <td>1.219702</td>\n",
       "      <td>1.102066</td>\n",
       "      <td>12.192632</td>\n",
       "      <td>0.475855</td>\n",
       "      <td>0.432185</td>\n",
       "      <td>2.822139</td>\n",
       "      <td>1.254383</td>\n",
       "    </tr>\n",
       "    <tr>\n",
       "      <th>min</th>\n",
       "      <td>1.000000</td>\n",
       "      <td>0.000000</td>\n",
       "      <td>0.000000</td>\n",
       "      <td>1.000000</td>\n",
       "      <td>1.000000</td>\n",
       "      <td>0.000000</td>\n",
       "      <td>0.000000</td>\n",
       "      <td>0.000000</td>\n",
       "      <td>7.000000</td>\n",
       "      <td>1.000000</td>\n",
       "    </tr>\n",
       "  </tbody>\n",
       "</table>\n",
       "</div>"
      ],
      "text/plain": [
       "      UNIQUE_ID    PERIOD     STATE    REGION     CHAIN        EMP  CO_OWNED  \\\n",
       "std  148.729928  0.500291  0.396403  1.219702  1.102066  12.192632  0.475855   \n",
       "min    1.000000  0.000000  0.000000  1.000000  1.000000   0.000000  0.000000   \n",
       "\n",
       "        BONUS   HRSOPEN     NREGS  \n",
       "std  0.432185  2.822139  1.254383  \n",
       "min  0.000000  7.000000  1.000000  "
      ]
     },
     "execution_count": 27,
     "metadata": {},
     "output_type": "execute_result"
    }
   ],
   "source": [
    "df.describe().iloc[[2, 3]]"
   ]
  },
  {
   "cell_type": "code",
   "execution_count": 26,
   "metadata": {},
   "outputs": [
    {
     "data": {
      "text/html": [
       "<div>\n",
       "<style scoped>\n",
       "    .dataframe tbody tr th:only-of-type {\n",
       "        vertical-align: middle;\n",
       "    }\n",
       "\n",
       "    .dataframe tbody tr th {\n",
       "        vertical-align: top;\n",
       "    }\n",
       "\n",
       "    .dataframe thead th {\n",
       "        text-align: right;\n",
       "    }\n",
       "</style>\n",
       "<table border=\"1\" class=\"dataframe\">\n",
       "  <thead>\n",
       "    <tr style=\"text-align: right;\">\n",
       "      <th></th>\n",
       "      <th>UNIQUE_ID</th>\n",
       "      <th>PERIOD</th>\n",
       "      <th>STATE</th>\n",
       "      <th>REGION</th>\n",
       "      <th>CHAIN</th>\n",
       "      <th>EMP</th>\n",
       "      <th>CO_OWNED</th>\n",
       "      <th>BONUS</th>\n",
       "      <th>HRSOPEN</th>\n",
       "      <th>NREGS</th>\n",
       "    </tr>\n",
       "  </thead>\n",
       "  <tbody>\n",
       "    <tr>\n",
       "      <th>count</th>\n",
       "      <td>790.000000</td>\n",
       "      <td>790.000000</td>\n",
       "      <td>790.000000</td>\n",
       "      <td>790.000000</td>\n",
       "      <td>790.000000</td>\n",
       "      <td>790.000000</td>\n",
       "      <td>790.000000</td>\n",
       "      <td>790.000000</td>\n",
       "      <td>790.000000</td>\n",
       "      <td>790.000000</td>\n",
       "    </tr>\n",
       "    <tr>\n",
       "      <th>mean</th>\n",
       "      <td>247.777215</td>\n",
       "      <td>0.494937</td>\n",
       "      <td>0.805063</td>\n",
       "      <td>2.687342</td>\n",
       "      <td>2.105063</td>\n",
       "      <td>26.922152</td>\n",
       "      <td>0.345570</td>\n",
       "      <td>0.248101</td>\n",
       "      <td>14.446203</td>\n",
       "      <td>3.612658</td>\n",
       "    </tr>\n",
       "    <tr>\n",
       "      <th>std</th>\n",
       "      <td>148.729928</td>\n",
       "      <td>0.500291</td>\n",
       "      <td>0.396403</td>\n",
       "      <td>1.219702</td>\n",
       "      <td>1.102066</td>\n",
       "      <td>12.192632</td>\n",
       "      <td>0.475855</td>\n",
       "      <td>0.432185</td>\n",
       "      <td>2.822139</td>\n",
       "      <td>1.254383</td>\n",
       "    </tr>\n",
       "    <tr>\n",
       "      <th>min</th>\n",
       "      <td>1.000000</td>\n",
       "      <td>0.000000</td>\n",
       "      <td>0.000000</td>\n",
       "      <td>1.000000</td>\n",
       "      <td>1.000000</td>\n",
       "      <td>0.000000</td>\n",
       "      <td>0.000000</td>\n",
       "      <td>0.000000</td>\n",
       "      <td>7.000000</td>\n",
       "      <td>1.000000</td>\n",
       "    </tr>\n",
       "    <tr>\n",
       "      <th>25%</th>\n",
       "      <td>120.000000</td>\n",
       "      <td>0.000000</td>\n",
       "      <td>1.000000</td>\n",
       "      <td>2.000000</td>\n",
       "      <td>1.000000</td>\n",
       "      <td>18.125000</td>\n",
       "      <td>0.000000</td>\n",
       "      <td>0.000000</td>\n",
       "      <td>12.000000</td>\n",
       "      <td>3.000000</td>\n",
       "    </tr>\n",
       "    <tr>\n",
       "      <th>50%</th>\n",
       "      <td>239.500000</td>\n",
       "      <td>0.000000</td>\n",
       "      <td>1.000000</td>\n",
       "      <td>3.000000</td>\n",
       "      <td>2.000000</td>\n",
       "      <td>26.000000</td>\n",
       "      <td>0.000000</td>\n",
       "      <td>0.000000</td>\n",
       "      <td>15.500000</td>\n",
       "      <td>3.000000</td>\n",
       "    </tr>\n",
       "    <tr>\n",
       "      <th>75%</th>\n",
       "      <td>374.500000</td>\n",
       "      <td>1.000000</td>\n",
       "      <td>1.000000</td>\n",
       "      <td>3.000000</td>\n",
       "      <td>3.000000</td>\n",
       "      <td>34.000000</td>\n",
       "      <td>1.000000</td>\n",
       "      <td>0.000000</td>\n",
       "      <td>16.000000</td>\n",
       "      <td>4.000000</td>\n",
       "    </tr>\n",
       "    <tr>\n",
       "      <th>max</th>\n",
       "      <td>522.000000</td>\n",
       "      <td>1.000000</td>\n",
       "      <td>1.000000</td>\n",
       "      <td>5.000000</td>\n",
       "      <td>4.000000</td>\n",
       "      <td>100.000000</td>\n",
       "      <td>1.000000</td>\n",
       "      <td>1.000000</td>\n",
       "      <td>24.000000</td>\n",
       "      <td>8.000000</td>\n",
       "    </tr>\n",
       "    <tr>\n",
       "      <th>count</th>\n",
       "      <td>790.000000</td>\n",
       "      <td>790.000000</td>\n",
       "      <td>790.000000</td>\n",
       "      <td>790.000000</td>\n",
       "      <td>790.000000</td>\n",
       "      <td>790.000000</td>\n",
       "      <td>790.000000</td>\n",
       "      <td>790.000000</td>\n",
       "      <td>790.000000</td>\n",
       "      <td>790.000000</td>\n",
       "    </tr>\n",
       "    <tr>\n",
       "      <th>mean</th>\n",
       "      <td>247.777215</td>\n",
       "      <td>0.494937</td>\n",
       "      <td>0.805063</td>\n",
       "      <td>2.687342</td>\n",
       "      <td>2.105063</td>\n",
       "      <td>26.922152</td>\n",
       "      <td>0.345570</td>\n",
       "      <td>0.248101</td>\n",
       "      <td>14.446203</td>\n",
       "      <td>3.612658</td>\n",
       "    </tr>\n",
       "    <tr>\n",
       "      <th>std</th>\n",
       "      <td>148.729928</td>\n",
       "      <td>0.500291</td>\n",
       "      <td>0.396403</td>\n",
       "      <td>1.219702</td>\n",
       "      <td>1.102066</td>\n",
       "      <td>12.192632</td>\n",
       "      <td>0.475855</td>\n",
       "      <td>0.432185</td>\n",
       "      <td>2.822139</td>\n",
       "      <td>1.254383</td>\n",
       "    </tr>\n",
       "    <tr>\n",
       "      <th>min</th>\n",
       "      <td>1.000000</td>\n",
       "      <td>0.000000</td>\n",
       "      <td>0.000000</td>\n",
       "      <td>1.000000</td>\n",
       "      <td>1.000000</td>\n",
       "      <td>0.000000</td>\n",
       "      <td>0.000000</td>\n",
       "      <td>0.000000</td>\n",
       "      <td>7.000000</td>\n",
       "      <td>1.000000</td>\n",
       "    </tr>\n",
       "    <tr>\n",
       "      <th>25%</th>\n",
       "      <td>120.000000</td>\n",
       "      <td>0.000000</td>\n",
       "      <td>1.000000</td>\n",
       "      <td>2.000000</td>\n",
       "      <td>1.000000</td>\n",
       "      <td>18.125000</td>\n",
       "      <td>0.000000</td>\n",
       "      <td>0.000000</td>\n",
       "      <td>12.000000</td>\n",
       "      <td>3.000000</td>\n",
       "    </tr>\n",
       "    <tr>\n",
       "      <th>50%</th>\n",
       "      <td>239.500000</td>\n",
       "      <td>0.000000</td>\n",
       "      <td>1.000000</td>\n",
       "      <td>3.000000</td>\n",
       "      <td>2.000000</td>\n",
       "      <td>26.000000</td>\n",
       "      <td>0.000000</td>\n",
       "      <td>0.000000</td>\n",
       "      <td>15.500000</td>\n",
       "      <td>3.000000</td>\n",
       "    </tr>\n",
       "    <tr>\n",
       "      <th>75%</th>\n",
       "      <td>374.500000</td>\n",
       "      <td>1.000000</td>\n",
       "      <td>1.000000</td>\n",
       "      <td>3.000000</td>\n",
       "      <td>3.000000</td>\n",
       "      <td>34.000000</td>\n",
       "      <td>1.000000</td>\n",
       "      <td>0.000000</td>\n",
       "      <td>16.000000</td>\n",
       "      <td>4.000000</td>\n",
       "    </tr>\n",
       "    <tr>\n",
       "      <th>max</th>\n",
       "      <td>522.000000</td>\n",
       "      <td>1.000000</td>\n",
       "      <td>1.000000</td>\n",
       "      <td>5.000000</td>\n",
       "      <td>4.000000</td>\n",
       "      <td>100.000000</td>\n",
       "      <td>1.000000</td>\n",
       "      <td>1.000000</td>\n",
       "      <td>24.000000</td>\n",
       "      <td>8.000000</td>\n",
       "    </tr>\n",
       "  </tbody>\n",
       "</table>\n",
       "</div>"
      ],
      "text/plain": [
       "        UNIQUE_ID      PERIOD       STATE      REGION       CHAIN         EMP  \\\n",
       "count  790.000000  790.000000  790.000000  790.000000  790.000000  790.000000   \n",
       "mean   247.777215    0.494937    0.805063    2.687342    2.105063   26.922152   \n",
       "std    148.729928    0.500291    0.396403    1.219702    1.102066   12.192632   \n",
       "min      1.000000    0.000000    0.000000    1.000000    1.000000    0.000000   \n",
       "25%    120.000000    0.000000    1.000000    2.000000    1.000000   18.125000   \n",
       "50%    239.500000    0.000000    1.000000    3.000000    2.000000   26.000000   \n",
       "75%    374.500000    1.000000    1.000000    3.000000    3.000000   34.000000   \n",
       "max    522.000000    1.000000    1.000000    5.000000    4.000000  100.000000   \n",
       "count  790.000000  790.000000  790.000000  790.000000  790.000000  790.000000   \n",
       "mean   247.777215    0.494937    0.805063    2.687342    2.105063   26.922152   \n",
       "std    148.729928    0.500291    0.396403    1.219702    1.102066   12.192632   \n",
       "min      1.000000    0.000000    0.000000    1.000000    1.000000    0.000000   \n",
       "25%    120.000000    0.000000    1.000000    2.000000    1.000000   18.125000   \n",
       "50%    239.500000    0.000000    1.000000    3.000000    2.000000   26.000000   \n",
       "75%    374.500000    1.000000    1.000000    3.000000    3.000000   34.000000   \n",
       "max    522.000000    1.000000    1.000000    5.000000    4.000000  100.000000   \n",
       "\n",
       "         CO_OWNED       BONUS     HRSOPEN       NREGS  \n",
       "count  790.000000  790.000000  790.000000  790.000000  \n",
       "mean     0.345570    0.248101   14.446203    3.612658  \n",
       "std      0.475855    0.432185    2.822139    1.254383  \n",
       "min      0.000000    0.000000    7.000000    1.000000  \n",
       "25%      0.000000    0.000000   12.000000    3.000000  \n",
       "50%      0.000000    0.000000   15.500000    3.000000  \n",
       "75%      1.000000    0.000000   16.000000    4.000000  \n",
       "max      1.000000    1.000000   24.000000    8.000000  \n",
       "count  790.000000  790.000000  790.000000  790.000000  \n",
       "mean     0.345570    0.248101   14.446203    3.612658  \n",
       "std      0.475855    0.432185    2.822139    1.254383  \n",
       "min      0.000000    0.000000    7.000000    1.000000  \n",
       "25%      0.000000    0.000000   12.000000    3.000000  \n",
       "50%      0.000000    0.000000   15.500000    3.000000  \n",
       "75%      1.000000    0.000000   16.000000    4.000000  \n",
       "max      1.000000    1.000000   24.000000    8.000000  "
      ]
     },
     "execution_count": 26,
     "metadata": {},
     "output_type": "execute_result"
    }
   ],
   "source": [
    "pd.concat([df.describe(), df.describe()])"
   ]
  },
  {
   "cell_type": "code",
   "execution_count": 30,
   "metadata": {},
   "outputs": [
    {
     "data": {
      "text/html": [
       "<div>\n",
       "<style scoped>\n",
       "    .dataframe tbody tr th:only-of-type {\n",
       "        vertical-align: middle;\n",
       "    }\n",
       "\n",
       "    .dataframe tbody tr th {\n",
       "        vertical-align: top;\n",
       "    }\n",
       "\n",
       "    .dataframe thead th {\n",
       "        text-align: right;\n",
       "    }\n",
       "</style>\n",
       "<table border=\"1\" class=\"dataframe\">\n",
       "  <thead>\n",
       "    <tr style=\"text-align: right;\">\n",
       "      <th></th>\n",
       "      <th>UNIQUE_ID</th>\n",
       "      <th>PERIOD</th>\n",
       "      <th>STATE</th>\n",
       "      <th>REGION</th>\n",
       "      <th>CHAIN</th>\n",
       "      <th>EMP</th>\n",
       "      <th>CO_OWNED</th>\n",
       "      <th>BONUS</th>\n",
       "      <th>HRSOPEN</th>\n",
       "      <th>NREGS</th>\n",
       "    </tr>\n",
       "  </thead>\n",
       "  <tbody>\n",
       "    <tr>\n",
       "      <th>0</th>\n",
       "      <td>239.5</td>\n",
       "      <td>0.0</td>\n",
       "      <td>1.0</td>\n",
       "      <td>3.0</td>\n",
       "      <td>2.0</td>\n",
       "      <td>26.0</td>\n",
       "      <td>0.0</td>\n",
       "      <td>0.0</td>\n",
       "      <td>15.5</td>\n",
       "      <td>3.0</td>\n",
       "    </tr>\n",
       "  </tbody>\n",
       "</table>\n",
       "</div>"
      ],
      "text/plain": [
       "   UNIQUE_ID  PERIOD  STATE  REGION  CHAIN   EMP  CO_OWNED  BONUS  HRSOPEN  \\\n",
       "0      239.5     0.0    1.0     3.0    2.0  26.0       0.0    0.0     15.5   \n",
       "\n",
       "   NREGS  \n",
       "0    3.0  "
      ]
     },
     "execution_count": 30,
     "metadata": {},
     "output_type": "execute_result"
    }
   ],
   "source": [
    "pd.DataFrame(df.median()).T"
   ]
  },
  {
   "cell_type": "code",
   "execution_count": null,
   "metadata": {},
   "outputs": [],
   "source": []
  }
 ],
 "metadata": {
  "kernelspec": {
   "display_name": "Python 3",
   "language": "python",
   "name": "python3"
  },
  "language_info": {
   "codemirror_mode": {
    "name": "ipython",
    "version": 3
   },
   "file_extension": ".py",
   "mimetype": "text/x-python",
   "name": "python",
   "nbconvert_exporter": "python",
   "pygments_lexer": "ipython3",
   "version": "3.8.3"
  }
 },
 "nbformat": 4,
 "nbformat_minor": 1
}
