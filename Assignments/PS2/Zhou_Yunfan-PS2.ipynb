{
 "cells": [
  {
   "cell_type": "markdown",
   "metadata": {},
   "source": [
    "# Problem Set 2"
   ]
  },
  {
   "cell_type": "markdown",
   "metadata": {},
   "source": [
    "## Introduction to the assignment\n",
    "\n",
    "For this assignment, you will be using data from the [Progresa program](http://en.wikipedia.org/wiki/Oportunidades), a government social assistance program in Mexico. This program, as well as the details of its impact, are described in the paper \"[School subsidies for the poor: evaluating the Mexican Progresa poverty program](http://www.sciencedirect.com/science/article/pii/S0304387803001858)\", by Paul Shultz (available on bCourses). Please familiarize yourself with the PROGRESA program before beginning this problem set, so you have a rough sense of where the data come from and how they were generated. If you just proceed into the problem set without understanding Progresa or the data, it will be very difficult!\n",
    "\n",
    "The goal of this problem set is to implement some of the basic econometric techniques that you are learning in class to measure the impact of Progresa on secondary school enrollment rates. The timeline of the program was:\n",
    "\n",
    " * Baseline survey conducted in 1997\n",
    " * Intervention begins in 1998, \"Wave 1\" of surveys conducted in 1998\n",
    " * \"Wave 2\" of surveys conducted in 1999\n",
    " * Evaluation ends in 2000, at which point the control villages were treated. \n",
    " \n",
    "When you are ready, download the progresa_sample.csv data from bCourses. The data are actual data collected to evaluate the impact of the Progresa program.  In this file, each row corresponds to an observation taken for a given child for a given year. There are two years of data (1997 and 1998), and just under 40,000 children who are surveyed in each year. For each child-year observation, the following variables are collected:\n",
    "\n",
    "| Variable name | Description|\n",
    "|------|------|\n",
    "|year\t  |year in which data is collected\n",
    "|sex\t  |male = 1|\n",
    "|indig\t  |indigenous = 1|\n",
    "|dist_sec |nearest distance to a secondary school|\n",
    "|sc\t      |enrolled in school in year of survey|\n",
    "|grc      |grade enrolled|\n",
    "|fam_n    |family size|\n",
    "|min_dist |\tmin distance to an urban center|\n",
    "|dist_cap |\tmin distance to the capital|\n",
    "|poor     |\tpoor = 1|\n",
    "|progresa |treatment =1|\n",
    "|hohedu\t  |years of schooling of head of household|\n",
    "|hohwag\t  |monthly wages of head of household|\n",
    "|welfare_index|\twelfare index used to classify poor|\n",
    "|hohsex\t|gender of head of household (male=1)|\n",
    "|hohage\t|age of head of household|\n",
    "|age\t|years old|\n",
    "|folnum\t|individual id|\n",
    "|village|\tvillage id|\n",
    "|sc97\t|schooling in 1997|\n",
    "|grc97  |grade enrolled in 1997"
   ]
  },
  {
   "cell_type": "markdown",
   "metadata": {},
   "source": [
    "---\n",
    "\n",
    "## Part 1: Descriptive analysis\n",
    "\n",
    "### 1.1\tSummary Statistics\n",
    "\n",
    "Present summary statistics (mean, median and standard deviation) for all of the demographic variables in the dataset (i.e., everything except year, folnum, village). Present these in a single table alphabetized by variable name. Do NOT simply expect the grader to scroll through your output!\n",
    "\n",
    "*Note:* For this and subsequent problems, you will need to be careful in how you deal with missing (NULL) values. You should not blindly drop rows and columns where any data field is missing.  For instance, in calculating the average `hohwag`, you should average the `hohwag` values from all households that report a value (even if the household does not have a recorded `age` value, for example). "
   ]
  },
  {
   "cell_type": "code",
   "execution_count": 1,
   "metadata": {},
   "outputs": [],
   "source": [
    "import pandas as pd\n",
    "df = pd.read_csv('progresa_sample.csv')"
   ]
  },
  {
   "cell_type": "code",
   "execution_count": 2,
   "metadata": {},
   "outputs": [],
   "source": [
    "# Convert the poor and progresa\n",
    "df.loc[df.poor == 'pobre','poor'] = 1\n",
    "df.loc[df.poor == 'no pobre','poor'] = 0\n",
    "df.loc[df.progresa == 'basal','progresa'] = 1\n",
    "df.loc[df.progresa == '0','progresa'] = 0\n",
    "\n",
    "df['poor'] = df['poor'].astype(float, errors = 'raise')\n",
    "df['progresa'] = df['progresa'].astype(float, errors = 'raise')"
   ]
  },
  {
   "cell_type": "code",
   "execution_count": 3,
   "metadata": {},
   "outputs": [
    {
     "data": {
      "text/html": [
       "<div>\n",
       "<style scoped>\n",
       "    .dataframe tbody tr th:only-of-type {\n",
       "        vertical-align: middle;\n",
       "    }\n",
       "\n",
       "    .dataframe tbody tr th {\n",
       "        vertical-align: top;\n",
       "    }\n",
       "\n",
       "    .dataframe thead th {\n",
       "        text-align: right;\n",
       "    }\n",
       "</style>\n",
       "<table border=\"1\" class=\"dataframe\">\n",
       "  <thead>\n",
       "    <tr style=\"text-align: right;\">\n",
       "      <th></th>\n",
       "      <th>mean</th>\n",
       "      <th>median</th>\n",
       "      <th>std</th>\n",
       "    </tr>\n",
       "  </thead>\n",
       "  <tbody>\n",
       "    <tr>\n",
       "      <th>age</th>\n",
       "      <td>11.366460</td>\n",
       "      <td>11.000000</td>\n",
       "      <td>3.167744</td>\n",
       "    </tr>\n",
       "    <tr>\n",
       "      <th>dist_cap</th>\n",
       "      <td>147.674452</td>\n",
       "      <td>132.001494</td>\n",
       "      <td>76.063134</td>\n",
       "    </tr>\n",
       "    <tr>\n",
       "      <th>dist_sec</th>\n",
       "      <td>2.418910</td>\n",
       "      <td>2.279000</td>\n",
       "      <td>2.234109</td>\n",
       "    </tr>\n",
       "    <tr>\n",
       "      <th>fam_n</th>\n",
       "      <td>7.215715</td>\n",
       "      <td>7.000000</td>\n",
       "      <td>2.352900</td>\n",
       "    </tr>\n",
       "    <tr>\n",
       "      <th>grc</th>\n",
       "      <td>3.963537</td>\n",
       "      <td>4.000000</td>\n",
       "      <td>2.499063</td>\n",
       "    </tr>\n",
       "    <tr>\n",
       "      <th>grc97</th>\n",
       "      <td>3.705372</td>\n",
       "      <td>4.000000</td>\n",
       "      <td>2.572387</td>\n",
       "    </tr>\n",
       "    <tr>\n",
       "      <th>hohage</th>\n",
       "      <td>44.436717</td>\n",
       "      <td>43.000000</td>\n",
       "      <td>11.620372</td>\n",
       "    </tr>\n",
       "    <tr>\n",
       "      <th>hohedu</th>\n",
       "      <td>2.768104</td>\n",
       "      <td>2.000000</td>\n",
       "      <td>2.656106</td>\n",
       "    </tr>\n",
       "    <tr>\n",
       "      <th>hohsex</th>\n",
       "      <td>0.925185</td>\n",
       "      <td>1.000000</td>\n",
       "      <td>0.263095</td>\n",
       "    </tr>\n",
       "    <tr>\n",
       "      <th>hohwag</th>\n",
       "      <td>586.985312</td>\n",
       "      <td>500.000000</td>\n",
       "      <td>788.133664</td>\n",
       "    </tr>\n",
       "    <tr>\n",
       "      <th>indig</th>\n",
       "      <td>0.298324</td>\n",
       "      <td>0.000000</td>\n",
       "      <td>0.457525</td>\n",
       "    </tr>\n",
       "    <tr>\n",
       "      <th>min_dist</th>\n",
       "      <td>103.447520</td>\n",
       "      <td>111.228612</td>\n",
       "      <td>42.089441</td>\n",
       "    </tr>\n",
       "    <tr>\n",
       "      <th>poor</th>\n",
       "      <td>0.846498</td>\n",
       "      <td>1.000000</td>\n",
       "      <td>0.360473</td>\n",
       "    </tr>\n",
       "    <tr>\n",
       "      <th>progresa</th>\n",
       "      <td>0.615663</td>\n",
       "      <td>1.000000</td>\n",
       "      <td>0.486441</td>\n",
       "    </tr>\n",
       "    <tr>\n",
       "      <th>sc</th>\n",
       "      <td>0.819818</td>\n",
       "      <td>1.000000</td>\n",
       "      <td>0.384342</td>\n",
       "    </tr>\n",
       "    <tr>\n",
       "      <th>sc97</th>\n",
       "      <td>0.813922</td>\n",
       "      <td>1.000000</td>\n",
       "      <td>0.389172</td>\n",
       "    </tr>\n",
       "    <tr>\n",
       "      <th>sex</th>\n",
       "      <td>0.512211</td>\n",
       "      <td>1.000000</td>\n",
       "      <td>0.499854</td>\n",
       "    </tr>\n",
       "    <tr>\n",
       "      <th>welfare_index</th>\n",
       "      <td>690.346564</td>\n",
       "      <td>685.000000</td>\n",
       "      <td>139.491130</td>\n",
       "    </tr>\n",
       "  </tbody>\n",
       "</table>\n",
       "</div>"
      ],
      "text/plain": [
       "                     mean      median         std\n",
       "age             11.366460   11.000000    3.167744\n",
       "dist_cap       147.674452  132.001494   76.063134\n",
       "dist_sec         2.418910    2.279000    2.234109\n",
       "fam_n            7.215715    7.000000    2.352900\n",
       "grc              3.963537    4.000000    2.499063\n",
       "grc97            3.705372    4.000000    2.572387\n",
       "hohage          44.436717   43.000000   11.620372\n",
       "hohedu           2.768104    2.000000    2.656106\n",
       "hohsex           0.925185    1.000000    0.263095\n",
       "hohwag         586.985312  500.000000  788.133664\n",
       "indig            0.298324    0.000000    0.457525\n",
       "min_dist       103.447520  111.228612   42.089441\n",
       "poor             0.846498    1.000000    0.360473\n",
       "progresa         0.615663    1.000000    0.486441\n",
       "sc               0.819818    1.000000    0.384342\n",
       "sc97             0.813922    1.000000    0.389172\n",
       "sex              0.512211    1.000000    0.499854\n",
       "welfare_index  690.346564  685.000000  139.491130"
      ]
     },
     "execution_count": 3,
     "metadata": {},
     "output_type": "execute_result"
    }
   ],
   "source": [
    "# Drop the columns\n",
    "df_1 = df.drop(['year','folnum','village'],axis = 1)\n",
    "summary_table = df_1.describe().loc[['mean','50%','std']].T.sort_index()\n",
    "summary_table.rename(columns = {'50%':'median'},inplace = True)\n",
    "summary_table"
   ]
  },
  {
   "cell_type": "markdown",
   "metadata": {},
   "source": [
    "### 1.2 Differences at baseline?\n",
    "\n",
    "Are the baseline (1997) demographic characteristics **for the poor**  different in treatment and control villages?  Present your results in a single table with the following columns and 14 (or so) rows (alphabetized by variable name):\n",
    "\n",
    "\n",
    "| Variable name | Average value (Treatment villages) | Average value (Control villages) | Difference (Treat - Control) | p-value |\n",
    "|------|------|------|------|------|\n",
    "|Male|?|?|?|?|\n",
    "\n",
    " *Hint:* Use a T-Test to determine whether there is a statistically significant difference in the average values of each of the variables in the dataset. Focus only on the data from 1997 from poor households (i.e., poor=='pobre').\n",
    "\n"
   ]
  },
  {
   "cell_type": "code",
   "execution_count": 11,
   "metadata": {},
   "outputs": [],
   "source": [
    "# Filter the data into treat and control set\n",
    "treat = df[(df.year == 97) & (df.poor == 1) & (df.progresa == 1)]\n",
    "control = df[(df.year == 97) & (df.poor == 1) & (df.progresa == 0)]\n",
    "# Drop some features to choose demographic characteristic\n",
    "treat = treat.drop(['year','poor','progresa','village','folnum','sc','grc'],axis=1)\n",
    "control = control.drop(['year','poor','progresa','village','folnum','sc','grc'],axis=1)"
   ]
  },
  {
   "cell_type": "code",
   "execution_count": 12,
   "metadata": {},
   "outputs": [
    {
     "name": "stdout",
     "output_type": "stream",
     "text": [
      "[0.012191721753402001, 0.2453603340788238, 7.249821258807836e-18, 0.231621042320414, 2.4770515637563147e-31, 5.001170600640222e-43, 0.0020382691963589396, 0.01200637015123779, 0.00034155412761578647, 0.5711857552285441, 2.6219871374206153e-05, 0.5900802055947583, 0.42668475691245145, 0.0951780559112652]\n"
     ]
    }
   ],
   "source": [
    "# Check for equal variance as indicated on piazza\n",
    "col_names = treat.columns.tolist()\n",
    "var_list = []\n",
    "\n",
    "from scipy.stats import levene\n",
    "for i in col_names:\n",
    "    stat, p = levene(treat[i].dropna(),control[i].dropna())\n",
    "    var_list.append(p)\n",
    "    \n",
    "print(var_list)"
   ]
  },
  {
   "cell_type": "markdown",
   "metadata": {},
   "source": [
    "Based on the fact, some p-values are extremely smaller than 0.05, so we do not assume that there will be equal variance in the two datasets, as a result of which, we will conduct Welch's t-test"
   ]
  },
  {
   "cell_type": "code",
   "execution_count": 29,
   "metadata": {},
   "outputs": [
    {
     "data": {
      "text/html": [
       "<div>\n",
       "<style scoped>\n",
       "    .dataframe tbody tr th:only-of-type {\n",
       "        vertical-align: middle;\n",
       "    }\n",
       "\n",
       "    .dataframe tbody tr th {\n",
       "        vertical-align: top;\n",
       "    }\n",
       "\n",
       "    .dataframe thead th {\n",
       "        text-align: right;\n",
       "    }\n",
       "</style>\n",
       "<table border=\"1\" class=\"dataframe\">\n",
       "  <thead>\n",
       "    <tr style=\"text-align: right;\">\n",
       "      <th></th>\n",
       "      <th>Variable name</th>\n",
       "      <th>Average value (Treatment villages)</th>\n",
       "      <th>Average value (Control villages</th>\n",
       "      <th>Difference (Treat - Control)</th>\n",
       "      <th>p-value</th>\n",
       "    </tr>\n",
       "  </thead>\n",
       "  <tbody>\n",
       "    <tr>\n",
       "      <th>0</th>\n",
       "      <td>age</td>\n",
       "      <td>10.716991</td>\n",
       "      <td>10.742023</td>\n",
       "      <td>-0.025032</td>\n",
       "      <td>4.783633e-01</td>\n",
       "    </tr>\n",
       "    <tr>\n",
       "      <th>1</th>\n",
       "      <td>dist_cap</td>\n",
       "      <td>150.829074</td>\n",
       "      <td>153.769730</td>\n",
       "      <td>-2.940656</td>\n",
       "      <td>1.146482e-03</td>\n",
       "    </tr>\n",
       "    <tr>\n",
       "      <th>2</th>\n",
       "      <td>dist_sec</td>\n",
       "      <td>2.453122</td>\n",
       "      <td>2.507662</td>\n",
       "      <td>-0.054540</td>\n",
       "      <td>4.266282e-02</td>\n",
       "    </tr>\n",
       "    <tr>\n",
       "      <th>3</th>\n",
       "      <td>fam_n</td>\n",
       "      <td>7.281327</td>\n",
       "      <td>7.302469</td>\n",
       "      <td>-0.021142</td>\n",
       "      <td>4.289667e-01</td>\n",
       "    </tr>\n",
       "    <tr>\n",
       "      <th>4</th>\n",
       "      <td>grc97</td>\n",
       "      <td>3.531599</td>\n",
       "      <td>3.543050</td>\n",
       "      <td>-0.011450</td>\n",
       "      <td>6.895228e-01</td>\n",
       "    </tr>\n",
       "    <tr>\n",
       "      <th>5</th>\n",
       "      <td>hohage</td>\n",
       "      <td>43.648828</td>\n",
       "      <td>44.276918</td>\n",
       "      <td>-0.628090</td>\n",
       "      <td>2.259461e-06</td>\n",
       "    </tr>\n",
       "    <tr>\n",
       "      <th>6</th>\n",
       "      <td>hohedu</td>\n",
       "      <td>2.663139</td>\n",
       "      <td>2.590348</td>\n",
       "      <td>0.072791</td>\n",
       "      <td>1.038219e-02</td>\n",
       "    </tr>\n",
       "    <tr>\n",
       "      <th>7</th>\n",
       "      <td>hohsex</td>\n",
       "      <td>0.924656</td>\n",
       "      <td>0.922947</td>\n",
       "      <td>0.001709</td>\n",
       "      <td>5.721253e-01</td>\n",
       "    </tr>\n",
       "    <tr>\n",
       "      <th>8</th>\n",
       "      <td>hohwag</td>\n",
       "      <td>544.339544</td>\n",
       "      <td>573.163558</td>\n",
       "      <td>-28.824015</td>\n",
       "      <td>3.287285e-04</td>\n",
       "    </tr>\n",
       "    <tr>\n",
       "      <th>9</th>\n",
       "      <td>indig</td>\n",
       "      <td>0.325986</td>\n",
       "      <td>0.332207</td>\n",
       "      <td>-0.006222</td>\n",
       "      <td>2.459021e-01</td>\n",
       "    </tr>\n",
       "    <tr>\n",
       "      <th>10</th>\n",
       "      <td>min_dist</td>\n",
       "      <td>107.152915</td>\n",
       "      <td>103.237854</td>\n",
       "      <td>3.915060</td>\n",
       "      <td>7.055795e-16</td>\n",
       "    </tr>\n",
       "    <tr>\n",
       "      <th>11</th>\n",
       "      <td>sc97</td>\n",
       "      <td>0.822697</td>\n",
       "      <td>0.815186</td>\n",
       "      <td>0.007511</td>\n",
       "      <td>9.646120e-02</td>\n",
       "    </tr>\n",
       "    <tr>\n",
       "      <th>12</th>\n",
       "      <td>sex</td>\n",
       "      <td>0.519317</td>\n",
       "      <td>0.505052</td>\n",
       "      <td>0.014265</td>\n",
       "      <td>1.220744e-02</td>\n",
       "    </tr>\n",
       "    <tr>\n",
       "      <th>13</th>\n",
       "      <td>welfare_index</td>\n",
       "      <td>655.428377</td>\n",
       "      <td>659.579100</td>\n",
       "      <td>-4.150723</td>\n",
       "      <td>1.531678e-03</td>\n",
       "    </tr>\n",
       "  </tbody>\n",
       "</table>\n",
       "</div>"
      ],
      "text/plain": [
       "    Variable name  Average value (Treatment villages)  \\\n",
       "0             age                           10.716991   \n",
       "1        dist_cap                          150.829074   \n",
       "2        dist_sec                            2.453122   \n",
       "3           fam_n                            7.281327   \n",
       "4           grc97                            3.531599   \n",
       "5          hohage                           43.648828   \n",
       "6          hohedu                            2.663139   \n",
       "7          hohsex                            0.924656   \n",
       "8          hohwag                          544.339544   \n",
       "9           indig                            0.325986   \n",
       "10       min_dist                          107.152915   \n",
       "11           sc97                            0.822697   \n",
       "12            sex                            0.519317   \n",
       "13  welfare_index                          655.428377   \n",
       "\n",
       "    Average value (Control villages  Difference (Treat - Control)  \\\n",
       "0                         10.742023                     -0.025032   \n",
       "1                        153.769730                     -2.940656   \n",
       "2                          2.507662                     -0.054540   \n",
       "3                          7.302469                     -0.021142   \n",
       "4                          3.543050                     -0.011450   \n",
       "5                         44.276918                     -0.628090   \n",
       "6                          2.590348                      0.072791   \n",
       "7                          0.922947                      0.001709   \n",
       "8                        573.163558                    -28.824015   \n",
       "9                          0.332207                     -0.006222   \n",
       "10                       103.237854                      3.915060   \n",
       "11                         0.815186                      0.007511   \n",
       "12                         0.505052                      0.014265   \n",
       "13                       659.579100                     -4.150723   \n",
       "\n",
       "         p-value  \n",
       "0   4.783633e-01  \n",
       "1   1.146482e-03  \n",
       "2   4.266282e-02  \n",
       "3   4.289667e-01  \n",
       "4   6.895228e-01  \n",
       "5   2.259461e-06  \n",
       "6   1.038219e-02  \n",
       "7   5.721253e-01  \n",
       "8   3.287285e-04  \n",
       "9   2.459021e-01  \n",
       "10  7.055795e-16  \n",
       "11  9.646120e-02  \n",
       "12  1.220744e-02  \n",
       "13  1.531678e-03  "
      ]
     },
     "execution_count": 29,
     "metadata": {},
     "output_type": "execute_result"
    }
   ],
   "source": [
    "import scipy.stats as stats\n",
    "import scipy as sp\n",
    "import numpy as np\n",
    "pd.reset_option('display.float_format')\n",
    "\n",
    "treatment_value = []\n",
    "control_value = []\n",
    "difference_value = []\n",
    "pvalue_value = []\n",
    "\n",
    "# For each feature, calculate the mean value in two groups, its difference and the p-value\n",
    "for col in col_names:\n",
    "    t_stat, pvalue = sp.stats.ttest_ind(treat[col].dropna(), control[col].dropna(), equal_var = False)\n",
    "    pvalue_value.append(pvalue) \n",
    "    treatment_mean = treat[col].dropna().mean()\n",
    "    control_mean = control[col].dropna().mean()\n",
    "    treatment_value.append(treatment_mean)\n",
    "    control_value.append(control_mean)\n",
    "    difference_value.append(treatment_mean - control_mean)\n",
    "\n",
    "# Create a table to display\n",
    "result = pd.DataFrame({'Variable name': col_names,\n",
    "                       'Average value (Treatment villages)' : treatment_value,\n",
    "                       'Average value (Control villages': control_value,\n",
    "                       'Difference (Treat - Control)': difference_value,\n",
    "                       'p-value': pvalue_value})\n",
    "\n",
    "result = result.sort_values(by = 'Variable name')\n",
    "result = result.reset_index(drop = True)\n",
    "result"
   ]
  },
  {
   "cell_type": "markdown",
   "metadata": {},
   "source": [
    "### 1.3 Interpretation\n",
    "\n",
    "* A: Are there statistically significant differences between treatment and control villages at baseline? \n",
    "* B: Why does it matter if there are differences at baseline?\n",
    "* C: What does this imply about how to measure the impact of the treatment?"
   ]
  },
  {
   "cell_type": "markdown",
   "metadata": {},
   "source": [
    "A:  \n",
    "Yes, there are.  \n",
    "Based on the p-value we gained from above, we see that some of them are smaller than 0.05, including dist_cap, dist_sec, hohage, hohedu, hohwag, min_dist, sex, welfare, which means that there exist significant differences between the control and treatment. Some of the 14 variables have the p-value bigger than 0.05, including age, fam_n, grc97, hohsex, indig, sc97, indicating that there exist no significant differences. All in all, 8 out of 14 have statistically significant differences, we con conclude that there are statistically significant differences between treatment and control villages at baseline.  \n",
    "  \n",
    "B:  \n",
    "If there are difference at the baseline, these differences will be against the assumption we made about the measure for the impact of treatment. It may mislead the Conclusion and causal interpretation.  \n",
    "  \n",
    "C:  \n",
    "This implies that we may add some restrictions and control onto these variables while mesauring the impact of the treament."
   ]
  },
  {
   "cell_type": "markdown",
   "metadata": {},
   "source": [
    "### 1.4 Graphical exploration, part 1\n",
    "\n",
    "Visualize the distribution of village enrollment rates **among poor households in treated villages**, before and after treatment. Specifically, for each village, calculate the average rate of enrollment of poor households in treated villages in 1997, then compute the average rate of enrollment of poor households in treated villages in 1998. Create two separate histograms showing the distribution of these average enrollments rates, one histogram for 1997 and one histogram for 1998. On each histogram, draw a vertical line that intersects the x-axis at the average value (across all households). Does there appear to be a difference? Is this difference statistically significant?"
   ]
  },
  {
   "cell_type": "code",
   "execution_count": 56,
   "metadata": {},
   "outputs": [],
   "source": [
    "# Filter the treat data into treat_before and treat_after\n",
    "treat_before = df[(df.poor == 1) & (df.progresa == 1) & (df.year == 97)].groupby(by='village')['sc'].mean()\n",
    "treat_after = df[(df.poor == 1) & (df.progresa == 1) & (df.year == 98)].groupby(by='village')['sc'].mean()"
   ]
  },
  {
   "cell_type": "code",
   "execution_count": 57,
   "metadata": {},
   "outputs": [
    {
     "data": {
      "text/plain": [
       "Text(0.5, 1.0, 'Avg Enrollment Rate in poor Villages (1998)')"
      ]
     },
     "execution_count": 57,
     "metadata": {},
     "output_type": "execute_result"
    },
    {
     "data": {
      "image/png": "[encoded data removed]",
      "text/plain": [
       "<Figure size 648x288 with 2 Axes>"
      ]
     },
     "metadata": {
      "needs_background": "light"
     },
     "output_type": "display_data"
    }
   ],
   "source": [
    "# Plotting\n",
    "import matplotlib.pyplot as plt\n",
    "fig = plt.figure(figsize=(9,4))\n",
    "ax1 = plt.subplot(1,2,1)\n",
    "ax2 = plt.subplot(1,2,2)\n",
    "\n",
    "bins = np.linspace(0,1,20)\n",
    "ax1.hist(treat_before,bins=bins)\n",
    "ax1.axvline(x=treat_before.mean(), color = 'r', linestyle='--')\n",
    "ax1.set_xlabel('Average Enrollment Rate')\n",
    "ax1.set_ylabel('Frequency (no. of villages)')\n",
    "ax1.set_title(\"Avg Enrollment Rate in poor Villages (1997)\")\n",
    "\n",
    "ax2.hist(treat_after,bins=bins)\n",
    "ax2.axvline(x=treat_after.mean(), color = 'r', linestyle='--')\n",
    "ax2.set_xlabel('Average Enrollment Rate')\n",
    "ax2.set_ylabel('Frequency (no. of villages)')\n",
    "ax2.set_title(\"Avg Enrollment Rate in poor Villages (1998)\")"
   ]
  },
  {
   "cell_type": "code",
   "execution_count": 58,
   "metadata": {},
   "outputs": [
    {
     "name": "stdout",
     "output_type": "stream",
     "text": [
      "Average Enrollement Rate in 1997\n",
      "0.8138394110596501\n",
      "\n",
      "Average Enrollement Rate in 1998\n",
      "0.8295362042630732\n",
      "\n",
      "The result of Welch's t-test\n"
     ]
    },
    {
     "data": {
      "text/plain": [
       "Ttest_indResult(statistic=-2.015713486515638, pvalue=0.044249343422588405)"
      ]
     },
     "execution_count": 58,
     "metadata": {},
     "output_type": "execute_result"
    }
   ],
   "source": [
    "print(\"Average Enrollement Rate in 1997\")\n",
    "print(treat_before.dropna().mean())\n",
    "print()\n",
    "print(\"Average Enrollement Rate in 1998\")\n",
    "print(treat_after.dropna().mean())\n",
    "print()\n",
    "print('The result of Welch\\'s t-test')\n",
    "stats.ttest_ind(treat_before,treat_after,equal_var=False)"
   ]
  },
  {
   "cell_type": "markdown",
   "metadata": {},
   "source": [
    "Based on the p-value of t-test, pvalue=0.044249343422588405 is smaller than 0.05, indicating that there exists statistically significant differences between these two means"
   ]
  },
  {
   "cell_type": "markdown",
   "metadata": {},
   "source": [
    "### 1.5 Graphical exploration, part 2\n",
    "\n",
    "Repeat the above exercise for poor households in **control villages**, before and after treatment. Do you observe a difference in enrollment in control villages between 1997 and 1998? How does what you observe here affect how you might approach measuring the impact of PROGRESA?"
   ]
  },
  {
   "cell_type": "code",
   "execution_count": 59,
   "metadata": {},
   "outputs": [],
   "source": [
    "# Filter the treat data into treat_before and treat_after\n",
    "control_before = df[(df.poor == 1) & (df.progresa == 0) & (df.year == 97)].groupby(by='village')['sc'].mean()\n",
    "control_after = df[(df.poor == 1) & (df.progresa == 0) & (df.year == 98)].groupby(by='village')['sc'].mean()"
   ]
  },
  {
   "cell_type": "code",
   "execution_count": 60,
   "metadata": {},
   "outputs": [
    {
     "data": {
      "text/plain": [
       "Text(0.5, 1.0, 'Avg Enrollment Rate in poor Villages (1998)')"
      ]
     },
     "execution_count": 60,
     "metadata": {},
     "output_type": "execute_result"
    },
    {
     "data": {
      "image/png": "[encoded data removed]",
      "text/plain": [
       "<Figure size 648x288 with 2 Axes>"
      ]
     },
     "metadata": {
      "needs_background": "light"
     },
     "output_type": "display_data"
    }
   ],
   "source": [
    "# Plotting\n",
    "import matplotlib.pyplot as plt\n",
    "fig = plt.figure(figsize=(9,4))\n",
    "ax1 = plt.subplot(1,2,1)\n",
    "ax2 = plt.subplot(1,2,2)\n",
    "\n",
    "bins = np.linspace(0,1,20)\n",
    "ax1.hist(control_before,bins=bins)\n",
    "ax1.axvline(x=control_before.mean(), color = 'r', linestyle='--')\n",
    "ax1.set_xlabel('Average Enrollment Rate')\n",
    "ax1.set_ylabel('Frequency (no. of villages)')\n",
    "ax1.set_title(\"Avg Enrollment Rate in poor Villages (1997)\")\n",
    "\n",
    "ax2.hist(control_after,bins=bins)\n",
    "ax2.axvline(x=control_after.mean(), color = 'r', linestyle='--')\n",
    "ax2.set_xlabel('Average Enrollment Rate')\n",
    "ax2.set_ylabel('Frequency (no. of villages)')\n",
    "ax2.set_title(\"Avg Enrollment Rate in poor Villages (1998)\")"
   ]
  },
  {
   "cell_type": "code",
   "execution_count": 61,
   "metadata": {},
   "outputs": [
    {
     "name": "stdout",
     "output_type": "stream",
     "text": [
      "Average Enrollement Rate in 1997\n",
      "0.8137762497441696\n",
      "\n",
      "Average Enrollement Rate in 1998\n",
      "0.8061845192878944\n",
      "\n",
      "The result of Welch's t-test\n"
     ]
    },
    {
     "data": {
      "text/plain": [
       "Ttest_indResult(statistic=0.7816669784862521, pvalue=0.434922783132185)"
      ]
     },
     "execution_count": 61,
     "metadata": {},
     "output_type": "execute_result"
    }
   ],
   "source": [
    "print(\"Average Enrollement Rate in 1997\")\n",
    "print(control_before.dropna().mean())\n",
    "print()\n",
    "print(\"Average Enrollement Rate in 1998\")\n",
    "print(control_after.dropna().mean())\n",
    "print()\n",
    "print('The result of Welch\\'s t-test')\n",
    "stats.ttest_ind(control_before,control_after,equal_var=False)"
   ]
  },
  {
   "cell_type": "markdown",
   "metadata": {},
   "source": [
    "Based on the result of t-test, the pvalue=0.434922783132185 is bigger than 0.05, indicating we may say that there does not exist statistically significant difference in enrollment in control villages between 1997 and 1998.  \n",
    "If there is no difference in the control group, we may not necessarily conduct difference in difference approach to the enrollment rate, because the only difference made here happened in the treatment group"
   ]
  },
  {
   "cell_type": "markdown",
   "metadata": {},
   "source": [
    "## Part 2: Measuring Impact\n",
    "\n",
    "Our goal is to estimate the causal impact of the PROGRESA program on the social and economic outcomes of individuals in Mexico. We will focus on the impact of the program on school enrollment rates among the poor (those with poor=='pobre'), since only the poor were eligible to receive PROGRESA assistance, and since a primary objective of the program was to increase school enrollment.\n",
    "\n",
    "### 2.1 Simple differences: T-test\n",
    "\n",
    "Begin by estimating the impact of Progresa using \"simple differences.\" Restricting yourself to data from 1998 (after treatment), calculate the average enrollment rate among **poor** households in the Treatment villages and the average enrollment rate among **poor** households in the control villages. Use a t-test to determine if this difference is statistically significant. What do you conclude?"
   ]
  },
  {
   "cell_type": "code",
   "execution_count": 62,
   "metadata": {},
   "outputs": [],
   "source": [
    "treat_98 = df[(df.year == 98) & (df.poor == 1) & (df.progresa == 1)]['sc'].dropna()\n",
    "control_98 = df[(df.year == 98) & (df.poor == 1) & (df.progresa == 0)]['sc'].dropna()"
   ]
  },
  {
   "cell_type": "code",
   "execution_count": 64,
   "metadata": {},
   "outputs": [
    {
     "name": "stdout",
     "output_type": "stream",
     "text": [
      "Average Enrollement Rate in treatment group\n",
      "0.8464791213954308\n",
      "\n",
      "Average Enrollement Rate in control group\n",
      "0.807636956730308\n",
      "\n",
      "The result of Welch's t-test\n"
     ]
    },
    {
     "data": {
      "text/plain": [
       "Ttest_indResult(statistic=-8.181477157107308, pvalue=2.9655072988948406e-16)"
      ]
     },
     "execution_count": 64,
     "metadata": {},
     "output_type": "execute_result"
    }
   ],
   "source": [
    "print(\"Average Enrollement Rate in treatment group\")\n",
    "print(treat_98.mean())\n",
    "print()\n",
    "print(\"Average Enrollement Rate in control group\")\n",
    "print(control_98.mean())\n",
    "print()\n",
    "print('The result of Welch\\'s t-test')\n",
    "stats.ttest_ind(control_98,treat_98,equal_var=False)"
   ]
  },
  {
   "cell_type": "markdown",
   "metadata": {},
   "source": [
    "The p-value in the test is smaller than 0.05, indicating that there exists statistically significant difference between the treatment and control group in 1998. We may conclude that the poor people who received the benefit of progresa showed a higher average enrollment rate compared to that of the control group"
   ]
  },
  {
   "cell_type": "markdown",
   "metadata": {},
   "source": [
    "### 2.2 Simple differences: Regression\n",
    "\n",
    "Estimate the effects of Progresa on enrollment using a regression model, by regressing the 1998 enrollment rates **of the poor** on treatment assignment. For now, do not include any other variables in your regression. Discuss the following:\n",
    "\n",
    "* Based on this model, how much did Progresa increase or decrease the likelihood of a child enrolling? Make sure you express you answer in a sentence that your grandmother could understand, using appropriate units.\n",
    "* How does your regression estimate compare to your t-test estimate from part 2.1?\n",
    "* Based on this regression model, can we reject the null hypothesis that the treatment effects are zero? \n",
    "* What is the counterfactual assumption underlying this regression?"
   ]
  },
  {
   "cell_type": "code",
   "execution_count": 65,
   "metadata": {},
   "outputs": [
    {
     "name": "stdout",
     "output_type": "stream",
     "text": [
      "                            OLS Regression Results                            \n",
      "==============================================================================\n",
      "Dep. Variable:                     sc   R-squared:                       0.003\n",
      "Model:                            OLS   Adj. R-squared:                  0.003\n",
      "Method:                 Least Squares   F-statistic:                     69.87\n",
      "Date:                Sat, 05 Feb 2022   Prob (F-statistic):           6.64e-17\n",
      "Time:                        16:41:36   Log-Likelihood:                -11926.\n",
      "No. Observations:               27450   AIC:                         2.386e+04\n",
      "Df Residuals:                   27448   BIC:                         2.387e+04\n",
      "Df Model:                           1                                         \n",
      "Covariance Type:            nonrobust                                         \n",
      "==============================================================================\n",
      "                 coef    std err          t      P>|t|      [0.025      0.975]\n",
      "------------------------------------------------------------------------------\n",
      "Intercept      0.8076      0.004    220.676      0.000       0.800       0.815\n",
      "progresa       0.0388      0.005      8.359      0.000       0.030       0.048\n",
      "==============================================================================\n",
      "Omnibus:                     7638.939   Durbin-Watson:                   1.734\n",
      "Prob(Omnibus):                  0.000   Jarque-Bera (JB):            15767.534\n",
      "Skew:                          -1.767   Prob(JB):                         0.00\n",
      "Kurtosis:                       4.140   Cond. No.                         3.01\n",
      "==============================================================================\n",
      "\n",
      "Notes:\n",
      "[1] Standard Errors assume that the covariance matrix of the errors is correctly specified.\n"
     ]
    }
   ],
   "source": [
    "import statsmodels.api as sm\n",
    "import statsmodels.formula.api as smf\n",
    "\n",
    "data_simpleregression = df[(df.year == 98) & (df.poor == 1)]\n",
    "\n",
    "model = smf.ols('sc ~ progresa',\n",
    "                data = data_simpleregression).fit()\n",
    "print(model.summary())"
   ]
  },
  {
   "cell_type": "markdown",
   "metadata": {},
   "source": [
    "1. Based on this model, the averaged increase in the likelihood of a child enrolling is 3.88%. In one sentence is that with every 10000 more children received the benefit of progresa, there will be averaged 388 more children got enrolled to school in 1998.  \n",
    "  \n",
    "2. It is in line with the conclusion we draw from the t-test estimate. The averaged increase rate in regression analysis is 0.0388 and the difference between treat and control is about 0.039. In addition, they both say there will be significantly increase in the enrollment rate.  \n",
    "  \n",
    "3. The p-value we got from the regression summary is 0.000, which is less than 0.05. At 5% significance level, we can reject the null hypothesis that the treatment effects are zero.  \n",
    "  \n",
    "4. Counterfactual assumption: In the absense of progresa, there will be no difference in the enrollment rate among the control and treatment groups.\n"
   ]
  },
  {
   "cell_type": "markdown",
   "metadata": {},
   "source": [
    "### 2.3 Multiple Regression\n",
    "\n",
    "Re-run the above regression, but this time include a set of control variables. Include, for instance, age, distance to a secondary school, gender, education of household head, welfare index, indigenous, etc.\n",
    "\n",
    "* How do the controls affect the point estimate of treatment effect?\n",
    "* How do the controls affect the standard error on the treatment effect? \n",
    "* How do you interpret the differences (or similarities) between your estimates of 2.2 and 2.3?\n",
    "* Interpet the coefficient associated with the `dist_sec` variable. Is this evidence that the household's distance from a secondary school has a *causal* impact on educational attainment?"
   ]
  },
  {
   "cell_type": "code",
   "execution_count": 70,
   "metadata": {},
   "outputs": [
    {
     "name": "stdout",
     "output_type": "stream",
     "text": [
      "                            OLS Regression Results                            \n",
      "==============================================================================\n",
      "Dep. Variable:                     sc   R-squared:                       0.267\n",
      "Model:                            OLS   Adj. R-squared:                  0.267\n",
      "Method:                 Least Squares   F-statistic:                     1419.\n",
      "Date:                Sat, 05 Feb 2022   Prob (F-statistic):               0.00\n",
      "Time:                        17:30:54   Log-Likelihood:                -7639.4\n",
      "No. Observations:               27267   AIC:                         1.529e+04\n",
      "Df Residuals:                   27259   BIC:                         1.536e+04\n",
      "Df Model:                           7                                         \n",
      "Covariance Type:            nonrobust                                         \n",
      "=================================================================================\n",
      "                    coef    std err          t      P>|t|      [0.025      0.975]\n",
      "---------------------------------------------------------------------------------\n",
      "Intercept         1.5025      0.014    105.342      0.000       1.475       1.530\n",
      "progresa          0.0352      0.004      8.799      0.000       0.027       0.043\n",
      "age              -0.0655      0.001    -95.105      0.000      -0.067      -0.064\n",
      "dist_sec         -0.0117      0.001    -13.361      0.000      -0.013      -0.010\n",
      "sex               0.0310      0.004      7.977      0.000       0.023       0.039\n",
      "hohedu            0.0085      0.001     10.951      0.000       0.007       0.010\n",
      "welfare_index  3.227e-05   1.72e-05      1.872      0.061   -1.52e-06    6.61e-05\n",
      "indig             0.0468      0.004     11.283      0.000       0.039       0.055\n",
      "==============================================================================\n",
      "Omnibus:                     2993.090   Durbin-Watson:                   1.718\n",
      "Prob(Omnibus):                  0.000   Jarque-Bera (JB):             4083.947\n",
      "Skew:                          -0.940   Prob(JB):                         0.00\n",
      "Kurtosis:                       3.248   Cond. No.                     4.90e+03\n",
      "==============================================================================\n",
      "\n",
      "Notes:\n",
      "[1] Standard Errors assume that the covariance matrix of the errors is correctly specified.\n",
      "[2] The condition number is large, 4.9e+03. This might indicate that there are\n",
      "strong multicollinearity or other numerical problems.\n"
     ]
    }
   ],
   "source": [
    "data_multipleregression = df[(df.year == 98) & (df.poor == 1)]\n",
    "model2 = smf.ols(formula = 'sc~ progresa + age + dist_sec + sex + hohedu + welfare_index + indig',\n",
    "                 data = data_multipleregression).fit()\n",
    "print(model2.summary())"
   ]
  },
  {
   "cell_type": "markdown",
   "metadata": {},
   "source": [
    "1. With adding more variables, there is a slight decrease in the point estimate of treatment effect, from 0.0388 to 0.0352. \n",
    "  \n",
    "2. With adding more variables, there is also a slight decrease in the standard error of the treatment effect, from 0.005 to 0.004. \n",
    "  \n",
    "3. There may be some slight differences in the coefficients with adding more variables into the model. It's important to keep other variables constant and adding more variables to the model will definitely increase the R-square value. However, the point effect of treatment effect is of similiarities in the estimate of 2.2 and 2.3, which both indicate there will be a positive effect of progresa. Also, the standard error represents the average distance that the observed values fall from the regression line. Conveniently, it tells you how wrong the regression model is on average using the units of the response variable. With a decrease in the standard error, the model in 2.3 seems to be more accurate.  \n",
    "  \n",
    "4. With all other variables holding constant, one unit increase in the dist_sec will lead an averaged decrease of 0.0117 in the enrollment rate, which has a p-value of 0.000, indicating that this variable of statistically significance. Yes, this seems to be evidence of the household's distance from a secondary school has a causal impact on educational attainment"
   ]
  },
  {
   "cell_type": "markdown",
   "metadata": {},
   "source": [
    "### 2.4 Difference-in-Difference, version 1 (tabular)\n",
    "\n",
    "Thus far, we have computed the effects of Progresa by estimating the difference in 1998 enrollment rates across villages. An alternative approach would be to compute the treatment effect using a difference-in-differences framework.\n",
    "\n",
    "Begin by estimating the average treatment effects of the program for poor households using data from 1997 and 1998. Specifically, calculate the difference (between 1997 and 1998) in enrollment rates among poor households in treated villages; then compute the difference (between 1997 and 1998) in enrollment rates among poor households in control villages. \n",
    "\n",
    "Display your results in a 2x2 table where the rows are Control/Treatment and the columns are 1997/1998. \n",
    "\n",
    "* What is your difference-in-difference estimate of the impact, and how does it compare to your earlier (simple difference) results?\n",
    "* What is the counterfactual assumption underlying this estimate? \n"
   ]
  },
  {
   "cell_type": "code",
   "execution_count": 72,
   "metadata": {},
   "outputs": [],
   "source": [
    "control_97 = df[(df.year == 97) & (df.poor == 1) & (df.progresa == 0)]['sc'].mean()\n",
    "control_98 = df[(df.year == 98) & (df.poor == 1) & (df.progresa == 0)]['sc'].mean()\n",
    "treat_97 = df[(df.year == 97) & (df.poor == 1) & (df.progresa == 1)]['sc'].mean()\n",
    "treat_98 = df[(df.year == 98) & (df.poor == 1) & (df.progresa == 1)]['sc'].mean()"
   ]
  },
  {
   "cell_type": "code",
   "execution_count": 73,
   "metadata": {},
   "outputs": [
    {
     "data": {
      "text/html": [
       "<div>\n",
       "<style scoped>\n",
       "    .dataframe tbody tr th:only-of-type {\n",
       "        vertical-align: middle;\n",
       "    }\n",
       "\n",
       "    .dataframe tbody tr th {\n",
       "        vertical-align: top;\n",
       "    }\n",
       "\n",
       "    .dataframe thead th {\n",
       "        text-align: right;\n",
       "    }\n",
       "</style>\n",
       "<table border=\"1\" class=\"dataframe\">\n",
       "  <thead>\n",
       "    <tr style=\"text-align: right;\">\n",
       "      <th></th>\n",
       "      <th>1997</th>\n",
       "      <th>1998</th>\n",
       "    </tr>\n",
       "  </thead>\n",
       "  <tbody>\n",
       "    <tr>\n",
       "      <th>control</th>\n",
       "      <td>0.815186</td>\n",
       "      <td>0.807637</td>\n",
       "    </tr>\n",
       "    <tr>\n",
       "      <th>treat</th>\n",
       "      <td>0.822697</td>\n",
       "      <td>0.846479</td>\n",
       "    </tr>\n",
       "  </tbody>\n",
       "</table>\n",
       "</div>"
      ],
      "text/plain": [
       "             1997      1998\n",
       "control  0.815186  0.807637\n",
       "treat    0.822697  0.846479"
      ]
     },
     "execution_count": 73,
     "metadata": {},
     "output_type": "execute_result"
    }
   ],
   "source": [
    "result = pd.DataFrame(data=[[control_97,control_98],\n",
    "                            [treat_97,treat_98]],\n",
    "                      columns = [1997,1998],\n",
    "                      index = ['control','treat'])\n",
    "result"
   ]
  },
  {
   "cell_type": "code",
   "execution_count": 74,
   "metadata": {},
   "outputs": [
    {
     "data": {
      "text/plain": [
       "0.031331280319323085"
      ]
     },
     "execution_count": 74,
     "metadata": {},
     "output_type": "execute_result"
    }
   ],
   "source": [
    "did = treat_98 - control_98 - (treat_97 - control_97)\n",
    "did"
   ]
  },
  {
   "cell_type": "markdown",
   "metadata": {},
   "source": [
    "1. The estimate of the impact using difference-in-difference approach is 0.031, which is slightly smaller than the estimate of 2.2 and 2.3. \n",
    "2. The counterfactual assumption is that in the absence of progresa treatment, the differences between 1997 and 1998 in the control and treatment group would be the same.  "
   ]
  },
  {
   "cell_type": "markdown",
   "metadata": {},
   "source": [
    "### 2.5 Difference-in-Difference, version 2 (regression)\n",
    "\n",
    "Now use a regression specification to estimate the average treatment effects of the program in a difference-in-differences, for the poor households. Do this (i) first without including any control variables; and then (ii) do it a second time including at least 5 control variables. \n",
    "\n",
    "* What is your estimate (i) of the impact of Progresa? Be very specific in interpreting your coefficients and standard errors, and make sure to specify exactly what units you are measuring and estimating.\n",
    "* Does your estimate of the impact of Progresa from (i) change when you add control variables as in (ii)? How do you explain these changes, or the lack of changes on the `progresa` coefficient between (i) and (ii)?\n",
    "* How do the estimates from (i) and (ii) compare to the difference-in-difference estimates from 2.4 above? What accounts for these differences, if any exist?\n",
    "* What is the counterfactual assumption underlying regression (ii)? "
   ]
  },
  {
   "cell_type": "code",
   "execution_count": 82,
   "metadata": {},
   "outputs": [],
   "source": [
    "df_poor = df[df.poor == 1]"
   ]
  },
  {
   "cell_type": "code",
   "execution_count": 84,
   "metadata": {},
   "outputs": [
    {
     "name": "stderr",
     "output_type": "stream",
     "text": [
      "/Users/zhouyi/opt/anaconda3/lib/python3.8/site-packages/pandas/core/indexing.py:1817: SettingWithCopyWarning: \n",
      "A value is trying to be set on a copy of a slice from a DataFrame.\n",
      "Try using .loc[row_indexer,col_indexer] = value instead\n",
      "\n",
      "See the caveats in the documentation: https://pandas.pydata.org/pandas-docs/stable/user_guide/indexing.html#returning-a-view-versus-a-copy\n",
      "  self._setitem_single_column(loc, value, pi)\n"
     ]
    }
   ],
   "source": [
    "df_poor.loc[df_poor['year'] == 97, 'year'] = 0\n",
    "df_poor.loc[df_poor['year'] == 98, 'year'] = 1"
   ]
  },
  {
   "cell_type": "code",
   "execution_count": 88,
   "metadata": {},
   "outputs": [],
   "source": [
    "model3 = smf.ols('sc ~ progresa',\n",
    "                 data = df_poor).fit()\n",
    "model4 = smf.ols('sc ~ progresa*year + sex + dist_sec + age + welfare_index + hohedu + progresa + year',\n",
    "                 data = df_poor).fit()"
   ]
  },
  {
   "cell_type": "code",
   "execution_count": 89,
   "metadata": {},
   "outputs": [
    {
     "name": "stdout",
     "output_type": "stream",
     "text": [
      "                            OLS Regression Results                            \n",
      "==============================================================================\n",
      "Dep. Variable:                     sc   R-squared:                       0.001\n",
      "Model:                            OLS   Adj. R-squared:                  0.001\n",
      "Method:                 Least Squares   F-statistic:                     47.30\n",
      "Date:                Sat, 05 Feb 2022   Prob (F-statistic):           6.16e-12\n",
      "Time:                        20:36:17   Log-Likelihood:                -26261.\n",
      "No. Observations:               58372   AIC:                         5.253e+04\n",
      "Df Residuals:                   58370   BIC:                         5.254e+04\n",
      "Df Model:                           1                                         \n",
      "Covariance Type:            nonrobust                                         \n",
      "==============================================================================\n",
      "                 coef    std err          t      P>|t|      [0.025      0.975]\n",
      "------------------------------------------------------------------------------\n",
      "Intercept      0.8116      0.003    318.680      0.000       0.807       0.817\n",
      "progresa       0.0222      0.003      6.877      0.000       0.016       0.029\n",
      "==============================================================================\n",
      "Omnibus:                    15367.207   Durbin-Watson:                   1.394\n",
      "Prob(Omnibus):                  0.000   Jarque-Bera (JB):            30673.992\n",
      "Skew:                          -1.713   Prob(JB):                         0.00\n",
      "Kurtosis:                       3.938   Cond. No.                         3.00\n",
      "==============================================================================\n",
      "\n",
      "Notes:\n",
      "[1] Standard Errors assume that the covariance matrix of the errors is correctly specified.\n"
     ]
    }
   ],
   "source": [
    "print(model3.summary())"
   ]
  },
  {
   "cell_type": "code",
   "execution_count": 90,
   "metadata": {},
   "outputs": [
    {
     "name": "stdout",
     "output_type": "stream",
     "text": [
      "                            OLS Regression Results                            \n",
      "==============================================================================\n",
      "Dep. Variable:                     sc   R-squared:                       0.275\n",
      "Model:                            OLS   Adj. R-squared:                  0.275\n",
      "Method:                 Least Squares   F-statistic:                     2754.\n",
      "Date:                Sat, 05 Feb 2022   Prob (F-statistic):               0.00\n",
      "Time:                        20:36:18   Log-Likelihood:                -16832.\n",
      "No. Observations:               58200   AIC:                         3.368e+04\n",
      "Df Residuals:                   58191   BIC:                         3.376e+04\n",
      "Df Model:                           8                                         \n",
      "Covariance Type:            nonrobust                                         \n",
      "=================================================================================\n",
      "                    coef    std err          t      P>|t|      [0.025      0.975]\n",
      "---------------------------------------------------------------------------------\n",
      "Intercept         1.4915      0.010    152.780      0.000       1.472       1.511\n",
      "progresa          0.0038      0.004      0.999      0.318      -0.004       0.011\n",
      "year              0.0279      0.004      6.391      0.000       0.019       0.036\n",
      "progresa:year     0.0309      0.006      5.594      0.000       0.020       0.042\n",
      "sex               0.0338      0.003     12.598      0.000       0.029       0.039\n",
      "dist_sec         -0.0102      0.001    -16.502      0.000      -0.011      -0.009\n",
      "age              -0.0654      0.000   -143.157      0.000      -0.066      -0.064\n",
      "welfare_index  2.382e-05   1.19e-05      2.002      0.045    5.01e-07    4.71e-05\n",
      "hohedu            0.0076      0.001     14.163      0.000       0.007       0.009\n",
      "==============================================================================\n",
      "Omnibus:                     5608.624   Durbin-Watson:                   1.476\n",
      "Prob(Omnibus):                  0.000   Jarque-Bera (JB):             7408.785\n",
      "Skew:                          -0.872   Prob(JB):                         0.00\n",
      "Kurtosis:                       3.120   Cond. No.                     4.98e+03\n",
      "==============================================================================\n",
      "\n",
      "Notes:\n",
      "[1] Standard Errors assume that the covariance matrix of the errors is correctly specified.\n",
      "[2] The condition number is large, 4.98e+03. This might indicate that there are\n",
      "strong multicollinearity or other numerical problems.\n"
     ]
    }
   ],
   "source": [
    "print(model4.summary())"
   ]
  },
  {
   "cell_type": "markdown",
   "metadata": {},
   "source": [
    "1. From the model3 summary, we see that the coefficient of progresa is 0.0222 with standard error of 0.003 and p-value of 0.000. The interpretation of this coefficent is that the averaged enrollment rate of household who received progresa(treat) is 0.0222 higher than that of people who didn't receive progresa(control)\n",
    "\n",
    "2. Yes, it will change. This time with more variables adding to this model, we will dive a little deeper into this.  \n",
    "* The progresa coefficient alone, has the coefficient of 0.0038, with standard error of 0.004 and p-value of 0.318 which is bigger than 0.05, making it no longer statistically significant for the regression model. The impact of this variable is no longer significant for this model.  \n",
    "* The year. We include this variable to conduct difference in difference analysis. The coefficient is 0.0279, with standard error of 0.004 and p-value of 0.000, making it statistically significant for the regression model. This term indicates that for the year 1998, the averaged enrollment rate is increased 0.0279 in comparison to 1997.  \n",
    "* The progresa\\*year term. This is the relevant interaction between progresa and year variables that we can estimate the impact of the progresa program. It has the coefficient 0.0309, with standard error 0.006 and p-value of 0.000, making it statistically significant for the regression model. The interpretation of this variable is that the averaged enrollment rate of the progresa family would be 0.0309 higher than other groups in the year 1998.  \n",
    "Thus based on the analysis, we can see that the progresa variable is not statistically significant for the model with adding more variables and there exist positive increamental effect from the year and progresa\\*year. The impact of progresa is represented by progresa\\*year, which is 0.0309. \n",
    "3. The difference-in-difference estimates from 2.4 is 0.0313, the estimates from (i) is 0.0222 and from (ii) is 0.0309. From my perspective, the estimate from (i) is not that reasonable compared to the other two estimates, since it did not consider other variables. With adding more variables to the regression model, the estimate is just slightly smaller than that from the DiD approach. I think the difference is originated by introducing other extra varibles into our model.  \n",
    "4. Counterfactual assumption: In the absence of treatment, the change of treatment group and control group over the time 1997 to 1998 is the same, also known as the parallel trend assumption\n"
   ]
  },
  {
   "cell_type": "markdown",
   "metadata": {},
   "source": [
    "### 2.6 Spillover effects\n",
    "\n",
    "Thus far, we have focused on the impact of PROGRESA on the school enrollment of poor households. Repeat your analysis in 2.5, instead focusing on (a) the impact of PROGRESA on the school enrollment of non-poor households, and (b) the impact ofo PROGRESA on *other outcomes* of poor households that might plausibly have been affected by the PROGRESA program.\n",
    "* Do you observe any impacts of PROGRESA on the school enrollment of the non-poor?\n",
    "* Regardless of whether you find evidence of spillovers to non-poor, describe one or two reasons why PROGRESA *might* have impacted non-poor households. Give concrete examples based on the context in which PROGRESA was implemented.\n",
    "* Do you observe any impacts of PROGRESA on other aspects of the welfare of poor households? "
   ]
  },
  {
   "cell_type": "code",
   "execution_count": 92,
   "metadata": {},
   "outputs": [],
   "source": [
    "df_nonpoor = df[df.poor == 0]"
   ]
  },
  {
   "cell_type": "code",
   "execution_count": 93,
   "metadata": {},
   "outputs": [
    {
     "name": "stderr",
     "output_type": "stream",
     "text": [
      "/Users/zhouyi/opt/anaconda3/lib/python3.8/site-packages/pandas/core/indexing.py:1817: SettingWithCopyWarning: \n",
      "A value is trying to be set on a copy of a slice from a DataFrame.\n",
      "Try using .loc[row_indexer,col_indexer] = value instead\n",
      "\n",
      "See the caveats in the documentation: https://pandas.pydata.org/pandas-docs/stable/user_guide/indexing.html#returning-a-view-versus-a-copy\n",
      "  self._setitem_single_column(loc, value, pi)\n"
     ]
    }
   ],
   "source": [
    "df_nonpoor.loc[df_nonpoor['year'] == 97, 'year'] = 0\n",
    "df_nonpoor.loc[df_nonpoor['year'] == 98, 'year'] = 1"
   ]
  },
  {
   "cell_type": "code",
   "execution_count": 98,
   "metadata": {},
   "outputs": [],
   "source": [
    "model5 = smf.ols('sc ~ progresa*year + sex + dist_sec + age + welfare_index + hohedu + progresa + year',\n",
    "                 data = df_nonpoor).fit()\n",
    "model6 = smf.ols('fam_n ~ progresa*year + progresa + year',\n",
    "                 data = df_poor).fit()"
   ]
  },
  {
   "cell_type": "code",
   "execution_count": 99,
   "metadata": {},
   "outputs": [
    {
     "name": "stdout",
     "output_type": "stream",
     "text": [
      "                            OLS Regression Results                            \n",
      "==============================================================================\n",
      "Dep. Variable:                     sc   R-squared:                       0.283\n",
      "Model:                            OLS   Adj. R-squared:                  0.282\n",
      "Method:                 Least Squares   F-statistic:                     510.5\n",
      "Date:                Sat, 05 Feb 2022   Prob (F-statistic):               0.00\n",
      "Time:                        22:32:25   Log-Likelihood:                -3700.0\n",
      "No. Observations:               10379   AIC:                             7418.\n",
      "Df Residuals:                   10370   BIC:                             7483.\n",
      "Df Model:                           8                                         \n",
      "Covariance Type:            nonrobust                                         \n",
      "=================================================================================\n",
      "                    coef    std err          t      P>|t|      [0.025      0.975]\n",
      "---------------------------------------------------------------------------------\n",
      "Intercept         1.4479      0.030     49.046      0.000       1.390       1.506\n",
      "progresa          0.0286      0.009      3.064      0.002       0.010       0.047\n",
      "year              0.0380      0.011      3.500      0.000       0.017       0.059\n",
      "progresa:year    -0.0016      0.014     -0.114      0.909      -0.029       0.026\n",
      "sex               0.0304      0.007      4.474      0.000       0.017       0.044\n",
      "dist_sec         -0.0161      0.002     -9.084      0.000      -0.020      -0.013\n",
      "age              -0.0681      0.001    -59.956      0.000      -0.070      -0.066\n",
      "welfare_index     0.0001   2.83e-05      3.842      0.000    5.33e-05       0.000\n",
      "hohedu            0.0097      0.001      9.031      0.000       0.008       0.012\n",
      "==============================================================================\n",
      "Omnibus:                      846.120   Durbin-Watson:                   1.491\n",
      "Prob(Omnibus):                  0.000   Jarque-Bera (JB):              829.392\n",
      "Skew:                          -0.636   Prob(JB):                    7.94e-181\n",
      "Kurtosis:                       2.455   Cond. No.                     7.75e+03\n",
      "==============================================================================\n",
      "\n",
      "Notes:\n",
      "[1] Standard Errors assume that the covariance matrix of the errors is correctly specified.\n",
      "[2] The condition number is large, 7.75e+03. This might indicate that there are\n",
      "strong multicollinearity or other numerical problems.\n"
     ]
    }
   ],
   "source": [
    "print(model5.summary())"
   ]
  },
  {
   "cell_type": "code",
   "execution_count": 100,
   "metadata": {},
   "outputs": [
    {
     "name": "stdout",
     "output_type": "stream",
     "text": [
      "                            OLS Regression Results                            \n",
      "==============================================================================\n",
      "Dep. Variable:                  fam_n   R-squared:                       0.000\n",
      "Model:                            OLS   Adj. R-squared:                 -0.000\n",
      "Method:                 Least Squares   F-statistic:                    0.4205\n",
      "Date:                Sat, 05 Feb 2022   Prob (F-statistic):              0.738\n",
      "Time:                        22:32:32   Log-Likelihood:            -1.4833e+05\n",
      "No. Observations:               65392   AIC:                         2.967e+05\n",
      "Df Residuals:                   65388   BIC:                         2.967e+05\n",
      "Df Model:                           3                                         \n",
      "Covariance Type:            nonrobust                                         \n",
      "=================================================================================\n",
      "                    coef    std err          t      P>|t|      [0.025      0.975]\n",
      "---------------------------------------------------------------------------------\n",
      "Intercept         7.3025      0.021    348.798      0.000       7.261       7.344\n",
      "progresa         -0.0211      0.027     -0.794      0.427      -0.073       0.031\n",
      "year           9.482e-13      0.030    3.2e-11      1.000      -0.058       0.058\n",
      "progresa:year -6.141e-16      0.038  -1.63e-14      1.000      -0.074       0.074\n",
      "==============================================================================\n",
      "Omnibus:                     6951.980   Durbin-Watson:                   0.346\n",
      "Prob(Omnibus):                  0.000   Jarque-Bera (JB):            12696.028\n",
      "Skew:                           0.721   Prob(JB):                         0.00\n",
      "Kurtosis:                       4.606   Cond. No.                         7.85\n",
      "==============================================================================\n",
      "\n",
      "Notes:\n",
      "[1] Standard Errors assume that the covariance matrix of the errors is correctly specified.\n"
     ]
    }
   ],
   "source": [
    "print(model6.summary())"
   ]
  },
  {
   "cell_type": "markdown",
   "metadata": {},
   "source": [
    "1. Based on the model summary above, we can see that the progresa and year term both have a rather small p-value(smaller than 0.05), making them statistically significant. The progresa term indicates that the non-poor household recerving the progresa subsidy has an averaged 0.0286 higher enrollment rate compared to those who do not. And the year term indicates that in 1998, there existed a 0.0380 higher enrollment rate compared to 1997.  \n",
    " However, when we look at the term progresa:year, the p-value of which is 0.909, making it not statistically significant for our regression model. Therefore, the difference-in-differences impact is not statistically significant in this case.  \n",
    "  \n",
    "2. The reason: Based on the goal of this program, the non-poor households should not receive the progresa subsidy. However, in the reality this situation(non-poor people also receive the benefit of progresa) could have happened due to some out-of-control reasons like corruption.  \n",
    " And probaby due to the snowball effect, the non-poor household noticed that the children from poor households started to get enrolled in the school and they choose to send them to schools too.  \n",
    "  \n",
    "3. In this case, I would like to figure out whether progresa program has lead an impact on the family size among the poor villages. In this regression summary, the p-values of the progresa, year and progresa\\*year terms are all bigger than 0.05, making them not statistically significant. I may say that based on the statistical significance of the treatment effect, the progresa may not lead an impact on the family size. The reason may be the time span is too short, and in the long run, it probably may have some impact."
   ]
  },
  {
   "cell_type": "markdown",
   "metadata": {},
   "source": [
    "### 2.7 Summary\n",
    "\n",
    "* Based on all the analysis you have undertaken to date, do you believe that Progresa had a causal impact on the enrollment rates of poor households in Mexico? \n",
    "* Using several different empirical frameworks, we have explored the impact of the PROGRESA program on enrollment rates of poor households in Mexico. In general, it appears that PROGRESA did have positive impact on the school enrollment rates, though the exact estimate depends on the method used to measure impact. After controlling for other observable characteristics, the most reliable difference-in-difference estimator estimates that PROGRESA raised enrollment rates by roughly 3.13 percentage points. A separate estimator, that includes externalities on non-poor households, produces a more conservative, and statistically insignificant, estimate."
   ]
  },
  {
   "cell_type": "markdown",
   "metadata": {},
   "source": [
    "*Discuss your results here*"
   ]
  }
 ],
 "metadata": {
  "anaconda-cloud": {},
  "kernelspec": {
   "display_name": "Python 3 (ipykernel)",
   "language": "python",
   "name": "python3"
  },
  "language_info": {
   "codemirror_mode": {
    "name": "ipython",
    "version": 3
   },
   "file_extension": ".py",
   "mimetype": "text/x-python",
   "name": "python",
   "nbconvert_exporter": "python",
   "pygments_lexer": "ipython3",
   "version": "3.8.12"
  },
  "toc": {
   "base_numbering": 1,
   "nav_menu": {},
   "number_sections": true,
   "sideBar": true,
   "skip_h1_title": false,
   "title_cell": "Table of Contents",
   "title_sidebar": "Contents",
   "toc_cell": false,
   "toc_position": {},
   "toc_section_display": true,
   "toc_window_display": false
  }
 },
 "nbformat": 4,
 "nbformat_minor": 1
}
