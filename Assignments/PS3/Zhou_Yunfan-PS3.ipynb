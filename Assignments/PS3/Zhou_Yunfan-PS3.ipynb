{
 "cells": [
  {
   "cell_type": "markdown",
   "metadata": {},
   "source": [
    "# Problem Set 3\n",
    "\n",
    "### Before You Start\n",
    "\n",
    "Make sure the following libraries load correctly (hit Ctrl-Enter). Note that while you are loading several powerful libraries, including machine learning libraries, the goal of this problem set is to implement several algorithms from scratch. In particular, you should *not* be using any built-in libraries for nearest neighbors, distance metrics, or cross-validation -- your mission is to write those algorithms in Python! Part 1 will be relatively easy; Part 2 will take more time."
   ]
  },
  {
   "cell_type": "code",
   "execution_count": 1,
   "metadata": {
    "jupyter": {
     "outputs_hidden": true
    }
   },
   "outputs": [],
   "source": [
    "import IPython\n",
    "import numpy as np\n",
    "import scipy as sp\n",
    "import pandas as pd\n",
    "import matplotlib\n",
    "import sklearn"
   ]
  },
  {
   "cell_type": "code",
   "execution_count": 2,
   "metadata": {
    "jupyter": {
     "outputs_hidden": true
    }
   },
   "outputs": [],
   "source": [
    "%matplotlib inline  \n",
    "import matplotlib.pyplot as plt  "
   ]
  },
  {
   "cell_type": "markdown",
   "metadata": {},
   "source": [
    "---\n",
    "\n",
    "## Introduction to the assignment\n",
    "\n",
    "For this assignment, you will be using the [Boston Housing Prices Data Set](http://www.kellogg.northwestern.edu/faculty/weber/emp/_session_3/boston.htm).  Please read about the dataset carefully before continuing.  Use the following commands to load the dataset:\n",
    "\n",
    "*NOTE - This dataset is similar to the one you used in PS1; we are just using a different method to load it this time. The column names and their order will remain the same for this dataset as was in PS1.*"
   ]
  },
  {
   "cell_type": "code",
   "execution_count": 3,
   "metadata": {
    "jupyter": {
     "outputs_hidden": true
    }
   },
   "outputs": [],
   "source": [
    "# load Boston housing data set\n",
    "data = np.loadtxt('data.txt')\n",
    "target = np.loadtxt('target.txt')"
   ]
  },
  {
   "cell_type": "code",
   "execution_count": 4,
   "metadata": {},
   "outputs": [],
   "source": [
    "boston = pd.DataFrame(data = data,\n",
    "                      columns = ['CRIM','ZN','INDUS','CHAS','NOX','RM','AGE','DIS','RAD','TAX','PTRATIO','B','LSTAT'])\n",
    "boston['MEDV'] = target"
   ]
  },
  {
   "cell_type": "code",
   "execution_count": 5,
   "metadata": {},
   "outputs": [
    {
     "data": {
      "text/html": [
       "<div>\n",
       "<style scoped>\n",
       "    .dataframe tbody tr th:only-of-type {\n",
       "        vertical-align: middle;\n",
       "    }\n",
       "\n",
       "    .dataframe tbody tr th {\n",
       "        vertical-align: top;\n",
       "    }\n",
       "\n",
       "    .dataframe thead th {\n",
       "        text-align: right;\n",
       "    }\n",
       "</style>\n",
       "<table border=\"1\" class=\"dataframe\">\n",
       "  <thead>\n",
       "    <tr style=\"text-align: right;\">\n",
       "      <th></th>\n",
       "      <th>CRIM</th>\n",
       "      <th>ZN</th>\n",
       "      <th>INDUS</th>\n",
       "      <th>CHAS</th>\n",
       "      <th>NOX</th>\n",
       "      <th>RM</th>\n",
       "      <th>AGE</th>\n",
       "      <th>DIS</th>\n",
       "      <th>RAD</th>\n",
       "      <th>TAX</th>\n",
       "      <th>PTRATIO</th>\n",
       "      <th>B</th>\n",
       "      <th>LSTAT</th>\n",
       "      <th>MEDV</th>\n",
       "    </tr>\n",
       "  </thead>\n",
       "  <tbody>\n",
       "    <tr>\n",
       "      <th>0</th>\n",
       "      <td>0.218960</td>\n",
       "      <td>18.0</td>\n",
       "      <td>2.629288</td>\n",
       "      <td>0.0</td>\n",
       "      <td>0.869420</td>\n",
       "      <td>6.875396</td>\n",
       "      <td>65.2</td>\n",
       "      <td>4.347275</td>\n",
       "      <td>1.0</td>\n",
       "      <td>307.0</td>\n",
       "      <td>15.534711</td>\n",
       "      <td>397.462329</td>\n",
       "      <td>5.715647</td>\n",
       "      <td>24.0</td>\n",
       "    </tr>\n",
       "    <tr>\n",
       "      <th>1</th>\n",
       "      <td>0.141576</td>\n",
       "      <td>0.0</td>\n",
       "      <td>7.315612</td>\n",
       "      <td>0.0</td>\n",
       "      <td>0.549711</td>\n",
       "      <td>6.499894</td>\n",
       "      <td>78.9</td>\n",
       "      <td>5.315684</td>\n",
       "      <td>2.0</td>\n",
       "      <td>255.0</td>\n",
       "      <td>17.914131</td>\n",
       "      <td>397.012611</td>\n",
       "      <td>9.338417</td>\n",
       "      <td>21.6</td>\n",
       "    </tr>\n",
       "    <tr>\n",
       "      <th>2</th>\n",
       "      <td>0.380457</td>\n",
       "      <td>0.0</td>\n",
       "      <td>7.340354</td>\n",
       "      <td>0.0</td>\n",
       "      <td>0.697928</td>\n",
       "      <td>7.263489</td>\n",
       "      <td>61.1</td>\n",
       "      <td>5.356935</td>\n",
       "      <td>2.0</td>\n",
       "      <td>243.0</td>\n",
       "      <td>17.919989</td>\n",
       "      <td>396.628236</td>\n",
       "      <td>4.142473</td>\n",
       "      <td>34.7</td>\n",
       "    </tr>\n",
       "    <tr>\n",
       "      <th>3</th>\n",
       "      <td>0.313563</td>\n",
       "      <td>0.0</td>\n",
       "      <td>2.562407</td>\n",
       "      <td>0.0</td>\n",
       "      <td>0.599629</td>\n",
       "      <td>7.209732</td>\n",
       "      <td>45.8</td>\n",
       "      <td>6.103983</td>\n",
       "      <td>3.0</td>\n",
       "      <td>226.0</td>\n",
       "      <td>18.979527</td>\n",
       "      <td>398.564784</td>\n",
       "      <td>3.239272</td>\n",
       "      <td>33.4</td>\n",
       "    </tr>\n",
       "    <tr>\n",
       "      <th>4</th>\n",
       "      <td>0.330105</td>\n",
       "      <td>0.0</td>\n",
       "      <td>2.497337</td>\n",
       "      <td>0.0</td>\n",
       "      <td>0.476077</td>\n",
       "      <td>7.184111</td>\n",
       "      <td>54.2</td>\n",
       "      <td>6.264372</td>\n",
       "      <td>3.0</td>\n",
       "      <td>234.0</td>\n",
       "      <td>18.708888</td>\n",
       "      <td>399.487766</td>\n",
       "      <td>6.115159</td>\n",
       "      <td>36.2</td>\n",
       "    </tr>\n",
       "  </tbody>\n",
       "</table>\n",
       "</div>"
      ],
      "text/plain": [
       "       CRIM    ZN     INDUS  CHAS       NOX        RM   AGE       DIS  RAD  \\\n",
       "0  0.218960  18.0  2.629288   0.0  0.869420  6.875396  65.2  4.347275  1.0   \n",
       "1  0.141576   0.0  7.315612   0.0  0.549711  6.499894  78.9  5.315684  2.0   \n",
       "2  0.380457   0.0  7.340354   0.0  0.697928  7.263489  61.1  5.356935  2.0   \n",
       "3  0.313563   0.0  2.562407   0.0  0.599629  7.209732  45.8  6.103983  3.0   \n",
       "4  0.330105   0.0  2.497337   0.0  0.476077  7.184111  54.2  6.264372  3.0   \n",
       "\n",
       "     TAX    PTRATIO           B     LSTAT  MEDV  \n",
       "0  307.0  15.534711  397.462329  5.715647  24.0  \n",
       "1  255.0  17.914131  397.012611  9.338417  21.6  \n",
       "2  243.0  17.919989  396.628236  4.142473  34.7  \n",
       "3  226.0  18.979527  398.564784  3.239272  33.4  \n",
       "4  234.0  18.708888  399.487766  6.115159  36.2  "
      ]
     },
     "execution_count": 5,
     "metadata": {},
     "output_type": "execute_result"
    }
   ],
   "source": [
    "boston.head()"
   ]
  },
  {
   "cell_type": "markdown",
   "metadata": {},
   "source": [
    "---\n",
    "\n",
    "## Part 1: Experimental Setup\n",
    "\n",
    "The goal of the next few sections is to design an experiment to predict the median home value for an instance in the data.\n",
    "Before beginning the \"real\" work, refamiliarize yourself with the dataset."
   ]
  },
  {
   "cell_type": "markdown",
   "metadata": {},
   "source": [
    "### 1.1 Begin by writing a function to compute the Root Mean Squared Error for a list of numbers\n",
    "\n",
    "You can find the sqrt function in the Numpy package. Furthermore the details of RMSE can be found on [Wikipedia](http://en.wikipedia.org/wiki/Root-mean-square_deviation). Do not use a built-in function  to compute RMSE, other than numpy functions like `sqrt` and if needed, `sum` or other relevant ones."
   ]
  },
  {
   "cell_type": "code",
   "execution_count": 6,
   "metadata": {
    "jupyter": {
     "outputs_hidden": true
    }
   },
   "outputs": [],
   "source": [
    "\"\"\"\n",
    "Function\n",
    "--------\n",
    "compute_rmse\n",
    "\n",
    "Given two arrays, one of actual values and one of predicted values,\n",
    "compute the Roote Mean Squared Error\n",
    "\n",
    "Parameters\n",
    "----------\n",
    "predictions : array\n",
    "    Array of numerical values corresponding to predictions for each of the N observations\n",
    "\n",
    "yvalues : array\n",
    "    Array of numerical values corresponding to the actual values for each of the N observations\n",
    "\n",
    "Returns\n",
    "-------\n",
    "rmse : int\n",
    "    Root Mean Squared Error of the prediction\n",
    "\n",
    "Example\n",
    "-------\n",
    ">>> print(compute_rmse((4,6,3),(2,1,4)))\n",
    "3.16\n",
    "\"\"\"\n",
    "def compute_rmse(predictions, yvalues):  \n",
    "    n = len(predictions)\n",
    "    predictions = np.array(predictions)\n",
    "    yvalues = np.array(yvalues)\n",
    "    mse = np.sum((predictions-yvalues)**2) / n\n",
    "    rmse = np.sqrt(mse)\n",
    "    return rmse"
   ]
  },
  {
   "cell_type": "code",
   "execution_count": 7,
   "metadata": {
    "jupyter": {
     "outputs_hidden": true
    }
   },
   "outputs": [
    {
     "data": {
      "text/plain": [
       "3.1622776601683795"
      ]
     },
     "execution_count": 7,
     "metadata": {},
     "output_type": "execute_result"
    }
   ],
   "source": [
    "compute_rmse((4,6,3),(2,1,4))"
   ]
  },
  {
   "cell_type": "markdown",
   "metadata": {},
   "source": [
    "### 1.2 Divide your data into training and testing datasets\n",
    "\n",
    "Randomly select 75% of the data and put this in a training dataset (call this \"bdata_train\"), and place the remaining 25% in a testing dataset (call this \"bdata_test\"). Do not use built-in functions.\n",
    "\n",
    "To perform any randomized operation, only use functions in the *numpy library (np.random)*. Do not use other packages for random functions."
   ]
  },
  {
   "cell_type": "code",
   "execution_count": 8,
   "metadata": {
    "jupyter": {
     "outputs_hidden": true
    }
   },
   "outputs": [],
   "source": [
    "# leave the following line untouched, it will help ensure that your \"random\" split is the same \"random\" split used by the rest of the class\n",
    "np.random.seed(seed=13579)"
   ]
  },
  {
   "cell_type": "code",
   "execution_count": 9,
   "metadata": {},
   "outputs": [],
   "source": [
    "train_idx = list(np.random.choice(range(len(data)), int(len(data) * 0.75), replace=False))\n",
    "test_idx = list(set(range(len(data))) - set(train_idx))\n",
    "\n",
    "'''divide them into train and test datasets'''\n",
    "bdata_train = boston.loc[train_idx]\n",
    "bdata_test = boston.loc[test_idx]"
   ]
  },
  {
   "cell_type": "code",
   "execution_count": 10,
   "metadata": {},
   "outputs": [
    {
     "name": "stdout",
     "output_type": "stream",
     "text": [
      "(379, 14)\n",
      "(127, 14)\n"
     ]
    },
    {
     "data": {
      "text/html": [
       "<div>\n",
       "<style scoped>\n",
       "    .dataframe tbody tr th:only-of-type {\n",
       "        vertical-align: middle;\n",
       "    }\n",
       "\n",
       "    .dataframe tbody tr th {\n",
       "        vertical-align: top;\n",
       "    }\n",
       "\n",
       "    .dataframe thead th {\n",
       "        text-align: right;\n",
       "    }\n",
       "</style>\n",
       "<table border=\"1\" class=\"dataframe\">\n",
       "  <thead>\n",
       "    <tr style=\"text-align: right;\">\n",
       "      <th></th>\n",
       "      <th>CRIM</th>\n",
       "      <th>ZN</th>\n",
       "      <th>INDUS</th>\n",
       "      <th>CHAS</th>\n",
       "      <th>NOX</th>\n",
       "      <th>RM</th>\n",
       "      <th>AGE</th>\n",
       "      <th>DIS</th>\n",
       "      <th>RAD</th>\n",
       "      <th>TAX</th>\n",
       "      <th>PTRATIO</th>\n",
       "      <th>B</th>\n",
       "      <th>LSTAT</th>\n",
       "      <th>MEDV</th>\n",
       "    </tr>\n",
       "  </thead>\n",
       "  <tbody>\n",
       "    <tr>\n",
       "      <th>440</th>\n",
       "      <td>22.406867</td>\n",
       "      <td>0.0</td>\n",
       "      <td>18.247928</td>\n",
       "      <td>0.0</td>\n",
       "      <td>1.099452</td>\n",
       "      <td>6.199415</td>\n",
       "      <td>92.4</td>\n",
       "      <td>2.224853</td>\n",
       "      <td>24.0</td>\n",
       "      <td>679.0</td>\n",
       "      <td>20.568926</td>\n",
       "      <td>391.952694</td>\n",
       "      <td>22.798646</td>\n",
       "      <td>10.5</td>\n",
       "    </tr>\n",
       "    <tr>\n",
       "      <th>215</th>\n",
       "      <td>0.476132</td>\n",
       "      <td>0.0</td>\n",
       "      <td>10.794566</td>\n",
       "      <td>0.0</td>\n",
       "      <td>0.766851</td>\n",
       "      <td>6.208124</td>\n",
       "      <td>42.4</td>\n",
       "      <td>4.032132</td>\n",
       "      <td>4.0</td>\n",
       "      <td>280.0</td>\n",
       "      <td>18.819660</td>\n",
       "      <td>397.172838</td>\n",
       "      <td>9.537777</td>\n",
       "      <td>25.0</td>\n",
       "    </tr>\n",
       "    <tr>\n",
       "      <th>212</th>\n",
       "      <td>0.532648</td>\n",
       "      <td>0.0</td>\n",
       "      <td>10.799418</td>\n",
       "      <td>1.0</td>\n",
       "      <td>0.802291</td>\n",
       "      <td>6.063011</td>\n",
       "      <td>53.8</td>\n",
       "      <td>4.043867</td>\n",
       "      <td>4.0</td>\n",
       "      <td>289.0</td>\n",
       "      <td>18.982791</td>\n",
       "      <td>394.249614</td>\n",
       "      <td>16.440364</td>\n",
       "      <td>22.4</td>\n",
       "    </tr>\n",
       "    <tr>\n",
       "      <th>197</th>\n",
       "      <td>0.187889</td>\n",
       "      <td>80.0</td>\n",
       "      <td>1.526865</td>\n",
       "      <td>0.0</td>\n",
       "      <td>0.708481</td>\n",
       "      <td>7.499923</td>\n",
       "      <td>36.6</td>\n",
       "      <td>7.572798</td>\n",
       "      <td>2.0</td>\n",
       "      <td>334.0</td>\n",
       "      <td>12.865843</td>\n",
       "      <td>355.462216</td>\n",
       "      <td>9.173969</td>\n",
       "      <td>30.3</td>\n",
       "    </tr>\n",
       "    <tr>\n",
       "      <th>161</th>\n",
       "      <td>1.741062</td>\n",
       "      <td>0.0</td>\n",
       "      <td>19.780861</td>\n",
       "      <td>0.0</td>\n",
       "      <td>0.664006</td>\n",
       "      <td>7.614751</td>\n",
       "      <td>90.8</td>\n",
       "      <td>2.115829</td>\n",
       "      <td>5.0</td>\n",
       "      <td>416.0</td>\n",
       "      <td>14.859422</td>\n",
       "      <td>376.320064</td>\n",
       "      <td>2.378481</td>\n",
       "      <td>50.0</td>\n",
       "    </tr>\n",
       "  </tbody>\n",
       "</table>\n",
       "</div>"
      ],
      "text/plain": [
       "          CRIM    ZN      INDUS  CHAS       NOX        RM   AGE       DIS  \\\n",
       "440  22.406867   0.0  18.247928   0.0  1.099452  6.199415  92.4  2.224853   \n",
       "215   0.476132   0.0  10.794566   0.0  0.766851  6.208124  42.4  4.032132   \n",
       "212   0.532648   0.0  10.799418   1.0  0.802291  6.063011  53.8  4.043867   \n",
       "197   0.187889  80.0   1.526865   0.0  0.708481  7.499923  36.6  7.572798   \n",
       "161   1.741062   0.0  19.780861   0.0  0.664006  7.614751  90.8  2.115829   \n",
       "\n",
       "      RAD    TAX    PTRATIO           B      LSTAT  MEDV  \n",
       "440  24.0  679.0  20.568926  391.952694  22.798646  10.5  \n",
       "215   4.0  280.0  18.819660  397.172838   9.537777  25.0  \n",
       "212   4.0  289.0  18.982791  394.249614  16.440364  22.4  \n",
       "197   2.0  334.0  12.865843  355.462216   9.173969  30.3  \n",
       "161   5.0  416.0  14.859422  376.320064   2.378481  50.0  "
      ]
     },
     "metadata": {},
     "output_type": "display_data"
    },
    {
     "data": {
      "text/html": [
       "<div>\n",
       "<style scoped>\n",
       "    .dataframe tbody tr th:only-of-type {\n",
       "        vertical-align: middle;\n",
       "    }\n",
       "\n",
       "    .dataframe tbody tr th {\n",
       "        vertical-align: top;\n",
       "    }\n",
       "\n",
       "    .dataframe thead th {\n",
       "        text-align: right;\n",
       "    }\n",
       "</style>\n",
       "<table border=\"1\" class=\"dataframe\">\n",
       "  <thead>\n",
       "    <tr style=\"text-align: right;\">\n",
       "      <th></th>\n",
       "      <th>CRIM</th>\n",
       "      <th>ZN</th>\n",
       "      <th>INDUS</th>\n",
       "      <th>CHAS</th>\n",
       "      <th>NOX</th>\n",
       "      <th>RM</th>\n",
       "      <th>AGE</th>\n",
       "      <th>DIS</th>\n",
       "      <th>RAD</th>\n",
       "      <th>TAX</th>\n",
       "      <th>PTRATIO</th>\n",
       "      <th>B</th>\n",
       "      <th>LSTAT</th>\n",
       "      <th>MEDV</th>\n",
       "    </tr>\n",
       "  </thead>\n",
       "  <tbody>\n",
       "    <tr>\n",
       "      <th>9</th>\n",
       "      <td>0.512354</td>\n",
       "      <td>12.5</td>\n",
       "      <td>7.904262</td>\n",
       "      <td>0.0</td>\n",
       "      <td>0.743540</td>\n",
       "      <td>6.135438</td>\n",
       "      <td>85.9</td>\n",
       "      <td>6.631109</td>\n",
       "      <td>5.0</td>\n",
       "      <td>319.0</td>\n",
       "      <td>15.526087</td>\n",
       "      <td>389.794672</td>\n",
       "      <td>17.734252</td>\n",
       "      <td>18.9</td>\n",
       "    </tr>\n",
       "    <tr>\n",
       "      <th>10</th>\n",
       "      <td>0.471014</td>\n",
       "      <td>12.5</td>\n",
       "      <td>8.105223</td>\n",
       "      <td>0.0</td>\n",
       "      <td>0.696355</td>\n",
       "      <td>6.630284</td>\n",
       "      <td>94.3</td>\n",
       "      <td>6.559948</td>\n",
       "      <td>5.0</td>\n",
       "      <td>318.0</td>\n",
       "      <td>15.329414</td>\n",
       "      <td>394.426261</td>\n",
       "      <td>20.722270</td>\n",
       "      <td>15.0</td>\n",
       "    </tr>\n",
       "    <tr>\n",
       "      <th>11</th>\n",
       "      <td>0.378099</td>\n",
       "      <td>12.5</td>\n",
       "      <td>8.037368</td>\n",
       "      <td>0.0</td>\n",
       "      <td>0.733438</td>\n",
       "      <td>6.037591</td>\n",
       "      <td>82.9</td>\n",
       "      <td>6.255507</td>\n",
       "      <td>5.0</td>\n",
       "      <td>320.0</td>\n",
       "      <td>15.208535</td>\n",
       "      <td>398.942967</td>\n",
       "      <td>13.471264</td>\n",
       "      <td>18.9</td>\n",
       "    </tr>\n",
       "    <tr>\n",
       "      <th>18</th>\n",
       "      <td>0.912070</td>\n",
       "      <td>0.0</td>\n",
       "      <td>8.166062</td>\n",
       "      <td>0.0</td>\n",
       "      <td>0.546885</td>\n",
       "      <td>5.597011</td>\n",
       "      <td>36.6</td>\n",
       "      <td>4.055867</td>\n",
       "      <td>4.0</td>\n",
       "      <td>315.0</td>\n",
       "      <td>21.232716</td>\n",
       "      <td>290.847821</td>\n",
       "      <td>12.050425</td>\n",
       "      <td>20.2</td>\n",
       "    </tr>\n",
       "    <tr>\n",
       "      <th>20</th>\n",
       "      <td>1.540105</td>\n",
       "      <td>0.0</td>\n",
       "      <td>8.476673</td>\n",
       "      <td>0.0</td>\n",
       "      <td>0.778953</td>\n",
       "      <td>5.905249</td>\n",
       "      <td>98.1</td>\n",
       "      <td>3.946739</td>\n",
       "      <td>4.0</td>\n",
       "      <td>311.0</td>\n",
       "      <td>21.224087</td>\n",
       "      <td>380.568759</td>\n",
       "      <td>21.639829</td>\n",
       "      <td>13.6</td>\n",
       "    </tr>\n",
       "  </tbody>\n",
       "</table>\n",
       "</div>"
      ],
      "text/plain": [
       "        CRIM    ZN     INDUS  CHAS       NOX        RM   AGE       DIS  RAD  \\\n",
       "9   0.512354  12.5  7.904262   0.0  0.743540  6.135438  85.9  6.631109  5.0   \n",
       "10  0.471014  12.5  8.105223   0.0  0.696355  6.630284  94.3  6.559948  5.0   \n",
       "11  0.378099  12.5  8.037368   0.0  0.733438  6.037591  82.9  6.255507  5.0   \n",
       "18  0.912070   0.0  8.166062   0.0  0.546885  5.597011  36.6  4.055867  4.0   \n",
       "20  1.540105   0.0  8.476673   0.0  0.778953  5.905249  98.1  3.946739  4.0   \n",
       "\n",
       "      TAX    PTRATIO           B      LSTAT  MEDV  \n",
       "9   319.0  15.526087  389.794672  17.734252  18.9  \n",
       "10  318.0  15.329414  394.426261  20.722270  15.0  \n",
       "11  320.0  15.208535  398.942967  13.471264  18.9  \n",
       "18  315.0  21.232716  290.847821  12.050425  20.2  \n",
       "20  311.0  21.224087  380.568759  21.639829  13.6  "
      ]
     },
     "metadata": {},
     "output_type": "display_data"
    }
   ],
   "source": [
    "print(bdata_train.shape)\n",
    "print(bdata_test.shape)\n",
    "\n",
    "display(bdata_train.head())\n",
    "display(bdata_test.head())"
   ]
  },
  {
   "cell_type": "markdown",
   "metadata": {},
   "source": [
    "### 1.3 Use a very bad baseline for prediction, and compute RMSE\n",
    "\n",
    "Let's start by creating a very bad baseline model that predicts median home values as the averages of `MEDV` based on adjacency to Charles River. \n",
    "\n",
    "Specifically, create a model that predicts, for every observation X_i, the median home value as the average of the median home values of all houses in the **training set** that have the same adjacency value as the observation.\n",
    "\n",
    "For example - For an input observation where `CHAS==1`, the model should predict the `MEDV` as the mean of all `MEDV` values in the training set that also have `CHAS==1`.\n",
    "\n",
    "\n",
    "\n",
    "Once the model is built, do the following:\n",
    "\n",
    "1. Compute the RMSE of the training set.\n",
    "2. Now compute the RMSE of the test data set (but use the model you trained on the training set!).\n",
    "3. How does RMSE compare for training vs. testing datasets? Is this what you expected, and why?\n",
    "4. Create a scatter plot that shows the true value of each instance on the x-axis and the predicted value of each instance on the y-axis. Color the training instances in red and the test instances in blue. Make sure to label your axes appropriately, and add a legend to your figure to make clear which dots are which.\n",
    "5. Add code to your function to measure the running time of your algorithm. How long does it take to compute the predicted values for the test data?\n",
    "\n",
    "\n",
    "*NOTE - Be careful while dealing with floats and integers. Additionally, the `groupby` operation might come handy here.*"
   ]
  },
  {
   "cell_type": "code",
   "execution_count": 11,
   "metadata": {},
   "outputs": [
    {
     "data": {
      "text/plain": [
       "CHAS\n",
       "0.0    22.236236\n",
       "1.0    28.134783\n",
       "Name: MEDV, dtype: float64"
      ]
     },
     "metadata": {},
     "output_type": "display_data"
    },
    {
     "name": "stdout",
     "output_type": "stream",
     "text": [
      "Time taken: 0.03 seconds\n"
     ]
    }
   ],
   "source": [
    "import time\n",
    "start = time.time()\n",
    "display(bdata_train.groupby(by='CHAS').mean().MEDV)\n",
    "end = time.time()\n",
    "print(\"Time taken: {0:.2f} seconds\".format(end - start))"
   ]
  },
  {
   "cell_type": "code",
   "execution_count": 12,
   "metadata": {},
   "outputs": [
    {
     "data": {
      "text/plain": [
       "8.963434181280334"
      ]
     },
     "execution_count": 12,
     "metadata": {},
     "output_type": "execute_result"
    }
   ],
   "source": [
    "bdata_train1 = bdata_train[bdata_train.CHAS == 0.0].copy()\n",
    "bdata_train1['pred'] = 22.236236\n",
    "bdata_train2 = bdata_train[bdata_train.CHAS == 1.0].copy()\n",
    "bdata_train2['pred'] = 28.134783\n",
    "result = pd.concat([bdata_train1,bdata_train2])\n",
    "compute_rmse(result.MEDV.values,result.pred.values)"
   ]
  },
  {
   "cell_type": "code",
   "execution_count": 13,
   "metadata": {},
   "outputs": [
    {
     "data": {
      "text/plain": [
       "9.292691152622707"
      ]
     },
     "execution_count": 13,
     "metadata": {},
     "output_type": "execute_result"
    }
   ],
   "source": [
    "bdata_test1 = bdata_test[bdata_test.CHAS == 0.0].copy()\n",
    "bdata_test1['pred'] = 22.236236\n",
    "bdata_test2 = bdata_test[bdata_test.CHAS == 1.0].copy()\n",
    "bdata_test2['pred'] = 28.134783\n",
    "result1 = pd.concat([bdata_test1,bdata_test2])\n",
    "compute_rmse(result1.MEDV.values,result1.pred.values)"
   ]
  },
  {
   "cell_type": "code",
   "execution_count": 14,
   "metadata": {
    "jupyter": {
     "outputs_hidden": true
    }
   },
   "outputs": [
    {
     "data": {
      "image/png": "[encoded data removed]",
      "text/plain": [
       "<Figure size 864x576 with 1 Axes>"
      ]
     },
     "metadata": {
      "needs_background": "light"
     },
     "output_type": "display_data"
    }
   ],
   "source": [
    "import matplotlib.pyplot as plt\n",
    "\n",
    "plt.figure(figsize=(12,8))\n",
    "plt.scatter(bdata_train.MEDV.values,result.pred.values,c='r',label='Training Set',alpha=0.5)\n",
    "plt.scatter(bdata_test.MEDV.values,result1.pred.values,c='b',label='Test Set',alpha=0.5)\n",
    "plt.xlabel('True Median Home Values')\n",
    "plt.ylabel('Predicted Median Home Values')\n",
    "plt.title('Baseline model')\n",
    "plt.legend(loc='upper right')\n",
    "plt.show()"
   ]
  },
  {
   "cell_type": "markdown",
   "metadata": {},
   "source": [
    "1. The RMSE of the training set is 8.963434181280334\n",
    "2. The RMSE of the test set is 9.292691152622707\n",
    "3. The RMSE for the test set is a little bit bigger than that of the training set. Yes, it is as expected, as they are comparably similar.\n",
    "4. The time to compute the predicted values for the test data is 0.02 seconds.\n"
   ]
  },
  {
   "cell_type": "markdown",
   "metadata": {},
   "source": [
    "---\n",
    "\n",
    "## Part 2: Nearest Neighbors\n"
   ]
  },
  {
   "cell_type": "markdown",
   "metadata": {},
   "source": [
    "### 2.1 Nearest Neighbors: Distance function\n",
    "Let's try and build a machine learning algorithm to beat the \"Average Value\" baseline that you computed above.  Soon you will implement the Nearest Neighbor algorithm, but first you need to create a distance metric to measure the distance (and similarity) between two instances.  Write a generic function to compute the L-Norm distance (called the [*p*-norm][1] distance on Wikipedia). Verify that your function works by computing the Euclidean distance between the points (2,7) and (5,11), and then compute the Manhattan distance between (4,4) and (12,10).\n",
    "\n",
    "[1]: https://en.wikipedia.org/wiki/Norm_(mathematics)#p-norm"
   ]
  },
  {
   "cell_type": "code",
   "execution_count": 15,
   "metadata": {},
   "outputs": [],
   "source": [
    "\"\"\"\n",
    "Function\n",
    "--------\n",
    "distance\n",
    "\n",
    "Given two instances and a value for L, return the L-Norm distance between them\n",
    "\n",
    "Parameters\n",
    "----------\n",
    "x1, x2 : array\n",
    "    Array of numerical values corresponding to predictions for each of the N observations\n",
    "\n",
    "L: int\n",
    "    Value of L to use in computing distances\n",
    "\n",
    "Returns\n",
    "-------\n",
    "dist : int\n",
    "    The L-norm distance between instances\n",
    "\n",
    "Example\n",
    "-------\n",
    ">>> print(distance((2,7),(5,11),2))\n",
    "5\n",
    "\n",
    "\"\"\"\n",
    "def distance(x1, x2, L):\n",
    "    x1 = np.array(x1)\n",
    "    x2 = np.array(x2)\n",
    "    \n",
    "    if x2.ndim != 1:\n",
    "        dist = (np.sum((abs(x1 - x2))**L, axis=1))**(1/L)\n",
    "    else:\n",
    "        dist = (np.sum((abs(x1 - x2))**L))**(1/L)\n",
    "    return dist"
   ]
  },
  {
   "cell_type": "code",
   "execution_count": 16,
   "metadata": {},
   "outputs": [
    {
     "name": "stdout",
     "output_type": "stream",
     "text": [
      "5.0\n"
     ]
    }
   ],
   "source": [
    "print(distance((2,7),(5,11),2))"
   ]
  },
  {
   "cell_type": "markdown",
   "metadata": {},
   "source": [
    "### 2.2 Basic Nearest Neighbor algorithm\n",
    "\n",
    "Your next task is to implement a basic nearest neighbor algorithm from scratch.  Your simple model will use three input features (`CRIM, RM and ZN`) and a single output (`MEDV`).  In other words, you are modelling the relationship between median home value and crime rates, house size and the proportion of residential land zoned for lots.\n",
    "\n",
    "Use your training data (bdata_train) to \"fit\" your model, although as you know, with Nearest Neighbors there is no real training, you just need to keep your training data in memory.  Write a function that predicts the median home value using the nearest neighbor algorithm we discussed in class.  Since this is a small dataset, you can simply compare your test instance to every instance in the training set, and return the `MEDV` value of the closest training instance.  Have your function take L as an input, where L is passed to the distance function. Use L=2 for all questions henceforth unless explicitly stated otherwise.\n",
    "\n",
    "Make sure to do the following - \n",
    "1. Fill in the function specification below\n",
    "2. Use your algorithm to predict the median home value of every instance in the test set. Report the RMSE (\"test RMSE\")\n",
    "3. Use your algorithm to predict the median home value of every instance in the training set and report the training RMSE.\n",
    "4. Create a scatter plot that shows the true value of each instance on the x-axis and the predicted value of each instance on the y-axis. Color the training instances in red and the test instances in blue. \n",
    "5. Report an estimate of the total time taken by your code to predict the nearest neighbors for all the values in the test data set.\n",
    "6. How does the performance (test RMSE and total runtime) of your nearest neighbors algorithm compare to the baseline in part 1.3?"
   ]
  },
  {
   "cell_type": "code",
   "execution_count": 17,
   "metadata": {
    "jupyter": {
     "outputs_hidden": true
    }
   },
   "outputs": [],
   "source": [
    "\"\"\"\n",
    "Function\n",
    "--------\n",
    "Nearest Neighbors\n",
    "\n",
    "Implementation of nearest neighbors algorithm.\n",
    "\n",
    "Parameters\n",
    "----------\n",
    "x_train: array\n",
    "    Array of numerical feature values for training the model.\n",
    "y_train: array\n",
    "    Array of numerical output values for training the model.\n",
    "x_test: array\n",
    "    Array of numerical feature values for testing the model.\n",
    "y_test: array\n",
    "    Array of numerical output values for testing the model.\n",
    "L: int\n",
    "    Order of L-norm function used for calculating distance.\n",
    "\n",
    "Returns\n",
    "-------\n",
    "rmse : int\n",
    "    Value of the RMSE from data.\n",
    "\"\"\"\n",
    "\n",
    "import time\n",
    "def nneighbor(x_train, y_train, x_test, y_test, L):\n",
    "    start_time = time.time()\n",
    "    \n",
    "    test_len = len(x_test)\n",
    "    train_len = len(x_train)\n",
    "    \n",
    "    y_pred = np.zeros(test_len)\n",
    "    \n",
    "    for i in range(test_len):\n",
    "        dist = distance(x_test[i],x_train,L)\n",
    "        y_pred[i] = y_train[np.argmin(dist)]\n",
    "    \n",
    "    rmse = compute_rmse(y_pred, y_test)\n",
    "    \n",
    "    t = (time.time() - start_time)\n",
    "    \n",
    "    print(\"Time taken: {0:.2f} seconds\".format(time.time() - start_time))\n",
    "    \n",
    "    return y_pred,rmse,t\n"
   ]
  },
  {
   "cell_type": "code",
   "execution_count": 18,
   "metadata": {},
   "outputs": [
    {
     "name": "stdout",
     "output_type": "stream",
     "text": [
      "Time taken: 0.01 seconds\n",
      "RMSE test set: 7.115044502159951\n",
      "Time taken: 0.01 seconds\n",
      "RMSE training set: 0.0\n"
     ]
    }
   ],
   "source": [
    "L = 2\n",
    "train_x = bdata_train[['CRIM','RM','ZN']].values\n",
    "test_x = bdata_test[['CRIM','RM','ZN']].values\n",
    "train_y = bdata_train['MEDV'].values\n",
    "test_y = bdata_test['MEDV'].values\n",
    "\n",
    "test_y_pred, test_rmse, test_time= nneighbor(train_x,train_y,test_x,test_y,L)\n",
    "print('RMSE test set:',test_rmse)\n",
    "\n",
    "train_y_pred, train_rmse, train_time = nneighbor(train_x,train_y,train_x,train_y,L)\n",
    "print('RMSE training set:',train_rmse)"
   ]
  },
  {
   "cell_type": "code",
   "execution_count": 19,
   "metadata": {},
   "outputs": [
    {
     "data": {
      "image/png": "[encoded data removed]",
      "text/plain": [
       "<Figure size 864x576 with 1 Axes>"
      ]
     },
     "metadata": {
      "needs_background": "light"
     },
     "output_type": "display_data"
    }
   ],
   "source": [
    "plt.figure(figsize=(12,8))\n",
    "plt.scatter(bdata_train.MEDV,train_y_pred,c='r',label='Training Set',alpha=0.5)\n",
    "plt.scatter(bdata_test.MEDV,test_y_pred,c='b',label='Test Set',alpha=0.5)\n",
    "plt.xlabel('True Median Home Values')\n",
    "plt.ylabel('Predicted Median Home Values')\n",
    "plt.title('Baseline model')\n",
    "plt.legend(loc='lower right')\n",
    "plt.show()"
   ]
  },
  {
   "cell_type": "markdown",
   "metadata": {},
   "source": [
    "1. Test RMSE: 7.115044502159951 and time taken is 0.01 seconds  \n",
    "2. Training RMSE: 0.0 and time taken is 0.01 seconds  \n",
    "3. By using Nearest Neighbor algorithm, the test RMSE is smaller than that of using baseline model. In terms of the total runtime, there is no significant difference."
   ]
  },
  {
   "cell_type": "markdown",
   "metadata": {},
   "source": [
    "### 2.3 Results and Normalization\n",
    "\n",
    "If you were being astute, you would have noticed that we never normalized our features -- a big no-no with Nearest Neighbor algorithms.  Write a generic normalization function that takes as input an array of values for a given feature, and returns the standardized array (subtract the mean and divide by the standard deviation).\n",
    "\n",
    "Re-run the Nearest Neighbor algorithm on the normalized dataset (still just using `CRIM, RM and ZN` as input), and compare the RMSE from this method with your previous RMSE evaluations. What do you observe?\n",
    "\n",
    "*NOTE*: To normalize properly, you should compute the mean and standard deviation on the training set, and use the same values to normalize both the training and the testing dataset.\n",
    "\n",
    "*NOTE 2*: In this case, the normalization may or may not reduce the RMSE; don't get confused if you find that to be the case."
   ]
  },
  {
   "cell_type": "code",
   "execution_count": 20,
   "metadata": {
    "jupyter": {
     "outputs_hidden": true
    }
   },
   "outputs": [],
   "source": [
    "\"\"\"\n",
    "Function\n",
    "--------\n",
    "Normalize data\n",
    "\n",
    "Normalize all of the features in a data frame.\n",
    "\n",
    "Parameters\n",
    "----------\n",
    "raw_data: array\n",
    "    Array of numerical values to normalize.\n",
    "\n",
    "Returns\n",
    "-------\n",
    "normalized_data : array\n",
    "    The array with normalized values for all features\n",
    "\"\"\"\n",
    "def normalize(raw_data):\n",
    "    \n",
    "    normalized_data = (raw_data - np.mean(raw_data)) / np.std(raw_data)\n",
    "    \n",
    "    return normalized_data"
   ]
  },
  {
   "cell_type": "code",
   "execution_count": 21,
   "metadata": {},
   "outputs": [],
   "source": [
    "bdata_train_normalized = bdata_train.copy()\n",
    "bdata_test_normalized = bdata_test.copy()\n",
    "\n",
    "for col in bdata_train_normalized.columns:\n",
    "    if col != 'MEDV':\n",
    "        bdata_train_normalized[col] = normalize(bdata_train[col])"
   ]
  },
  {
   "cell_type": "code",
   "execution_count": 22,
   "metadata": {},
   "outputs": [],
   "source": [
    "def normalize_test(train_data, test_data):\n",
    "    mean_value = np.mean(train_data)\n",
    "    std_value = np.std(train_data)\n",
    "    normalized_value = (test_data - mean_value) / std_value\n",
    "    return normalized_value"
   ]
  },
  {
   "cell_type": "code",
   "execution_count": 23,
   "metadata": {},
   "outputs": [],
   "source": [
    "for col1, col2 in zip(bdata_train.columns, bdata_test_normalized.columns):\n",
    "    if col1 != 'MEDV' and col2 != 'MEDV':\n",
    "        bdata_test_normalized[col2] = normalize_test(bdata_train[col1],bdata_test_normalized[col2])"
   ]
  },
  {
   "cell_type": "code",
   "execution_count": 24,
   "metadata": {},
   "outputs": [
    {
     "name": "stdout",
     "output_type": "stream",
     "text": [
      "Time taken: 0.00 seconds\n",
      "RMSE test set: 7.455732878524116\n"
     ]
    }
   ],
   "source": [
    "L = 2\n",
    "train_x = bdata_train_normalized[['CRIM','RM','ZN']].values\n",
    "test_x = bdata_test_normalized[['CRIM','RM','ZN']].values\n",
    "train_y = bdata_train_normalized['MEDV'].values\n",
    "test_y = bdata_test_normalized['MEDV'].values\n",
    "\n",
    "test_y_pred, test_rmse, test_time = nneighbor(train_x,train_y,test_x,test_y,L)\n",
    "print('RMSE test set:',test_rmse)\n"
   ]
  },
  {
   "cell_type": "markdown",
   "metadata": {},
   "source": [
    "RMSE for normalized test set is a little bigger than previous RMSE for original test set. It increased from 7.115044502159951 to 7.455732878524116"
   ]
  },
  {
   "cell_type": "markdown",
   "metadata": {},
   "source": [
    "### 2.4 Optimization\n",
    "\n",
    "A lot of the decisions we've made so far have been arbitrary.  Try to increase the performance of your nearest neighbor algorithm by adding features that you think might be relevant, and by using different values of L in the distance function.  Try a model that uses a different set of 2 features, then try at least one model that uses more than 4 features, then try using a different value of L.  If you're having fun, try a few different combinations of features and L! Use the test set to report the RMSE values.\n",
    "\n",
    "What combination of features and distance function provide the lowest RMSE on the test set?  Do your decisions affect the running time of the algorithm?\n",
    "\n",
    "*NOTE:* For this and all subsequent questions, you should use normalized features. "
   ]
  },
  {
   "cell_type": "code",
   "execution_count": 25,
   "metadata": {},
   "outputs": [
    {
     "data": {
      "text/plain": [
       "Index(['CRIM', 'ZN', 'INDUS', 'CHAS', 'NOX', 'RM', 'AGE', 'DIS', 'RAD', 'TAX',\n",
       "       'PTRATIO', 'B', 'LSTAT', 'MEDV'],\n",
       "      dtype='object')"
      ]
     },
     "execution_count": 25,
     "metadata": {},
     "output_type": "execute_result"
    }
   ],
   "source": [
    "bdata_test.columns"
   ]
  },
  {
   "cell_type": "code",
   "execution_count": 26,
   "metadata": {
    "jupyter": {
     "outputs_hidden": true
    }
   },
   "outputs": [
    {
     "name": "stdout",
     "output_type": "stream",
     "text": [
      "Time taken: 0.01 seconds\n",
      "RMSE test set: 9.917486346502873\n"
     ]
    }
   ],
   "source": [
    "# Try a model that uses a different set of 2 feature\n",
    "L = 2\n",
    "train_x = bdata_train_normalized[['TAX','AGE']].values\n",
    "test_x = bdata_test_normalized[['TAX','AGE']].values\n",
    "train_y = bdata_train_normalized['MEDV'].values\n",
    "test_y = bdata_test_normalized['MEDV'].values\n",
    "\n",
    "test_y_pred, test_rmse, time_time = nneighbor(train_x,train_y,test_x,test_y,L)\n",
    "print('RMSE test set:',test_rmse)"
   ]
  },
  {
   "cell_type": "code",
   "execution_count": 27,
   "metadata": {},
   "outputs": [
    {
     "name": "stdout",
     "output_type": "stream",
     "text": [
      "Time taken: 0.01 seconds\n",
      "RMSE test set: 9.96148883664082\n"
     ]
    }
   ],
   "source": [
    "# Try at least one model that uses more than 4 features\n",
    "L = 2\n",
    "train_x = bdata_train_normalized[['CHAS','NOX','DIS','TAX','AGE']].values\n",
    "test_x = bdata_test_normalized[['CHAS','NOX','DIS','TAX','AGE']].values\n",
    "train_y = bdata_train_normalized['MEDV'].values\n",
    "test_y = bdata_test_normalized['MEDV'].values\n",
    "\n",
    "test_y_pred, test_rmse, test_time = nneighbor(train_x,train_y,test_x,test_y,L)\n",
    "print('RMSE test set:',test_rmse)"
   ]
  },
  {
   "cell_type": "code",
   "execution_count": 28,
   "metadata": {},
   "outputs": [
    {
     "name": "stdout",
     "output_type": "stream",
     "text": [
      "Time taken: 0.00 seconds\n",
      "RMSE test set: 6.772239536996361\n"
     ]
    }
   ],
   "source": [
    "L = 2\n",
    "train_x = bdata_train_normalized[['CRIM','RM','ZN','AGE','DIS','TAX']].values\n",
    "test_x = bdata_test_normalized[['CRIM','RM','ZN','AGE','DIS','TAX']].values\n",
    "train_y = bdata_train_normalized['MEDV'].values\n",
    "test_y = bdata_test_normalized['MEDV'].values\n",
    "\n",
    "test_y_pred, test_rmse, test_time = nneighbor(train_x,train_y,test_x,test_y,L)\n",
    "print('RMSE test set:',test_rmse)"
   ]
  },
  {
   "cell_type": "code",
   "execution_count": 29,
   "metadata": {},
   "outputs": [
    {
     "name": "stdout",
     "output_type": "stream",
     "text": [
      "Time taken: 0.01 seconds\n",
      "RMSE test set: 10.156588955579448\n"
     ]
    }
   ],
   "source": [
    "# Try using a different value of L\n",
    "L = 5\n",
    "train_x = bdata_train_normalized[['CHAS','NOX','DIS','TAX','AGE']].values\n",
    "test_x = bdata_test_normalized[['CHAS','NOX','DIS','TAX','AGE']].values\n",
    "train_y = bdata_train_normalized['MEDV'].values\n",
    "test_y = bdata_test_normalized['MEDV'].values\n",
    "\n",
    "test_y_pred, test_rmse,test_time = nneighbor(train_x,train_y,test_x,test_y,L)\n",
    "print('RMSE test set:',test_rmse)"
   ]
  },
  {
   "cell_type": "markdown",
   "metadata": {},
   "source": [
    "1. From my combinations examples, the features include CRIM, RM, ZN, AGE, DIS, TAX along with the L equals 2 for the distance function provides the lowest RMSE on the test set.  \n",
    "2. Yes, different combinations of the number of features and the value of L in the distance function affects the running time of the algorithm"
   ]
  },
  {
   "cell_type": "markdown",
   "metadata": {},
   "source": [
    "### 2.5 Cross-Validation\n",
    "\n",
    "The more you tinkered with your features and distance function, the higher the risk that you overfit your training data.  One solution to this sort of overfitting is to use cross-validation (see K-fold [cross-validation][1].  Here you must implement a simple k-fold cross-validation algorithm yourself.  The function you write here will be used several more times in this problem set, so do your best to write efficient code! (Note that the sklearn package has a built-in [K-fold][2] iterator -- you should *not* be invoking that or any related algorithms in this section of the problem set.)\n",
    "\n",
    "Use 25-fold cross-validation and report the average RMSE for Nearest Neighbors using Euclidean distance with `CRIM,RM and ZN` input features, as well as the total running time for the full run of 25 folds.  In other words, randomly divide your training dataset (created in 1.2) into 25 equally-sized samples.\n",
    "\n",
    "For each of the 25 iterations (the \"folds\"), use 24 samples as \"training data\" (even though there is no training in k-NN!), and the remaining 1 sample for validation.  Compute the RMSE of that particular validation set, then move on to the next iteration.  \n",
    "\n",
    " - Report the average cross-validated RMSE across the 25 iterations. What do you observe?\n",
    " \n",
    " - Create a histogram of the RMSEs for the folds (there should be 25 of these). Additionally, use a horizontal line to mark the average cross-validated RMSE.\n",
    "\n",
    "\n",
    "[1]: http://en.wikipedia.org/wiki/Cross-validation_(statistics)\n",
    "[2]: http://scikit-learn.org/stable/modules/cross_validation.html#cross-validation\n",
    "\n",
    "\n",
    "\n",
    "NOTE: To perform any randomized operation, only use functions in the *numpy library (np.random)*. Do not use other packages for random functions.\n",
    "\n",
    "HINT: Running 25-fold cross validation might be time-consuming. Try starting with 5 folds."
   ]
  },
  {
   "cell_type": "code",
   "execution_count": 30,
   "metadata": {
    "jupyter": {
     "outputs_hidden": true
    }
   },
   "outputs": [],
   "source": [
    "cv_data = bdata_train.copy()\n",
    "cv_data = cv_data.reset_index(drop=True)\n",
    "\n",
    "len_fold = int(len(cv_data)/25)\n",
    "\n",
    "fold_index = np.random.choice(range(len(cv_data)),(25,len_fold),replace = False)\n",
    "\n",
    "for i in range(25):\n",
    "    cv_data.loc[fold_index[i], 'fold'] = i + 1"
   ]
  },
  {
   "cell_type": "code",
   "execution_count": 31,
   "metadata": {},
   "outputs": [
    {
     "name": "stdout",
     "output_type": "stream",
     "text": [
      "Time taken: 0.00 seconds\n",
      "Time taken: 0.00 seconds\n",
      "Time taken: 0.00 seconds\n",
      "Time taken: 0.00 seconds\n",
      "Time taken: 0.00 seconds\n",
      "Time taken: 0.00 seconds\n",
      "Time taken: 0.00 seconds\n",
      "Time taken: 0.00 seconds\n",
      "Time taken: 0.00 seconds\n",
      "Time taken: 0.00 seconds\n",
      "Time taken: 0.00 seconds\n",
      "Time taken: 0.00 seconds\n",
      "Time taken: 0.00 seconds\n",
      "Time taken: 0.00 seconds\n",
      "Time taken: 0.00 seconds\n",
      "Time taken: 0.00 seconds\n",
      "Time taken: 0.00 seconds\n",
      "Time taken: 0.00 seconds\n",
      "Time taken: 0.00 seconds\n",
      "Time taken: 0.00 seconds\n",
      "Time taken: 0.00 seconds\n",
      "Time taken: 0.00 seconds\n",
      "Time taken: 0.00 seconds\n",
      "Time taken: 0.00 seconds\n",
      "Time taken: 0.00 seconds\n"
     ]
    },
    {
     "data": {
      "text/html": [
       "<div>\n",
       "<style scoped>\n",
       "    .dataframe tbody tr th:only-of-type {\n",
       "        vertical-align: middle;\n",
       "    }\n",
       "\n",
       "    .dataframe tbody tr th {\n",
       "        vertical-align: top;\n",
       "    }\n",
       "\n",
       "    .dataframe thead th {\n",
       "        text-align: right;\n",
       "    }\n",
       "</style>\n",
       "<table border=\"1\" class=\"dataframe\">\n",
       "  <thead>\n",
       "    <tr style=\"text-align: right;\">\n",
       "      <th></th>\n",
       "      <th>RMSE</th>\n",
       "    </tr>\n",
       "  </thead>\n",
       "  <tbody>\n",
       "    <tr>\n",
       "      <th>0</th>\n",
       "      <td>5.507389</td>\n",
       "    </tr>\n",
       "    <tr>\n",
       "      <th>1</th>\n",
       "      <td>3.920884</td>\n",
       "    </tr>\n",
       "    <tr>\n",
       "      <th>2</th>\n",
       "      <td>3.775270</td>\n",
       "    </tr>\n",
       "    <tr>\n",
       "      <th>3</th>\n",
       "      <td>7.450280</td>\n",
       "    </tr>\n",
       "    <tr>\n",
       "      <th>4</th>\n",
       "      <td>10.009462</td>\n",
       "    </tr>\n",
       "    <tr>\n",
       "      <th>5</th>\n",
       "      <td>6.028543</td>\n",
       "    </tr>\n",
       "    <tr>\n",
       "      <th>6</th>\n",
       "      <td>5.723985</td>\n",
       "    </tr>\n",
       "    <tr>\n",
       "      <th>7</th>\n",
       "      <td>9.405389</td>\n",
       "    </tr>\n",
       "    <tr>\n",
       "      <th>8</th>\n",
       "      <td>10.008996</td>\n",
       "    </tr>\n",
       "    <tr>\n",
       "      <th>9</th>\n",
       "      <td>6.758451</td>\n",
       "    </tr>\n",
       "    <tr>\n",
       "      <th>10</th>\n",
       "      <td>6.136340</td>\n",
       "    </tr>\n",
       "    <tr>\n",
       "      <th>11</th>\n",
       "      <td>12.271430</td>\n",
       "    </tr>\n",
       "    <tr>\n",
       "      <th>12</th>\n",
       "      <td>10.767296</td>\n",
       "    </tr>\n",
       "    <tr>\n",
       "      <th>13</th>\n",
       "      <td>3.489604</td>\n",
       "    </tr>\n",
       "    <tr>\n",
       "      <th>14</th>\n",
       "      <td>6.196343</td>\n",
       "    </tr>\n",
       "    <tr>\n",
       "      <th>15</th>\n",
       "      <td>4.657181</td>\n",
       "    </tr>\n",
       "    <tr>\n",
       "      <th>16</th>\n",
       "      <td>5.304841</td>\n",
       "    </tr>\n",
       "    <tr>\n",
       "      <th>17</th>\n",
       "      <td>3.939712</td>\n",
       "    </tr>\n",
       "    <tr>\n",
       "      <th>18</th>\n",
       "      <td>7.527992</td>\n",
       "    </tr>\n",
       "    <tr>\n",
       "      <th>19</th>\n",
       "      <td>4.642772</td>\n",
       "    </tr>\n",
       "    <tr>\n",
       "      <th>20</th>\n",
       "      <td>4.618008</td>\n",
       "    </tr>\n",
       "    <tr>\n",
       "      <th>21</th>\n",
       "      <td>5.083437</td>\n",
       "    </tr>\n",
       "    <tr>\n",
       "      <th>22</th>\n",
       "      <td>14.712716</td>\n",
       "    </tr>\n",
       "    <tr>\n",
       "      <th>23</th>\n",
       "      <td>8.018770</td>\n",
       "    </tr>\n",
       "    <tr>\n",
       "      <th>24</th>\n",
       "      <td>4.809297</td>\n",
       "    </tr>\n",
       "  </tbody>\n",
       "</table>\n",
       "</div>"
      ],
      "text/plain": [
       "         RMSE\n",
       "0    5.507389\n",
       "1    3.920884\n",
       "2    3.775270\n",
       "3    7.450280\n",
       "4   10.009462\n",
       "5    6.028543\n",
       "6    5.723985\n",
       "7    9.405389\n",
       "8   10.008996\n",
       "9    6.758451\n",
       "10   6.136340\n",
       "11  12.271430\n",
       "12  10.767296\n",
       "13   3.489604\n",
       "14   6.196343\n",
       "15   4.657181\n",
       "16   5.304841\n",
       "17   3.939712\n",
       "18   7.527992\n",
       "19   4.642772\n",
       "20   4.618008\n",
       "21   5.083437\n",
       "22  14.712716\n",
       "23   8.018770\n",
       "24   4.809297"
      ]
     },
     "execution_count": 31,
     "metadata": {},
     "output_type": "execute_result"
    }
   ],
   "source": [
    "RMSE_cv = np.zeros(25)\n",
    "time_cv = np.zeros(25)\n",
    "\n",
    "for i in range(25):\n",
    "    cv_train_fold = cv_data[cv_data.fold != (i+1)]\n",
    "    cv_valid_fold = cv_data[cv_data.fold == (i+1)]\n",
    "    \n",
    "    cv_train_normalized_fold = cv_train_fold.copy()\n",
    "    cv_valid_normalized_fold = cv_valid_fold.copy()\n",
    "    \n",
    "    for col in cv_train_normalized_fold.columns:\n",
    "        if col != 'MEDV':\n",
    "            cv_train_normalized_fold[col] = normalize(cv_train_fold[col])\n",
    "            \n",
    "    for col1, col2 in zip(cv_train_fold.columns, cv_valid_normalized_fold.columns):\n",
    "        if col1 != 'MEDV' and col2 != 'MEDV':\n",
    "            cv_valid_normalized_fold[col2] = normalize_test(cv_train_fold[col1],cv_valid_normalized_fold[col2])\n",
    "            \n",
    "    y_pred, rmse, t = nneighbor(cv_train_normalized_fold[['CRIM','RM','ZN']].values,\n",
    "                                cv_train_normalized_fold['MEDV'].values,\n",
    "                                cv_valid_normalized_fold[['CRIM','RM','ZN']].values,\n",
    "                                cv_valid_normalized_fold['MEDV'].values,\n",
    "                                2)\n",
    "    \n",
    "    RMSE_cv[i] = rmse\n",
    "    time_cv[i] = t\n",
    "    \n",
    "RMSE_cv = pd.DataFrame(data = RMSE_cv,\n",
    "                       columns = ['RMSE'])\n",
    "RMSE_cv"
   ]
  },
  {
   "cell_type": "code",
   "execution_count": 32,
   "metadata": {},
   "outputs": [
    {
     "data": {
      "text/plain": [
       "6.830575496871222"
      ]
     },
     "execution_count": 32,
     "metadata": {},
     "output_type": "execute_result"
    }
   ],
   "source": [
    "# Average RMSE\n",
    "np.mean(RMSE_cv.RMSE)"
   ]
  },
  {
   "cell_type": "code",
   "execution_count": 33,
   "metadata": {},
   "outputs": [
    {
     "data": {
      "text/plain": [
       "0.0150909423828125"
      ]
     },
     "execution_count": 33,
     "metadata": {},
     "output_type": "execute_result"
    }
   ],
   "source": [
    "# Total time\n",
    "sum(time_cv)"
   ]
  },
  {
   "cell_type": "code",
   "execution_count": 34,
   "metadata": {},
   "outputs": [
    {
     "data": {
      "image/png": "[encoded data removed]",
      "text/plain": [
       "<Figure size 432x288 with 1 Axes>"
      ]
     },
     "metadata": {
      "needs_background": "light"
     },
     "output_type": "display_data"
    }
   ],
   "source": [
    "# Create a histogram of the RMSEs for the folds\n",
    "rmse_max = RMSE_cv.RMSE.max()\n",
    "rmse_min = RMSE_cv.RMSE.min()\n",
    "\n",
    "plt.hist(RMSE_cv.RMSE, bins=int(rmse_max - rmse_min), facecolor = 'g', edgecolor = 'white')\n",
    "plt.axis([rmse_min-1,rmse_max+1,0,10])\n",
    "plt.xlabel('RMSE value of validation set')\n",
    "plt.ylabel('No. of sets')\n",
    "plt.title('Histogram: RMSE of Cross-validation')\n",
    "plt.axvline(RMSE_cv.RMSE.mean(), color='k', linestyle='dashed', linewidth=1)\n",
    "min_ylim, max_ylim = plt.ylim()\n",
    "plt.text(RMSE_cv.RMSE.mean()*1.1, max_ylim*0.9, 'Mean: {:.2f}'.format(RMSE_cv.RMSE.mean()))\n",
    "\n",
    "ax = plt.gca()\n",
    "ax.spines['right'].set_color('none')\n",
    "ax.spines['top'].set_color('none')\n",
    "ax.yaxis.set_ticks_position('none')\n",
    "ax.xaxis.set_ticks_position('none')\n",
    "\n",
    "plt.gca().yaxis.grid(True)\n",
    "plt.show()"
   ]
  },
  {
   "cell_type": "markdown",
   "metadata": {},
   "source": [
    "The average cross-validated RMSE across the 25 iterations is 6.83. This is the RMSE on the validation set not on the test set. Cross-validation indeed provides a fully use of the data."
   ]
  },
  {
   "cell_type": "markdown",
   "metadata": {},
   "source": [
    "### 2.6 K-Nearest Neighbors Algorithm\n",
    "\n",
    "Implement the K-Nearest Neighbors algorithm.  Use 10-fold cross validation and L2 normalization, and the same features as in 2.5. Report the RMSE for K=5 and the running time of the algorithm. What do you observe?"
   ]
  },
  {
   "cell_type": "code",
   "execution_count": 35,
   "metadata": {},
   "outputs": [],
   "source": [
    "knn_cv_data = bdata_train.copy()\n",
    "knn_cv_data = knn_cv_data.reset_index(drop=True)\n",
    "\n",
    "len_fold = int(len(knn_cv_data)/10)\n",
    "\n",
    "fold_index = np.random.choice(range(len(knn_cv_data)),(10,len_fold),replace = False)\n",
    "\n",
    "for i in range(10):\n",
    "    knn_cv_data.loc[fold_index[i], 'fold'] = i+1"
   ]
  },
  {
   "cell_type": "code",
   "execution_count": 36,
   "metadata": {},
   "outputs": [],
   "source": [
    "knn_cv_data_normalized = knn_cv_data.copy()\n",
    "for col in knn_cv_data_normalized.columns:\n",
    "    if col != 'MEDV' and col != 'fold':\n",
    "        knn_cv_data_normalized[col] = normalize(knn_cv_data[col])"
   ]
  },
  {
   "cell_type": "code",
   "execution_count": 37,
   "metadata": {},
   "outputs": [
    {
     "data": {
      "text/html": [
       "<div>\n",
       "<style scoped>\n",
       "    .dataframe tbody tr th:only-of-type {\n",
       "        vertical-align: middle;\n",
       "    }\n",
       "\n",
       "    .dataframe tbody tr th {\n",
       "        vertical-align: top;\n",
       "    }\n",
       "\n",
       "    .dataframe thead th {\n",
       "        text-align: right;\n",
       "    }\n",
       "</style>\n",
       "<table border=\"1\" class=\"dataframe\">\n",
       "  <thead>\n",
       "    <tr style=\"text-align: right;\">\n",
       "      <th></th>\n",
       "      <th>CRIM</th>\n",
       "      <th>ZN</th>\n",
       "      <th>INDUS</th>\n",
       "      <th>CHAS</th>\n",
       "      <th>NOX</th>\n",
       "      <th>RM</th>\n",
       "      <th>AGE</th>\n",
       "      <th>DIS</th>\n",
       "      <th>RAD</th>\n",
       "      <th>TAX</th>\n",
       "      <th>PTRATIO</th>\n",
       "      <th>B</th>\n",
       "      <th>LSTAT</th>\n",
       "      <th>MEDV</th>\n",
       "      <th>fold</th>\n",
       "    </tr>\n",
       "  </thead>\n",
       "  <tbody>\n",
       "    <tr>\n",
       "      <th>0</th>\n",
       "      <td>2.464445</td>\n",
       "      <td>-0.494409</td>\n",
       "      <td>1.045081</td>\n",
       "      <td>-0.254179</td>\n",
       "      <td>2.179320</td>\n",
       "      <td>-0.381070</td>\n",
       "      <td>0.884878</td>\n",
       "      <td>-0.875253</td>\n",
       "      <td>1.741746</td>\n",
       "      <td>1.623107</td>\n",
       "      <td>0.897025</td>\n",
       "      <td>0.372790</td>\n",
       "      <td>1.382367</td>\n",
       "      <td>10.5</td>\n",
       "      <td>2.0</td>\n",
       "    </tr>\n",
       "    <tr>\n",
       "      <th>1</th>\n",
       "      <td>-0.405731</td>\n",
       "      <td>-0.494409</td>\n",
       "      <td>-0.047827</td>\n",
       "      <td>-0.254179</td>\n",
       "      <td>0.142520</td>\n",
       "      <td>-0.369005</td>\n",
       "      <td>-0.853757</td>\n",
       "      <td>-0.040599</td>\n",
       "      <td>-0.609952</td>\n",
       "      <td>-0.781052</td>\n",
       "      <td>0.080312</td>\n",
       "      <td>0.427463</td>\n",
       "      <td>-0.468870</td>\n",
       "      <td>25.0</td>\n",
       "      <td>1.0</td>\n",
       "    </tr>\n",
       "    <tr>\n",
       "      <th>2</th>\n",
       "      <td>-0.398334</td>\n",
       "      <td>-0.494409</td>\n",
       "      <td>-0.047115</td>\n",
       "      <td>3.934242</td>\n",
       "      <td>0.359551</td>\n",
       "      <td>-0.570027</td>\n",
       "      <td>-0.457348</td>\n",
       "      <td>-0.035179</td>\n",
       "      <td>-0.609952</td>\n",
       "      <td>-0.726823</td>\n",
       "      <td>0.156476</td>\n",
       "      <td>0.396846</td>\n",
       "      <td>0.494741</td>\n",
       "      <td>22.4</td>\n",
       "      <td>8.0</td>\n",
       "    </tr>\n",
       "    <tr>\n",
       "      <th>3</th>\n",
       "      <td>-0.443454</td>\n",
       "      <td>2.899021</td>\n",
       "      <td>-1.406776</td>\n",
       "      <td>-0.254179</td>\n",
       "      <td>-0.214925</td>\n",
       "      <td>1.420486</td>\n",
       "      <td>-1.055439</td>\n",
       "      <td>1.594584</td>\n",
       "      <td>-0.845122</td>\n",
       "      <td>-0.455678</td>\n",
       "      <td>-2.699461</td>\n",
       "      <td>-0.009393</td>\n",
       "      <td>-0.519658</td>\n",
       "      <td>30.3</td>\n",
       "      <td>5.0</td>\n",
       "    </tr>\n",
       "    <tr>\n",
       "      <th>4</th>\n",
       "      <td>-0.240184</td>\n",
       "      <td>-0.494409</td>\n",
       "      <td>1.269859</td>\n",
       "      <td>-0.254179</td>\n",
       "      <td>-0.487283</td>\n",
       "      <td>1.579553</td>\n",
       "      <td>0.829242</td>\n",
       "      <td>-0.925604</td>\n",
       "      <td>-0.492367</td>\n",
       "      <td>0.038410</td>\n",
       "      <td>-1.768681</td>\n",
       "      <td>0.209061</td>\n",
       "      <td>-1.468318</td>\n",
       "      <td>50.0</td>\n",
       "      <td>8.0</td>\n",
       "    </tr>\n",
       "    <tr>\n",
       "      <th>...</th>\n",
       "      <td>...</td>\n",
       "      <td>...</td>\n",
       "      <td>...</td>\n",
       "      <td>...</td>\n",
       "      <td>...</td>\n",
       "      <td>...</td>\n",
       "      <td>...</td>\n",
       "      <td>...</td>\n",
       "      <td>...</td>\n",
       "      <td>...</td>\n",
       "      <td>...</td>\n",
       "      <td>...</td>\n",
       "      <td>...</td>\n",
       "      <td>...</td>\n",
       "      <td>...</td>\n",
       "    </tr>\n",
       "    <tr>\n",
       "      <th>374</th>\n",
       "      <td>-0.423911</td>\n",
       "      <td>0.438784</td>\n",
       "      <td>-0.738476</td>\n",
       "      <td>-0.254179</td>\n",
       "      <td>-0.991547</td>\n",
       "      <td>0.453204</td>\n",
       "      <td>-1.876075</td>\n",
       "      <td>1.516293</td>\n",
       "      <td>-0.257198</td>\n",
       "      <td>-0.449652</td>\n",
       "      <td>0.214676</td>\n",
       "      <td>0.434654</td>\n",
       "      <td>-0.962951</td>\n",
       "      <td>24.4</td>\n",
       "      <td>10.0</td>\n",
       "    </tr>\n",
       "    <tr>\n",
       "      <th>375</th>\n",
       "      <td>-0.400970</td>\n",
       "      <td>-0.494409</td>\n",
       "      <td>-0.665793</td>\n",
       "      <td>3.934242</td>\n",
       "      <td>-0.192642</td>\n",
       "      <td>0.684348</td>\n",
       "      <td>-0.015735</td>\n",
       "      <td>-0.110274</td>\n",
       "      <td>-0.139613</td>\n",
       "      <td>-0.540034</td>\n",
       "      <td>-0.442994</td>\n",
       "      <td>0.048647</td>\n",
       "      <td>-0.641063</td>\n",
       "      <td>29.0</td>\n",
       "      <td>9.0</td>\n",
       "    </tr>\n",
       "    <tr>\n",
       "      <th>376</th>\n",
       "      <td>-0.392161</td>\n",
       "      <td>-0.494409</td>\n",
       "      <td>-0.497439</td>\n",
       "      <td>-0.254179</td>\n",
       "      <td>-0.979674</td>\n",
       "      <td>0.062537</td>\n",
       "      <td>-0.439962</td>\n",
       "      <td>0.206550</td>\n",
       "      <td>-0.492367</td>\n",
       "      <td>-0.672594</td>\n",
       "      <td>0.511133</td>\n",
       "      <td>0.441505</td>\n",
       "      <td>-0.751086</td>\n",
       "      <td>23.1</td>\n",
       "      <td>8.0</td>\n",
       "    </tr>\n",
       "    <tr>\n",
       "      <th>377</th>\n",
       "      <td>1.630790</td>\n",
       "      <td>-0.494409</td>\n",
       "      <td>1.032038</td>\n",
       "      <td>-0.254179</td>\n",
       "      <td>1.324453</td>\n",
       "      <td>-0.441491</td>\n",
       "      <td>0.989197</td>\n",
       "      <td>-0.979058</td>\n",
       "      <td>1.741746</td>\n",
       "      <td>1.629132</td>\n",
       "      <td>0.904446</td>\n",
       "      <td>-3.651270</td>\n",
       "      <td>1.687530</td>\n",
       "      <td>8.3</td>\n",
       "      <td>3.0</td>\n",
       "    </tr>\n",
       "    <tr>\n",
       "      <th>378</th>\n",
       "      <td>-0.415630</td>\n",
       "      <td>0.035815</td>\n",
       "      <td>-0.705784</td>\n",
       "      <td>-0.254179</td>\n",
       "      <td>0.074332</td>\n",
       "      <td>-0.424455</td>\n",
       "      <td>-1.180621</td>\n",
       "      <td>1.248025</td>\n",
       "      <td>-0.609952</td>\n",
       "      <td>-0.341194</td>\n",
       "      <td>0.122658</td>\n",
       "      <td>0.427791</td>\n",
       "      <td>-0.466541</td>\n",
       "      <td>20.9</td>\n",
       "      <td>7.0</td>\n",
       "    </tr>\n",
       "  </tbody>\n",
       "</table>\n",
       "<p>379 rows × 15 columns</p>\n",
       "</div>"
      ],
      "text/plain": [
       "         CRIM        ZN     INDUS      CHAS       NOX        RM       AGE  \\\n",
       "0    2.464445 -0.494409  1.045081 -0.254179  2.179320 -0.381070  0.884878   \n",
       "1   -0.405731 -0.494409 -0.047827 -0.254179  0.142520 -0.369005 -0.853757   \n",
       "2   -0.398334 -0.494409 -0.047115  3.934242  0.359551 -0.570027 -0.457348   \n",
       "3   -0.443454  2.899021 -1.406776 -0.254179 -0.214925  1.420486 -1.055439   \n",
       "4   -0.240184 -0.494409  1.269859 -0.254179 -0.487283  1.579553  0.829242   \n",
       "..        ...       ...       ...       ...       ...       ...       ...   \n",
       "374 -0.423911  0.438784 -0.738476 -0.254179 -0.991547  0.453204 -1.876075   \n",
       "375 -0.400970 -0.494409 -0.665793  3.934242 -0.192642  0.684348 -0.015735   \n",
       "376 -0.392161 -0.494409 -0.497439 -0.254179 -0.979674  0.062537 -0.439962   \n",
       "377  1.630790 -0.494409  1.032038 -0.254179  1.324453 -0.441491  0.989197   \n",
       "378 -0.415630  0.035815 -0.705784 -0.254179  0.074332 -0.424455 -1.180621   \n",
       "\n",
       "          DIS       RAD       TAX   PTRATIO         B     LSTAT  MEDV  fold  \n",
       "0   -0.875253  1.741746  1.623107  0.897025  0.372790  1.382367  10.5   2.0  \n",
       "1   -0.040599 -0.609952 -0.781052  0.080312  0.427463 -0.468870  25.0   1.0  \n",
       "2   -0.035179 -0.609952 -0.726823  0.156476  0.396846  0.494741  22.4   8.0  \n",
       "3    1.594584 -0.845122 -0.455678 -2.699461 -0.009393 -0.519658  30.3   5.0  \n",
       "4   -0.925604 -0.492367  0.038410 -1.768681  0.209061 -1.468318  50.0   8.0  \n",
       "..        ...       ...       ...       ...       ...       ...   ...   ...  \n",
       "374  1.516293 -0.257198 -0.449652  0.214676  0.434654 -0.962951  24.4  10.0  \n",
       "375 -0.110274 -0.139613 -0.540034 -0.442994  0.048647 -0.641063  29.0   9.0  \n",
       "376  0.206550 -0.492367 -0.672594  0.511133  0.441505 -0.751086  23.1   8.0  \n",
       "377 -0.979058  1.741746  1.629132  0.904446 -3.651270  1.687530   8.3   3.0  \n",
       "378  1.248025 -0.609952 -0.341194  0.122658  0.427791 -0.466541  20.9   7.0  \n",
       "\n",
       "[379 rows x 15 columns]"
      ]
     },
     "execution_count": 37,
     "metadata": {},
     "output_type": "execute_result"
    }
   ],
   "source": [
    "knn_cv_data_normalized"
   ]
  },
  {
   "cell_type": "code",
   "execution_count": 38,
   "metadata": {
    "jupyter": {
     "outputs_hidden": true
    }
   },
   "outputs": [],
   "source": [
    "\"\"\"\n",
    "Function\n",
    "--------\n",
    "K-Nearest Neighbors\n",
    "\n",
    "Implementation of nearest neighbors algorithm.\n",
    "\n",
    "Parameters\n",
    "----------\n",
    "x_train: array\n",
    "    Array of numerical feature values for training the model.\n",
    "y_train: array\n",
    "    Array of numerical output values for training the model.\n",
    "x_test: array\n",
    "    Array of numerical feature values for testing the model.\n",
    "y_test: array\n",
    "    Array of numerical output values for testing the model.\n",
    "L: int\n",
    "    Order of L-norm function used for calculating distance.\n",
    "K: int\n",
    "    Neighbors to include in algorithm\n",
    "    \n",
    "Returns\n",
    "-------\n",
    "rmse : int\n",
    "    Value of the RMSE from data.\n",
    "\"\"\"\n",
    "\n",
    "def knn(x_train, y_train, x_test, y_test, L, K):\n",
    "    start = time.time()\n",
    "    \n",
    "    test_len = len(x_test)\n",
    "    train_len = len(x_train)\n",
    "\n",
    "    y_pred = np.zeros(test_len)\n",
    "        \n",
    "    for i in range(test_len):\n",
    "        dist = distance(x_test[i], x_train, L)\n",
    "        y_pred[i] = np.mean(y_train.iloc[dist.argsort()[:K]])\n",
    "            \n",
    "    rmse = compute_rmse(y_pred, y_test)\n",
    "    \n",
    "    t = time.time() - start\n",
    "           \n",
    "    return rmse,t"
   ]
  },
  {
   "cell_type": "code",
   "execution_count": 39,
   "metadata": {},
   "outputs": [
    {
     "name": "stdout",
     "output_type": "stream",
     "text": [
      "RMSE:\n",
      "5.1462373278460545\n",
      "\n",
      "Time taken:\n",
      "0.05999326705932617\n"
     ]
    }
   ],
   "source": [
    "rmse_folds = np.zeros(10)\n",
    "t_folds = np.zeros(10)\n",
    "\n",
    "for i in range(10):\n",
    "    x_train = knn_cv_data_normalized[knn_cv_data_normalized.fold != (i+1)][['CRIM','RM','ZN']].values\n",
    "    y_train = knn_cv_data_normalized[knn_cv_data_normalized.fold != (i+1)].MEDV\n",
    "    x_test = knn_cv_data_normalized[knn_cv_data_normalized.fold == (i+1)][['CRIM','RM','ZN']].values\n",
    "    y_test = knn_cv_data_normalized[knn_cv_data_normalized.fold == (i+1)].MEDV\n",
    "    \n",
    "    rmse_folds[i],t_folds[i] = knn(x_train,y_train,x_test,y_test,2,5)\n",
    "    \n",
    "rmse = np.mean(rmse_folds)\n",
    "t = np.sum(t_folds)\n",
    "print(\"RMSE:\")\n",
    "print(rmse)\n",
    "print()\n",
    "print(\"Time taken:\")\n",
    "print(t)"
   ]
  },
  {
   "cell_type": "code",
   "execution_count": 40,
   "metadata": {},
   "outputs": [
    {
     "name": "stdout",
     "output_type": "stream",
     "text": [
      "RMSE:\n",
      "4.966306457751429\n",
      "\n",
      "Time taken:\n",
      "0.044812679290771484\n"
     ]
    }
   ],
   "source": [
    "rmse_folds = np.zeros(5)\n",
    "t_folds = np.zeros(5)\n",
    "\n",
    "for i in range(5):\n",
    "    x_train = knn_cv_data_normalized[knn_cv_data_normalized.fold != (i+1)][['TAX','RM']].values\n",
    "    y_train = knn_cv_data_normalized[knn_cv_data_normalized.fold != (i+1)].MEDV\n",
    "    x_test = knn_cv_data_normalized[knn_cv_data_normalized.fold == (i+1)][['TAX','RM']].values\n",
    "    y_test = knn_cv_data_normalized[knn_cv_data_normalized.fold == (i+1)].MEDV\n",
    "    \n",
    "    rmse_folds[i],t_folds[i] = knn(x_train,y_train,x_test,y_test,2,5)\n",
    "    \n",
    "rmse = np.mean(rmse_folds)\n",
    "t = np.sum(t_folds)\n",
    "print(\"RMSE:\")\n",
    "print(rmse)\n",
    "print()\n",
    "print(\"Time taken:\")\n",
    "print(t)"
   ]
  },
  {
   "cell_type": "markdown",
   "metadata": {},
   "source": [
    "The RMSE for K=5 is 5.1462373278460545 and the running time of the algorithm is 0.060888051986694336. The RMSE for K=5 is way smaller than the previous ones, indicating the accuracy of the algorithm is improving and the running time for this algorithm is getting longer, however within the acceptable range."
   ]
  },
  {
   "cell_type": "markdown",
   "metadata": {},
   "source": [
    "### 2.7 Using cross validation to find K\n",
    "\n",
    "Compute the cross-validated RMSE for values of K between 1 and 25 using 10-fold cross-validation and L2 normalization.  Use the following features in your model: `CRIM, ZN, RM, AGE, DIS, TAX`.  Create a graph that shows how cross-validated RMSE changes as K increases from 1 to 25.  Label your axes, and summarize what you see.  What do you think is a reasonable choice of K for this model?\n",
    "\n",
    "Finally, report the test RMSE using the value of K that minimized the cross-validated RMSE. (Continue to use L2 normalization and the same set of features). How does the test RMSE compare to the cross-validated RMSE, and is this what you expected? How does the test RMSE compare to the test RMSE from 2.4, and is this what you expected?"
   ]
  },
  {
   "cell_type": "code",
   "execution_count": 41,
   "metadata": {
    "jupyter": {
     "outputs_hidden": true
    }
   },
   "outputs": [],
   "source": [
    "rmse_K = np.zeros(25)\n",
    "t_K = np.zeros(25)\n",
    "rmse_folds = np.zeros(10)\n",
    "t_folds = np.zeros(10)\n",
    "\n",
    "for i in range(25):\n",
    "    for j in range(10):\n",
    "        x_train = knn_cv_data_normalized[knn_cv_data_normalized.fold != (j+1)][['CRIM','RM','ZN','AGE','DIS','TAX']].values\n",
    "        y_train = knn_cv_data_normalized[knn_cv_data_normalized.fold != (j+1)].MEDV\n",
    "        x_test = knn_cv_data_normalized[knn_cv_data_normalized.fold == (j+1)][['CRIM','RM','ZN','AGE','DIS','TAX']].values\n",
    "        y_test = knn_cv_data_normalized[knn_cv_data_normalized.fold == (j+1)].MEDV\n",
    "    \n",
    "        rmse_folds[j],t_folds[j] = knn(x_train,y_train,x_test,y_test,2,i+1)\n",
    "    rmse_K[i] = np.mean(rmse_folds)\n",
    "    t_K[i] = np.sum(t_folds)"
   ]
  },
  {
   "cell_type": "code",
   "execution_count": 42,
   "metadata": {},
   "outputs": [
    {
     "data": {
      "text/html": [
       "<div>\n",
       "<style scoped>\n",
       "    .dataframe tbody tr th:only-of-type {\n",
       "        vertical-align: middle;\n",
       "    }\n",
       "\n",
       "    .dataframe tbody tr th {\n",
       "        vertical-align: top;\n",
       "    }\n",
       "\n",
       "    .dataframe thead th {\n",
       "        text-align: right;\n",
       "    }\n",
       "</style>\n",
       "<table border=\"1\" class=\"dataframe\">\n",
       "  <thead>\n",
       "    <tr style=\"text-align: right;\">\n",
       "      <th></th>\n",
       "      <th>K</th>\n",
       "      <th>RMSE</th>\n",
       "    </tr>\n",
       "  </thead>\n",
       "  <tbody>\n",
       "    <tr>\n",
       "      <th>0</th>\n",
       "      <td>1</td>\n",
       "      <td>5.665493</td>\n",
       "    </tr>\n",
       "    <tr>\n",
       "      <th>1</th>\n",
       "      <td>2</td>\n",
       "      <td>5.111767</td>\n",
       "    </tr>\n",
       "    <tr>\n",
       "      <th>2</th>\n",
       "      <td>3</td>\n",
       "      <td>4.758946</td>\n",
       "    </tr>\n",
       "    <tr>\n",
       "      <th>3</th>\n",
       "      <td>4</td>\n",
       "      <td>4.909318</td>\n",
       "    </tr>\n",
       "    <tr>\n",
       "      <th>4</th>\n",
       "      <td>5</td>\n",
       "      <td>4.845442</td>\n",
       "    </tr>\n",
       "    <tr>\n",
       "      <th>5</th>\n",
       "      <td>6</td>\n",
       "      <td>4.834802</td>\n",
       "    </tr>\n",
       "    <tr>\n",
       "      <th>6</th>\n",
       "      <td>7</td>\n",
       "      <td>4.900166</td>\n",
       "    </tr>\n",
       "    <tr>\n",
       "      <th>7</th>\n",
       "      <td>8</td>\n",
       "      <td>4.938068</td>\n",
       "    </tr>\n",
       "    <tr>\n",
       "      <th>8</th>\n",
       "      <td>9</td>\n",
       "      <td>4.910405</td>\n",
       "    </tr>\n",
       "    <tr>\n",
       "      <th>9</th>\n",
       "      <td>10</td>\n",
       "      <td>4.907246</td>\n",
       "    </tr>\n",
       "    <tr>\n",
       "      <th>10</th>\n",
       "      <td>11</td>\n",
       "      <td>4.931531</td>\n",
       "    </tr>\n",
       "    <tr>\n",
       "      <th>11</th>\n",
       "      <td>12</td>\n",
       "      <td>4.975044</td>\n",
       "    </tr>\n",
       "    <tr>\n",
       "      <th>12</th>\n",
       "      <td>13</td>\n",
       "      <td>5.009873</td>\n",
       "    </tr>\n",
       "    <tr>\n",
       "      <th>13</th>\n",
       "      <td>14</td>\n",
       "      <td>5.030402</td>\n",
       "    </tr>\n",
       "    <tr>\n",
       "      <th>14</th>\n",
       "      <td>15</td>\n",
       "      <td>5.063841</td>\n",
       "    </tr>\n",
       "    <tr>\n",
       "      <th>15</th>\n",
       "      <td>16</td>\n",
       "      <td>5.082830</td>\n",
       "    </tr>\n",
       "    <tr>\n",
       "      <th>16</th>\n",
       "      <td>17</td>\n",
       "      <td>5.114025</td>\n",
       "    </tr>\n",
       "    <tr>\n",
       "      <th>17</th>\n",
       "      <td>18</td>\n",
       "      <td>5.189723</td>\n",
       "    </tr>\n",
       "    <tr>\n",
       "      <th>18</th>\n",
       "      <td>19</td>\n",
       "      <td>5.221016</td>\n",
       "    </tr>\n",
       "    <tr>\n",
       "      <th>19</th>\n",
       "      <td>20</td>\n",
       "      <td>5.259776</td>\n",
       "    </tr>\n",
       "    <tr>\n",
       "      <th>20</th>\n",
       "      <td>21</td>\n",
       "      <td>5.283782</td>\n",
       "    </tr>\n",
       "    <tr>\n",
       "      <th>21</th>\n",
       "      <td>22</td>\n",
       "      <td>5.330617</td>\n",
       "    </tr>\n",
       "    <tr>\n",
       "      <th>22</th>\n",
       "      <td>23</td>\n",
       "      <td>5.351205</td>\n",
       "    </tr>\n",
       "    <tr>\n",
       "      <th>23</th>\n",
       "      <td>24</td>\n",
       "      <td>5.391274</td>\n",
       "    </tr>\n",
       "    <tr>\n",
       "      <th>24</th>\n",
       "      <td>25</td>\n",
       "      <td>5.421737</td>\n",
       "    </tr>\n",
       "  </tbody>\n",
       "</table>\n",
       "</div>"
      ],
      "text/plain": [
       "     K      RMSE\n",
       "0    1  5.665493\n",
       "1    2  5.111767\n",
       "2    3  4.758946\n",
       "3    4  4.909318\n",
       "4    5  4.845442\n",
       "5    6  4.834802\n",
       "6    7  4.900166\n",
       "7    8  4.938068\n",
       "8    9  4.910405\n",
       "9   10  4.907246\n",
       "10  11  4.931531\n",
       "11  12  4.975044\n",
       "12  13  5.009873\n",
       "13  14  5.030402\n",
       "14  15  5.063841\n",
       "15  16  5.082830\n",
       "16  17  5.114025\n",
       "17  18  5.189723\n",
       "18  19  5.221016\n",
       "19  20  5.259776\n",
       "20  21  5.283782\n",
       "21  22  5.330617\n",
       "22  23  5.351205\n",
       "23  24  5.391274\n",
       "24  25  5.421737"
      ]
     },
     "execution_count": 42,
     "metadata": {},
     "output_type": "execute_result"
    }
   ],
   "source": [
    "rmse_K = pd.DataFrame(rmse_K,columns=['RMSE'])\n",
    "rmse_K.index.name = 'K'\n",
    "rmse_K=rmse_K.reset_index()\n",
    "rmse_K['K'] = rmse_K['K'] + 1\n",
    "rmse_K"
   ]
  },
  {
   "cell_type": "code",
   "execution_count": 43,
   "metadata": {},
   "outputs": [
    {
     "data": {
      "text/plain": [
       "Text(0.5, 1.0, 'RMSE with different values of K')"
      ]
     },
     "execution_count": 43,
     "metadata": {},
     "output_type": "execute_result"
    },
    {
     "data": {
      "image/png": "[encoded data removed]",
      "text/plain": [
       "<Figure size 504x504 with 1 Axes>"
      ]
     },
     "metadata": {
      "needs_background": "light"
     },
     "output_type": "display_data"
    }
   ],
   "source": [
    "#Plotting\n",
    "fig = plt.figure(figsize=(7,7))\n",
    "ax = fig.add_subplot()\n",
    "\n",
    "ax.plot(rmse_K['K'], rmse_K['RMSE'],marker='o', c='blue', alpha=0.5)\n",
    "\n",
    "ax.set_xlabel(\"K\")\n",
    "ax.set_ylabel(\"RMSE\")\n",
    "ax.set_title(\"RMSE with different values of K\")"
   ]
  },
  {
   "cell_type": "code",
   "execution_count": 44,
   "metadata": {},
   "outputs": [
    {
     "data": {
      "text/plain": [
       "5.8451870563340025"
      ]
     },
     "execution_count": 44,
     "metadata": {},
     "output_type": "execute_result"
    }
   ],
   "source": [
    "\"\"\"\n",
    "Finally, report the test RMSE using the value of K that minimized the cross-validated RMSE. \n",
    "(Continue to use L2 normalization and the same set of features). \n",
    "How does the test RMSE compare to the cross-validated RMSE, and is this what you expected? \n",
    "How does the test RMSE compare to the test RMSE from 2.4, and is this what you expected?\n",
    "\"\"\"\n",
    "x_train = bdata_train_normalized[['CRIM','RM','ZN','AGE','DIS','TAX']].values\n",
    "y_train = bdata_train_normalized.MEDV\n",
    "x_test = bdata_test_normalized[['CRIM','RM','ZN','AGE','DIS','TAX']].values\n",
    "y_test = bdata_test_normalized.MEDV\n",
    "\n",
    "test_rmse, test_time = knn(x_train,y_train,x_test,y_test,2,3)\n",
    "test_rmse"
   ]
  },
  {
   "cell_type": "code",
   "execution_count": 45,
   "metadata": {},
   "outputs": [],
   "source": [
    "rmse_K = np.zeros(25)\n",
    "t_K = np.zeros(25)\n",
    "rmse_folds = np.zeros(5)\n",
    "t_folds = np.zeros(5)\n",
    "\n",
    "for i in range(25):\n",
    "    for j in range(5):\n",
    "        x_train = knn_cv_data_normalized[knn_cv_data_normalized.fold != (j+1)][['TAX','RM']].values\n",
    "        y_train = knn_cv_data_normalized[knn_cv_data_normalized.fold != (j+1)].MEDV\n",
    "        x_test = knn_cv_data_normalized[knn_cv_data_normalized.fold == (j+1)][['TAX','RM']].values\n",
    "        y_test = knn_cv_data_normalized[knn_cv_data_normalized.fold == (j+1)].MEDV\n",
    "    \n",
    "        rmse_folds[j],t_folds[j] = knn(x_train,y_train,x_test,y_test,2,i+1)\n",
    "    rmse_K[i] = np.mean(rmse_folds)\n",
    "    t_K[i] = np.sum(t_folds)"
   ]
  },
  {
   "cell_type": "code",
   "execution_count": 46,
   "metadata": {},
   "outputs": [
    {
     "data": {
      "text/html": [
       "<div>\n",
       "<style scoped>\n",
       "    .dataframe tbody tr th:only-of-type {\n",
       "        vertical-align: middle;\n",
       "    }\n",
       "\n",
       "    .dataframe tbody tr th {\n",
       "        vertical-align: top;\n",
       "    }\n",
       "\n",
       "    .dataframe thead th {\n",
       "        text-align: right;\n",
       "    }\n",
       "</style>\n",
       "<table border=\"1\" class=\"dataframe\">\n",
       "  <thead>\n",
       "    <tr style=\"text-align: right;\">\n",
       "      <th></th>\n",
       "      <th>K</th>\n",
       "      <th>RMSE</th>\n",
       "    </tr>\n",
       "  </thead>\n",
       "  <tbody>\n",
       "    <tr>\n",
       "      <th>0</th>\n",
       "      <td>1</td>\n",
       "      <td>7.231707</td>\n",
       "    </tr>\n",
       "    <tr>\n",
       "      <th>1</th>\n",
       "      <td>2</td>\n",
       "      <td>5.555216</td>\n",
       "    </tr>\n",
       "    <tr>\n",
       "      <th>2</th>\n",
       "      <td>3</td>\n",
       "      <td>5.549913</td>\n",
       "    </tr>\n",
       "    <tr>\n",
       "      <th>3</th>\n",
       "      <td>4</td>\n",
       "      <td>5.150473</td>\n",
       "    </tr>\n",
       "    <tr>\n",
       "      <th>4</th>\n",
       "      <td>5</td>\n",
       "      <td>4.966306</td>\n",
       "    </tr>\n",
       "    <tr>\n",
       "      <th>5</th>\n",
       "      <td>6</td>\n",
       "      <td>4.777211</td>\n",
       "    </tr>\n",
       "    <tr>\n",
       "      <th>6</th>\n",
       "      <td>7</td>\n",
       "      <td>4.690760</td>\n",
       "    </tr>\n",
       "    <tr>\n",
       "      <th>7</th>\n",
       "      <td>8</td>\n",
       "      <td>4.713114</td>\n",
       "    </tr>\n",
       "    <tr>\n",
       "      <th>8</th>\n",
       "      <td>9</td>\n",
       "      <td>4.793752</td>\n",
       "    </tr>\n",
       "    <tr>\n",
       "      <th>9</th>\n",
       "      <td>10</td>\n",
       "      <td>4.812112</td>\n",
       "    </tr>\n",
       "    <tr>\n",
       "      <th>10</th>\n",
       "      <td>11</td>\n",
       "      <td>4.751670</td>\n",
       "    </tr>\n",
       "    <tr>\n",
       "      <th>11</th>\n",
       "      <td>12</td>\n",
       "      <td>4.742704</td>\n",
       "    </tr>\n",
       "    <tr>\n",
       "      <th>12</th>\n",
       "      <td>13</td>\n",
       "      <td>4.677448</td>\n",
       "    </tr>\n",
       "    <tr>\n",
       "      <th>13</th>\n",
       "      <td>14</td>\n",
       "      <td>4.699110</td>\n",
       "    </tr>\n",
       "    <tr>\n",
       "      <th>14</th>\n",
       "      <td>15</td>\n",
       "      <td>4.658799</td>\n",
       "    </tr>\n",
       "    <tr>\n",
       "      <th>15</th>\n",
       "      <td>16</td>\n",
       "      <td>4.634586</td>\n",
       "    </tr>\n",
       "    <tr>\n",
       "      <th>16</th>\n",
       "      <td>17</td>\n",
       "      <td>4.652732</td>\n",
       "    </tr>\n",
       "    <tr>\n",
       "      <th>17</th>\n",
       "      <td>18</td>\n",
       "      <td>4.674765</td>\n",
       "    </tr>\n",
       "    <tr>\n",
       "      <th>18</th>\n",
       "      <td>19</td>\n",
       "      <td>4.677421</td>\n",
       "    </tr>\n",
       "    <tr>\n",
       "      <th>19</th>\n",
       "      <td>20</td>\n",
       "      <td>4.653076</td>\n",
       "    </tr>\n",
       "    <tr>\n",
       "      <th>20</th>\n",
       "      <td>21</td>\n",
       "      <td>4.639958</td>\n",
       "    </tr>\n",
       "    <tr>\n",
       "      <th>21</th>\n",
       "      <td>22</td>\n",
       "      <td>4.652187</td>\n",
       "    </tr>\n",
       "    <tr>\n",
       "      <th>22</th>\n",
       "      <td>23</td>\n",
       "      <td>4.626666</td>\n",
       "    </tr>\n",
       "    <tr>\n",
       "      <th>23</th>\n",
       "      <td>24</td>\n",
       "      <td>4.636005</td>\n",
       "    </tr>\n",
       "    <tr>\n",
       "      <th>24</th>\n",
       "      <td>25</td>\n",
       "      <td>4.643719</td>\n",
       "    </tr>\n",
       "  </tbody>\n",
       "</table>\n",
       "</div>"
      ],
      "text/plain": [
       "     K      RMSE\n",
       "0    1  7.231707\n",
       "1    2  5.555216\n",
       "2    3  5.549913\n",
       "3    4  5.150473\n",
       "4    5  4.966306\n",
       "5    6  4.777211\n",
       "6    7  4.690760\n",
       "7    8  4.713114\n",
       "8    9  4.793752\n",
       "9   10  4.812112\n",
       "10  11  4.751670\n",
       "11  12  4.742704\n",
       "12  13  4.677448\n",
       "13  14  4.699110\n",
       "14  15  4.658799\n",
       "15  16  4.634586\n",
       "16  17  4.652732\n",
       "17  18  4.674765\n",
       "18  19  4.677421\n",
       "19  20  4.653076\n",
       "20  21  4.639958\n",
       "21  22  4.652187\n",
       "22  23  4.626666\n",
       "23  24  4.636005\n",
       "24  25  4.643719"
      ]
     },
     "execution_count": 46,
     "metadata": {},
     "output_type": "execute_result"
    }
   ],
   "source": [
    "rmse_K = pd.DataFrame(rmse_K,columns=['RMSE'])\n",
    "rmse_K.index.name = 'K'\n",
    "rmse_K=rmse_K.reset_index()\n",
    "rmse_K['K'] = rmse_K['K'] + 1\n",
    "rmse_K"
   ]
  },
  {
   "cell_type": "code",
   "execution_count": 47,
   "metadata": {},
   "outputs": [
    {
     "data": {
      "text/plain": [
       "Text(0.5, 1.0, 'RMSE with different values of K')"
      ]
     },
     "execution_count": 47,
     "metadata": {},
     "output_type": "execute_result"
    },
    {
     "data": {
      "image/png": "[encoded data removed]",
      "text/plain": [
       "<Figure size 504x504 with 1 Axes>"
      ]
     },
     "metadata": {
      "needs_background": "light"
     },
     "output_type": "display_data"
    }
   ],
   "source": [
    "#Plotting\n",
    "fig = plt.figure(figsize=(7,7))\n",
    "ax = fig.add_subplot()\n",
    "\n",
    "ax.plot(rmse_K['K'], rmse_K['RMSE'],marker='o', c='blue', alpha=0.5)\n",
    "\n",
    "ax.set_xlabel(\"K\")\n",
    "ax.set_ylabel(\"RMSE\")\n",
    "ax.set_title(\"RMSE with different values of K\")"
   ]
  },
  {
   "cell_type": "markdown",
   "metadata": {},
   "source": [
    "As the K values increases, the RMSE firstly experience a decrese and reach the minimum at 4.758946 with K=3. And after that, with the K value increases, the RMSE overall experiences an increse. The reasonable choice of K for this model is K = 3 as it has the smallest RMSE value.  \n",
    "The test RMSE using the value of 3 which minimized the cross-validated RMSE is 5.8451870563340025. This test RMSE is bigger than the cross-validated RMSE and it is as expected because the RMSE on the test set is usually bigger than the validation set. Compared to the test RMSE from 2.4, in which case using the same features as 2.7, the test RMSE has decreased from 6.772239536996361 to 5.8451870563340025. And yes, this is as expected since we use K=5 in this case and K=1 in 2.4, and K = 3 is proved to have the smallest RMSE on the validation set."
   ]
  },
  {
   "cell_type": "markdown",
   "metadata": {},
   "source": [
    "### Extra-Credit: Forward selection\n",
    "\n",
    "Thus far the choice of predictor variables has been rather arbitrary. For extra credit, implement a basic [forward selection](https://see.stanford.edu/materials/aimlcs229/cs229-notes5.pdf) algorithm to progressively include features that decrease the cross-validated RMSE of the model. Note that the optimal value of K may be different for each model, so you may want to use cross-validation to choose K each time (but it is also fine if you fix K at the optimal value from 2.7).  Create a graph that shows RMSE as a function of the number of features in the model. Label each point on the x-axis with the name of the feature that is added at that step in the forward selection algorithm. *(For instance, if the optimal single-feature model has CRIM with RMSE = 10, and the optimal two-feature model has CRIM+ZN with RMSE=9, the first x-axis label will say CRIM and the second x-axis lable with say ZN)*"
   ]
  },
  {
   "cell_type": "code",
   "execution_count": 48,
   "metadata": {
    "jupyter": {
     "outputs_hidden": true
    }
   },
   "outputs": [],
   "source": [
    "# enter your code here"
   ]
  }
 ],
 "metadata": {
  "kernelspec": {
   "display_name": "Python 3 (ipykernel)",
   "language": "python",
   "name": "python3"
  },
  "language_info": {
   "codemirror_mode": {
    "name": "ipython",
    "version": 3
   },
   "file_extension": ".py",
   "mimetype": "text/x-python",
   "name": "python",
   "nbconvert_exporter": "python",
   "pygments_lexer": "ipython3",
   "version": "3.8.12"
  },
  "toc": {
   "base_numbering": 1,
   "nav_menu": {},
   "number_sections": true,
   "sideBar": true,
   "skip_h1_title": false,
   "title_cell": "Table of Contents",
   "title_sidebar": "Contents",
   "toc_cell": false,
   "toc_position": {},
   "toc_section_display": true,
   "toc_window_display": false
  }
 },
 "nbformat": 4,
 "nbformat_minor": 4
}
