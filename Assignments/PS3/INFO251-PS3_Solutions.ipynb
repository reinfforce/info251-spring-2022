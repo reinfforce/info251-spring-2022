{
 "cells": [
  {
   "cell_type": "markdown",
   "metadata": {},
   "source": [
    "# Problem Set 3\n",
    "\n",
    "### Before You Start\n",
    "\n",
    "Make sure the following libraries load correctly (hit Ctrl-Enter). Note that while you are loading several powerful libraries, including machine learning libraries, the goal of this problem set is to implement several algorithms from scratch. In particular, you should *not* be using any built-in libraries for nearest neighbors, distance metrics, or cross-validation -- your mission is to write those algorithms in Python! Part 1 will be relatively easy; Part 2 will take more time."
   ]
  },
  {
   "cell_type": "code",
   "execution_count": 1,
   "metadata": {},
   "outputs": [],
   "source": [
    "import IPython\n",
    "import numpy as np\n",
    "import scipy as sp\n",
    "import pandas as pd\n",
    "import matplotlib\n",
    "import sklearn"
   ]
  },
  {
   "cell_type": "code",
   "execution_count": 2,
   "metadata": {},
   "outputs": [],
   "source": [
    "%matplotlib inline  \n",
    "import matplotlib.pyplot as plt  "
   ]
  },
  {
   "cell_type": "markdown",
   "metadata": {},
   "source": [
    "---\n",
    "\n",
    "## Introduction to the assignment\n",
    "\n",
    "For this assignment, you will be using the [Boston Housing Prices Data Set](http://www.kellogg.northwestern.edu/faculty/weber/emp/_session_3/boston.htm).  Please read about the dataset carefully before continuing.  Use the following commands to load the dataset:\n",
    "\n",
    "*NOTE - This dataset is similar to the one you used in PS1; we are just using a different method to load it this time. The column names and their order will remain the same for this dataset as was in PS1.*"
   ]
  },
  {
   "cell_type": "code",
   "execution_count": 3,
   "metadata": {},
   "outputs": [],
   "source": [
    "# load Boston housing data set\n",
    "data = np.loadtxt('data.txt')\n",
    "target = np.loadtxt('target.txt')"
   ]
  },
  {
   "cell_type": "markdown",
   "metadata": {},
   "source": [
    "---\n",
    "\n",
    "## Part 1: Experimental Setup\n",
    "\n",
    "The goal of the next few sections is to design an experiment to predict the median home value for an instance in the data.\n",
    "Before beginning the \"real\" work, refamiliarize yourself with the dataset."
   ]
  },
  {
   "cell_type": "markdown",
   "metadata": {},
   "source": [
    "### 1.1 Begin by writing a function to compute the Root Mean Squared Error for a list of numbers\n",
    "\n",
    "You can find the sqrt function in the Numpy package. Furthermore the details of RMSE can be found on [Wikipedia](http://en.wikipedia.org/wiki/Root-mean-square_deviation). Do not use a built-in function (other than sqrt) to compute RMSE.\n",
    "\n"
   ]
  },
  {
   "cell_type": "code",
   "execution_count": 4,
   "metadata": {},
   "outputs": [],
   "source": [
    "\"\"\"\n",
    "Function\n",
    "--------\n",
    "compute_rmse\n",
    "\n",
    "Given two arrays, one of actual values and one of predicted values,\n",
    "compute the Roote Mean Squared Error\n",
    "\n",
    "Parameters\n",
    "----------\n",
    "predictions : array\n",
    "    Array of numerical values corresponding to predictions for each of the N observations\n",
    "\n",
    "yvalues : array\n",
    "    Array of numerical values corresponding to the actual values for each of the N observations\n",
    "\n",
    "Returns\n",
    "-------\n",
    "rmse : int\n",
    "    Root Mean Squared Error of the prediction\n",
    "\n",
    "Example\n",
    "-------\n",
    ">>> print(compute_rmse((4,6,3),(2,1,4)))\n",
    "3.16\n",
    "\"\"\"\n",
    "def compute_rmse(predictions, yvalues):\n",
    "    # your code here\n",
    "    pre = np.asarray(predictions)\n",
    "    y = np.asarray(yvalues)\n",
    "    rmse = np.sqrt(np.sum((pre-y) ** 2) / float(len(y)))\n",
    "    return rmse\n",
    "    "
   ]
  },
  {
   "cell_type": "code",
   "execution_count": 5,
   "metadata": {},
   "outputs": [
    {
     "data": {
      "text/plain": [
       "3.1622776601683795"
      ]
     },
     "execution_count": 5,
     "metadata": {},
     "output_type": "execute_result"
    }
   ],
   "source": [
    "compute_rmse((4,6,3),(2,1,4))"
   ]
  },
  {
   "cell_type": "markdown",
   "metadata": {},
   "source": [
    "### 1.2 Divide your data into training and testing datasets\n",
    "\n",
    "Randomly select 75% of the data and put this in a training dataset (call this \"bdata_train\"), and place the remaining 25% in a testing dataset (call this \"bdata_test\"). Do not use built-in functions.\n",
    "\n",
    "To perform any randomized operation, only use functions in the *numpy library (np.random)*. Do not use other packages for random functions."
   ]
  },
  {
   "cell_type": "code",
   "execution_count": 6,
   "metadata": {},
   "outputs": [
    {
     "name": "stdout",
     "output_type": "stream",
     "text": [
      "Data partitions created\n",
      "(379, 14) (379,)\n",
      "(127, 14) (127,)\n"
     ]
    },
    {
     "data": {
      "text/html": [
       "<div>\n",
       "<style scoped>\n",
       "    .dataframe tbody tr th:only-of-type {\n",
       "        vertical-align: middle;\n",
       "    }\n",
       "\n",
       "    .dataframe tbody tr th {\n",
       "        vertical-align: top;\n",
       "    }\n",
       "\n",
       "    .dataframe thead th {\n",
       "        text-align: right;\n",
       "    }\n",
       "</style>\n",
       "<table border=\"1\" class=\"dataframe\">\n",
       "  <thead>\n",
       "    <tr style=\"text-align: right;\">\n",
       "      <th></th>\n",
       "      <th>CRIM</th>\n",
       "      <th>ZN</th>\n",
       "      <th>INDUS</th>\n",
       "      <th>CHAS</th>\n",
       "      <th>NOX</th>\n",
       "      <th>RM</th>\n",
       "      <th>AGE</th>\n",
       "      <th>DIS</th>\n",
       "      <th>RAD</th>\n",
       "      <th>TAX</th>\n",
       "      <th>PTRATIO</th>\n",
       "      <th>B</th>\n",
       "      <th>LSTAT</th>\n",
       "      <th>MEDV</th>\n",
       "    </tr>\n",
       "  </thead>\n",
       "  <tbody>\n",
       "    <tr>\n",
       "      <th>0</th>\n",
       "      <td>22.406867</td>\n",
       "      <td>0.0</td>\n",
       "      <td>18.247928</td>\n",
       "      <td>0.0</td>\n",
       "      <td>1.099452</td>\n",
       "      <td>6.199415</td>\n",
       "      <td>92.4</td>\n",
       "      <td>2.224853</td>\n",
       "      <td>24.0</td>\n",
       "      <td>679.0</td>\n",
       "      <td>20.568926</td>\n",
       "      <td>391.952694</td>\n",
       "      <td>22.798646</td>\n",
       "      <td>10.5</td>\n",
       "    </tr>\n",
       "    <tr>\n",
       "      <th>1</th>\n",
       "      <td>0.476132</td>\n",
       "      <td>0.0</td>\n",
       "      <td>10.794566</td>\n",
       "      <td>0.0</td>\n",
       "      <td>0.766851</td>\n",
       "      <td>6.208124</td>\n",
       "      <td>42.4</td>\n",
       "      <td>4.032132</td>\n",
       "      <td>4.0</td>\n",
       "      <td>280.0</td>\n",
       "      <td>18.819660</td>\n",
       "      <td>397.172838</td>\n",
       "      <td>9.537777</td>\n",
       "      <td>25.0</td>\n",
       "    </tr>\n",
       "    <tr>\n",
       "      <th>2</th>\n",
       "      <td>0.532648</td>\n",
       "      <td>0.0</td>\n",
       "      <td>10.799418</td>\n",
       "      <td>1.0</td>\n",
       "      <td>0.802291</td>\n",
       "      <td>6.063011</td>\n",
       "      <td>53.8</td>\n",
       "      <td>4.043867</td>\n",
       "      <td>4.0</td>\n",
       "      <td>289.0</td>\n",
       "      <td>18.982791</td>\n",
       "      <td>394.249614</td>\n",
       "      <td>16.440364</td>\n",
       "      <td>22.4</td>\n",
       "    </tr>\n",
       "    <tr>\n",
       "      <th>3</th>\n",
       "      <td>0.187889</td>\n",
       "      <td>80.0</td>\n",
       "      <td>1.526865</td>\n",
       "      <td>0.0</td>\n",
       "      <td>0.708481</td>\n",
       "      <td>7.499923</td>\n",
       "      <td>36.6</td>\n",
       "      <td>7.572798</td>\n",
       "      <td>2.0</td>\n",
       "      <td>334.0</td>\n",
       "      <td>12.865843</td>\n",
       "      <td>355.462216</td>\n",
       "      <td>9.173969</td>\n",
       "      <td>30.3</td>\n",
       "    </tr>\n",
       "    <tr>\n",
       "      <th>4</th>\n",
       "      <td>1.741062</td>\n",
       "      <td>0.0</td>\n",
       "      <td>19.780861</td>\n",
       "      <td>0.0</td>\n",
       "      <td>0.664006</td>\n",
       "      <td>7.614751</td>\n",
       "      <td>90.8</td>\n",
       "      <td>2.115829</td>\n",
       "      <td>5.0</td>\n",
       "      <td>416.0</td>\n",
       "      <td>14.859422</td>\n",
       "      <td>376.320064</td>\n",
       "      <td>2.378481</td>\n",
       "      <td>50.0</td>\n",
       "    </tr>\n",
       "  </tbody>\n",
       "</table>\n",
       "</div>"
      ],
      "text/plain": [
       "        CRIM    ZN      INDUS  CHAS       NOX        RM   AGE       DIS   RAD  \\\n",
       "0  22.406867   0.0  18.247928   0.0  1.099452  6.199415  92.4  2.224853  24.0   \n",
       "1   0.476132   0.0  10.794566   0.0  0.766851  6.208124  42.4  4.032132   4.0   \n",
       "2   0.532648   0.0  10.799418   1.0  0.802291  6.063011  53.8  4.043867   4.0   \n",
       "3   0.187889  80.0   1.526865   0.0  0.708481  7.499923  36.6  7.572798   2.0   \n",
       "4   1.741062   0.0  19.780861   0.0  0.664006  7.614751  90.8  2.115829   5.0   \n",
       "\n",
       "     TAX    PTRATIO           B      LSTAT  MEDV  \n",
       "0  679.0  20.568926  391.952694  22.798646  10.5  \n",
       "1  280.0  18.819660  397.172838   9.537777  25.0  \n",
       "2  289.0  18.982791  394.249614  16.440364  22.4  \n",
       "3  334.0  12.865843  355.462216   9.173969  30.3  \n",
       "4  416.0  14.859422  376.320064   2.378481  50.0  "
      ]
     },
     "metadata": {},
     "output_type": "display_data"
    },
    {
     "data": {
      "text/html": [
       "<div>\n",
       "<style scoped>\n",
       "    .dataframe tbody tr th:only-of-type {\n",
       "        vertical-align: middle;\n",
       "    }\n",
       "\n",
       "    .dataframe tbody tr th {\n",
       "        vertical-align: top;\n",
       "    }\n",
       "\n",
       "    .dataframe thead th {\n",
       "        text-align: right;\n",
       "    }\n",
       "</style>\n",
       "<table border=\"1\" class=\"dataframe\">\n",
       "  <thead>\n",
       "    <tr style=\"text-align: right;\">\n",
       "      <th></th>\n",
       "      <th>CRIM</th>\n",
       "      <th>ZN</th>\n",
       "      <th>INDUS</th>\n",
       "      <th>CHAS</th>\n",
       "      <th>NOX</th>\n",
       "      <th>RM</th>\n",
       "      <th>AGE</th>\n",
       "      <th>DIS</th>\n",
       "      <th>RAD</th>\n",
       "      <th>TAX</th>\n",
       "      <th>PTRATIO</th>\n",
       "      <th>B</th>\n",
       "      <th>LSTAT</th>\n",
       "      <th>MEDV</th>\n",
       "    </tr>\n",
       "  </thead>\n",
       "  <tbody>\n",
       "    <tr>\n",
       "      <th>0</th>\n",
       "      <td>5.263840</td>\n",
       "      <td>0.0</td>\n",
       "      <td>18.442160</td>\n",
       "      <td>1.0</td>\n",
       "      <td>1.155034</td>\n",
       "      <td>6.342943</td>\n",
       "      <td>83.4</td>\n",
       "      <td>2.975006</td>\n",
       "      <td>24.0</td>\n",
       "      <td>675.0</td>\n",
       "      <td>20.210391</td>\n",
       "      <td>399.104443</td>\n",
       "      <td>12.091684</td>\n",
       "      <td>22.7</td>\n",
       "    </tr>\n",
       "    <tr>\n",
       "      <th>1</th>\n",
       "      <td>68.119737</td>\n",
       "      <td>0.0</td>\n",
       "      <td>18.401962</td>\n",
       "      <td>0.0</td>\n",
       "      <td>0.976946</td>\n",
       "      <td>5.948910</td>\n",
       "      <td>100.0</td>\n",
       "      <td>1.594264</td>\n",
       "      <td>24.0</td>\n",
       "      <td>667.0</td>\n",
       "      <td>20.459272</td>\n",
       "      <td>388.896188</td>\n",
       "      <td>23.591976</td>\n",
       "      <td>5.0</td>\n",
       "    </tr>\n",
       "    <tr>\n",
       "      <th>2</th>\n",
       "      <td>5.088173</td>\n",
       "      <td>0.0</td>\n",
       "      <td>18.298989</td>\n",
       "      <td>0.0</td>\n",
       "      <td>0.894197</td>\n",
       "      <td>6.745448</td>\n",
       "      <td>90.0</td>\n",
       "      <td>2.851851</td>\n",
       "      <td>24.0</td>\n",
       "      <td>666.0</td>\n",
       "      <td>20.519250</td>\n",
       "      <td>255.941134</td>\n",
       "      <td>16.684832</td>\n",
       "      <td>16.4</td>\n",
       "    </tr>\n",
       "    <tr>\n",
       "      <th>3</th>\n",
       "      <td>37.752555</td>\n",
       "      <td>0.0</td>\n",
       "      <td>18.201935</td>\n",
       "      <td>0.0</td>\n",
       "      <td>0.994626</td>\n",
       "      <td>6.239584</td>\n",
       "      <td>78.7</td>\n",
       "      <td>1.868469</td>\n",
       "      <td>24.0</td>\n",
       "      <td>679.0</td>\n",
       "      <td>20.528674</td>\n",
       "      <td>21.850242</td>\n",
       "      <td>15.081894</td>\n",
       "      <td>10.9</td>\n",
       "    </tr>\n",
       "    <tr>\n",
       "      <th>4</th>\n",
       "      <td>7.894293</td>\n",
       "      <td>0.0</td>\n",
       "      <td>18.115153</td>\n",
       "      <td>0.0</td>\n",
       "      <td>1.080096</td>\n",
       "      <td>6.512797</td>\n",
       "      <td>98.3</td>\n",
       "      <td>2.425917</td>\n",
       "      <td>24.0</td>\n",
       "      <td>671.0</td>\n",
       "      <td>20.408826</td>\n",
       "      <td>305.042135</td>\n",
       "      <td>19.341354</td>\n",
       "      <td>13.0</td>\n",
       "    </tr>\n",
       "  </tbody>\n",
       "</table>\n",
       "</div>"
      ],
      "text/plain": [
       "        CRIM   ZN      INDUS  CHAS       NOX        RM    AGE       DIS   RAD  \\\n",
       "0   5.263840  0.0  18.442160   1.0  1.155034  6.342943   83.4  2.975006  24.0   \n",
       "1  68.119737  0.0  18.401962   0.0  0.976946  5.948910  100.0  1.594264  24.0   \n",
       "2   5.088173  0.0  18.298989   0.0  0.894197  6.745448   90.0  2.851851  24.0   \n",
       "3  37.752555  0.0  18.201935   0.0  0.994626  6.239584   78.7  1.868469  24.0   \n",
       "4   7.894293  0.0  18.115153   0.0  1.080096  6.512797   98.3  2.425917  24.0   \n",
       "\n",
       "     TAX    PTRATIO           B      LSTAT  MEDV  \n",
       "0  675.0  20.210391  399.104443  12.091684  22.7  \n",
       "1  667.0  20.459272  388.896188  23.591976   5.0  \n",
       "2  666.0  20.519250  255.941134  16.684832  16.4  \n",
       "3  679.0  20.528674   21.850242  15.081894  10.9  \n",
       "4  671.0  20.408826  305.042135  19.341354  13.0  "
      ]
     },
     "metadata": {},
     "output_type": "display_data"
    }
   ],
   "source": [
    "# leave the following line untouched, it will help ensure that your \"random\" split is the same \"random\" split used by the rest of the class\n",
    "np.random.seed(seed=13579)\n",
    "\n",
    "# enter your code here\n",
    "n = len(data)\n",
    "rand_order = np.arange(0,n)\n",
    "np.random.shuffle(rand_order)\n",
    "\n",
    "#training data\n",
    "bdata_train = data[rand_order[:int(n*.75)],:]\n",
    "bdata_train_tar = target[rand_order[:int(n*.75)]]\n",
    "bdata_train = pd.DataFrame(bdata_train, columns=['CRIM' ,'ZN' ,'INDUS', 'CHAS' ,'NOX', 'RM', 'AGE' ,'DIS' ,'RAD', 'TAX', 'PTRATIO', 'B' ,'LSTAT'])\n",
    "bdata_train['MEDV'] = bdata_train_tar\n",
    "#test data\n",
    "bdata_test = data[rand_order[int(n*.75):],:]\n",
    "bdata_test_tar = target[rand_order[int(n*.75):]]\n",
    "bdata_test = pd.DataFrame(bdata_test, columns=['CRIM' ,'ZN' ,'INDUS', 'CHAS' ,'NOX', 'RM', 'AGE' ,'DIS' ,'RAD', 'TAX', 'PTRATIO', 'B' ,'LSTAT'])\n",
    "bdata_test['MEDV'] = bdata_test_tar\n",
    "print(\"Data partitions created\")\n",
    "print(bdata_train.shape, bdata_train_tar.shape)\n",
    "print(bdata_test.shape, bdata_test_tar.shape)\n",
    "display(bdata_train.head())\n",
    "display(bdata_test.head())"
   ]
  },
  {
   "cell_type": "markdown",
   "metadata": {},
   "source": [
    "### 1.3 Use a very bad baseline for prediction, and compute RMSE\n",
    "\n",
    "Let's start by creating a very bad baseline model that predicts median home values as the averages of `MEDV` based on adjacency to Charles River. \n",
    "\n",
    "Specifically, create a model that predicts, for every observation X_i, the median home value as the average of the median home values of all houses in the **training set** that have the same adjacency value as the observation.\n",
    "\n",
    "For example - For an input observation where `CHAS==1`, the model should predict the `MEDV` as the mean of all `MEDV` values in the training set that also have `CHAS==1`.\n",
    "\n",
    "\n",
    "\n",
    "Once the model is built, do the following:\n",
    "\n",
    "1. Compute the RMSE of the training set.\n",
    "2. Now compute the RMSE of the test data set (but use the model you trained on the training set!).\n",
    "3. How does RMSE compare for training vs. testing datasets? Is this what you expected, and why?\n",
    "4. Create a scatter plot that shows the true value of each instance on the x-axis and the predicted value of each instance on the y-axis. Color the training instances in red and the test instances in blue. Make sure to label your axes appropriately, and add a legend to your figure to make clear which dots are which.\n",
    "5. Add code to your function to measure the running time of your algorithm. How long does it take to compute the predicted values for the test data?\n",
    "\n",
    "\n",
    "*NOTE - Be careful while dealing with floats and integers. Additionally, the `groupby` operation might come handy here.*"
   ]
  },
  {
   "cell_type": "code",
   "execution_count": 7,
   "metadata": {},
   "outputs": [
    {
     "data": {
      "text/html": [
       "<div>\n",
       "<style scoped>\n",
       "    .dataframe tbody tr th:only-of-type {\n",
       "        vertical-align: middle;\n",
       "    }\n",
       "\n",
       "    .dataframe tbody tr th {\n",
       "        vertical-align: top;\n",
       "    }\n",
       "\n",
       "    .dataframe thead th {\n",
       "        text-align: right;\n",
       "    }\n",
       "</style>\n",
       "<table border=\"1\" class=\"dataframe\">\n",
       "  <thead>\n",
       "    <tr style=\"text-align: right;\">\n",
       "      <th></th>\n",
       "      <th>CHAS</th>\n",
       "      <th>MEDV</th>\n",
       "    </tr>\n",
       "  </thead>\n",
       "  <tbody>\n",
       "    <tr>\n",
       "      <th>0</th>\n",
       "      <td>0.0</td>\n",
       "      <td>22.236236</td>\n",
       "    </tr>\n",
       "    <tr>\n",
       "      <th>1</th>\n",
       "      <td>1.0</td>\n",
       "      <td>28.134783</td>\n",
       "    </tr>\n",
       "  </tbody>\n",
       "</table>\n",
       "</div>"
      ],
      "text/plain": [
       "   CHAS       MEDV\n",
       "0   0.0  22.236236\n",
       "1   1.0  28.134783"
      ]
     },
     "metadata": {},
     "output_type": "display_data"
    },
    {
     "name": "stdout",
     "output_type": "stream",
     "text": [
      "1. Baseline train data RMSE: 8.96\n",
      "2. Baseline test data RMSE: 9.29\n",
      "5. Time taken on test data: 0.086 seconds\n"
     ]
    }
   ],
   "source": [
    "# enter your code here\n",
    "import time\n",
    "\n",
    "#calculate mean MEDV for houses grouped by CHAS values, from training set. This will be the predictions for both training & test data.\n",
    "bdata_train_CHAS_averages = bdata_train[['CHAS','MEDV']].groupby('CHAS').mean().reset_index()\n",
    "display(bdata_train_CHAS_averages)\n",
    "\n",
    "def baseline_model(X):\n",
    "    train_res.append(float(bdata_train_CHAS_averages[bdata_train_CHAS_averages['CHAS']==X]['MEDV']))\n",
    "    \n",
    "#predict values for training data\n",
    "train_res = []\n",
    "bdata_train['CHAS'].apply(baseline_model)\n",
    "\n",
    "train_rmse = compute_rmse(train_res, bdata_train['MEDV'])\n",
    "print(\"1. Baseline train data RMSE: {:.2f}\".format(train_rmse))\n",
    "\n",
    "def baseline_model_1(X):\n",
    "    test_res.append(float(bdata_train_CHAS_averages[bdata_train_CHAS_averages['CHAS']==X]['MEDV']))\n",
    "\n",
    "#predict values for test data\n",
    "test_res = []\n",
    "start_time = time.time()\n",
    "bdata_test['CHAS'].apply(baseline_model_1)\n",
    "end_time = time.time()\n",
    "\n",
    "\n",
    "test_rmse = compute_rmse(test_res, bdata_test['MEDV'])\n",
    "print(\"2. Baseline test data RMSE: {:.2f}\".format(test_rmse))\n",
    "print(\"5. Time taken on test data: {:.3f} seconds\".format(end_time - start_time))"
   ]
  },
  {
   "cell_type": "markdown",
   "metadata": {},
   "source": [
    "3. The RMSE is high for both the training and testing data, which is not surprising since we're using such a simple model to predict housing values! RMSE is higher in the test dataset, which could be a sign of overfitting (note that the average MEDV in the training dataset is not identical to the average MEDV in the test dataset)"
   ]
  },
  {
   "cell_type": "code",
   "execution_count": 8,
   "metadata": {},
   "outputs": [],
   "source": [
    "def plot_true_predict(y_train_true, y_train_predict, y_test_true, y_test_predict):\n",
    "    ax = plt.subplot(111)\n",
    "    plt.scatter(y_train_true, y_train_predict, c='r', label='Training dataset')\n",
    "    plt.scatter(y_test_true, y_test_predict, c='b', label='Testing dataset')\n",
    "    ax.set_xlim([0, 60])\n",
    "    ax.set_ylim([0, 60])\n",
    "    plt.xlabel('True value')\n",
    "    plt.ylabel('Predicted Value')\n",
    "    ax.spines['right'].set_visible(False)\n",
    "    ax.spines['top'].set_visible(False)\n",
    "    ax.yaxis.set_ticks_position('left')\n",
    "    ax.xaxis.set_ticks_position('bottom')\n",
    "    plt.legend(loc=2, scatterpoints=1)\n",
    "    "
   ]
  },
  {
   "cell_type": "code",
   "execution_count": 9,
   "metadata": {},
   "outputs": [
    {
     "data": {
      "image/png": "[encoded data removed]",
      "text/plain": [
       "<Figure size 432x288 with 1 Axes>"
      ]
     },
     "metadata": {
      "needs_background": "light"
     },
     "output_type": "display_data"
    }
   ],
   "source": [
    "plot_true_predict(bdata_train['MEDV'], train_res, bdata_test['MEDV'], test_res)"
   ]
  },
  {
   "cell_type": "markdown",
   "metadata": {},
   "source": [
    "---\n",
    "\n",
    "## Part 2: Nearest Neighbors\n"
   ]
  },
  {
   "cell_type": "markdown",
   "metadata": {},
   "source": [
    "### 2.1 Nearest Neighbors: Distance function\n",
    "Let's try and build a machine learning algorithm to beat the \"Average Value\" baseline that you computed above.  Soon you will implement the Nearest Neighbor algorithm, but first you need to create a distance metric to measure the distance (and similarity) between two instances.  Write a generic function to compute the L-Norm distance (called the [*p*-norm][1] distance on Wikipedia). Verify that your function works by computing the Euclidean distance between the points (2,7) and (2,4), and then compute the Manhattan distance between (4,4) and (12,10).\n",
    "\n",
    "[1]: https://en.wikipedia.org/wiki/Norm_(mathematics)#p-norm"
   ]
  },
  {
   "cell_type": "code",
   "execution_count": 10,
   "metadata": {},
   "outputs": [
    {
     "name": "stdout",
     "output_type": "stream",
     "text": [
      "[5.]\n",
      "[14.]\n"
     ]
    }
   ],
   "source": [
    "\"\"\"\n",
    "Function\n",
    "--------\n",
    "distance\n",
    "\n",
    "Given two instances and a value for L, return the L-Norm distance between them\n",
    "\n",
    "Parameters\n",
    "----------\n",
    "x1, x2 : array\n",
    "    Array of numerical values corresponding to predictions for each of the N observations\n",
    "\n",
    "L: int\n",
    "    Value of L to use in computing distances\n",
    "\n",
    "Returns\n",
    "-------\n",
    "dist : int\n",
    "    The L-norm distance between instances\n",
    "\n",
    "Example\n",
    "-------\n",
    ">>> print(distance((2,7),(5,11),2))\n",
    "3\n",
    "\n",
    "\"\"\"\n",
    "def distance(x1, x2, L):\n",
    "    x1 = np.asarray(x1)\n",
    "    # in case x1 and x2 are both one dimension\n",
    "    if x1.ndim == 1:\n",
    "        x1 = np.asarray([x1])\n",
    "    x2 = np.asarray(x2)\n",
    "    dist = np.power(np.power(np.abs(x1 - x2), L).sum(axis=1), 1.0/L)\n",
    "    return dist\n",
    "\n",
    "print(distance((2,7),(5,11),2))\n",
    "print(distance((4,4),(12,10),1))"
   ]
  },
  {
   "cell_type": "markdown",
   "metadata": {},
   "source": [
    "### 2.2 Basic Nearest Neighbor algorithm\n",
    "\n",
    "Your next task is to implement a basic nearest neighbor algorithm from scratch.  Your simple model will use three input features (`CRIM, RM and ZN`) and a single output (`MEDV`).  In other words, you are modelling the relationship between median home value and crime rates, house size and the proportion of residential land zoned for lots.\n",
    "\n",
    "Use your training data (bdata_train) to \"fit\" your model, although as you know, with Nearest Neighbors there is no real training, you just need to keep your training data in memory.  Write a function that predicts the median home value using the nearest neighbor algorithm we discussed in class.  Since this is a small dataset, you can simply compare your test instance to every instance in the training set, and return the `MEDV` value of the closest training instance.  Have your function take L as an input, where L is passed to the distance function. Use L=2 for all questions henceforth unless explicitly stated otherwise.\n",
    "\n",
    "Make sure to do the following - \n",
    "1. Fill in the function specification below\n",
    "2. Use your algorithm to predict the median home value of every instance in the test set. Report the RMSE (\"test RMSE\")\n",
    "3. Use your algorithm to predict the median home value of every instance in the training set and report the training RMSE.\n",
    "4. Create a scatter plot that shows the true value of each instance on the x-axis and the predicted value of each instance on the y-axis. Color the training instances in red and the test instances in blue. \n",
    "5. Report an estimate of the total time taken by your code to predict the nearest neighbors for all the values in the test data set.\n",
    "6. How does the performance (test RMSE and total runtime) of your nearest neighbors algorithm compare to the baseline in part 1.3?"
   ]
  },
  {
   "cell_type": "code",
   "execution_count": 11,
   "metadata": {},
   "outputs": [
    {
     "name": "stdout",
     "output_type": "stream",
     "text": [
      "Time taken: 0.052 seconds\n",
      "Nearest Neighbor test data rmse = 7.12\n",
      "Time taken: 0.103 seconds\n",
      "Nearest Neighbor training data rmse = 0.00\n"
     ]
    }
   ],
   "source": [
    "\"\"\"\n",
    "Function\n",
    "--------\n",
    "Nearest Neighbors\n",
    "\n",
    "Implementation of nearest neighbors algorithm.\n",
    "\n",
    "Parameters\n",
    "----------\n",
    "x_train: array\n",
    "    Array of numerical feature values for training the model.\n",
    "y_train: array\n",
    "    Array of numerical output values for training the model.\n",
    "x_test: array\n",
    "    Array of numerical feature values for testing the model.\n",
    "y_test: array\n",
    "    Array of numerical output values for testing the model.\n",
    "L: int\n",
    "    Order of L-norm function used for calculating distance.\n",
    "\n",
    "Returns\n",
    "-------\n",
    "rmse : int\n",
    "    Value of the RMSE from data.\n",
    "\"\"\"\n",
    "import time\n",
    "def nneighbor(x_train, y_train, x_test, y_test, L):\n",
    "    start_time = time.time()\n",
    "    \n",
    "    #declare arrays\n",
    "    x_train = np.array(x_train)\n",
    "    y_train = np.array(y_train)\n",
    "    x_test = np.array(x_test)\n",
    "    y_test = np.array(y_test)\n",
    "    y_hat = []\n",
    "    \n",
    "    #iterate over test data\n",
    "    for i in range(len(x_test)):    \n",
    "        dist = distance(x_train, x_test[i], L)\n",
    "        idx = dist.tolist().index(min(dist))\n",
    "        y_hat.append(y_train[idx])\n",
    "        \n",
    "    #compute error\n",
    "    rmse = compute_rmse(y_hat, y_test)\n",
    "    print(\"Time taken: {:.3f} seconds\".format(time.time() - start_time))\n",
    "    return rmse\n",
    "\n",
    "#your additional code here\n",
    "nn_rmse = nneighbor(bdata_train.loc[:,['CRIM', 'RM', 'ZN']], bdata_train['MEDV'], bdata_test.loc[:,['CRIM', 'RM', 'ZN']], bdata_test['MEDV'], 2)\n",
    "print(\"Nearest Neighbor test data rmse = {:.2f}\".format(nn_rmse))\n",
    "\n",
    "nn_rmse = nneighbor(bdata_train.loc[:,['CRIM', 'RM', 'ZN']], bdata_train['MEDV'], bdata_train.loc[:,['CRIM', 'RM', 'ZN']], bdata_train['MEDV'], 2)\n",
    "print(\"Nearest Neighbor training data rmse = {:.2f}\".format(nn_rmse))"
   ]
  },
  {
   "cell_type": "code",
   "execution_count": 12,
   "metadata": {},
   "outputs": [
    {
     "data": {
      "image/png": "[encoded data removed]",
      "text/plain": [
       "<Figure size 432x288 with 1 Axes>"
      ]
     },
     "metadata": {
      "needs_background": "light"
     },
     "output_type": "display_data"
    }
   ],
   "source": [
    "def nneighbor_predict(x_train, y_train, x_test, y_test, L):\n",
    "    #declare arrays\n",
    "    x_train = np.array(x_train)\n",
    "    y_train = np.array(y_train)\n",
    "    x_test = np.array(x_test)\n",
    "    y_test = np.array(y_test)\n",
    "    y_hat = []\n",
    "    \n",
    "    #iterate over test data\n",
    "    for i in range(len(x_test)):    \n",
    "        dist = distance(x_train, x_test[i], L)\n",
    "        idx = dist.tolist().index(min(dist))\n",
    "        y_hat.append(y_train[idx])\n",
    "        \n",
    "    return y_hat\n",
    "\n",
    "y_test_predict = nneighbor_predict(bdata_train.loc[:,['CRIM', 'RM', 'ZN']], bdata_train['MEDV'], bdata_test.loc[:,['CRIM', 'RM', 'ZN']], bdata_test['MEDV'], 2)\n",
    "y_train_predict = nneighbor_predict(bdata_train.loc[:,['CRIM', 'RM', 'ZN']], bdata_train['MEDV'], bdata_train.loc[:,['CRIM', 'RM', 'ZN']], bdata_train['MEDV'], 2)\n",
    "\n",
    "plot_true_predict(bdata_train['MEDV'], y_train_predict, bdata_test['MEDV'], y_test_predict)"
   ]
  },
  {
   "cell_type": "markdown",
   "metadata": {},
   "source": [
    "- 2.The RMSE of the testing dataset is 7.12.\n",
    "- 3.The RMSE of the training dataset is 0.\n",
    "- 5.The total time taken to predict the nearest neighbors for all the values in the test data set is 0.02s.\n",
    "- 6.The test RMSE of the basic nearest neighbor algorithm is noticeably lower than the RMSE of the baseline from part 1.3. The training data falls to zero since each data point is its own \"nearest neighbor\" -- a sign that we are very likely overfitting."
   ]
  },
  {
   "cell_type": "markdown",
   "metadata": {},
   "source": [
    "### 2.3 Results and Normalization\n",
    "\n",
    "If you were being astute, you would have noticed that we never normalized our features -- a big no-no with Nearest Neighbor algorithms.  Write a generic normalization function that takes as input an array of values for a given feature, and returns the standardized array (subtract the mean and divide by the standard deviation).\n",
    "\n",
    "Re-run the Nearest Neighbor algorithm on the normalized dataset (still just using `CRIM, RM and ZN` as input), and compare the RMSE from this method with your previous RMSE evaluations. What do you observe?\n",
    "\n",
    "*NOTE*: To normalize properly, you should compute the mean and standard deviation on the training set, and use the same values to normalize both the training and the testing dataset.\n",
    "\n",
    "*NOTE 2*: In this case, the normalization may or may not reduce the RMSE; don't get confused if you find that to be the case."
   ]
  },
  {
   "cell_type": "code",
   "execution_count": 13,
   "metadata": {},
   "outputs": [
    {
     "name": "stdout",
     "output_type": "stream",
     "text": [
      "********Training and Test set Normalized*******\n",
      "Time taken: 0.050 seconds\n",
      "Normalized Nearest Neighbor test data rmse = 7.46\n"
     ]
    }
   ],
   "source": [
    "\"\"\"\n",
    "Function\n",
    "--------\n",
    "Normalize data\n",
    "\n",
    "Normalize all of the features in a data frame.\n",
    "\n",
    "Parameters\n",
    "----------\n",
    "raw_data: array\n",
    "    Array of numerical values to normalize.\n",
    "\n",
    "Returns\n",
    "-------\n",
    "normalized_data : array\n",
    "    The array with normalized values for all features\n",
    "\"\"\"\n",
    "def normalize(raw_data):\n",
    "    # initialize array\n",
    "    raw = np.array(raw_data)\n",
    "    \n",
    "    # calculate mean, std\n",
    "    mean = raw.mean(axis=0)\n",
    "    std = raw.std(axis=0)\n",
    "    normalized_data = (raw - mean) * 1.0 / std\n",
    "    \n",
    "    return mean, std, pd.DataFrame(normalized_data, columns=['CRIM' ,'ZN' ,'INDUS', 'CHAS' ,'NOX', 'RM', 'AGE' ,'DIS' ,'RAD', 'TAX', 'PTRATIO', 'B' ,'LSTAT'])\n",
    "\n",
    "\n",
    "# your additional code here\n",
    "# normalize train set\n",
    "print(\"********Training and Test set Normalized*******\")\n",
    "train_mean,train_std,nor_bdata_train = normalize(bdata_train.iloc[:,:-1])\n",
    "nor_bdata_train['MEDV'] = bdata_train['MEDV']\n",
    "\n",
    "# Use train mean and std to normalize test\n",
    "raw = np.array(bdata_test.iloc[:,:-1])\n",
    "normalized_data = (raw - train_mean) * 1.0 / train_std\n",
    "nor_bdata_test = pd.DataFrame(normalized_data, columns=['CRIM' ,'ZN' ,'INDUS', 'CHAS' ,'NOX', 'RM', 'AGE' ,'DIS' ,'RAD', 'TAX', 'PTRATIO', 'B' ,'LSTAT'])\n",
    "nor_bdata_test['MEDV'] = bdata_test['MEDV']\n",
    "\n",
    "\n",
    "# run NN model with normalized data\n",
    "nor_nn_rmse = nneighbor(nor_bdata_train.loc[:,['CRIM', 'RM', 'ZN']], nor_bdata_train['MEDV'], nor_bdata_test.loc[:,['CRIM', 'RM', 'ZN']], nor_bdata_test['MEDV'], 2)\n",
    "print(\"Normalized Nearest Neighbor test data rmse = {:.2f}\".format(nor_nn_rmse))"
   ]
  },
  {
   "cell_type": "markdown",
   "metadata": {},
   "source": [
    "Standardizing our features led to an increase in our test RMSE. In general, though, without normalization the features that are measured on larger scales contribute more to the error. Normalization is \"standard practice\", unless you have a strong reason to believe that certain features should count more in your distance function."
   ]
  },
  {
   "cell_type": "markdown",
   "metadata": {},
   "source": [
    "### 2.4 Optimization\n",
    "\n",
    "A lot of the decisions we've made so far have been arbitrary.  Try to increase the performance of your nearest neighbor algorithm by adding features that you think might be relevant, and by using different values of L in the distance function.  Try a model that uses a different set of 2 features, then try at least one model that uses more than 4 features, then try using a different value of L.  If you're having fun, try a few different combinations of features and L! Use the test set to report the RMSE values.\n",
    "\n",
    "What combination of features and distance function provide the lowest RMSE on the test set?  Do your decisions affect the running time of the algorithm?\n",
    "\n",
    "*NOTE:* For this and all subsequent questions, you should use normalized features. "
   ]
  },
  {
   "cell_type": "code",
   "execution_count": 14,
   "metadata": {},
   "outputs": [
    {
     "name": "stdout",
     "output_type": "stream",
     "text": [
      "Time taken: 0.082 seconds\n",
      "NN, AGE-TEX, L=2: 9.92\n",
      "Time taken: 0.020 seconds\n",
      "NN, AGE-TEX, L=12: 9.93\n",
      "Time taken: 0.025 seconds\n",
      "NN, CHAS-NOX-AGE-TEX-B, L=1: 10.27\n",
      "Time taken: 0.031 seconds\n",
      "NN, CHAS-NOX-AGE-TEX-B, L=2: 10.23\n",
      "Time taken: 0.043 seconds\n",
      "NN, CHAS-NOX-AGE-TEX-B, L=3: 10.24\n",
      "Time taken: 0.037 seconds\n",
      "NN, all features, L=1: 5.87\n",
      "Time taken: 0.042 seconds\n",
      "NN, all features, L=2: 5.32\n",
      "Time taken: 0.048 seconds\n",
      "NN, all features, L=3: 5.16\n",
      "Time taken: 0.043 seconds\n",
      "NN, all features, L=4: 5.28\n",
      "Time taken: 0.051 seconds\n",
      "NN, all features, L=5: 5.21\n",
      "Time taken: 0.036 seconds\n",
      "NN, all features, L=6: 5.26\n",
      "Time taken: 0.047 seconds\n",
      "NN, all features, L=7: 5.42\n",
      "Time taken: 0.042 seconds\n",
      "NN, all features, L=8: 5.46\n",
      "Time taken: 0.048 seconds\n",
      "NN, all features, L=9: 5.44\n",
      "Time taken: 0.041 seconds\n",
      "NN, all features, L=10: 5.44\n",
      "Time taken: 0.035 seconds\n",
      "NN, all features, L=11: 5.42\n",
      "Time taken: 0.043 seconds\n",
      "NN, all features, L=12: 5.56\n",
      "Time taken: 0.048 seconds\n",
      "NN, all features, L=13: 5.64\n",
      "Time taken: 0.036 seconds\n",
      "NN, all features, L=14: 5.64\n",
      "Time taken: 0.046 seconds\n",
      "NN, all features, L=15: 5.37\n",
      "Time taken: 0.043 seconds\n",
      "NN, all features, L=16: 5.39\n",
      "Time taken: 0.050 seconds\n",
      "NN, all features, L=17: 5.39\n",
      "Time taken: 0.041 seconds\n",
      "NN, all features, L=18: 5.39\n",
      "Time taken: 0.058 seconds\n",
      "NN, all features, L=19: 5.39\n",
      "Time taken: 0.042 seconds\n",
      "NN, all features, L=20: 5.39\n"
     ]
    }
   ],
   "source": [
    "# enter your code here\n",
    "\n",
    "'''\n",
    "6 - AGE      proportion of owner-occupied units built prior to 1940\n",
    "11 - B        1000(Bk - 0.63)^2 where Bk is the proportion of blacks by town\n",
    "9 - TAX      full-value property-tax rate per $10,000\n",
    "3 - CHAS     Charles River dummy variable (= 1 if tract bounds river; 0 otherwise)\n",
    "5 - NOX      nitric oxides concentration (parts per 10 million)\n",
    "'''\n",
    "\n",
    "#NN with AGE and TAX\n",
    "nn1 = nneighbor(nor_bdata_train.loc[:,['AGE','TAX']], nor_bdata_train['MEDV'], nor_bdata_test.loc[:,['AGE','TAX']], nor_bdata_test['MEDV'], 2)\n",
    "print(\"NN, AGE-TEX, L=2: {:.2f}\".format(nn1))\n",
    "\n",
    "nn2 = nneighbor(nor_bdata_train.loc[:,['AGE','TAX']], nor_bdata_train['MEDV'], nor_bdata_test.loc[:,['AGE','TAX']], nor_bdata_test['MEDV'], 12)\n",
    "print(\"NN, AGE-TEX, L=12: {:.2f}\".format(nn2))\n",
    "\n",
    "#NN with CHAS-NOX-AGE-TAX-B\n",
    "nn3 = nneighbor(nor_bdata_train.loc[:,['AGE','TAX','CHAS','NOX','B']], nor_bdata_train['MEDV'], nor_bdata_test.loc[:,['AGE','TAX','CHAS','NOX','B']], nor_bdata_test['MEDV'], 1)\n",
    "print(\"NN, CHAS-NOX-AGE-TEX-B, L=1: {:.2f}\".format(nn3))\n",
    "\n",
    "nn4 = nneighbor(nor_bdata_train.loc[:,['AGE','TAX','CHAS','NOX','B']], nor_bdata_train['MEDV'], nor_bdata_test.loc[:,['AGE','TAX','CHAS','NOX','B']], nor_bdata_test['MEDV'], 2)\n",
    "print(\"NN, CHAS-NOX-AGE-TEX-B, L=2: {:.2f}\".format(nn4))\n",
    "\n",
    "nn5 = nneighbor(nor_bdata_train.loc[:,['AGE','TAX','CHAS','NOX','B']], nor_bdata_train['MEDV'], nor_bdata_test.loc[:,['AGE','TAX','CHAS','NOX','B']], nor_bdata_test['MEDV'], 3)\n",
    "print(\"NN, CHAS-NOX-AGE-TEX-B, L=3: {:.2f}\".format(nn5))\n",
    "\n",
    "\n",
    "#NN with all features\n",
    "for l in range(1, 21):\n",
    "    nn6 = nneighbor(nor_bdata_train.iloc[:,:-1], nor_bdata_train['MEDV'], nor_bdata_test.iloc[:,:-1],  nor_bdata_test['MEDV'], l)\n",
    "    print(\"NN, all features, L={}: {:.2f}\".format(l, nn6))"
   ]
  },
  {
   "cell_type": "markdown",
   "metadata": {},
   "source": [
    "* Including more features generally leads to a lower RMSE.\n",
    "* Adding more variables does not increase the running time a lot because the algorithm is very efficient. Using all features did take 0.01 seconds longer than using two or five variables."
   ]
  },
  {
   "cell_type": "markdown",
   "metadata": {},
   "source": [
    "### 2.5 Cross-Validation\n",
    "\n",
    "The more you tinkered with your features and distance function, the higher the risk that you overfit your training data.  One solution to this sort of overfitting is to use cross-validation (see K-fold [cross-validation][1].  Here you must implement a simple k-fold cross-validation algorithm yourself.  The function you write here will be used several more times in this problem set, so do your best to write efficient code! (Note that the sklearn package has a built-in [K-fold][2] iterator -- you should *not* be invoking that or any related algorithms in this section of the problem set.)\n",
    "\n",
    "Use 25-fold cross-validation and report the average RMSE for Nearest Neighbors using Euclidean distance with `CRIM,RM and ZN` input features, as well as the total running time for the full run of 25 folds.  In other words, randomly divide your training dataset (created in 1.2) into 25 equally-sized samples.\n",
    "\n",
    "For each of the 25 iterations (the \"folds\"), use 24 samples as \"training data\" (even though there is no training in k-NN!), and the remaining 1 sample for validation.  Compute the RMSE of that particular validation set, then move on to the next iteration.  \n",
    "\n",
    " - Report the average cross-validated RMSE across the 25 iterations. What do you observe?\n",
    " \n",
    " - Create a histogram of the RMSEs for the folds (there should be 25 of these). Additionally, use a horizontal line to mark the average cross-validated RMSE.\n",
    "\n",
    "\n",
    "[1]: http://en.wikipedia.org/wiki/Cross-validation_(statistics)\n",
    "[2]: http://scikit-learn.org/stable/modules/cross_validation.html#cross-validation\n",
    "\n",
    "\n",
    "\n",
    "NOTE: To perform any randomized operation, only use functions in the *numpy library (np.random)*. Do not use other packages for random functions.\n",
    "\n",
    "HINT: Running 25-fold cross validation might be time-consuming. Try starting with 5 folds."
   ]
  },
  {
   "cell_type": "code",
   "execution_count": 15,
   "metadata": {},
   "outputs": [],
   "source": [
    "\n",
    "\n",
    "# enter your code here\n",
    "def k_fold(ds, k):\n",
    "    r = []\n",
    "    size_all = len(ds)\n",
    "    size = int(size_all / k)\n",
    "    ds_index = list(range(size_all))\n",
    "    # note: the size of the samples may not be divisible by fold.\n",
    "    # will put all the rest to the last fold\n",
    "    for i in range(k-1):\n",
    "        rows = np.random.choice(ds_index, size, replace=False)\n",
    "        r.append(rows.tolist())\n",
    "        ds_index = list(set(ds_index) - set(rows))\n",
    "    r.append(ds_index)\n",
    "    return r"
   ]
  },
  {
   "cell_type": "code",
   "execution_count": 16,
   "metadata": {},
   "outputs": [
    {
     "name": "stdout",
     "output_type": "stream",
     "text": [
      "Time taken: 0.003 seconds\n",
      "RMSE: 5.51\n",
      "Time taken: 0.005 seconds\n",
      "RMSE: 7.42\n",
      "Time taken: 0.008 seconds\n",
      "RMSE: 6.34\n",
      "Time taken: 0.024 seconds\n",
      "RMSE: 6.53\n",
      "Time taken: 0.011 seconds\n",
      "RMSE: 10.64\n",
      "Time taken: 0.007 seconds\n",
      "RMSE: 5.22\n",
      "Time taken: 0.002 seconds\n",
      "RMSE: 6.86\n",
      "Time taken: 0.005 seconds\n",
      "RMSE: 8.88\n",
      "Time taken: 0.005 seconds\n",
      "RMSE: 4.45\n",
      "Time taken: 0.014 seconds\n",
      "RMSE: 4.51\n",
      "Time taken: 0.006 seconds\n",
      "RMSE: 5.32\n",
      "Time taken: 0.006 seconds\n",
      "RMSE: 9.92\n",
      "Time taken: 0.006 seconds\n",
      "RMSE: 5.46\n",
      "Time taken: 0.008 seconds\n",
      "RMSE: 12.14\n",
      "Time taken: 0.012 seconds\n",
      "RMSE: 6.23\n",
      "Time taken: 0.004 seconds\n",
      "RMSE: 4.31\n",
      "Time taken: 0.002 seconds\n",
      "RMSE: 8.12\n",
      "Time taken: 0.003 seconds\n",
      "RMSE: 4.76\n",
      "Time taken: 0.005 seconds\n",
      "RMSE: 9.91\n",
      "Time taken: 0.003 seconds\n",
      "RMSE: 6.59\n",
      "Time taken: 0.008 seconds\n",
      "RMSE: 9.99\n",
      "Time taken: 0.003 seconds\n",
      "RMSE: 6.33\n",
      "Time taken: 0.007 seconds\n",
      "RMSE: 4.18\n",
      "Time taken: 0.003 seconds\n",
      "RMSE: 4.06\n",
      "Time taken: 0.005 seconds\n",
      "RMSE: 8.79\n",
      "Average RMSE: 6.90\n"
     ]
    }
   ],
   "source": [
    "bdata_x = nor_bdata_train.iloc[:,:-1]\n",
    "bdata_y = nor_bdata_train['MEDV']\n",
    "k = 25\n",
    "rmse_all = []\n",
    "size_all = len(bdata_x)\n",
    "ds_fold = k_fold(bdata_x, k)\n",
    "ds_index = list(range(size_all))\n",
    "for i in range(k):\n",
    "    val_idx = ds_fold[i]\n",
    "    train_idx = list(set(ds_index) - set(val_idx))\n",
    "    train_x = bdata_x.iloc[train_idx,:][['CRIM', 'RM', 'ZN']]\n",
    "    train_y = bdata_y.iloc[train_idx]\n",
    "    val_x = bdata_x.iloc[val_idx,:][['CRIM', 'RM', 'ZN']]\n",
    "    val_y = bdata_y.iloc[val_idx]\n",
    "    nn_rmse = nneighbor(train_x, train_y, val_x, val_y, 2)\n",
    "    print(\"RMSE: {:.2f}\".format(nn_rmse))\n",
    "    rmse_all.append(nn_rmse)\n",
    "print(\"Average RMSE: {:.2f}\".format(np.mean(rmse_all)))"
   ]
  },
  {
   "cell_type": "code",
   "execution_count": 17,
   "metadata": {},
   "outputs": [
    {
     "data": {
      "text/plain": [
       "2.2589659067391428"
      ]
     },
     "execution_count": 17,
     "metadata": {},
     "output_type": "execute_result"
    }
   ],
   "source": [
    "np.std(rmse_all)"
   ]
  },
  {
   "cell_type": "markdown",
   "metadata": {},
   "source": [
    "The average RMSE across the 25 iterations is 6.77. There is considerable variation in the RMSE (standard deviation of RMSE = 2.883), due to the fact that each fold has a different train-validation split, and with 25 splits, some of the validation sets might look quite different from the training data. The RMSE of 6.55 is lower than the test RMSE from 2.3, but the 6.55 RMSE is not the true test RMSE. "
   ]
  },
  {
   "cell_type": "code",
   "execution_count": 18,
   "metadata": {},
   "outputs": [
    {
     "data": {
      "image/png": "[encoded data removed]",
      "text/plain": [
       "<Figure size 432x288 with 1 Axes>"
      ]
     },
     "metadata": {
      "needs_background": "light"
     },
     "output_type": "display_data"
    }
   ],
   "source": [
    "ax = plt.subplot(111);\n",
    "plt.hist(rmse_all, color='green');\n",
    "plt.axvline(np.mean(rmse_all),color='red');\n",
    "plt.ylabel('Frequency')\n",
    "plt.xlabel('RMSE')\n",
    "ax.spines['right'].set_visible(False)\n",
    "ax.spines['top'].set_visible(False)\n",
    "ax.yaxis.set_ticks_position('left')\n",
    "ax.xaxis.set_ticks_position('bottom')\n",
    "plt.title('25-folds RMSE Distribution');\n",
    "\n"
   ]
  },
  {
   "cell_type": "markdown",
   "metadata": {},
   "source": [
    "### 2.6 K-Nearest Neighbors Algorithm\n",
    "\n",
    "Implement the K-Nearest Neighbors algorithm.  Use 10-fold cross validation and L2 normalization, and the same features as in 2.5. Report the RMSE for K=5 and the running time of the algorithm. What do you observe?"
   ]
  },
  {
   "cell_type": "code",
   "execution_count": 19,
   "metadata": {},
   "outputs": [
    {
     "name": "stdout",
     "output_type": "stream",
     "text": [
      "Time all taken: 0.181\n",
      "Normalized K-Nearest Neighbor Cross-validated rmse = 5.26\n"
     ]
    }
   ],
   "source": [
    "\"\"\"\n",
    "Function\n",
    "--------\n",
    "K-Nearest Neighbors\n",
    "\n",
    "Implementation of nearest neighbors algorithm.\n",
    "\n",
    "Parameters\n",
    "----------\n",
    "x_train: array\n",
    "    Array of numerical feature values for training the model.\n",
    "y_train: array\n",
    "    Array of numerical output values for training the model.\n",
    "x_test: array\n",
    "    Array of numerical feature values for testing the model.\n",
    "y_test: array\n",
    "    Array of numerical output values for testing the model.\n",
    "L: int\n",
    "    Order of L-norm function used for calculating distance.\n",
    "K: int\n",
    "    Neighbors to include in algorithm\n",
    "    \n",
    "Returns\n",
    "-------\n",
    "rmse : int\n",
    "    Value of the RMSE from data.\n",
    "\"\"\"\n",
    "def knn(x_train, y_train, x_test, y_test, L, k):\n",
    "    start_time = time.time()\n",
    "    \n",
    "    #declare arrays\n",
    "    x_train = np.array(x_train)\n",
    "    y_train = np.array(y_train)\n",
    "    x_test = np.array(x_test)\n",
    "    y_test = np.array(y_test)\n",
    "    y_hat = []\n",
    "    \n",
    "    #iterate over test data\n",
    "    for i in range(len(x_test)):    \n",
    "        dist = distance(x_train, x_test[i], L)\n",
    "        rank = dist.argsort()\n",
    "        predict = [y_train[rank[i]] for i in range(k)]\n",
    "        y_hat.append(np.mean(predict))\n",
    "    #compute error\n",
    "    rmse = compute_rmse(y_hat, y_test)\n",
    "    return rmse\n",
    "\n",
    "def get_rmse_knn(x, y, L, k_f, k_nn):\n",
    "    rmse_all = []\n",
    "    size_all = len(x)\n",
    "    ds_fold = k_fold(x, k_f)\n",
    "    ds_index = list(range(size_all))\n",
    "    for i in range(k_f):\n",
    "        val_idx = ds_fold[i]\n",
    "        train_idx = list(set(ds_index) - set(val_idx))\n",
    "        train_x = x.iloc[train_idx,:]\n",
    "        train_y = y.iloc[train_idx]\n",
    "        val_x = x.iloc[val_idx,:]\n",
    "        val_y = y.iloc[val_idx]\n",
    "\n",
    "        nn_rmse = knn(train_x, train_y, val_x, val_y, L, k_nn)\n",
    "        rmse_all.append(nn_rmse)\n",
    "    rmse = np.mean(rmse_all)\n",
    "    return rmse\n",
    "\n",
    "# enter your additional code here\n",
    "t0 = time.time()\n",
    "nor_knn_rmse = get_rmse_knn(nor_bdata_train[['CRIM', 'RM', 'ZN']], nor_bdata_train['MEDV'], 2, 10, 5)\n",
    "print(\"Time all taken: {:.3f}\".format(time.time() - t0))\n",
    "print(\"Normalized K-Nearest Neighbor Cross-validated rmse = {:.2f}\".format(nor_knn_rmse))"
   ]
  },
  {
   "cell_type": "markdown",
   "metadata": {},
   "source": [
    "* The k-NN cross-validation with 10 folds takes 0.042 seconds.\n",
    "* The average RMSE across the 10 iterations is 5.41, lower than what we see in 2.5. The k-NN performs better here since we take into account not just the nearest, but 5 nearest neighbors and this helps generalize better."
   ]
  },
  {
   "cell_type": "markdown",
   "metadata": {},
   "source": [
    "### 2.7 Using cross validation to find K\n",
    "\n",
    "Compute the cross-validated RMSE for values of K between 1 and 25 using 10-fold cross-validation and L2 normalization.  Use the following features in your model: `CRIM, ZN, RM, AGE, DIS, TAX`.  Create a graph that shows how cross-validated RMSE changes as K increases from 1 to 25.  Label your axes, and summarize what you see.  What do you think is a reasonable choice of K for this model?\n",
    "\n",
    "Finally, report the test RMSE using the value of K that minimized the cross-validated RMSE. (Continue to use L2 normalization and the same set of features). How does the test RMSE compare to the cross-validated RMSE, and is this what you expected? How does the test RMSE compare to the test RMSE from 2.4, and is this what you expected?"
   ]
  },
  {
   "cell_type": "code",
   "execution_count": 20,
   "metadata": {},
   "outputs": [],
   "source": [
    "r = []\n",
    "for i in range(1, 26):\n",
    "    nor_knn_rmse = get_rmse_knn(nor_bdata_train.loc[:,['CRIM','ZN','RM','AGE','DIS','TAX']], nor_bdata_train['MEDV'], 2, 10, i)\n",
    "    r.append(nor_knn_rmse)"
   ]
  },
  {
   "cell_type": "code",
   "execution_count": 21,
   "metadata": {},
   "outputs": [
    {
     "data": {
      "image/png": "[encoded data removed]",
      "text/plain": [
       "<Figure size 432x288 with 1 Axes>"
      ]
     },
     "metadata": {
      "needs_background": "light"
     },
     "output_type": "display_data"
    }
   ],
   "source": [
    "ax = plt.subplot(111)\n",
    "ax.plot(range(1,26),r,'o-',color='black')\n",
    "ax.set_xlim([0, 26])\n",
    "plt.xlabel('K neighbors')\n",
    "plt.ylabel('RMSE')\n",
    "ax.spines['right'].set_visible(False)\n",
    "ax.spines['top'].set_visible(False)\n",
    "ax.yaxis.set_ticks_position('left')\n",
    "ax.xaxis.set_ticks_position('bottom')"
   ]
  },
  {
   "cell_type": "code",
   "execution_count": 22,
   "metadata": {},
   "outputs": [
    {
     "data": {
      "text/plain": [
       "6"
      ]
     },
     "execution_count": 22,
     "metadata": {},
     "output_type": "execute_result"
    }
   ],
   "source": [
    "np.argmin(r) + 1 #we had 1 here because the index of the first iteration is 0."
   ]
  },
  {
   "cell_type": "code",
   "execution_count": 23,
   "metadata": {},
   "outputs": [
    {
     "data": {
      "text/plain": [
       "4.913173308206959"
      ]
     },
     "execution_count": 23,
     "metadata": {},
     "output_type": "execute_result"
    }
   ],
   "source": [
    "np.min(r)"
   ]
  },
  {
   "cell_type": "markdown",
   "metadata": {},
   "source": [
    "The lowest RMSE is observed at K=4. From K=6 it seems to be increasing steadily."
   ]
  },
  {
   "cell_type": "code",
   "execution_count": 24,
   "metadata": {},
   "outputs": [
    {
     "data": {
      "text/plain": [
       "5.9130132744863655"
      ]
     },
     "execution_count": 24,
     "metadata": {},
     "output_type": "execute_result"
    }
   ],
   "source": [
    "best_k = np.argmin(r)\n",
    "knn(nor_bdata_train.loc[:,['CRIM','ZN','RM','AGE','DIS','TAX']], nor_bdata_train['MEDV'],nor_bdata_test.loc[:,['CRIM','ZN','RM','AGE','DIS','TAX']], nor_bdata_test['MEDV'], 2, best_k)"
   ]
  },
  {
   "cell_type": "markdown",
   "metadata": {},
   "source": [
    "The test RMSE for the best value of K is 5.913. It is higher than the cross-validated average at the same value of K. In 2.4, we hit the least test RMSE at 4.9131 with L=9 and including all features ; here we use a subset of the features and L=2, therefore the RMSE is not surprisingly slightly higher that what we noticed earlier. "
   ]
  },
  {
   "cell_type": "markdown",
   "metadata": {},
   "source": [
    "### Extra-Credit: Forward selection\n",
    "\n",
    "Thus far the choice of predictor variables has been rather arbitrary. For extra credit, implement a basic [forward selection](https://see.stanford.edu/materials/aimlcs229/cs229-notes5.pdf) algorithm to progressively include features that decrease the cross-validated RMSE of the model. Note that the optimal value of K may be different for each model, so you may want to use cross-validation to choose K each time (but it is also fine if you fix K at the optimal value from 2.7).  Create a graph that shows RMSE as a function of the number of features in the model. Label each point on the x-axis with the name of the feature that is added at that step in the forward selection algorithm. *(For instance, if the optimal single-feature model has CRIM with RMSE = 10, and the optimal two-feature model has CRIM+ZN with RMSE=9, the first x-axis label will say CRIM and the second x-axis lable with say ZN)*"
   ]
  },
  {
   "cell_type": "code",
   "execution_count": 25,
   "metadata": {},
   "outputs": [],
   "source": [
    "def get_smallest_rmse(x, y, L, k_f):\n",
    "    r = []\n",
    "    # get the smallest rmse using k from 1 to 15\n",
    "    for i in range(1, 16):\n",
    "        nor_knn_rmse = get_rmse_knn(x, y, L, k_f, i)\n",
    "        r.append(nor_knn_rmse)\n",
    "    return np.min(r)"
   ]
  },
  {
   "cell_type": "code",
   "execution_count": 26,
   "metadata": {},
   "outputs": [],
   "source": [
    "def get_feature_with_min_rmse(x, y, L, k_f, features_id_selected, features_id_test):\n",
    "    r_all = []\n",
    "    for i in features_id_test:\n",
    "        r = get_smallest_rmse(x.iloc[:,[i] + features_id_selected], y, L, k_f)\n",
    "        r_all.append(r)\n",
    "    feature_id_min_rmse = np.argsort(r_all)[0]\n",
    "    rmse = r_all[feature_id_min_rmse]\n",
    "    # be careful: features_id_test[feature_id_min_rmse]\n",
    "    v_name = x.columns[feature_id_min_rmse]\n",
    "    return features_id_test[feature_id_min_rmse], rmse, v_name"
   ]
  },
  {
   "cell_type": "code",
   "execution_count": 27,
   "metadata": {},
   "outputs": [
    {
     "name": "stdout",
     "output_type": "stream",
     "text": [
      "adding LSTAT has the smallest rmse 5.11\n",
      "adding RM has the smallest rmse 4.31\n",
      "adding CRIM has the smallest rmse 3.97\n"
     ]
    }
   ],
   "source": [
    "bdata_x = bdata_train.iloc[:,:-1]\n",
    "bdata_y = bdata_train['MEDV']\n",
    "features_id = list(range(13))\n",
    "features_id_selected = []\n",
    "rmse_min = float(\"inf\")\n",
    "v_name_all = []\n",
    "rmse_min_all = []\n",
    "for i in range(13):\n",
    "    f_id, rmse, v_name = get_feature_with_min_rmse(bdata_x, bdata_y, 2, 10, features_id_selected, features_id)\n",
    "    if rmse < rmse_min:\n",
    "        rmse_min = rmse\n",
    "        features_id = list(set(features_id) - set([f_id]))\n",
    "        features_id_selected.append(f_id)\n",
    "        print(\"adding {} has the smallest rmse {:.2f}\".format(v_name, rmse))\n",
    "        v_name_all.append(v_name)\n",
    "        rmse_min_all.append(rmse_min)\n",
    "#     else:\n",
    "#         break"
   ]
  },
  {
   "cell_type": "code",
   "execution_count": 28,
   "metadata": {},
   "outputs": [
    {
     "data": {
      "image/png": "[encoded data removed]",
      "text/plain": [
       "<Figure size 432x288 with 1 Axes>"
      ]
     },
     "metadata": {
      "needs_background": "light"
     },
     "output_type": "display_data"
    }
   ],
   "source": [
    "ax = plt.subplot(111)\n",
    "ax.plot(range(1,len(rmse_min_all)+1),rmse_min_all,'o-',color='black')\n",
    "ax.set_xlim([0, len(rmse_min_all)+1])\n",
    "plt.xlabel('Feature added')\n",
    "plt.ylabel('RMSE')\n",
    "plt.xticks(range(1,len(rmse_min_all)+1), v_name_all)\n",
    "ax.spines['right'].set_visible(False)\n",
    "ax.spines['top'].set_visible(False)\n",
    "ax.yaxis.set_ticks_position('left')\n",
    "ax.xaxis.set_ticks_position('bottom')"
   ]
  },
  {
   "cell_type": "code",
   "execution_count": null,
   "metadata": {},
   "outputs": [],
   "source": []
  },
  {
   "cell_type": "code",
   "execution_count": null,
   "metadata": {},
   "outputs": [],
   "source": []
  }
 ],
 "metadata": {
  "kernelspec": {
   "display_name": "Python 3",
   "language": "python",
   "name": "python3"
  },
  "language_info": {
   "codemirror_mode": {
    "name": "ipython",
    "version": 3
   },
   "file_extension": ".py",
   "mimetype": "text/x-python",
   "name": "python",
   "nbconvert_exporter": "python",
   "pygments_lexer": "ipython3",
   "version": "3.7.3"
  }
 },
 "nbformat": 4,
 "nbformat_minor": 4
}
