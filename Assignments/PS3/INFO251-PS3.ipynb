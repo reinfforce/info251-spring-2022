{
 "cells": [
  {
   "cell_type": "markdown",
   "metadata": {},
   "source": [
    "# Problem Set 3\n",
    "\n",
    "### Before You Start\n",
    "\n",
    "Make sure the following libraries load correctly (hit Ctrl-Enter). Note that while you are loading several powerful libraries, including machine learning libraries, the goal of this problem set is to implement several algorithms from scratch. In particular, you should *not* be using any built-in libraries for nearest neighbors, distance metrics, or cross-validation -- your mission is to write those algorithms in Python! Part 1 will be relatively easy; Part 2 will take more time."
   ]
  },
  {
   "cell_type": "code",
   "execution_count": 5,
   "metadata": {
    "collapsed": true,
    "jupyter": {
     "outputs_hidden": true
    }
   },
   "outputs": [],
   "source": [
    "import IPython\n",
    "import numpy as np\n",
    "import scipy as sp\n",
    "import pandas as pd\n",
    "import matplotlib\n",
    "import sklearn"
   ]
  },
  {
   "cell_type": "code",
   "execution_count": 6,
   "metadata": {
    "collapsed": true,
    "jupyter": {
     "outputs_hidden": true
    }
   },
   "outputs": [],
   "source": [
    "%matplotlib inline  \n",
    "import matplotlib.pyplot as plt  "
   ]
  },
  {
   "cell_type": "markdown",
   "metadata": {},
   "source": [
    "---\n",
    "\n",
    "## Introduction to the assignment\n",
    "\n",
    "For this assignment, you will be using the [Boston Housing Prices Data Set](http://www.kellogg.northwestern.edu/faculty/weber/emp/_session_3/boston.htm).  Please read about the dataset carefully before continuing.  Use the following commands to load the dataset:\n",
    "\n",
    "*NOTE - This dataset is similar to the one you used in PS1; we are just using a different method to load it this time. The column names and their order will remain the same for this dataset as was in PS1.*"
   ]
  },
  {
   "cell_type": "code",
   "execution_count": 7,
   "metadata": {
    "collapsed": true,
    "jupyter": {
     "outputs_hidden": true
    }
   },
   "outputs": [],
   "source": [
    "# load Boston housing data set\n",
    "data = np.loadtxt('data.txt')\n",
    "target = np.loadtxt('target.txt')"
   ]
  },
  {
   "cell_type": "markdown",
   "metadata": {},
   "source": [
    "---\n",
    "\n",
    "## Part 1: Experimental Setup\n",
    "\n",
    "The goal of the next few sections is to design an experiment to predict the median home value for an instance in the data.\n",
    "Before beginning the \"real\" work, refamiliarize yourself with the dataset."
   ]
  },
  {
   "cell_type": "markdown",
   "metadata": {},
   "source": [
    "### 1.1 Begin by writing a function to compute the Root Mean Squared Error for a list of numbers\n",
    "\n",
    "You can find the sqrt function in the Numpy package. Furthermore the details of RMSE can be found on [Wikipedia](http://en.wikipedia.org/wiki/Root-mean-square_deviation). Do not use a built-in function  to compute RMSE, other than numpy functions like `sqrt` and if needed, `sum` or other relevant ones."
   ]
  },
  {
   "cell_type": "code",
   "execution_count": 8,
   "metadata": {
    "collapsed": true,
    "jupyter": {
     "outputs_hidden": true
    }
   },
   "outputs": [],
   "source": [
    "\"\"\"\n",
    "Function\n",
    "--------\n",
    "compute_rmse\n",
    "\n",
    "Given two arrays, one of actual values and one of predicted values,\n",
    "compute the Roote Mean Squared Error\n",
    "\n",
    "Parameters\n",
    "----------\n",
    "predictions : array\n",
    "    Array of numerical values corresponding to predictions for each of the N observations\n",
    "\n",
    "yvalues : array\n",
    "    Array of numerical values corresponding to the actual values for each of the N observations\n",
    "\n",
    "Returns\n",
    "-------\n",
    "rmse : int\n",
    "    Root Mean Squared Error of the prediction\n",
    "\n",
    "Example\n",
    "-------\n",
    ">>> print(compute_rmse((4,6,3),(2,1,4)))\n",
    "3.16\n",
    "\"\"\"\n",
    "def compute_rmse(predictions, yvalues):\n",
    "    # your code here\n",
    "    return rmse"
   ]
  },
  {
   "cell_type": "code",
   "execution_count": 9,
   "metadata": {
    "collapsed": true,
    "jupyter": {
     "outputs_hidden": true
    }
   },
   "outputs": [],
   "source": [
    "compute_rmse((4,6,3),(2,1,4))"
   ]
  },
  {
   "cell_type": "markdown",
   "metadata": {},
   "source": [
    "### 1.2 Divide your data into training and testing datasets\n",
    "\n",
    "Randomly select 75% of the data and put this in a training dataset (call this \"bdata_train\"), and place the remaining 25% in a testing dataset (call this \"bdata_test\"). Do not use built-in functions.\n",
    "\n",
    "To perform any randomized operation, only use functions in the *numpy library (np.random)*. Do not use other packages for random functions."
   ]
  },
  {
   "cell_type": "code",
   "execution_count": 10,
   "metadata": {
    "collapsed": true,
    "jupyter": {
     "outputs_hidden": true
    }
   },
   "outputs": [],
   "source": [
    "# leave the following line untouched, it will help ensure that your \"random\" split is the same \"random\" split used by the rest of the class\n",
    "np.random.seed(seed=13579)\n",
    "\n",
    "# enter your code here"
   ]
  },
  {
   "cell_type": "markdown",
   "metadata": {},
   "source": [
    "### 1.3 Use a very bad baseline for prediction, and compute RMSE\n",
    "\n",
    "Let's start by creating a very bad baseline model that predicts median home values as the averages of `MEDV` based on adjacency to Charles River. \n",
    "\n",
    "Specifically, create a model that predicts, for every observation X_i, the median home value as the average of the median home values of all houses in the **training set** that have the same adjacency value as the observation.\n",
    "\n",
    "For example - For an input observation where `CHAS==1`, the model should predict the `MEDV` as the mean of all `MEDV` values in the training set that also have `CHAS==1`.\n",
    "\n",
    "\n",
    "\n",
    "Once the model is built, do the following:\n",
    "\n",
    "1. Compute the RMSE of the training set.\n",
    "2. Now compute the RMSE of the test data set (but use the model you trained on the training set!).\n",
    "3. How does RMSE compare for training vs. testing datasets? Is this what you expected, and why?\n",
    "4. Create a scatter plot that shows the true value of each instance on the x-axis and the predicted value of each instance on the y-axis. Color the training instances in red and the test instances in blue. Make sure to label your axes appropriately, and add a legend to your figure to make clear which dots are which.\n",
    "5. Add code to your function to measure the running time of your algorithm. How long does it take to compute the predicted values for the test data?\n",
    "\n",
    "\n",
    "*NOTE - Be careful while dealing with floats and integers. Additionally, the `groupby` operation might come handy here.*"
   ]
  },
  {
   "cell_type": "code",
   "execution_count": 17,
   "metadata": {
    "collapsed": true,
    "jupyter": {
     "outputs_hidden": true
    }
   },
   "outputs": [],
   "source": [
    "# enter your code here"
   ]
  },
  {
   "cell_type": "markdown",
   "metadata": {},
   "source": [
    "*enter your observations here*"
   ]
  },
  {
   "cell_type": "markdown",
   "metadata": {},
   "source": [
    "---\n",
    "\n",
    "## Part 2: Nearest Neighbors\n"
   ]
  },
  {
   "cell_type": "markdown",
   "metadata": {},
   "source": [
    "### 2.1 Nearest Neighbors: Distance function\n",
    "Let's try and build a machine learning algorithm to beat the \"Average Value\" baseline that you computed above.  Soon you will implement the Nearest Neighbor algorithm, but first you need to create a distance metric to measure the distance (and similarity) between two instances.  Write a generic function to compute the L-Norm distance (called the [*p*-norm][1] distance on Wikipedia). Verify that your function works by computing the Euclidean distance between the points (2,7) and (5,11), and then compute the Manhattan distance between (4,4) and (12,10).\n",
    "\n",
    "[1]: https://en.wikipedia.org/wiki/Norm_(mathematics)#p-norm"
   ]
  },
  {
   "cell_type": "code",
   "execution_count": 1,
   "metadata": {},
   "outputs": [],
   "source": [
    "\"\"\"\n",
    "Function\n",
    "--------\n",
    "distance\n",
    "\n",
    "Given two instances and a value for L, return the L-Norm distance between them\n",
    "\n",
    "Parameters\n",
    "----------\n",
    "x1, x2 : array\n",
    "    Array of numerical values corresponding to predictions for each of the N observations\n",
    "\n",
    "L: int\n",
    "    Value of L to use in computing distances\n",
    "\n",
    "Returns\n",
    "-------\n",
    "dist : int\n",
    "    The L-norm distance between instances\n",
    "\n",
    "Example\n",
    "-------\n",
    ">>> print(distance((2,7),(5,11),2))\n",
    "5\n",
    "\n",
    "\"\"\"\n",
    "def distance(x1, x2, L):\n",
    "    # your code here\n",
    "    return dist"
   ]
  },
  {
   "cell_type": "markdown",
   "metadata": {},
   "source": [
    "### 2.2 Basic Nearest Neighbor algorithm\n",
    "\n",
    "Your next task is to implement a basic nearest neighbor algorithm from scratch.  Your simple model will use three input features (`CRIM, RM and ZN`) and a single output (`MEDV`).  In other words, you are modelling the relationship between median home value and crime rates, house size and the proportion of residential land zoned for lots.\n",
    "\n",
    "Use your training data (bdata_train) to \"fit\" your model, although as you know, with Nearest Neighbors there is no real training, you just need to keep your training data in memory.  Write a function that predicts the median home value using the nearest neighbor algorithm we discussed in class.  Since this is a small dataset, you can simply compare your test instance to every instance in the training set, and return the `MEDV` value of the closest training instance.  Have your function take L as an input, where L is passed to the distance function. Use L=2 for all questions henceforth unless explicitly stated otherwise.\n",
    "\n",
    "Make sure to do the following - \n",
    "1. Fill in the function specification below\n",
    "2. Use your algorithm to predict the median home value of every instance in the test set. Report the RMSE (\"test RMSE\")\n",
    "3. Use your algorithm to predict the median home value of every instance in the training set and report the training RMSE.\n",
    "4. Create a scatter plot that shows the true value of each instance on the x-axis and the predicted value of each instance on the y-axis. Color the training instances in red and the test instances in blue. \n",
    "5. Report an estimate of the total time taken by your code to predict the nearest neighbors for all the values in the test data set.\n",
    "6. How does the performance (test RMSE and total runtime) of your nearest neighbors algorithm compare to the baseline in part 1.3?"
   ]
  },
  {
   "cell_type": "code",
   "execution_count": 14,
   "metadata": {
    "collapsed": true,
    "jupyter": {
     "outputs_hidden": true
    }
   },
   "outputs": [],
   "source": [
    "\"\"\"\n",
    "Function\n",
    "--------\n",
    "Nearest Neighbors\n",
    "\n",
    "Implementation of nearest neighbors algorithm.\n",
    "\n",
    "Parameters\n",
    "----------\n",
    "x_train: array\n",
    "    Array of numerical feature values for training the model.\n",
    "y_train: array\n",
    "    Array of numerical output values for training the model.\n",
    "x_test: array\n",
    "    Array of numerical feature values for testing the model.\n",
    "y_test: array\n",
    "    Array of numerical output values for testing the model.\n",
    "L: int\n",
    "    Order of L-norm function used for calculating distance.\n",
    "\n",
    "Returns\n",
    "-------\n",
    "rmse : int\n",
    "    Value of the RMSE from data.\n",
    "\"\"\"\n",
    "\n",
    "def nneighbor(..., L):\n",
    "    start_time = time.time()\n",
    "    #your code here\n",
    "\n",
    "    print(\"Time taken: {.2f} seconds\".format(time.time() - start_time))\n",
    "    return rmse\n",
    "\n",
    "#your additional code here"
   ]
  },
  {
   "cell_type": "markdown",
   "metadata": {},
   "source": [
    "*enter your observations here*"
   ]
  },
  {
   "cell_type": "markdown",
   "metadata": {},
   "source": [
    "### 2.3 Results and Normalization\n",
    "\n",
    "If you were being astute, you would have noticed that we never normalized our features -- a big no-no with Nearest Neighbor algorithms.  Write a generic normalization function that takes as input an array of values for a given feature, and returns the standardized array (subtract the mean and divide by the standard deviation).\n",
    "\n",
    "Re-run the Nearest Neighbor algorithm on the normalized dataset (still just using `CRIM, RM and ZN` as input), and compare the RMSE from this method with your previous RMSE evaluations. What do you observe?\n",
    "\n",
    "*NOTE*: To normalize properly, you should compute the mean and standard deviation on the training set, and use the same values to normalize both the training and the testing dataset.\n",
    "\n",
    "*NOTE 2*: In this case, the normalization may or may not reduce the RMSE; don't get confused if you find that to be the case."
   ]
  },
  {
   "cell_type": "code",
   "execution_count": 1,
   "metadata": {
    "collapsed": true,
    "jupyter": {
     "outputs_hidden": true
    }
   },
   "outputs": [],
   "source": [
    "\"\"\"\n",
    "Function\n",
    "--------\n",
    "Normalize data\n",
    "\n",
    "Normalize all of the features in a data frame.\n",
    "\n",
    "Parameters\n",
    "----------\n",
    "raw_data: array\n",
    "    Array of numerical values to normalize.\n",
    "\n",
    "Returns\n",
    "-------\n",
    "normalized_data : array\n",
    "    The array with normalized values for all features\n",
    "\"\"\"\n",
    "def normalize(raw_data):\n",
    "    #your code here\n",
    "    return normalized_data\n",
    "\n",
    "#your additional code here"
   ]
  },
  {
   "cell_type": "markdown",
   "metadata": {},
   "source": [
    "*enter your observations here*"
   ]
  },
  {
   "cell_type": "markdown",
   "metadata": {},
   "source": [
    "### 2.4 Optimization\n",
    "\n",
    "A lot of the decisions we've made so far have been arbitrary.  Try to increase the performance of your nearest neighbor algorithm by adding features that you think might be relevant, and by using different values of L in the distance function.  Try a model that uses a different set of 2 features, then try at least one model that uses more than 4 features, then try using a different value of L.  If you're having fun, try a few different combinations of features and L! Use the test set to report the RMSE values.\n",
    "\n",
    "What combination of features and distance function provide the lowest RMSE on the test set?  Do your decisions affect the running time of the algorithm?\n",
    "\n",
    "*NOTE:* For this and all subsequent questions, you should use normalized features. "
   ]
  },
  {
   "cell_type": "code",
   "execution_count": 2,
   "metadata": {
    "collapsed": true,
    "jupyter": {
     "outputs_hidden": true
    }
   },
   "outputs": [],
   "source": [
    "# enter your code here"
   ]
  },
  {
   "cell_type": "markdown",
   "metadata": {},
   "source": [
    "*enter your observations here*"
   ]
  },
  {
   "cell_type": "markdown",
   "metadata": {},
   "source": [
    "### 2.5 Cross-Validation\n",
    "\n",
    "The more you tinkered with your features and distance function, the higher the risk that you overfit your training data.  One solution to this sort of overfitting is to use cross-validation (see K-fold [cross-validation][1].  Here you must implement a simple k-fold cross-validation algorithm yourself.  The function you write here will be used several more times in this problem set, so do your best to write efficient code! (Note that the sklearn package has a built-in [K-fold][2] iterator -- you should *not* be invoking that or any related algorithms in this section of the problem set.)\n",
    "\n",
    "Use 25-fold cross-validation and report the average RMSE for Nearest Neighbors using Euclidean distance with `CRIM,RM and ZN` input features, as well as the total running time for the full run of 25 folds.  In other words, randomly divide your training dataset (created in 1.2) into 25 equally-sized samples.\n",
    "\n",
    "For each of the 25 iterations (the \"folds\"), use 24 samples as \"training data\" (even though there is no training in k-NN!), and the remaining 1 sample for validation.  Compute the RMSE of that particular validation set, then move on to the next iteration.  \n",
    "\n",
    " - Report the average cross-validated RMSE across the 25 iterations. What do you observe?\n",
    " \n",
    " - Create a histogram of the RMSEs for the folds (there should be 25 of these). Additionally, use a horizontal line to mark the average cross-validated RMSE.\n",
    "\n",
    "\n",
    "[1]: http://en.wikipedia.org/wiki/Cross-validation_(statistics)\n",
    "[2]: http://scikit-learn.org/stable/modules/cross_validation.html#cross-validation\n",
    "\n",
    "\n",
    "\n",
    "NOTE: To perform any randomized operation, only use functions in the *numpy library (np.random)*. Do not use other packages for random functions.\n",
    "\n",
    "HINT: Running 25-fold cross validation might be time-consuming. Try starting with 5 folds."
   ]
  },
  {
   "cell_type": "code",
   "execution_count": 3,
   "metadata": {
    "collapsed": true,
    "jupyter": {
     "outputs_hidden": true
    }
   },
   "outputs": [],
   "source": [
    "# enter your code here"
   ]
  },
  {
   "cell_type": "markdown",
   "metadata": {},
   "source": [
    "*enter your observations here*"
   ]
  },
  {
   "cell_type": "markdown",
   "metadata": {},
   "source": [
    "### 2.6 K-Nearest Neighbors Algorithm\n",
    "\n",
    "Implement the K-Nearest Neighbors algorithm.  Use 10-fold cross validation and L2 normalization, and the same features as in 2.5. Report the RMSE for K=5 and the running time of the algorithm. What do you observe?"
   ]
  },
  {
   "cell_type": "code",
   "execution_count": 19,
   "metadata": {
    "collapsed": true,
    "jupyter": {
     "outputs_hidden": true
    }
   },
   "outputs": [],
   "source": [
    "\"\"\"\n",
    "Function\n",
    "--------\n",
    "K-Nearest Neighbors\n",
    "\n",
    "Implementation of nearest neighbors algorithm.\n",
    "\n",
    "Parameters\n",
    "----------\n",
    "x_train: array\n",
    "    Array of numerical feature values for training the model.\n",
    "y_train: array\n",
    "    Array of numerical output values for training the model.\n",
    "x_test: array\n",
    "    Array of numerical feature values for testing the model.\n",
    "y_test: array\n",
    "    Array of numerical output values for testing the model.\n",
    "L: int\n",
    "    Order of L-norm function used for calculating distance.\n",
    "K: int\n",
    "    Neighbors to include in algorithm\n",
    "    \n",
    "Returns\n",
    "-------\n",
    "rmse : int\n",
    "    Value of the RMSE from data.\n",
    "\"\"\"\n",
    "\n",
    "def knn(..., L, K):\n",
    "    # enter your code here\n",
    "    return rmse\n",
    "\n",
    "# enter your additional code here"
   ]
  },
  {
   "cell_type": "markdown",
   "metadata": {},
   "source": [
    "*enter your observations here*"
   ]
  },
  {
   "cell_type": "markdown",
   "metadata": {},
   "source": [
    "### 2.7 Using cross validation to find K\n",
    "\n",
    "Compute the cross-validated RMSE for values of K between 1 and 25 using 10-fold cross-validation and L2 normalization.  Use the following features in your model: `CRIM, ZN, RM, AGE, DIS, TAX`.  Create a graph that shows how cross-validated RMSE changes as K increases from 1 to 25.  Label your axes, and summarize what you see.  What do you think is a reasonable choice of K for this model?\n",
    "\n",
    "Finally, report the test RMSE using the value of K that minimized the cross-validated RMSE. (Continue to use L2 normalization and the same set of features). How does the test RMSE compare to the cross-validated RMSE, and is this what you expected? How does the test RMSE compare to the test RMSE from 2.4, and is this what you expected?"
   ]
  },
  {
   "cell_type": "code",
   "execution_count": null,
   "metadata": {
    "collapsed": true,
    "jupyter": {
     "outputs_hidden": true
    }
   },
   "outputs": [],
   "source": [
    "# enter your code here"
   ]
  },
  {
   "cell_type": "markdown",
   "metadata": {},
   "source": [
    "*enter your observations here*"
   ]
  },
  {
   "cell_type": "markdown",
   "metadata": {},
   "source": [
    "### Extra-Credit: Forward selection\n",
    "\n",
    "Thus far the choice of predictor variables has been rather arbitrary. For extra credit, implement a basic [forward selection](https://see.stanford.edu/materials/aimlcs229/cs229-notes5.pdf) algorithm to progressively include features that decrease the cross-validated RMSE of the model. Note that the optimal value of K may be different for each model, so you may want to use cross-validation to choose K each time (but it is also fine if you fix K at the optimal value from 2.7).  Create a graph that shows RMSE as a function of the number of features in the model. Label each point on the x-axis with the name of the feature that is added at that step in the forward selection algorithm. *(For instance, if the optimal single-feature model has CRIM with RMSE = 10, and the optimal two-feature model has CRIM+ZN with RMSE=9, the first x-axis label will say CRIM and the second x-axis lable with say ZN)*"
   ]
  },
  {
   "cell_type": "code",
   "execution_count": null,
   "metadata": {
    "collapsed": true,
    "jupyter": {
     "outputs_hidden": true
    }
   },
   "outputs": [],
   "source": [
    "# enter your code here"
   ]
  }
 ],
 "metadata": {
  "kernelspec": {
   "display_name": "Python 3",
   "language": "python",
   "name": "python3"
  },
  "language_info": {
   "codemirror_mode": {
    "name": "ipython",
    "version": 3
   },
   "file_extension": ".py",
   "mimetype": "text/x-python",
   "name": "python",
   "nbconvert_exporter": "python",
   "pygments_lexer": "ipython3",
   "version": "3.7.3"
  }
 },
 "nbformat": 4,
 "nbformat_minor": 4
}
